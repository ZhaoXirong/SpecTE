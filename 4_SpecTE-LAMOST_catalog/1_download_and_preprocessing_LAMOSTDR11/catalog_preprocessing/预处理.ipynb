{
 "cells": [
  {
   "cell_type": "code",
   "execution_count": 3,
   "id": "a6866884-224d-4cfc-addb-7a2c9e0b443d",
   "metadata": {},
   "outputs": [],
   "source": [
    "import numpy as np\n",
    "import pandas as pd\n",
    "import os\n",
    "from tqdm import tqdm\n",
    "from astropy.io import fits\n",
    "from scipy.interpolate import interp1d # 线性插值\n",
    "import matplotlib.pyplot as plt\n",
    "from scipy.signal import medfilt # 中值滤波\n",
    "from sklearn.preprocessing import StandardScaler  # 数据进行标准化\n",
    "import json \n",
    "import shutil"
   ]
  },
  {
   "cell_type": "markdown",
   "id": "5cb4bbe0-2bb4-412a-89f8-3747e08b3d84",
   "metadata": {
    "jp-MarkdownHeadingCollapsed": true,
    "tags": []
   },
   "source": [
    "## 查看一些数据"
   ]
  },
  {
   "cell_type": "markdown",
   "id": "b23bd279-9ed0-4628-8e4e-dba43d4fcd33",
   "metadata": {
    "jp-MarkdownHeadingCollapsed": true,
    "tags": []
   },
   "source": [
    "### 查看StarGRUNet星表长什么样子"
   ]
  },
  {
   "cell_type": "code",
   "execution_count": 4,
   "id": "69d8fd27-67ec-4ee4-a38e-770dd738fb73",
   "metadata": {},
   "outputs": [
    {
     "data": {
      "text/html": [
       "<div>\n",
       "<style scoped>\n",
       "    .dataframe tbody tr th:only-of-type {\n",
       "        vertical-align: middle;\n",
       "    }\n",
       "\n",
       "    .dataframe tbody tr th {\n",
       "        vertical-align: top;\n",
       "    }\n",
       "\n",
       "    .dataframe thead th {\n",
       "        text-align: right;\n",
       "    }\n",
       "</style>\n",
       "<table border=\"1\" class=\"dataframe\">\n",
       "  <thead>\n",
       "    <tr style=\"text-align: right;\">\n",
       "      <th></th>\n",
       "      <th>Unnamed: 0.1</th>\n",
       "      <th>Unnamed: 0</th>\n",
       "      <th>combined_obsid</th>\n",
       "      <th>combined_snrg</th>\n",
       "      <th>combined_ra</th>\n",
       "      <th>combined_dec</th>\n",
       "      <th>Teff[K]</th>\n",
       "      <th>Logg</th>\n",
       "      <th>CH</th>\n",
       "      <th>NH</th>\n",
       "      <th>...</th>\n",
       "      <th>AlH_uncertainty</th>\n",
       "      <th>SiH_uncertainty</th>\n",
       "      <th>SH_uncertainty</th>\n",
       "      <th>KH_uncertainty</th>\n",
       "      <th>CaH_uncertainty</th>\n",
       "      <th>TiH_uncertainty</th>\n",
       "      <th>CrH_uncertainty</th>\n",
       "      <th>MnH_uncertainty</th>\n",
       "      <th>FeH_uncertainty</th>\n",
       "      <th>NiH_uncertainty</th>\n",
       "    </tr>\n",
       "  </thead>\n",
       "  <tbody>\n",
       "    <tr>\n",
       "      <th>0</th>\n",
       "      <td>0</td>\n",
       "      <td>0</td>\n",
       "      <td>600303023</td>\n",
       "      <td>13.52</td>\n",
       "      <td>352.782320</td>\n",
       "      <td>37.664839</td>\n",
       "      <td>6152.567383</td>\n",
       "      <td>4.289980</td>\n",
       "      <td>-0.344540</td>\n",
       "      <td>-0.185311</td>\n",
       "      <td>...</td>\n",
       "      <td>0.243121</td>\n",
       "      <td>0.234910</td>\n",
       "      <td>0.220189</td>\n",
       "      <td>0.217505</td>\n",
       "      <td>0.214111</td>\n",
       "      <td>0.248674</td>\n",
       "      <td>0.303929</td>\n",
       "      <td>0.305325</td>\n",
       "      <td>0.239879</td>\n",
       "      <td>0.252549</td>\n",
       "    </tr>\n",
       "    <tr>\n",
       "      <th>1</th>\n",
       "      <td>1</td>\n",
       "      <td>1</td>\n",
       "      <td>821101099</td>\n",
       "      <td>20.67</td>\n",
       "      <td>275.262970</td>\n",
       "      <td>27.882223</td>\n",
       "      <td>6477.995117</td>\n",
       "      <td>4.083116</td>\n",
       "      <td>0.013225</td>\n",
       "      <td>0.134819</td>\n",
       "      <td>...</td>\n",
       "      <td>0.243121</td>\n",
       "      <td>0.234910</td>\n",
       "      <td>0.220189</td>\n",
       "      <td>0.217505</td>\n",
       "      <td>0.214111</td>\n",
       "      <td>0.248674</td>\n",
       "      <td>0.303929</td>\n",
       "      <td>0.305325</td>\n",
       "      <td>0.239879</td>\n",
       "      <td>0.252549</td>\n",
       "    </tr>\n",
       "    <tr>\n",
       "      <th>2</th>\n",
       "      <td>2</td>\n",
       "      <td>2</td>\n",
       "      <td>180112010</td>\n",
       "      <td>19.20</td>\n",
       "      <td>85.964237</td>\n",
       "      <td>58.822908</td>\n",
       "      <td>6554.583984</td>\n",
       "      <td>4.157460</td>\n",
       "      <td>-0.121479</td>\n",
       "      <td>0.037496</td>\n",
       "      <td>...</td>\n",
       "      <td>0.243121</td>\n",
       "      <td>0.234910</td>\n",
       "      <td>0.220189</td>\n",
       "      <td>0.217505</td>\n",
       "      <td>0.214111</td>\n",
       "      <td>0.248674</td>\n",
       "      <td>0.303929</td>\n",
       "      <td>0.305325</td>\n",
       "      <td>0.239879</td>\n",
       "      <td>0.252549</td>\n",
       "    </tr>\n",
       "    <tr>\n",
       "      <th>3</th>\n",
       "      <td>3</td>\n",
       "      <td>3</td>\n",
       "      <td>183701237</td>\n",
       "      <td>31.11</td>\n",
       "      <td>116.763050</td>\n",
       "      <td>25.239566</td>\n",
       "      <td>5971.125977</td>\n",
       "      <td>4.463379</td>\n",
       "      <td>-0.028094</td>\n",
       "      <td>0.026929</td>\n",
       "      <td>...</td>\n",
       "      <td>0.243121</td>\n",
       "      <td>0.234910</td>\n",
       "      <td>0.220189</td>\n",
       "      <td>0.217505</td>\n",
       "      <td>0.214111</td>\n",
       "      <td>0.248674</td>\n",
       "      <td>0.303929</td>\n",
       "      <td>0.305325</td>\n",
       "      <td>0.239879</td>\n",
       "      <td>0.252549</td>\n",
       "    </tr>\n",
       "    <tr>\n",
       "      <th>4</th>\n",
       "      <td>4</td>\n",
       "      <td>4</td>\n",
       "      <td>469009057</td>\n",
       "      <td>36.58</td>\n",
       "      <td>295.229607</td>\n",
       "      <td>29.603617</td>\n",
       "      <td>5128.603027</td>\n",
       "      <td>3.219035</td>\n",
       "      <td>0.132403</td>\n",
       "      <td>0.503588</td>\n",
       "      <td>...</td>\n",
       "      <td>0.243121</td>\n",
       "      <td>0.234910</td>\n",
       "      <td>0.220189</td>\n",
       "      <td>0.217505</td>\n",
       "      <td>0.214111</td>\n",
       "      <td>0.248674</td>\n",
       "      <td>0.303929</td>\n",
       "      <td>0.305325</td>\n",
       "      <td>0.239879</td>\n",
       "      <td>0.252549</td>\n",
       "    </tr>\n",
       "    <tr>\n",
       "      <th>...</th>\n",
       "      <td>...</td>\n",
       "      <td>...</td>\n",
       "      <td>...</td>\n",
       "      <td>...</td>\n",
       "      <td>...</td>\n",
       "      <td>...</td>\n",
       "      <td>...</td>\n",
       "      <td>...</td>\n",
       "      <td>...</td>\n",
       "      <td>...</td>\n",
       "      <td>...</td>\n",
       "      <td>...</td>\n",
       "      <td>...</td>\n",
       "      <td>...</td>\n",
       "      <td>...</td>\n",
       "      <td>...</td>\n",
       "      <td>...</td>\n",
       "      <td>...</td>\n",
       "      <td>...</td>\n",
       "      <td>...</td>\n",
       "      <td>...</td>\n",
       "    </tr>\n",
       "    <tr>\n",
       "      <th>8208327</th>\n",
       "      <td>8208327</td>\n",
       "      <td>9993</td>\n",
       "      <td>299602108</td>\n",
       "      <td>6.77</td>\n",
       "      <td>143.344624</td>\n",
       "      <td>37.996905</td>\n",
       "      <td>5429.980469</td>\n",
       "      <td>3.616630</td>\n",
       "      <td>-0.395934</td>\n",
       "      <td>-0.779234</td>\n",
       "      <td>...</td>\n",
       "      <td>0.248311</td>\n",
       "      <td>0.264009</td>\n",
       "      <td>0.216042</td>\n",
       "      <td>0.204096</td>\n",
       "      <td>0.236283</td>\n",
       "      <td>0.249299</td>\n",
       "      <td>0.292239</td>\n",
       "      <td>0.323111</td>\n",
       "      <td>0.253105</td>\n",
       "      <td>0.262615</td>\n",
       "    </tr>\n",
       "    <tr>\n",
       "      <th>8208328</th>\n",
       "      <td>8208328</td>\n",
       "      <td>9994</td>\n",
       "      <td>258306234</td>\n",
       "      <td>33.96</td>\n",
       "      <td>321.998791</td>\n",
       "      <td>23.123232</td>\n",
       "      <td>6142.318848</td>\n",
       "      <td>4.439974</td>\n",
       "      <td>-0.196105</td>\n",
       "      <td>-0.195908</td>\n",
       "      <td>...</td>\n",
       "      <td>0.248311</td>\n",
       "      <td>0.264009</td>\n",
       "      <td>0.216042</td>\n",
       "      <td>0.204096</td>\n",
       "      <td>0.236283</td>\n",
       "      <td>0.249299</td>\n",
       "      <td>0.292239</td>\n",
       "      <td>0.323111</td>\n",
       "      <td>0.253105</td>\n",
       "      <td>0.262615</td>\n",
       "    </tr>\n",
       "    <tr>\n",
       "      <th>8208329</th>\n",
       "      <td>8208329</td>\n",
       "      <td>9995</td>\n",
       "      <td>57315204</td>\n",
       "      <td>8.56</td>\n",
       "      <td>318.402626</td>\n",
       "      <td>-5.647750</td>\n",
       "      <td>4512.800293</td>\n",
       "      <td>2.207459</td>\n",
       "      <td>-0.342658</td>\n",
       "      <td>-0.328891</td>\n",
       "      <td>...</td>\n",
       "      <td>0.248311</td>\n",
       "      <td>0.264009</td>\n",
       "      <td>0.216042</td>\n",
       "      <td>0.204096</td>\n",
       "      <td>0.236283</td>\n",
       "      <td>0.249299</td>\n",
       "      <td>0.292239</td>\n",
       "      <td>0.323111</td>\n",
       "      <td>0.253105</td>\n",
       "      <td>0.262615</td>\n",
       "    </tr>\n",
       "    <tr>\n",
       "      <th>8208330</th>\n",
       "      <td>8208330</td>\n",
       "      <td>9996</td>\n",
       "      <td>267911233</td>\n",
       "      <td>363.19</td>\n",
       "      <td>141.602738</td>\n",
       "      <td>0.389815</td>\n",
       "      <td>6287.317383</td>\n",
       "      <td>4.038559</td>\n",
       "      <td>-0.059306</td>\n",
       "      <td>0.193016</td>\n",
       "      <td>...</td>\n",
       "      <td>0.362963</td>\n",
       "      <td>0.301191</td>\n",
       "      <td>0.230712</td>\n",
       "      <td>0.380670</td>\n",
       "      <td>0.250307</td>\n",
       "      <td>0.286967</td>\n",
       "      <td>0.344580</td>\n",
       "      <td>0.368646</td>\n",
       "      <td>0.312092</td>\n",
       "      <td>0.304882</td>\n",
       "    </tr>\n",
       "    <tr>\n",
       "      <th>8208331</th>\n",
       "      <td>8208331</td>\n",
       "      <td>9997</td>\n",
       "      <td>398009074</td>\n",
       "      <td>67.35</td>\n",
       "      <td>135.298413</td>\n",
       "      <td>22.837147</td>\n",
       "      <td>6056.939941</td>\n",
       "      <td>4.115355</td>\n",
       "      <td>-0.409051</td>\n",
       "      <td>0.034465</td>\n",
       "      <td>...</td>\n",
       "      <td>0.362963</td>\n",
       "      <td>0.301191</td>\n",
       "      <td>0.230712</td>\n",
       "      <td>0.380670</td>\n",
       "      <td>0.250307</td>\n",
       "      <td>0.286967</td>\n",
       "      <td>0.344580</td>\n",
       "      <td>0.368646</td>\n",
       "      <td>0.312092</td>\n",
       "      <td>0.304882</td>\n",
       "    </tr>\n",
       "  </tbody>\n",
       "</table>\n",
       "<p>8208332 rows × 38 columns</p>\n",
       "</div>"
      ],
      "text/plain": [
       "         Unnamed: 0.1  Unnamed: 0  combined_obsid  combined_snrg  combined_ra  \\\n",
       "0                   0           0       600303023          13.52   352.782320   \n",
       "1                   1           1       821101099          20.67   275.262970   \n",
       "2                   2           2       180112010          19.20    85.964237   \n",
       "3                   3           3       183701237          31.11   116.763050   \n",
       "4                   4           4       469009057          36.58   295.229607   \n",
       "...               ...         ...             ...            ...          ...   \n",
       "8208327       8208327        9993       299602108           6.77   143.344624   \n",
       "8208328       8208328        9994       258306234          33.96   321.998791   \n",
       "8208329       8208329        9995        57315204           8.56   318.402626   \n",
       "8208330       8208330        9996       267911233         363.19   141.602738   \n",
       "8208331       8208331        9997       398009074          67.35   135.298413   \n",
       "\n",
       "         combined_dec      Teff[K]      Logg        CH        NH  ...  \\\n",
       "0           37.664839  6152.567383  4.289980 -0.344540 -0.185311  ...   \n",
       "1           27.882223  6477.995117  4.083116  0.013225  0.134819  ...   \n",
       "2           58.822908  6554.583984  4.157460 -0.121479  0.037496  ...   \n",
       "3           25.239566  5971.125977  4.463379 -0.028094  0.026929  ...   \n",
       "4           29.603617  5128.603027  3.219035  0.132403  0.503588  ...   \n",
       "...               ...          ...       ...       ...       ...  ...   \n",
       "8208327     37.996905  5429.980469  3.616630 -0.395934 -0.779234  ...   \n",
       "8208328     23.123232  6142.318848  4.439974 -0.196105 -0.195908  ...   \n",
       "8208329     -5.647750  4512.800293  2.207459 -0.342658 -0.328891  ...   \n",
       "8208330      0.389815  6287.317383  4.038559 -0.059306  0.193016  ...   \n",
       "8208331     22.837147  6056.939941  4.115355 -0.409051  0.034465  ...   \n",
       "\n",
       "         AlH_uncertainty  SiH_uncertainty  SH_uncertainty  KH_uncertainty  \\\n",
       "0               0.243121         0.234910        0.220189        0.217505   \n",
       "1               0.243121         0.234910        0.220189        0.217505   \n",
       "2               0.243121         0.234910        0.220189        0.217505   \n",
       "3               0.243121         0.234910        0.220189        0.217505   \n",
       "4               0.243121         0.234910        0.220189        0.217505   \n",
       "...                  ...              ...             ...             ...   \n",
       "8208327         0.248311         0.264009        0.216042        0.204096   \n",
       "8208328         0.248311         0.264009        0.216042        0.204096   \n",
       "8208329         0.248311         0.264009        0.216042        0.204096   \n",
       "8208330         0.362963         0.301191        0.230712        0.380670   \n",
       "8208331         0.362963         0.301191        0.230712        0.380670   \n",
       "\n",
       "         CaH_uncertainty  TiH_uncertainty  CrH_uncertainty  MnH_uncertainty  \\\n",
       "0               0.214111         0.248674         0.303929         0.305325   \n",
       "1               0.214111         0.248674         0.303929         0.305325   \n",
       "2               0.214111         0.248674         0.303929         0.305325   \n",
       "3               0.214111         0.248674         0.303929         0.305325   \n",
       "4               0.214111         0.248674         0.303929         0.305325   \n",
       "...                  ...              ...              ...              ...   \n",
       "8208327         0.236283         0.249299         0.292239         0.323111   \n",
       "8208328         0.236283         0.249299         0.292239         0.323111   \n",
       "8208329         0.236283         0.249299         0.292239         0.323111   \n",
       "8208330         0.250307         0.286967         0.344580         0.368646   \n",
       "8208331         0.250307         0.286967         0.344580         0.368646   \n",
       "\n",
       "         FeH_uncertainty  NiH_uncertainty  \n",
       "0               0.239879         0.252549  \n",
       "1               0.239879         0.252549  \n",
       "2               0.239879         0.252549  \n",
       "3               0.239879         0.252549  \n",
       "4               0.239879         0.252549  \n",
       "...                  ...              ...  \n",
       "8208327         0.253105         0.262615  \n",
       "8208328         0.253105         0.262615  \n",
       "8208329         0.253105         0.262615  \n",
       "8208330         0.312092         0.304882  \n",
       "8208331         0.312092         0.304882  \n",
       "\n",
       "[8208332 rows x 38 columns]"
      ]
     },
     "execution_count": 4,
     "metadata": {},
     "output_type": "execute_result"
    }
   ],
   "source": [
    "StarGRUNet_catalog = pd.read_csv(r\"F:\\ZhaoXR\\Downloads\\StarGRUNet_catalog\\StarGRUNet_catalog.csv\")\n",
    "StarGRUNet_catalog"
   ]
  },
  {
   "cell_type": "code",
   "execution_count": 5,
   "id": "a4bf873b-6cef-415f-8254-d9e4510290c0",
   "metadata": {},
   "outputs": [
    {
     "name": "stdout",
     "output_type": "stream",
     "text": [
      "<class 'pandas.core.frame.DataFrame'>\n",
      "RangeIndex: 8208332 entries, 0 to 8208331\n",
      "Data columns (total 38 columns):\n",
      " #   Column               Dtype  \n",
      "---  ------               -----  \n",
      " 0   Unnamed: 0.1         int64  \n",
      " 1   Unnamed: 0           int64  \n",
      " 2   combined_obsid       int64  \n",
      " 3   combined_snrg        float64\n",
      " 4   combined_ra          float64\n",
      " 5   combined_dec         float64\n",
      " 6   Teff[K]              float64\n",
      " 7   Logg                 float64\n",
      " 8   CH                   float64\n",
      " 9   NH                   float64\n",
      " 10  OH                   float64\n",
      " 11  MgH                  float64\n",
      " 12  AlH                  float64\n",
      " 13  SiH                  float64\n",
      " 14  SH                   float64\n",
      " 15  KH                   float64\n",
      " 16  CaH                  float64\n",
      " 17  TiH                  float64\n",
      " 18  CrH                  float64\n",
      " 19  MnH                  float64\n",
      " 20  FeH                  float64\n",
      " 21  NiH                  float64\n",
      " 22  Teff[K]_uncertainty  float64\n",
      " 23  Logg_uncertainty     float64\n",
      " 24  CH_uncertainty       float64\n",
      " 25  NH_uncertainty       float64\n",
      " 26  OH_uncertainty       float64\n",
      " 27  MgH_uncertainty      float64\n",
      " 28  AlH_uncertainty      float64\n",
      " 29  SiH_uncertainty      float64\n",
      " 30  SH_uncertainty       float64\n",
      " 31  KH_uncertainty       float64\n",
      " 32  CaH_uncertainty      float64\n",
      " 33  TiH_uncertainty      float64\n",
      " 34  CrH_uncertainty      float64\n",
      " 35  MnH_uncertainty      float64\n",
      " 36  FeH_uncertainty      float64\n",
      " 37  NiH_uncertainty      float64\n",
      "dtypes: float64(35), int64(3)\n",
      "memory usage: 2.3 GB\n"
     ]
    }
   ],
   "source": [
    "StarGRUNet_catalog.info()"
   ]
  },
  {
   "cell_type": "markdown",
   "id": "522f7ce4-cea5-496b-9e58-8f53a7c4b805",
   "metadata": {
    "jp-MarkdownHeadingCollapsed": true,
    "tags": []
   },
   "source": [
    "### 查看一个fist文件中包含什么信息"
   ]
  },
  {
   "cell_type": "code",
   "execution_count": 28,
   "id": "2889f00a-47c7-47dd-9ebb-8f29e4350ebc",
   "metadata": {},
   "outputs": [
    {
     "name": "stdout",
     "output_type": "stream",
     "text": [
      "HDU Name: HDU_0\n",
      "  SIMPLE: True\n",
      "  BITPIX: 16\n",
      "  NAXIS: 0\n",
      "  NAXIS1: 3906\n",
      "  NAXIS2: 5\n",
      "  EXTEND: True\n",
      "  : \n",
      "  COMMENT: --------SPECTRA ANALYSIS RESULTS\n",
      "  FILENAME: spec-55859-F5902_sp03-047.fits\n",
      "  OBSID: 103047\n",
      "  AUTHOR: LAMOST Pipeline\n",
      "  DATA_V: LAMOST DR10\n",
      "  N_EXTEN: 2\n",
      "  NORM: 1\n",
      "  ORIGIN: NAOC-LAMOST\n",
      "  DATE: 2023-03-13T03:21:20\n",
      "  TELESCOP: LAMOST\n",
      "  LONGITUD: 117.58\n",
      "  LATITUDE: 40.39\n",
      "  FOCUS: 19964\n",
      "  CAMPRO: NEWCAM\n",
      "  CAMVER: v2.0\n",
      "  DATE-OBS: 2011-10-24T12:09:00.76\n",
      "  DATE-BEG: 2011-10-24T19:35:47.0\n",
      "  DATE-END: 2011-10-24T21:29:51.0\n",
      "  LMJD: 55859\n",
      "  MJD: 55858\n",
      "  LMJMLIST: 80436692-80436737-80436775\n",
      "  PLANID: F5902\n",
      "  RA: 331.360469\n",
      "  DEC: -0.017034\n",
      "  RA_OBS: 331.360469\n",
      "  DEC_OBS: -0.017034\n",
      "  OFFSET: False\n",
      "  OFFSET_V: 0.0\n",
      "  DESIG: LAMOST J220526.51-000101.3\n",
      "  FIBERID: 47\n",
      "  CELL_ID: E3423\n",
      "  X_VALUE: 280.4830451330\n",
      "  Y_VALUE: 124.0722700380\n",
      "  OBJNAME: 1237663543146578060\n",
      "  OBJTYPE: Star\n",
      "  TSOURCE: JF_LEGAS_S\n",
      "  TCOMMENT: .\n",
      "  TFROM: -\n",
      "  FIB_TYPE: Obj\n",
      "  FIB_MASK: 0\n",
      "  MAG_PS_G: -999.0\n",
      "  MAG_PS_R: -999.0\n",
      "  MAG_PS_I: -999.0\n",
      "  MAG_PS_Z: -999.0\n",
      "  MAG_PS_Y: -999.0\n",
      "  OBS_TYPE: OBJ\n",
      "  OBSCOMM: Science\n",
      "  RADECSYS: FK5\n",
      "  EQUINOX: 2000.0\n",
      "  LAMPLIST: lamphgcdne.dat\n",
      "  SKYLIST: skylines.dat\n",
      "  NEXP: 3\n",
      "  NEXP_B: 3\n",
      "  NEXP_R: 3\n",
      "  EXPT_B: 5400.0\n",
      "  EXPT_R: 5400.0\n",
      "  EXPTIME: 5400.0\n",
      "  BESTEXP: 80436692\n",
      "  SCAMEAN: 3.7\n",
      "  SPID: 3\n",
      "  SPRA: 331.1809021\n",
      "  SPDEC: 0.3468685\n",
      "  SLIT_MOD: x2/3\n",
      "  TEMPCCDB: -111.5\n",
      "  TEMPCCDR: -196.2\n",
      "  SEEING: 3.4\n",
      "  MOONPHA: 27.16\n",
      "  TEMP_AIR: 2.9\n",
      "  TEMP_FP: 10.1\n",
      "  DEWPOINT: -12.8\n",
      "  DUST: \n",
      "  HUMIDITY: 0.3\n",
      "  WINDD: 18.8\n",
      "  WINDS: 4.4\n",
      "  SKYLEVEL: \n",
      "  EXTRACT: aperture\n",
      "  SFLATTEN: True\n",
      "  PCASKYSB: True\n",
      "  NSKIES: 21\n",
      "  SKYCHI2: 2.0\n",
      "  SCHI2MIN: 1.5\n",
      "  SCHI2MAX: 2.6\n",
      "  NSTD: 4\n",
      "  FSTAR: 43-109-114-231\n",
      "  FCBY: manual\n",
      "  HELIO: True\n",
      "  HELIO_RV: 24.96975\n",
      "  VACUUM: True\n",
      "  NWORDER: 2\n",
      "  WFITTYPE: LOG-LINEAR\n",
      "  COEFF0: 3.5682\n",
      "  COEFF1: 0.0001\n",
      "  WAT0_001: system=linear\n",
      "  WAT1_001: wtype=linear label=Wavelength units=Angstroms\n",
      "  CRVAL1: 3.5682\n",
      "  CD1_1: 0.0001\n",
      "  CRPIX1: 1\n",
      "  CTYPE1: LINEAR\n",
      "  DC-FLAG: 1\n",
      "  VERSPIPE: v2.9.8\n",
      "  CLASS: STAR\n",
      "  SUBCLASS: G7\n",
      "  Z: -6.494e-05\n",
      "  Z_ERR: 1.664e-05\n",
      "  ZFLAG: LASP\n",
      "  SNRU: 4.75\n",
      "  SNRG: 56.33\n",
      "  SNRR: 95.63\n",
      "  SNRI: 139.21\n",
      "  SNRZ: 100.67\n",
      "\n",
      "HDU Name: HDU_1\n",
      "  XTENSION: BINTABLE\n",
      "  BITPIX: 8\n",
      "  NAXIS: 2\n",
      "  NAXIS1: 93744\n",
      "  NAXIS2: 1\n",
      "  PCOUNT: 0\n",
      "  GCOUNT: 1\n",
      "  TFIELDS: 6\n",
      "  COMMENT: \n",
      "  EXTNAME: COADD\n",
      "  TTYPE1: FLUX\n",
      "  TTYPE2: IVAR\n",
      "  TTYPE3: WAVELENGTH\n",
      "  TTYPE4: ANDMASK\n",
      "  TTYPE5: ORMASK\n",
      "  TTYPE6: NORMALIZATION\n",
      "  TFORM1: 3906E\n",
      "  TFORM2: 3906E\n",
      "  TFORM3: 3906E\n",
      "  TFORM4: 3906E\n",
      "  TFORM5: 3906E\n",
      "  TFORM6: 3906E\n",
      "\n"
     ]
    }
   ],
   "source": [
    "def list_fits_headers(fits_path):\n",
    "    \"\"\"\n",
    "    列出压缩FITS文件中头文件的所有字段。\n",
    "    \n",
    "    参数：\n",
    "    fits_path (str): FITS文件的路径（支持.gz压缩文件）。\n",
    "    \n",
    "    返回：\n",
    "    headers (dict): FITS文件中头文件的所有字段及其值。\n",
    "    \"\"\"\n",
    "    if not os.path.exists(fits_path):\n",
    "        raise FileNotFoundError(f\"The file {fits_path} does not exist.\")\n",
    "    \n",
    "    headers = {}\n",
    "    \n",
    "    with fits.open(fits_path) as hdul:\n",
    "        for idx, hdu in enumerate(hdul):\n",
    "            header = hdu.header\n",
    "            headers[f\"HDU_{idx}\"] = dict(header.items())\n",
    "    \n",
    "    return headers\n",
    "\n",
    "# 示例用法\n",
    "fits_path = r'F:\\My_trial\\Fits\\50-60\\spec-55859-F5902_sp03-047.fits.gz'\n",
    "headers = list_fits_headers(fits_path)\n",
    "for hdu_name, header in headers.items():\n",
    "    print(f\"HDU Name: {hdu_name}\")\n",
    "    for key, value in header.items():\n",
    "        print(f\"  {key}: {value}\")\n",
    "    print()"
   ]
  },
  {
   "cell_type": "markdown",
   "id": "89a9dc90-42b4-4c21-97da-91c85001cbe1",
   "metadata": {
    "jp-MarkdownHeadingCollapsed": true,
    "tags": []
   },
   "source": [
    "# 函数定义"
   ]
  },
  {
   "cell_type": "markdown",
   "id": "0ae32b72-eb4f-4734-b300-d77fba5cb845",
   "metadata": {
    "jp-MarkdownHeadingCollapsed": true,
    "tags": []
   },
   "source": [
    "## 工具函数："
   ]
  },
  {
   "cell_type": "markdown",
   "id": "129760ad-bccb-4741-ab2e-93a227c305de",
   "metadata": {
    "tags": []
   },
   "source": [
    "### 遍历目录all_path："
   ]
  },
  {
   "cell_type": "markdown",
   "id": "0857890b-cf07-49b6-aee3-c8271f9733b8",
   "metadata": {},
   "source": [
    "功能描述\n",
    "\n",
    "    函数遍历指定目录（包括其子目录）下的所有文件，并返回一个包含所有文件名的列表。\n",
    "\n",
    "参数\n",
    "\n",
    "    dirname (str): 需要遍历的目录路径字符串。\n",
    "返回值\n",
    "\n",
    "    返回一个列表，包含遍历得到的所有文件的名称（不包括路径）。"
   ]
  },
  {
   "cell_type": "code",
   "execution_count": 6,
   "id": "7c0b3eaa-c2e7-40d3-a159-cd8c0af0d70c",
   "metadata": {},
   "outputs": [],
   "source": [
    "def all_path(dirname):\n",
    "    files_names = []\n",
    "    for maindir, subdir, file_name_list in os.walk(dirname):\n",
    "        for filename in file_name_list:\n",
    "            files_names.append(filename)\n",
    "    return files_names"
   ]
  },
  {
   "cell_type": "markdown",
   "id": "a88b4171-b7ea-4b05-bfbc-f4e863f576f9",
   "metadata": {
    "jp-MarkdownHeadingCollapsed": true,
    "tags": []
   },
   "source": [
    "## 1.Wavelength Analysis 波长分析(wave_analyse)"
   ]
  },
  {
   "cell_type": "markdown",
   "id": "a36bfccb-63e7-407d-8fb2-31387662e8dd",
   "metadata": {},
   "source": [
    "wave_analyse 函数用于分析给定目录下的 FITS 文件中记录的天体光谱数据，计算并返回给定数据集中天体光谱的蓝端和红端波长范围的最小和最大值，同时考虑了红移的影响。\n",
    "\n",
    "参数\n",
    "\n",
    "    DATASET_PATH (str): 指向包含光谱数据概览的 CSV 文件的路径。该文件用于辅助分析，但本函数示例中未直接使用该参数。\n",
    "    FITS_PATH (str): 包含 FITS 文件的目录路径。这些 FITS 文件包含了天体光谱数据。\n",
    "返回值:四个浮点数，分别是：\n",
    "\n",
    "    B_fact_min: 所有考察光谱中，蓝端波长的最小值。\n",
    "    B_fact_max: 所有考察光谱中，蓝端波长的最大值。\n",
    "    R_fact_min: 所有考察光谱中，红端波长的最小值。\n",
    "    R_fact_max: 所有考察光谱中，红端波长的最大值。"
   ]
  },
  {
   "cell_type": "code",
   "execution_count": 7,
   "id": "b89cbe06-01bc-45f0-9577-cb194674aa7d",
   "metadata": {},
   "outputs": [],
   "source": [
    "# 定义一个函数，用于分析波长数据\n",
    "def wave_analyse(DATASET_PATH, FITS_PATH):\n",
    "    # 蓝端波长范围的最小和最大值\n",
    "    B_wave_min = np.log10(3800)\n",
    "    B_wave_max = np.log10(5700)\n",
    "\n",
    "    # 红端波长范围的最小和最大值\n",
    "    R_wave_min = np.log10(5900)\n",
    "    R_wave_max = np.log10(8800)\n",
    "    \n",
    "    # 初始化存储蓝端和红端波长数据的列表\n",
    "    B_wave = []\n",
    "    R_wave = []\n",
    "    label = []\n",
    "    \n",
    "    # 读取数据集路径下的CSV文件\n",
    "    data = pd.read_csv(DATASET_PATH)  \n",
    "    \n",
    "    # 获取所有FITS文件的路径\n",
    "    file_names = all_path(FITS_PATH)\n",
    "    print(len(file_names))\n",
    "    file_names = np.array(file_names)\n",
    "    \n",
    "    # 遍历每个FITS文件\n",
    "    for i in tqdm(range(len(file_names))):\n",
    "        try:  \n",
    "            # 打开FITS文件\n",
    "            f = fits.open(FITS_PATH + file_names[i])\n",
    "            try:\n",
    "                # 尝试获取第一个HDU的流量和波长数据\n",
    "                F = f[0].data[0]  # 流量\n",
    "                W = f[0].data[2]  # 波长\n",
    "            except:\n",
    "                # 如果第一个HDU中没有数据，则尝试从第二个HDU中获取\n",
    "                F = f[1].data[\"FLUX\"][0]\n",
    "                W = f[1].data[\"WAVELENGTH\"][0]\n",
    "                \n",
    "            # 获取红移值，并调整波长数据\n",
    "            z = f[0].header['Z']  # 红移\n",
    "            W = np.log10(W) - np.log10(1 + np.float64(z))\n",
    "            # 根据蓝端和红端的波长范围，获取相应的波长数据\n",
    "            B_W = (W > B_wave_min)*(W < B_wave_max)\n",
    "            R_W = (W > R_wave_min)*(W < R_wave_max)\n",
    "            # 添加蓝端波长数据\n",
    "            B_wave.append(W[B_W])\n",
    "            # 添加红端波长数据\n",
    "            R_wave.append(W[R_W])\n",
    "        except:\n",
    "            # 处理异常情况，跳过当前循环\n",
    "            print(\"Handling exceptions, skipped, indexed as : \", i)\n",
    "            continue\n",
    "    \n",
    "    # 获取所有蓝端波长数据的最大和最小值\n",
    "    B_fact_max = np.max(B_wave[0])\n",
    "    B_fact_min = np.min(B_wave[0])\n",
    "    for W in B_wave:\n",
    "        try:\n",
    "            B_fact_max = min(B_fact_max, np.max(W))\n",
    "            B_fact_min = max(B_fact_min, np.min(W))\n",
    "        except:\n",
    "            continue\n",
    "    \n",
    "    # 获取所有红端波长数据的最大和最小值\n",
    "    R_fact_max = np.max(R_wave[0])\n",
    "    R_fact_min = np.min(R_wave[0])\n",
    "    for W in R_wave:\n",
    "        try:\n",
    "            R_fact_max = min(R_fact_max, np.max(W))\n",
    "            R_fact_min = max(R_fact_min, np.min(W))\n",
    "        except:\n",
    "            continue\n",
    "    \n",
    "\n",
    "    B_wave_scope = [B_fact_min, B_fact_max]\n",
    "    R_wave_scope = [R_fact_min, R_fact_max]\n",
    "    # 返回蓝端和红端波长的最小和最大值\n",
    "    return B_wave_scope, R_wave_scope\n",
    "\n",
    "# # 测试\n",
    "# B_wave_scope, R_wave_scope = wave_analyse(DATASET_PATH, FITS_PATH)\n",
    "# print(B_wave_scope, R_wave_scope)"
   ]
  },
  {
   "cell_type": "code",
   "execution_count": 8,
   "id": "e7dc2718-36cb-4219-92f8-2583673773a6",
   "metadata": {},
   "outputs": [],
   "source": [
    "# 定义一个函数，用于分析波长数据\n",
    "def wave_analyse(DATASET_PATH, FITS_PATH):\n",
    "    # 蓝端波长范围的最小和最大值\n",
    "    B_wave_min = np.log10(3800)\n",
    "    B_wave_max = np.log10(5700)\n",
    "\n",
    "    # 红端波长范围的最小和最大值\n",
    "    R_wave_min = np.log10(5900)\n",
    "    R_wave_max = np.log10(8800)\n",
    "    \n",
    "    # 初始化存储蓝端和红端波长数据的列表\n",
    "    B_wave = []\n",
    "    R_wave = []\n",
    "    label = []\n",
    "    \n",
    "    # 读取数据集路径下的CSV文件\n",
    "    data = pd.read_csv(DATASET_PATH)  \n",
    "    \n",
    "    # 获取所有FITS文件的路径\n",
    "    file_names = all_path(FITS_PATH)\n",
    "    print(len(file_names))\n",
    "    file_names = np.array(file_names)\n",
    "    \n",
    "    # 遍历每个FITS文件\n",
    "    for i in tqdm(range(len(file_names))):\n",
    "        try:  \n",
    "            # 打开FITS文件\n",
    "            f = fits.open(FITS_PATH + file_names[i])\n",
    "            try:\n",
    "                # 尝试获取第一个HDU的流量和波长数据\n",
    "                F = f[0].data[0]  # 流量\n",
    "                W = f[0].data[2]  # 波长\n",
    "            except:\n",
    "                # 如果第一个HDU中没有数据，则尝试从第二个HDU中获取\n",
    "                F = f[1].data[\"FLUX\"][0]\n",
    "                W = f[1].data[\"WAVELENGTH\"][0]\n",
    "                \n",
    "            # 获取红移值，并调整波长数据\n",
    "            z = f[0].header['Z']  # 红移\n",
    "            W = np.log10(W) - np.log10(1 + np.float64(z))\n",
    "            # 根据蓝端和红端的波长范围，获取相应的波长数据\n",
    "            B_W = (W > B_wave_min)*(W < B_wave_max)\n",
    "            R_W = (W > R_wave_min)*(W < R_wave_max)\n",
    "            # 添加蓝端波长数据\n",
    "            B_wave.append(W[B_W])\n",
    "            # 添加红端波长数据\n",
    "            R_wave.append(W[R_W])\n",
    "        except:\n",
    "            # 处理异常情况，跳过当前循环\n",
    "            print(\"Handling exceptions, skipped, indexed as : \", i)\n",
    "            continue\n",
    "    \n",
    "    # 获取所有蓝端波长数据的最大和最小值\n",
    "    B_fact_max = np.max(B_wave[0])\n",
    "    B_fact_min = np.min(B_wave[0])\n",
    "    for W in B_wave:\n",
    "        try:\n",
    "            B_fact_max = min(B_fact_max, np.max(W))\n",
    "            B_fact_min = max(B_fact_min, np.min(W))\n",
    "        except:\n",
    "            continue\n",
    "    \n",
    "    # 获取所有红端波长数据的最大和最小值\n",
    "    R_fact_max = np.max(R_wave[0])\n",
    "    R_fact_min = np.min(R_wave[0])\n",
    "    for W in R_wave:\n",
    "        try:\n",
    "            R_fact_max = min(R_fact_max, np.max(W))\n",
    "            R_fact_min = max(R_fact_min, np.min(W))\n",
    "        except:\n",
    "            continue\n",
    "    \n",
    "\n",
    "    B_wave_scope = [B_fact_min, B_fact_max]\n",
    "    R_wave_scope = [R_fact_min, R_fact_max]\n",
    "    # 返回蓝端和红端波长的最小和最大值\n",
    "    return B_wave_scope, R_wave_scope\n",
    "\n",
    "# # 测试\n",
    "# B_wave_scope, R_wave_scope = wave_analyse(DATASET_PATH, FITS_PATH)\n",
    "# print(B_wave_scope, R_wave_scope)"
   ]
  },
  {
   "cell_type": "markdown",
   "id": "30a14fb7-ac10-4475-a346-e407b8c4d0bc",
   "metadata": {
    "tags": []
   },
   "source": [
    "## 2. 线性插值 (linear_inter)"
   ]
  },
  {
   "cell_type": "raw",
   "id": "bd198f0d-3286-4c0a-b6a8-e5be97c2b0aa",
   "metadata": {},
   "source": [
    "功能描述\n",
    "linear_inter 函数用于对来自 FITS 文件的天体观测数据进行线性插值处理。该函数特别关注于蓝端和红端波段的光谱数据，计算这些波段在指定波长范围内的流量值。此操作对于统一不同观测数据的波长尺度，以便进行进一步分析。\n",
    "\n",
    "参数\n",
    "DATASET_PATH (str): 指向包含光谱数据概览的 CSV 文件的路径。尽管该参数在函数体中被读取，但在提供的代码示例中并未直接使用。\n",
    "FITS_PATH (str): 包含 FITS 文件的目录路径。这些文件中包含了用于分析的天体光谱数据。\n",
    "\n",
    "返回值\n",
    "函数返回三个对象：\n",
    "\n",
    "BR_flux_data (list): 一个列表，包含所有处理过的 FITS 文件中蓝端和红端波段的流量数据。每个元素是对应于一个文件中波段的流量值数组。\n",
    "B_wave_fixed (numpy.ndarray): 蓝端波长的固定采样数组，用于插值。\n",
    "R_wave_fixed (numpy.ndarray): 红端波长的固定采样数组，用于插值。"
   ]
  },
  {
   "cell_type": "code",
   "execution_count": 9,
   "id": "ad3ea33a-d3b4-49aa-9781-cd5dfe01ecaf",
   "metadata": {},
   "outputs": [],
   "source": [
    "\n",
    "\n",
    "# 定义一个函数进行线性插值\n",
    "def linear_inter(FITS_PATH, B_wave_scope, R_wave_scope,start=0,end=float('inf')):\n",
    "    \n",
    "    # 计算蓝端和红端波长范围的对数值\n",
    "    B_wave_min = np.log10(3800)\n",
    "    B_wave_max = np.log10(5700)\n",
    "\n",
    "    R_wave_min = np.log10(5900)\n",
    "    R_wave_max = np.log10(8800)\n",
    "    \n",
    "\n",
    "    # 初始化存储蓝红波段流量数据的列表\n",
    "    BR_flux_data = []\n",
    "    # 初始化文件名列表\n",
    "    file_names = []\n",
    "    \n",
    "    # 获取FITS文件的路径\n",
    "    file_names = all_path(FITS_PATH)\n",
    "    \n",
    "    # 初始化错误列表\n",
    "    error_list = []\n",
    "    \n",
    "    #定义遍历结束位置\n",
    "    end = min(len(file_names), end)\n",
    "    \n",
    "    # 遍历文件名列表\n",
    "    for i in tqdm(range(start,end)):\n",
    "        try:\n",
    "            # 打开FITS文件\n",
    "            f = fits.open(FITS_PATH + file_names[i])\n",
    "            \n",
    "            try:\n",
    "                # 尝试从第一个HDU获取流量和波长数据\n",
    "                F = f[0].data[0] \n",
    "                W = f[0].data[2] \n",
    "            except:\n",
    "                # 如果第一个HDU中没有数据，则从第二个HDU获取\n",
    "                F = f[1].data[\"FLUX\"][0]\n",
    "                W = f[1].data[\"WAVELENGTH\"][0]\n",
    "            \n",
    "            # 获取红移值并调整波长数据\n",
    "            z = f[0].header['Z']  \n",
    "            W = np.log10(W) - np.log10(1 + np.float64(z))\n",
    "        \n",
    "            # # 定义蓝端和红端波长范围\n",
    "            # B_wave_scope = [B_fact_min, B_fact_max]\n",
    "            # R_wave_scope = [R_fact_min, R_fact_max]\n",
    "        \n",
    "            # 获取蓝端的流量和波长数据\n",
    "            B_flux = F[(W > B_wave_min)*(W < B_wave_max)]\n",
    "            B_wave = W[(W > B_wave_min)*(W < B_wave_max)]\n",
    "        \n",
    "            # # 对全部数据进行线性插值\n",
    "            # f = interp1d(W, F, kind = 'linear')\n",
    "        \n",
    "            # 获取红端的流量和波长数据\n",
    "            R_flux = F[(W > R_wave_min)*(W < R_wave_max)]\n",
    "            R_wave = W[(W > R_wave_min)*(W < R_wave_max)]\n",
    "              \n",
    "            # 分别对蓝端和红端的数据进行线性插值\n",
    "            B_f = interp1d(B_wave, B_flux, kind = 'linear')\n",
    "            R_f = interp1d(R_wave, R_flux, kind = 'linear')\n",
    "        \n",
    "            # 设置采样率为0.0001，并生成固定波长范围的蓝端和红端波长数组\n",
    "            B_wave_fixed = np.arange(B_wave_scope[0], B_wave_scope[1], 0.0001)\n",
    "            R_wave_fixed = np.arange(R_wave_scope[0], R_wave_scope[1], 0.0001)\n",
    "        \n",
    "            # 将插值后的蓝端和红端流量数据合并，并添加到列表中\n",
    "            BR_flux_data.append(np.concatenate((B_f(B_wave_fixed), R_f(R_wave_fixed))))\n",
    "        \n",
    "        except:\n",
    "            # 处理异常情况，跳过当前循环\n",
    "            print(\"Handling exceptions, skipped, indexed as : \", i) \n",
    "            error_list.append(i)\n",
    "            continue\n",
    "    \n",
    "    # 打印处理后的数据量和数据维度信息\n",
    "    print(\"The magnitude of the traffic data on the common wavelength position obtained \\\n",
    "          after interpolation of the red and blue bands separately：\", np.shape(BR_flux_data)[1])\n",
    "    print(\"Number of processed data：\", np.shape(BR_flux_data)[0])\n",
    "        \n",
    "    # 返回插值后的流量数据以及蓝端和红端的固定波长数组\n",
    "    return BR_flux_data, B_wave_fixed, R_wave_fixed, error_list\n",
    "\n",
    "# BR_flux_data, B_wave_fixed, R_wave_fixed,failed_indice = linear_inter(DATASET_PATH, FITS_PATH, B_wave_scope, R_wave_scope,end=100)"
   ]
  },
  {
   "cell_type": "markdown",
   "id": "a4d22274-3680-4a8c-be9d-509920e4ee1c",
   "metadata": {
    "jp-MarkdownHeadingCollapsed": true,
    "tags": []
   },
   "source": [
    "## 3. 连续谱拟合和归一化处理 (normalization_by_polyfit)"
   ]
  },
  {
   "cell_type": "markdown",
   "id": "400b9048-61e1-4297-be8f-3cdd02b943e8",
   "metadata": {
    "tags": []
   },
   "source": [
    "### csp_polyfit：  多项式拟合"
   ]
  },
  {
   "cell_type": "markdown",
   "id": "812e6139-e866-4496-8f78-c4e548677009",
   "metadata": {},
   "source": [
    "csp_polyfit：归一化光谱和波长，拟合出一个多项式\n",
    "\n",
    "参数说明：\n",
    "\n",
    "    sp: 光流量数据，一维数组。\n",
    "    angs: 角度数据，一维数组，应与光流量数据在长度上匹配。\n",
    "    param：\n",
    "        poly_global_order: 多项式拟合的全局阶数。\n",
    "        poly_upperlimit和poly_lowerlimit: 用于数据点选择的标准差倍数阈值。\n",
    "        poly_del_filled: 指示如何处理不符合条件的数据点，1 表示删除，其它值表示用拟合值填充。\n",
    "    \n",
    "返回值：\n",
    "\n",
    "    param：\n",
    "        poly_sp_c、poly_sp_s、poly_angs_c和poly_angs_s: 分别保存流量和波长的平均值、标准差\n",
    "        poly_P_g: 拟合过程中计算的多项式系数。\n",
    "        poly_sp_filtered和poly_angs_filtered: 过滤后的光流量和角度数据。"
   ]
  },
  {
   "cell_type": "code",
   "execution_count": 10,
   "id": "39f2f86b-a823-496e-9832-f23a1ebf5dd6",
   "metadata": {},
   "outputs": [],
   "source": [
    "def csp_polyfit(sp, angs, param):\n",
    "    # 标准化光流量\n",
    "    sp_c = np.mean(sp)   # 计算光流量的平均值，即中位流量\n",
    "    sp = sp - sp_c           # 以平均值为中心调整光流量，实现光流量的中心化\n",
    "    sp_s = np.std(sp)     # 计算光流量的标准差，即流量均方差\n",
    "    sp = sp / sp_s        # 用标准差标准化光流量\n",
    "    \n",
    "    # 标准化角度\n",
    "    angs_c = np.mean(angs)  # 计算波长的平均值\n",
    "    angs = angs - angs_c    # 以平均值为中心调整角度\n",
    "    angs_s = np.std(angs)   # 计算波长的标准差\n",
    "    angs = angs / angs_s    # 用标准差标准化波长\n",
    "    \n",
    "    # 更新参数字典\n",
    "    param['poly_sp_c'] = sp_c\n",
    "    param['poly_sp_s'] = sp_s\n",
    "    param['poly_angs_c'] = angs_c\n",
    "    param['poly_angs_s'] = angs_s\n",
    "    \n",
    "    # 初始化数据标志\n",
    "    data_flag = np.full(sp.shape, 1)\n",
    "    \n",
    "    i = 0\n",
    "    con = True\n",
    "    while(con):\n",
    "        # 使用多项式拟合并获取系数\n",
    "        P_g = np.polyfit(angs, sp, param['poly_global_order'])  # 计算多项式系数\n",
    "        param['poly_P_g'] = P_g\n",
    "        fitval_1 = np.polyval(P_g, angs)   # 计算多项式的拟合值\n",
    "        dev = fitval_1 - sp  # 计算拟合值与实际值的偏差\n",
    "        sig_g = np.std(dev)  # 计算偏差的标准差\n",
    "        \n",
    "        # 更新数据标志，用于识别需要保留的数据点\n",
    "        data_flag_new = (dev > (-param['poly_upperlimit'] * sig_g)) * (dev < (param['poly_lowerlimit'] * sig_g))\n",
    "    \n",
    "        if sum(abs(data_flag_new - data_flag)) > 0:\n",
    "            if param['poly_del_filled'] == 1: \n",
    "                data_flag = data_flag_new  # 更新数据标志\n",
    "            else:\n",
    "                fill_flag = data_flag - data_flag_new  # 计算需要填充的数据标志\n",
    "                index_1 = np.where(fill_flag != 0)  # 找出需要填充的数据点\n",
    "                sp[index_1] = fitval_1[index_1]  # 用拟合值填充这些数据点\n",
    "        else:\n",
    "            con = False  # 如果数据标志没有变化，则停止迭代\n",
    "        i += 1\n",
    "    #     print(\"iteration is %d\" %i)  # 打印迭代次数，此行为调试用，通常被注释\n",
    "    \n",
    "    # 根据最终的数据标志筛选数据\n",
    "    index_2 = np.where(data_flag != 0)\n",
    "    param['poly_sp_filtered'] = sp[index_2]  # 更新参数字典，保存过滤后的光流量数据\n",
    "    param['poly_angs_filtered'] = angs[index_2]  # 更新参数字典，保存过滤后的角度数据\n",
    "    \n",
    "    return param  # 返回更新后的参数字典\n"
   ]
  },
  {
   "cell_type": "markdown",
   "id": "7c1b7a0a-4ae2-49af-b1f0-ba419960015e",
   "metadata": {
    "tags": []
   },
   "source": [
    "### sp_median_polyfit1stage： 连续谱拟合"
   ]
  },
  {
   "cell_type": "markdown",
   "id": "9d8aec77-d4ae-4f3f-91a6-2eb6d0b175e2",
   "metadata": {},
   "source": [
    "对一条光谱进行一系列处理最终获得一个拟合连续谱。具体操作包括：1.用中值滤波结果预剔除异常数据点 2.拟合一个归一化后的多项式 3.反归一化得到最终拟合连续谱\n",
    "\n",
    "使用说明\n",
    "\n",
    "    sp_median_polyfit1stage(flux, lambda_log, param)\n",
    "参数\n",
    "\n",
    "    flux: 光通量数据，一维数组。\n",
    "    lambda_log: 对数波长数据，与光通量数据相对应的一维数组。\n",
    "    param: 参数字典，包含处理过程中需要的各种参数。\n",
    "参数字典param的关键字段\n",
    "\n",
    "    median_radius: 中值滤波的窗口半径。\n",
    "    poly_lowerlimit: 多项式拟合预剔除下限，乘以标准差作为阈值。\n",
    "    poly_upperlimit: 多项式拟合预剔除上限，乘以标准差作为阈值。\n",
    "    poly_del_filled: 处理标记为填充的数据点的方法（1表示删除这些点，2表示用中值滤波结果填充）。\n",
    "    poly_angs_c, poly_angs_s: 波长预处理中的中心化和缩放参数。\n",
    "    poly_P_g: 连续谱拟合的多项式系数。\n",
    "    poly_sp_s, poly_sp_c: 连续谱拟合后的缩放和偏移参数。\n",
    "    poly_SM: 是否使用原始波长（1）或对数波长（其它值）。\n",
    "返回值\n",
    "\n",
    "    continum_fitted: 拟合的连续谱，一维数组，与输入的光通量数据对应。"
   ]
  },
  {
   "cell_type": "code",
   "execution_count": 11,
   "id": "4391d15b-e9f6-4bb4-91ae-b36e52499966",
   "metadata": {},
   "outputs": [],
   "source": [
    "def sp_median_polyfit1stage(flux, lambda_log,param):\n",
    "    flux1 = flux  # 复制光通量数据\n",
    "    lambda1 = lambda_log  # 复制对数波长数据\n",
    "\n",
    "    # 中值滤波\n",
    "    flux_median1 = medfilt(flux1, param['median_radius'])  # 使用中值滤波处理光通量数据\n",
    "\n",
    "    # 利用中值滤波结果进行预剔除\n",
    "    dev1 = flux_median1 - flux1  # 计算中值滤波后的光通量与原光通量的差值\n",
    "    sigma = np.std(dev1)  # 计算差值的标准差\n",
    "    # 生成数据标记，用于识别符合预剔除条件的数据点\n",
    "    data_flag1 = (dev1 < (param['poly_lowerlimit'] * sigma)) * (dev1 > (-param['poly_upperlimit'] * sigma))\n",
    "    \n",
    "    # 利用中值滤波结果进行伪光谱线的预剔除\n",
    "    fill_flag1 = 1 - data_flag1  # 生成填充标记，用于识别需要被填充的数据点\n",
    "    \n",
    "    # 根据参数决定如何处理填充标记指示的数据点\n",
    "    if param['poly_del_filled'] == 1:\n",
    "        index_1 = np.where(data_flag1)  # 找到符合条件的数据点索引\n",
    "        flux1 = flux1[index_1]  # 仅保留这些数据点的光通量数据\n",
    "        lambda1 = lambda1[index_1]  # 仅保留这些数据点的波长数据\n",
    "    elif param['poly_del_filled'] == 2:\n",
    "        index_2 = np.where(fill_flag1)  # 找到需要填充的数据点索引\n",
    "        flux1[index_2] = flux_median1[index_2]  # 用中值滤波结果填充这些数据点的光通量\n",
    "        \n",
    "    # 迭代拟合连续谱\n",
    "    param = csp_polyfit(flux1, lambda1, param)  # 执行连续谱的多项式拟合\n",
    "    \n",
    "    # 波长预处理\n",
    "    angs = lambda1 - param['poly_angs_c']  # 波长中心化\n",
    "    angs = angs / param['poly_angs_s']  # 波长缩放\n",
    "    \n",
    "    # 连续谱样本\n",
    "    fitval_g = np.polyval(param['poly_P_g'], angs)  # 使用多项式系数计算连续谱的拟合值\n",
    "    continum_fitted = fitval_g * param['poly_sp_s'] + param['poly_sp_c']  # 根据参数调整连续谱的拟合值\n",
    "    \n",
    "    # 根据参数选择使用原始波长或对数波长\n",
    "    if param['poly_SM'] == 1: \n",
    "        angss = lambda1\n",
    "    else: \n",
    "        angss = 10 ** lambda1  # 如果需要，将波长转换为对数形式\n",
    " \n",
    "    return continum_fitted  # 返回拟合的连续谱"
   ]
  },
  {
   "cell_type": "markdown",
   "id": "e342396c-95d3-45bf-80f6-42207675041c",
   "metadata": {
    "tags": []
   },
   "source": [
    "### normalization_by_polyfit： 使用拟合连续谱对原始光谱数据归一化"
   ]
  },
  {
   "cell_type": "markdown",
   "id": "6b1d0c50-3b7a-45f4-8c21-6a091ad65c82",
   "metadata": {},
   "source": [
    "概述\n",
    "对每条光谱的蓝端和红端分别进行连续谱拟合和归一化。先分别处理蓝端和红端的光谱，对每一部分分别进行连续谱拟合，最后利用拟合结果对原始光谱数据进行归一化处理。\n",
    "\n",
    "参数说明\n",
    "\n",
    "    BR_flux_data: 原始光谱数据数组，假设为二维数组，其中每一行代表一条光谱数据。\n",
    "    B_wave_fixed: 蓝端波长的固定采样数组，一维数组。\n",
    "    R_wave_fixed: 红端波长的固定采样数组，一维数组。\n",
    "    param: (可选) 拟合参数字典，用于控制连续谱拟合的具体行为。如果未提供，则使用默认参数。\n",
    "    SAVE_PATH: (可选) 字符串，表示保存处理后数据的文件路径。如果提供此参数，函数将处理后的数据保存为NumPy文件。\n",
    "返回值\n",
    "\n",
    "    BR_flux_data_fitted: 归一化后的光谱数据数组，与原始光谱数据具有相同的形状。"
   ]
  },
  {
   "cell_type": "code",
   "execution_count": 12,
   "id": "5495f758-458e-456e-8a4d-d68d22f3b28b",
   "metadata": {},
   "outputs": [],
   "source": [
    "def normalization_by_polyfit(BR_flux_data, B_wave_fixed, R_wave_fixed, param=None, SAVE_PATH=None):\n",
    "    \"\"\"\n",
    "    对光谱数据进行连续谱拟合和归一化处理。\n",
    "\n",
    "    参数:\n",
    "    - BR_flux_data: 原始光谱数据数组。\n",
    "    - B_wave_fixed: 蓝端波长的固定采样数组。\n",
    "    - R_wave_fixed: 红端波长的固定采样数组。\n",
    "    - param: 拟合参数字典，可选。\n",
    "    - SAVE_PATH: 保存处理后数据的文件路径，可选。\n",
    "    \"\"\"\n",
    "    # 检查是否提供了拟合参数，如果没有，则设置默认参数\n",
    "    if param is None:\n",
    "        param = {'poly_global_order': 5, 'nor': 1, 'poly_lowerlimit': 3, 'poly_upperlimit': 4, \n",
    "                 'median_radius': 3, 'poly_SM': 0, 'poly_del_filled': 2}\n",
    "\n",
    "    # 初始化一个与原始光谱数据相同形状的数组，用于存储拟合后的数据\n",
    "    BR_flux_data_fitted = np.zeros_like(BR_flux_data)\n",
    "    \n",
    "    # 遍历每一行光谱数据\n",
    "    for i in tqdm(range(BR_flux_data_fitted.shape[0])):\n",
    "        \n",
    "        try:\n",
    "            # 对蓝端和红端波长的光谱数据分别进行连续谱拟合\n",
    "            B_continum_fitted_train = sp_median_polyfit1stage(BR_flux_data[i][:len(B_wave_fixed)], np.log10(B_wave_fixed), param)\n",
    "            R_continum_fitted_train = sp_median_polyfit1stage(BR_flux_data[i][len(B_wave_fixed):], np.log10(R_wave_fixed), param)\n",
    "\n",
    "            # 使用拟合得到的连续谱对原始光谱数据进行归一化\n",
    "            BR_flux_data_fitted[i, :len(B_wave_fixed)] = BR_flux_data[i][:len(B_wave_fixed)] / B_continum_fitted_train\n",
    "            BR_flux_data_fitted[i, len(B_wave_fixed):] = BR_flux_data[i][len(B_wave_fixed):] / R_continum_fitted_train\n",
    "        except:\n",
    "            print(f\"Handling exceptions, indexed as: {i}\")\n",
    "            continue\n",
    "\n",
    "    # 如果提供了保存路径，将处理后的数据保存到指定文件\n",
    "    if SAVE_PATH:\n",
    "        np.save(SAVE_PATH, BR_flux_data_fitted)\n",
    "    \n",
    "    return BR_flux_data_fitted\n",
    "\n",
    "# 注意: sp_median_polyfit1stage 需要根据实际的函数定义和参数进行调整。"
   ]
  },
  {
   "cell_type": "markdown",
   "id": "8643217d-8368-4e89-97bd-ac57ddec32ed",
   "metadata": {
    "tags": []
   },
   "source": [
    "## 4. 用3σ原则处理异常值和标准化处理"
   ]
  },
  {
   "cell_type": "markdown",
   "id": "ff38c8bb-8187-4fb5-87dd-5d897389516b",
   "metadata": {
    "tags": []
   },
   "source": [
    "### three_sigma：异常值处理子函数"
   ]
  },
  {
   "cell_type": "markdown",
   "id": "f220c3cd-0422-4616-b763-72974d45f0dd",
   "metadata": {},
   "source": [
    "函数基于3σ原则（三西格玛规则）对光谱数据中的异常值进行识别和处理。先假设数据遵循正态分布，数据集中在均值的±3σ（标准差）区间内的概率为99.73%，因此位于这个区间之外的点被视为异常值。该函数计算给定光谱数据片段的平均值和标准差，识别异常值，并将这些异常值替换为平均值，最后返回处理后的光谱数据点列表。"
   ]
  },
  {
   "cell_type": "code",
   "execution_count": 13,
   "id": "acb1d497-1a73-4649-9cdd-9841063bae9b",
   "metadata": {},
   "outputs": [],
   "source": [
    "def three_sigma(Flux, flux_index, sigma_rate=3):\n",
    "    mean_value = Flux[flux_index].mean()  # 计算指定索引光谱数据的平均值\n",
    "    std_value = Flux[flux_index].std()  # 计算指定索引光谱数据的标准差\n",
    "    # 根据3σ原则确定异常值规则：异常值为超出平均值±3倍标准差的数据点\n",
    "    rule = (mean_value - sigma_rate * std_value > Flux[flux_index]) | (mean_value + sigma_rate * std_value < Flux[flux_index])\n",
    "    indice = np.arange(Flux[flux_index].shape[0])[rule]  # 获取所有异常值的索引位置\n",
    "    Flux_points = []  # 初始化一个列表，用于存放处理后的光谱数据点\n",
    "    for i in range(Flux[flux_index].shape[0]):  # 遍历光谱数据点\n",
    "        if i in indice:  # 如果当前点是异常值\n",
    "            Flux_points.append(mean_value)  # 用平均值替换异常值\n",
    "        else:\n",
    "            Flux_points.append(Flux[flux_index][i])  # 正常值保持不变\n",
    "    return Flux_points  # 返回处理后的光谱数据点列表\n"
   ]
  },
  {
   "cell_type": "markdown",
   "id": "91abc27f-6275-4bfd-b6e9-0c5f9601dd15",
   "metadata": {
    "tags": []
   },
   "source": [
    "### three_sigma_processing："
   ]
  },
  {
   "cell_type": "markdown",
   "id": "bdd13405-1d19-4d0f-88ea-81fe1ef38405",
   "metadata": {},
   "source": [
    "用于批量处理光谱数据集，应用3σ原则去除异常值并进行后续的标准化处理。"
   ]
  },
  {
   "cell_type": "code",
   "execution_count": 14,
   "id": "e858d64e-2a1c-4f0c-b9f9-5516b77dadfa",
   "metadata": {},
   "outputs": [],
   "source": [
    "def three_sigma_processing(Flux, SAVE_PATH_3sigma=None):\n",
    "    Flux_3sigma = []  # 初始化一个列表，用于存储所有光谱数据的3σ处理结果\n",
    "    for i in tqdm(range(Flux.shape[0])):  # 遍历所有光谱数据\n",
    "        Flux_3sigma.append(three_sigma(Flux, i, sigma_rate=3))  # 对每条光谱数据应用3σ处理\n",
    "    Flux_3sigma = np.array(Flux_3sigma)  # 将处理结果列表转换为NumPy数组\n",
    "    sc = StandardScaler()  # 创建一个StandardScaler对象，用于后续的标准化处理\n",
    "    Flux_3sigma_sc_T = sc.fit_transform(Flux_3sigma.T)  # 对3σ处理后的光谱数据进行标准化\n",
    "    Flux_3sigma_sc = Flux_3sigma_sc_T.T  # 转置回原来的形状\n",
    "    if SAVE_PATH_3sigma:\n",
    "        np.save(SAVE_PATH_3sigma, Flux_3sigma_sc)  # 将标准化后的光谱数据保存到指定路径\n",
    "    return  Flux_3sigma_sc\n"
   ]
  },
  {
   "cell_type": "markdown",
   "id": "d05e70b8-1cfc-4e6a-9aa6-eed7c160564c",
   "metadata": {
    "jp-MarkdownHeadingCollapsed": true,
    "tags": []
   },
   "source": [
    "## 5. Matching spectra and tagging 匹配光谱和标记"
   ]
  },
  {
   "cell_type": "code",
   "execution_count": 15,
   "id": "5e0febb5-48b7-40c1-a265-b0af17e41c07",
   "metadata": {},
   "outputs": [],
   "source": [
    "def extract_fits_info(FITS_PATH, start=0, end = float('inf'), failed_indice=[],save_path=None):\n",
    "    \"\"\"\n",
    "    提取指定范围内的FITS文件中的OBSID、SNRG、RA、DEC字段，并存储到一个DataFrame中。\n",
    "    \n",
    "    参数：\n",
    "    FITS_PATH (str): FITS文件的目录路径。\n",
    "    start (int): 起始索引（包含）。\n",
    "    end (int): 结束索引（不包含）。\n",
    "    failed_indice (list): 要跳过的文件索引列表。\n",
    "    \n",
    "    返回：\n",
    "    df (pd.DataFrame): 包含提取信息的DataFrame，列名为obsid、snrg、ra、dec。\n",
    "    \"\"\"\n",
    "    data = []\n",
    "    \n",
    "    # 获取FITS文件的路径\n",
    "    file_names = all_path(FITS_PATH)\n",
    "    \n",
    "    #定义遍历结束位置\n",
    "    end = min(len(file_names), end)\n",
    "\n",
    "    for i in tqdm(range(start,end)):\n",
    "        \n",
    "        # 检查当前索引是否在failed_indice中\n",
    "        if i in failed_indice:\n",
    "            continue\n",
    "        \n",
    "        fits_path = os.path.join(FITS_PATH, file_names[i])\n",
    "        with fits.open(fits_path) as hdul:\n",
    "            header = hdul[0].header\n",
    "            obsid = header.get('OBSID', None)\n",
    "            snrg = header.get('SNRG', None)\n",
    "            ra = header.get('RA', None)\n",
    "            dec = header.get('DEC', None)\n",
    "            data.append([obsid, snrg, ra, dec])\n",
    "    \n",
    "    df = pd.DataFrame(data, columns=['obsid', 'snrg', 'ra', 'dec'])\n",
    "    \n",
    "        # 如果提供了保存路径，则保存DataFrame到CSV文件\n",
    "    if save_path:\n",
    "        df.to_csv(save_path, index=False)\n",
    "        \n",
    "    return df\n",
    "\n",
    "# start = 0\n",
    "# end = 10\n",
    "# save_path=r'F:/My_trial/Fits/50-60.csv'\n",
    "# df = extract_fits_info(FITS_PATH, start, end,[],save_path)\n",
    "# df"
   ]
  },
  {
   "cell_type": "markdown",
   "id": "04bb85f8-9feb-4b0d-a68f-71760bbfd1d2",
   "metadata": {
    "jp-MarkdownHeadingCollapsed": true,
    "tags": []
   },
   "source": [
    "# 处理流程："
   ]
  },
  {
   "cell_type": "markdown",
   "id": "10d02a9c-5a54-45dc-a16e-78e043dca515",
   "metadata": {
    "jp-MarkdownHeadingCollapsed": true,
    "tags": []
   },
   "source": [
    "### 整体流程："
   ]
  },
  {
   "cell_type": "code",
   "execution_count": 23,
   "id": "e63fd152-0516-4e32-8cd3-e11b94e237d2",
   "metadata": {},
   "outputs": [
    {
     "name": "stdout",
     "output_type": "stream",
     "text": [
      "34938\n"
     ]
    },
    {
     "name": "stderr",
     "output_type": "stream",
     "text": [
      " 12%|█████████▏                                                                  | 4251/34938 [00:20<02:29, 205.68it/s]C:\\Users\\ZhaoXR\\AppData\\Local\\Temp\\ipykernel_15524\\3616475048.py:40: RuntimeWarning: invalid value encountered in log10\n",
      "  W = np.log10(W) - np.log10(1 + np.float64(z))\n",
      "100%|███████████████████████████████████████████████████████████████████████████| 34938/34938 [02:54<00:00, 199.68it/s]\n"
     ]
    }
   ],
   "source": [
    "#定义路径\n",
    "FITS_PATH = r'F:/My_trial/Fits/50-60/'\n",
    "SAVE_PATH = r'F:/My_trial/Fits/50_60_1.npy'\n",
    "info_save_path =r'F:/My_trial/Fits/50-60.csv' \n",
    "n = 100000   # 最多多少数据同时处理\n",
    "\n",
    "\n",
    "# 1.读取最小和最大值。保证和训练集处理流程一致\n",
    "wave_scope_path = \"./wave_scope.json\"\n",
    "with open(wave_scope_path, \"r\") as file:\n",
    "    wave_scope = json.load(file)\n",
    "B_wave_scope= wave_scope['B_wave_scope']\n",
    "R_wave_scope= wave_scope['R_wave_scope']\n",
    "\n",
    "\n",
    "# 将一个大文件分多个部分处理\n",
    "for i in range(len(all_path(FITS_PATH))//n+1):\n",
    "    start = i*n\n",
    "    end = (i+1)*n\n",
    "    \n",
    "    # 2.在范围内进行插值，统一波长范围和数据格式\n",
    "    BR_flux_data, B_wave_fixed, R_wave_fixed,failed_indice = linear_inter(FITS_PATH, B_wave_scope, R_wave_scope,start=start，end=end)\n",
    "\n",
    "    # 3.进行连续谱拟合，并以此对原始光谱数据归一化\n",
    "    BR_flux_data_fitted = normalization_by_polyfit(BR_flux_data, B_wave_fixed, R_wave_fixed, param=None, SAVE_PATH=None)\n",
    "    \n",
    "    # 4.基于3σ原则对光谱数据中的异常值进行识别和处理，并归一化\n",
    "    Flux_3sigma_sc=three_sigma_processing(BR_flux_data_fitted,info_save_path)\n",
    "    \n",
    "    # 5. 提取当前范围内的FITS文件信息（OBSID、SNRG、RA、DEC），并将信息保存到CSV文件中\n",
    "    info_df = extract_fits_info(FITS_PATH, start, end,failed_indice,info_save_path)\n",
    "    "
   ]
  },
  {
   "cell_type": "markdown",
   "id": "4978d4aa-8df0-480f-a6a3-164e8bfa4718",
   "metadata": {
    "tags": []
   },
   "source": [
    "### 详细过程："
   ]
  },
  {
   "cell_type": "markdown",
   "id": "9a4d8b14-0fe1-4ea7-bca7-88c26c21aaf0",
   "metadata": {
    "tags": []
   },
   "source": [
    "#### 定义数据的路径"
   ]
  },
  {
   "cell_type": "code",
   "execution_count": 28,
   "id": "6f1b2b30-6c4a-4577-93b9-d0bb0a9d7b4d",
   "metadata": {},
   "outputs": [],
   "source": [
    "# 定义数据的路径\n",
    "\n",
    "# DATASET_PATH = r\"E:\\my_star\\download\\snrg_split\\match_low_0_10.csv\"\n",
    "# # FITS_PATH = r'E:\\my_star\\FITSDATA\\low_10_20/'\n",
    "# FITS_PATH = r'E:\\my_star\\FITSDATA\\low_0_10/'\n",
    "# SAVE_PATH_low = r\"E:\\my_star\\data_after_processing\\Flux_low\\0_10.npy\"\n",
    "# SAVE_PATH_high = r\"E:\\my_star\\data_after_processing\\Flux_high\\0_10.npy\"\n",
    "\n",
    "FITS_PATH = r'F:/My_trial/Fits/50-60/'\n",
    "SAVE_PATH = r'F:/My_trial/Fits/50_60_1.npy'\n",
    "info_save_path =r'F:/My_trial/Fits/50-60.csv' "
   ]
  },
  {
   "cell_type": "markdown",
   "id": "90984ef0-f9d6-42a1-9c8b-fcc7543893d3",
   "metadata": {
    "jp-MarkdownHeadingCollapsed": true,
    "tags": []
   },
   "source": [
    "#### 1.初步波长分析，计算光谱蓝端和红端波长范围的最小和最大值"
   ]
  },
  {
   "cell_type": "code",
   "execution_count": 29,
   "id": "093f3cf8-bcc4-454f-97ab-71b90748b0e1",
   "metadata": {},
   "outputs": [],
   "source": [
    "# 1.这一步用和训练师相同的参数，因此直接读取跳过计算\n",
    "# B_wave_scope, R_wave_scope = wave_analyse(DATASET_PATH, FITS_PATH)\n",
    "\n",
    "wave_scope_path = \"./wave_scope.json\"\n",
    "with open(wave_scope_path, \"r\") as file:\n",
    "    wave_scope = json.load(file)\n",
    "B_wave_scope= wave_scope['B_wave_scope']\n",
    "R_wave_scope= wave_scope['R_wave_scope']"
   ]
  },
  {
   "cell_type": "code",
   "execution_count": 24,
   "id": "0eddac5c-8f88-4dc6-a890-6cef63a0d6af",
   "metadata": {},
   "outputs": [
    {
     "data": {
      "text/plain": [
       "[3.5843617916107178, 3.755774736404419]"
      ]
     },
     "execution_count": 24,
     "metadata": {},
     "output_type": "execute_result"
    }
   ],
   "source": [
    "B_wave_scope"
   ]
  },
  {
   "cell_type": "code",
   "execution_count": 25,
   "id": "af8448e4-e576-40a6-ae7a-502b604ff81d",
   "metadata": {},
   "outputs": [
    {
     "data": {
      "text/plain": [
       "[3.7709522247314453, 3.944382429122925]"
      ]
     },
     "execution_count": 25,
     "metadata": {},
     "output_type": "execute_result"
    }
   ],
   "source": [
    "R_wave_scope"
   ]
  },
  {
   "cell_type": "markdown",
   "id": "cc48d3e0-abf4-440c-b1c9-21bf5445188a",
   "metadata": {
    "jp-MarkdownHeadingCollapsed": true,
    "tags": []
   },
   "source": [
    "#### 2.划分多个部分以防爆内存"
   ]
  },
  {
   "cell_type": "code",
   "execution_count": 59,
   "id": "d44ebfc1-ce85-4286-b66f-cbad6b830870",
   "metadata": {},
   "outputs": [
    {
     "name": "stdout",
     "output_type": "stream",
     "text": [
      "0 100000\n",
      "100000 200000\n",
      "200000 300000\n",
      "300000 400000\n",
      "400000 500000\n"
     ]
    }
   ],
   "source": [
    "n = 100000\n",
    "for i in range(len(all_path(FITS_PATH))//n+1):\n",
    "    start = i*n\n",
    "    end = (i+1)*n\n",
    "    print(start,end)"
   ]
  },
  {
   "cell_type": "markdown",
   "id": "5ab4418b-3010-4586-b2f9-d6658ad5cd33",
   "metadata": {
    "tags": []
   },
   "source": [
    "#### 2.在范围内进行插值，统一波长范围和数据格式"
   ]
  },
  {
   "cell_type": "code",
   "execution_count": 52,
   "id": "612db8d9-e2e6-44ab-b7e0-d0931e0db498",
   "metadata": {},
   "outputs": [
    {
     "name": "stderr",
     "output_type": "stream",
     "text": [
      "100%|███████████████████████████████████████████████████████████████████████████████████| 2/2 [00:00<00:00, 124.98it/s]"
     ]
    },
    {
     "name": "stdout",
     "output_type": "stream",
     "text": [
      "Handling exceptions, skipped, indexed as :  12084\n",
      "The magnitude of the traffic data on the common wavelength position obtained           after interpolation of the red and blue bands separately： 3450\n",
      "Number of processed data： 1\n"
     ]
    },
    {
     "name": "stderr",
     "output_type": "stream",
     "text": [
      "\n"
     ]
    }
   ],
   "source": [
    "# 2.在范围内进行插值，统一波长范围和数据格式\n",
    "BR_flux_data, B_wave_fixed, R_wave_fixed,failed_indice = linear_inter(FITS_PATH, B_wave_scope, R_wave_scope,start = 12083, end=12085)"
   ]
  },
  {
   "cell_type": "code",
   "execution_count": 32,
   "id": "3bd0824a-cf40-419b-b276-417011496a0d",
   "metadata": {},
   "outputs": [
    {
     "data": {
      "text/plain": [
       "2"
      ]
     },
     "execution_count": 32,
     "metadata": {},
     "output_type": "execute_result"
    }
   ],
   "source": [
    "len(BR_flux_data)"
   ]
  },
  {
   "cell_type": "code",
   "execution_count": 66,
   "id": "a1ad72bf-03ee-4849-9ebe-f1040db211af",
   "metadata": {},
   "outputs": [
    {
     "data": {
      "text/plain": [
       "3450"
      ]
     },
     "execution_count": 66,
     "metadata": {},
     "output_type": "execute_result"
    }
   ],
   "source": [
    "len(BR_flux_data[5])"
   ]
  },
  {
   "cell_type": "code",
   "execution_count": 68,
   "id": "c0a98cb8-7556-4b13-bbf2-9741ff499998",
   "metadata": {},
   "outputs": [
    {
     "data": {
      "text/plain": [
       "[3.5843617916107178, 3.755774736404419]"
      ]
     },
     "execution_count": 68,
     "metadata": {},
     "output_type": "execute_result"
    }
   ],
   "source": [
    "B_wave_scope"
   ]
  },
  {
   "cell_type": "code",
   "execution_count": 69,
   "id": "a1b1719a-9d64-4e11-9e5f-76c8c36658e1",
   "metadata": {},
   "outputs": [
    {
     "data": {
      "text/plain": [
       "[3.7709522247314453, 3.944382429122925]"
      ]
     },
     "execution_count": 69,
     "metadata": {},
     "output_type": "execute_result"
    }
   ],
   "source": [
    "R_wave_scope"
   ]
  },
  {
   "cell_type": "code",
   "execution_count": 70,
   "id": "8dac4371-4596-4a23-ab1b-4384fec15b88",
   "metadata": {},
   "outputs": [
    {
     "data": {
      "text/plain": [
       "[<matplotlib.lines.Line2D at 0x16ad71ce370>]"
      ]
     },
     "execution_count": 70,
     "metadata": {},
     "output_type": "execute_result"
    },
    {
     "data": {
      "image/png": "[encoded data removed]",
      "text/plain": [
       "<Figure size 2000x500 with 1 Axes>"
      ]
     },
     "metadata": {},
     "output_type": "display_data"
    }
   ],
   "source": [
    "# 显示目前的效果\n",
    "BR_flux_data[0]\n",
    "plt.figure(figsize=[20, 5])\n",
    "plt.plot(BR_flux_data[20], 'k-')"
   ]
  },
  {
   "cell_type": "code",
   "execution_count": 71,
   "id": "4b979498-29bb-4a59-a511-8f304a199e17",
   "metadata": {},
   "outputs": [
    {
     "data": {
      "text/plain": [
       "[<matplotlib.lines.Line2D at 0x16b2fe6a700>]"
      ]
     },
     "execution_count": 71,
     "metadata": {},
     "output_type": "execute_result"
    },
    {
     "data": {
      "image/png": "[encoded data removed]",
      "text/plain": [
       "<Figure size 2000x500 with 1 Axes>"
      ]
     },
     "metadata": {},
     "output_type": "display_data"
    }
   ],
   "source": [
    "# 显示目前的效果\n",
    "BR_flux_data[0]\n",
    "plt.figure(figsize=[20, 5])\n",
    "plt.plot(BR_flux_data[20], 'k-')"
   ]
  },
  {
   "cell_type": "markdown",
   "id": "e64f3bed-2a2f-4e32-8300-496f96008efe",
   "metadata": {
    "jp-MarkdownHeadingCollapsed": true,
    "tags": []
   },
   "source": [
    "#### 3.进行连续谱拟合，并以此对原始光谱数据归一化"
   ]
  },
  {
   "cell_type": "code",
   "execution_count": 33,
   "id": "b667aca6-5593-460f-b0eb-ea6b3f8c679b",
   "metadata": {},
   "outputs": [
    {
     "name": "stderr",
     "output_type": "stream",
     "text": [
      "100%|███████████████████████████████████████████████████████████████████████████████████| 2/2 [00:00<00:00, 125.01it/s]\n"
     ]
    }
   ],
   "source": [
    "# 3.进行连续谱拟合，并以此对原始光谱数据归一化\n",
    "BR_flux_data_fitted = normalization_by_polyfit(BR_flux_data, B_wave_fixed, R_wave_fixed, param=None, SAVE_PATH=None)"
   ]
  },
  {
   "cell_type": "code",
   "execution_count": 34,
   "id": "3faec37a-80d3-4a63-895e-ad96858d13ab",
   "metadata": {},
   "outputs": [
    {
     "data": {
      "text/plain": [
       "2"
      ]
     },
     "execution_count": 34,
     "metadata": {},
     "output_type": "execute_result"
    }
   ],
   "source": [
    "len(BR_flux_data_fitted)"
   ]
  },
  {
   "cell_type": "code",
   "execution_count": 74,
   "id": "8a1aa5d8-501b-42b2-b9a7-b42667f39c83",
   "metadata": {},
   "outputs": [
    {
     "data": {
      "text/plain": [
       "[<matplotlib.lines.Line2D at 0x16ad71cf2b0>]"
      ]
     },
     "execution_count": 74,
     "metadata": {},
     "output_type": "execute_result"
    },
    {
     "data": {
      "image/png": "[encoded data removed]",
      "text/plain": [
       "<Figure size 2000x500 with 1 Axes>"
      ]
     },
     "metadata": {},
     "output_type": "display_data"
    }
   ],
   "source": [
    "# 显示目前的效果\n",
    "plt.figure(figsize=[20, 5])\n",
    "plt.plot(BR_flux_data_fitted[20], 'k-')"
   ]
  },
  {
   "cell_type": "markdown",
   "id": "84d9a126-fab0-4ee8-bd75-f5fe8859f202",
   "metadata": {
    "tags": []
   },
   "source": [
    "#### 4.基于3σ原则对光谱数据中的异常值进行识别和处理，并归一化"
   ]
  },
  {
   "cell_type": "code",
   "execution_count": 35,
   "id": "4bb64998-e094-494c-8b2d-1a8df56f1f80",
   "metadata": {},
   "outputs": [
    {
     "name": "stderr",
     "output_type": "stream",
     "text": [
      "100%|███████████████████████████████████████████████████████████████████████████████████| 2/2 [00:00<00:00, 125.01it/s]\n"
     ]
    }
   ],
   "source": [
    "SAVE_PATH = r'F:/My_trial/Fits/50_60_1.npy'\n",
    "Flux_3sigma_sc=three_sigma_processing(BR_flux_data_fitted,SAVE_PATH)"
   ]
  },
  {
   "cell_type": "code",
   "execution_count": 36,
   "id": "1515dc1e-bcc3-40c7-a065-0751f61ea263",
   "metadata": {},
   "outputs": [
    {
     "data": {
      "text/plain": [
       "2"
      ]
     },
     "execution_count": 36,
     "metadata": {},
     "output_type": "execute_result"
    }
   ],
   "source": [
    "len(Flux_3sigma_sc)"
   ]
  },
  {
   "cell_type": "code",
   "execution_count": 78,
   "id": "34bda6f2-9a84-499e-ba51-f9b4c26a5514",
   "metadata": {},
   "outputs": [
    {
     "data": {
      "text/plain": [
       "[<matplotlib.lines.Line2D at 0x16b296dfac0>]"
      ]
     },
     "execution_count": 78,
     "metadata": {},
     "output_type": "execute_result"
    },
    {
     "data": {
      "image/png": "[encoded data removed]",
      "text/plain": [
       "<Figure size 2000x500 with 1 Axes>"
      ]
     },
     "metadata": {},
     "output_type": "display_data"
    }
   ],
   "source": [
    "# 显示目前的效果\n",
    "plt.figure(figsize=[20, 5])\n",
    "plt.plot(Flux_3sigma_sc[20], 'k-')"
   ]
  },
  {
   "cell_type": "markdown",
   "id": "902b9595-140e-41aa-aff0-b03d72a76f88",
   "metadata": {
    "tags": []
   },
   "source": [
    "#### 5.标签匹配"
   ]
  },
  {
   "cell_type": "code",
   "execution_count": 38,
   "id": "e2576853-f3a4-4c28-b263-958d0f5414ed",
   "metadata": {},
   "outputs": [
    {
     "name": "stderr",
     "output_type": "stream",
     "text": [
      "100%|███████████████████████████████████████████████████████████████████████████████████| 3/3 [00:00<00:00, 299.99it/s]\n"
     ]
    }
   ],
   "source": [
    "# Label Matching 标签匹配¶\n",
    "info_save_path =r'F:/My_trial/Fits/50-60.csv' \n",
    "df = extract_fits_info(FITS_PATH, 7669, 7672,failed_indice,info_save_path)"
   ]
  },
  {
   "cell_type": "code",
   "execution_count": 39,
   "id": "1f1a7328-6218-4e33-a2d2-15839be87a6f",
   "metadata": {},
   "outputs": [
    {
     "data": {
      "text/html": [
       "<div>\n",
       "<style scoped>\n",
       "    .dataframe tbody tr th:only-of-type {\n",
       "        vertical-align: middle;\n",
       "    }\n",
       "\n",
       "    .dataframe tbody tr th {\n",
       "        vertical-align: top;\n",
       "    }\n",
       "\n",
       "    .dataframe thead th {\n",
       "        text-align: right;\n",
       "    }\n",
       "</style>\n",
       "<table border=\"1\" class=\"dataframe\">\n",
       "  <thead>\n",
       "    <tr style=\"text-align: right;\">\n",
       "      <th></th>\n",
       "      <th>obsid</th>\n",
       "      <th>snrg</th>\n",
       "      <th>ra</th>\n",
       "      <th>dec</th>\n",
       "    </tr>\n",
       "  </thead>\n",
       "  <tbody>\n",
       "    <tr>\n",
       "      <th>0</th>\n",
       "      <td>33205227</td>\n",
       "      <td>50.21</td>\n",
       "      <td>192.482203</td>\n",
       "      <td>55.010052</td>\n",
       "    </tr>\n",
       "    <tr>\n",
       "      <th>1</th>\n",
       "      <td>33205242</td>\n",
       "      <td>59.79</td>\n",
       "      <td>192.701328</td>\n",
       "      <td>55.089389</td>\n",
       "    </tr>\n",
       "  </tbody>\n",
       "</table>\n",
       "</div>"
      ],
      "text/plain": [
       "      obsid   snrg          ra        dec\n",
       "0  33205227  50.21  192.482203  55.010052\n",
       "1  33205242  59.79  192.701328  55.089389"
      ]
     },
     "execution_count": 39,
     "metadata": {},
     "output_type": "execute_result"
    }
   ],
   "source": [
    "df"
   ]
  },
  {
   "cell_type": "markdown",
   "id": "b682f7c7-0183-4096-b3db-e075b5446862",
   "metadata": {
    "tags": []
   },
   "source": [
    "# 批量处理："
   ]
  },
  {
   "cell_type": "markdown",
   "id": "3a8341fa-ddf5-41e1-b387-0d2cefc1bbb0",
   "metadata": {
    "jp-MarkdownHeadingCollapsed": true,
    "tags": []
   },
   "source": [
    "### 定义打包函数"
   ]
  },
  {
   "cell_type": "code",
   "execution_count": 60,
   "id": "9abce1c0-8f90-4348-813a-8b2763ec23d4",
   "metadata": {},
   "outputs": [],
   "source": [
    "def process_large_fits_files(FITS_PATH, SAVE_PATH = None, n=100000, wave_scope_path=\"./wave_scope.json\"):\n",
    "    \"\"\"\n",
    "    处理大量FITS文件的函数，执行数据插值、连续谱拟合、3σ处理和信息提取等操作。\n",
    "    \n",
    "    参数：\n",
    "    FITS_PATH (str): FITS文件的目录路径。\n",
    "    SAVE_PATH (str): 保存处理后数据的路径。\n",
    "    info_save_path (str): 保存提取信息的CSV文件路径。\n",
    "    n (int): 每次处理的最大文件数量。\n",
    "    wave_scope_path (str): 波长范围的JSON文件路径。\n",
    "    \"\"\"\n",
    "    \n",
    "    # 1.读取最小和最大值。保证和训练集处理流程一致\n",
    "    with open(wave_scope_path, \"r\") as file:\n",
    "        wave_scope = json.load(file)\n",
    "    B_wave_scope = wave_scope['B_wave_scope']\n",
    "    R_wave_scope = wave_scope['R_wave_scope']\n",
    "    \n",
    "    # 创建保存目录\n",
    "    flux_save_dir = os.path.join(SAVE_PATH, 'flux')\n",
    "    info_save_dir = os.path.join(SAVE_PATH, 'info')\n",
    "    os.makedirs(flux_save_dir, exist_ok=True)\n",
    "    os.makedirs(info_save_dir, exist_ok=True)\n",
    "    \n",
    "    # 将一个大文件分多个部分处理\n",
    "    for i in range(len(all_path(FITS_PATH)) // n + 1):\n",
    "        start = i * n\n",
    "        end = (i + 1) * n\n",
    "        \n",
    "         # 定义保存路径\n",
    "        flux_save_path = os.path.join(flux_save_dir, \"{}_flux.npy\".format(i))\n",
    "        info_save_path = os.path.join(info_save_dir, \"{}_info.csv\".format(i))\n",
    " \n",
    "        \n",
    "        # 2.在范围内进行插值，统一波长范围和数据格式\n",
    "        BR_flux_data, B_wave_fixed, R_wave_fixed, failed_indice = linear_inter(FITS_PATH, B_wave_scope, R_wave_scope, start=start, end=end)\n",
    "\n",
    "        # 3.进行连续谱拟合，并以此对原始光谱数据归一化\n",
    "        BR_flux_data_fitted = normalization_by_polyfit(BR_flux_data, B_wave_fixed, R_wave_fixed, param=None, SAVE_PATH=None)\n",
    "\n",
    "        # 4.基于3σ原则对光谱数据中的异常值进行识别和处理，并归一化，最后将数据保存到save_path\n",
    "        Flux_3sigma_sc = three_sigma_processing(BR_flux_data_fitted, flux_save_path)\n",
    "\n",
    "        # 5. 提取当前范围内的FITS文件信息（OBSID、SNRG、RA、DEC），并将信息保存到CSV文件中\n",
    "        info_df = extract_fits_info(FITS_PATH, start, end, failed_indice, info_save_path)\n",
    "        \n",
    "        print(\"flux shape:\",Flux_3sigma_sc.shape)\n",
    "        print(\"info shape:\",info_df.shape)\n",
    "\n",
    "        \n",
    "    return Flux_3sigma_sc, info_df"
   ]
  },
  {
   "cell_type": "markdown",
   "id": "6c35d6c9-e9eb-4cac-ac19-89d6d80a016e",
   "metadata": {},
   "source": [
    "## 处理 5-10的数据"
   ]
  },
  {
   "cell_type": "code",
   "execution_count": null,
   "id": "abfee19c-9293-4d82-80b5-016388db7bf6",
   "metadata": {},
   "outputs": [
    {
     "name": "stderr",
     "output_type": "stream",
     "text": [
      "  0%|                                                                             | 81/100000 [00:00<02:21, 704.35it/s]"
     ]
    },
    {
     "name": "stdout",
     "output_type": "stream",
     "text": [
      "Handling exceptions, skipped, indexed as :  0\n",
      "Handling exceptions, skipped, indexed as :  1\n",
      "Handling exceptions, skipped, indexed as :  2\n",
      "Handling exceptions, skipped, indexed as :  3\n",
      "Handling exceptions, skipped, indexed as :  4\n",
      "Handling exceptions, skipped, indexed as :  5\n",
      "Handling exceptions, skipped, indexed as :  6\n",
      "Handling exceptions, skipped, indexed as :  7\n",
      "Handling exceptions, skipped, indexed as :  8\n",
      "Handling exceptions, skipped, indexed as :  9\n",
      "Handling exceptions, skipped, indexed as :  10\n",
      "Handling exceptions, skipped, indexed as :  11\n",
      "Handling exceptions, skipped, indexed as :  12\n",
      "Handling exceptions, skipped, indexed as :  13\n",
      "Handling exceptions, skipped, indexed as :  14\n",
      "Handling exceptions, skipped, indexed as :  15\n",
      "Handling exceptions, skipped, indexed as :  16\n",
      "Handling exceptions, skipped, indexed as :  17\n",
      "Handling exceptions, skipped, indexed as :  18\n",
      "Handling exceptions, skipped, indexed as :  19\n",
      "Handling exceptions, skipped, indexed as :  20\n",
      "Handling exceptions, skipped, indexed as :  21\n",
      "Handling exceptions, skipped, indexed as :  22\n",
      "Handling exceptions, skipped, indexed as :  23\n",
      "Handling exceptions, skipped, indexed as :  24\n",
      "Handling exceptions, skipped, indexed as :  25\n",
      "Handling exceptions, skipped, indexed as :  26\n",
      "Handling exceptions, skipped, indexed as :  27\n",
      "Handling exceptions, skipped, indexed as :  28\n",
      "Handling exceptions, skipped, indexed as :  29\n",
      "Handling exceptions, skipped, indexed as :  30\n",
      "Handling exceptions, skipped, indexed as :  31\n",
      "Handling exceptions, skipped, indexed as :  32\n",
      "Handling exceptions, skipped, indexed as :  33\n",
      "Handling exceptions, skipped, indexed as :  34\n",
      "Handling exceptions, skipped, indexed as :  35\n",
      "Handling exceptions, skipped, indexed as :  36\n",
      "Handling exceptions, skipped, indexed as :  37\n",
      "Handling exceptions, skipped, indexed as :  38\n",
      "Handling exceptions, skipped, indexed as :  39\n",
      "Handling exceptions, skipped, indexed as :  40\n",
      "Handling exceptions, skipped, indexed as :  41\n",
      "Handling exceptions, skipped, indexed as :  42\n",
      "Handling exceptions, skipped, indexed as :  43\n",
      "Handling exceptions, skipped, indexed as :  44\n",
      "Handling exceptions, skipped, indexed as :  45\n",
      "Handling exceptions, skipped, indexed as :  46\n",
      "Handling exceptions, skipped, indexed as :  47\n",
      "Handling exceptions, skipped, indexed as :  48\n",
      "Handling exceptions, skipped, indexed as :  49\n",
      "Handling exceptions, skipped, indexed as :  50\n",
      "Handling exceptions, skipped, indexed as :  51\n",
      "Handling exceptions, skipped, indexed as :  52\n",
      "Handling exceptions, skipped, indexed as :  53\n",
      "Handling exceptions, skipped, indexed as :  54\n",
      "Handling exceptions, skipped, indexed as :  55\n",
      "Handling exceptions, skipped, indexed as :  56\n",
      "Handling exceptions, skipped, indexed as :  57\n",
      "Handling exceptions, skipped, indexed as :  58\n",
      "Handling exceptions, skipped, indexed as :  59\n",
      "Handling exceptions, skipped, indexed as :  60\n",
      "Handling exceptions, skipped, indexed as :  61\n",
      "Handling exceptions, skipped, indexed as :  62\n",
      "Handling exceptions, skipped, indexed as :  63\n",
      "Handling exceptions, skipped, indexed as :  64\n",
      "Handling exceptions, skipped, indexed as :  65\n",
      "Handling exceptions, skipped, indexed as :  66\n",
      "Handling exceptions, skipped, indexed as :  67\n",
      "Handling exceptions, skipped, indexed as :  68\n",
      "Handling exceptions, skipped, indexed as :  69\n",
      "Handling exceptions, skipped, indexed as :  70\n",
      "Handling exceptions, skipped, indexed as :  71\n",
      "Handling exceptions, skipped, indexed as :  72\n",
      "Handling exceptions, skipped, indexed as :  73\n",
      "Handling exceptions, skipped, indexed as :  74\n",
      "Handling exceptions, skipped, indexed as :  75\n",
      "Handling exceptions, skipped, indexed as :  76\n",
      "Handling exceptions, skipped, indexed as :  77\n",
      "Handling exceptions, skipped, indexed as :  78\n"
     ]
    },
    {
     "name": "stderr",
     "output_type": "stream",
     "text": [
      "  8%|█████▊                                                                     | 7704/100000 [00:55<13:26, 114.41it/s]"
     ]
    },
    {
     "name": "stdout",
     "output_type": "stream",
     "text": [
      "Handling exceptions, skipped, indexed as :  7684\n"
     ]
    },
    {
     "name": "stderr",
     "output_type": "stream",
     "text": [
      "  8%|██████▏                                                                    | 8210/100000 [00:59<12:31, 122.07it/s]"
     ]
    },
    {
     "name": "stdout",
     "output_type": "stream",
     "text": [
      "Handling exceptions, skipped, indexed as :  8204\n",
      "Handling exceptions, skipped, indexed as :  8213\n"
     ]
    },
    {
     "name": "stderr",
     "output_type": "stream",
     "text": [
      "  8%|██████▏                                                                    | 8256/100000 [00:59<11:08, 137.21it/s]"
     ]
    },
    {
     "name": "stdout",
     "output_type": "stream",
     "text": [
      "Handling exceptions, skipped, indexed as :  8229\n"
     ]
    },
    {
     "name": "stderr",
     "output_type": "stream",
     "text": [
      "  9%|██████▊                                                                    | 9025/100000 [01:05<12:16, 123.59it/s]"
     ]
    },
    {
     "name": "stdout",
     "output_type": "stream",
     "text": [
      "Handling exceptions, skipped, indexed as :  9010\n"
     ]
    },
    {
     "name": "stderr",
     "output_type": "stream",
     "text": [
      " 11%|████████▎                                                                 | 11315/100000 [01:23<10:48, 136.79it/s]"
     ]
    },
    {
     "name": "stdout",
     "output_type": "stream",
     "text": [
      "Handling exceptions, skipped, indexed as :  11294\n"
     ]
    },
    {
     "name": "stderr",
     "output_type": "stream",
     "text": [
      " 15%|██████████▊                                                               | 14676/100000 [01:48<09:45, 145.78it/s]"
     ]
    },
    {
     "name": "stdout",
     "output_type": "stream",
     "text": [
      "Handling exceptions, skipped, indexed as :  14673\n"
     ]
    },
    {
     "name": "stderr",
     "output_type": "stream",
     "text": [
      " 31%|██████████████████████▋                                                   | 30654/100000 [03:53<09:22, 123.20it/s]"
     ]
    },
    {
     "name": "stdout",
     "output_type": "stream",
     "text": [
      "Handling exceptions, skipped, indexed as :  30629\n"
     ]
    },
    {
     "name": "stderr",
     "output_type": "stream",
     "text": [
      " 31%|██████████████████████▉                                                   | 30995/100000 [03:56<08:38, 133.11it/s]"
     ]
    },
    {
     "name": "stdout",
     "output_type": "stream",
     "text": [
      "Handling exceptions, skipped, indexed as :  30973\n"
     ]
    },
    {
     "name": "stderr",
     "output_type": "stream",
     "text": [
      " 33%|████████████████████████                                                  | 32551/100000 [04:08<08:21, 134.58it/s]"
     ]
    },
    {
     "name": "stdout",
     "output_type": "stream",
     "text": [
      "Handling exceptions, skipped, indexed as :  32525\n"
     ]
    },
    {
     "name": "stderr",
     "output_type": "stream",
     "text": [
      " 33%|████████████████████████▎                                                 | 32781/100000 [04:10<07:56, 141.11it/s]"
     ]
    },
    {
     "name": "stdout",
     "output_type": "stream",
     "text": [
      "Handling exceptions, skipped, indexed as :  32756\n"
     ]
    },
    {
     "name": "stderr",
     "output_type": "stream",
     "text": [
      " 41%|██████████████████████████████▌                                           | 41255/100000 [05:16<08:03, 121.44it/s]"
     ]
    },
    {
     "name": "stdout",
     "output_type": "stream",
     "text": [
      "Handling exceptions, skipped, indexed as :  41236\n"
     ]
    },
    {
     "name": "stderr",
     "output_type": "stream",
     "text": [
      " 42%|███████████████████████████████▎                                          | 42245/100000 [05:24<07:38, 125.87it/s]"
     ]
    },
    {
     "name": "stdout",
     "output_type": "stream",
     "text": [
      "Handling exceptions, skipped, indexed as :  42231\n",
      "Handling exceptions, skipped, indexed as :  42236\n",
      "Handling exceptions, skipped, indexed as :  42237\n",
      "Handling exceptions, skipped, indexed as :  42239\n",
      "Handling exceptions, skipped, indexed as :  42245\n",
      "Handling exceptions, skipped, indexed as :  42247\n",
      "Handling exceptions, skipped, indexed as :  42248\n"
     ]
    },
    {
     "name": "stderr",
     "output_type": "stream",
     "text": [
      " 43%|████████████████████████████████                                          | 43412/100000 [05:33<07:34, 124.63it/s]"
     ]
    },
    {
     "name": "stdout",
     "output_type": "stream",
     "text": [
      "Handling exceptions, skipped, indexed as :  43396\n"
     ]
    },
    {
     "name": "stderr",
     "output_type": "stream",
     "text": [
      " 44%|████████████████████████████████▍                                         | 43898/100000 [05:37<07:03, 132.40it/s]"
     ]
    },
    {
     "name": "stdout",
     "output_type": "stream",
     "text": [
      "Handling exceptions, skipped, indexed as :  43875\n"
     ]
    },
    {
     "name": "stderr",
     "output_type": "stream",
     "text": [
      " 44%|████████████████████████████████▋                                         | 44171/100000 [05:39<06:47, 137.04it/s]"
     ]
    },
    {
     "name": "stdout",
     "output_type": "stream",
     "text": [
      "Handling exceptions, skipped, indexed as :  44156\n"
     ]
    },
    {
     "name": "stderr",
     "output_type": "stream",
     "text": [
      " 45%|█████████████████████████████████▌                                        | 45411/100000 [05:49<06:45, 134.68it/s]"
     ]
    },
    {
     "name": "stdout",
     "output_type": "stream",
     "text": [
      "Handling exceptions, skipped, indexed as :  45385\n"
     ]
    },
    {
     "name": "stderr",
     "output_type": "stream",
     "text": [
      " 47%|██████████████████████████████████▉                                       | 47158/100000 [06:02<06:25, 137.19it/s]"
     ]
    },
    {
     "name": "stdout",
     "output_type": "stream",
     "text": [
      "Handling exceptions, skipped, indexed as :  47128\n"
     ]
    },
    {
     "name": "stderr",
     "output_type": "stream",
     "text": [
      " 47%|███████████████████████████████████                                       | 47448/100000 [06:05<06:53, 127.22it/s]"
     ]
    },
    {
     "name": "stdout",
     "output_type": "stream",
     "text": [
      "Handling exceptions, skipped, indexed as :  47421\n"
     ]
    },
    {
     "name": "stderr",
     "output_type": "stream",
     "text": [
      " 54%|████████████████████████████████████████▏                                 | 54377/100000 [06:56<05:47, 131.46it/s]"
     ]
    },
    {
     "name": "stdout",
     "output_type": "stream",
     "text": [
      "Handling exceptions, skipped, indexed as :  54359\n"
     ]
    },
    {
     "name": "stderr",
     "output_type": "stream",
     "text": [
      " 55%|████████████████████████████████████████▊                                 | 55136/100000 [07:02<06:07, 122.18it/s]"
     ]
    },
    {
     "name": "stdout",
     "output_type": "stream",
     "text": [
      "Handling exceptions, skipped, indexed as :  55120\n",
      "Handling exceptions, skipped, indexed as :  55121\n",
      "Handling exceptions, skipped, indexed as :  55125\n",
      "Handling exceptions, skipped, indexed as :  55128\n",
      "Handling exceptions, skipped, indexed as :  55129\n",
      "Handling exceptions, skipped, indexed as :  55130\n"
     ]
    },
    {
     "name": "stderr",
     "output_type": "stream",
     "text": [
      " 55%|████████████████████████████████████████▉                                 | 55320/100000 [07:03<05:51, 127.11it/s]"
     ]
    },
    {
     "name": "stdout",
     "output_type": "stream",
     "text": [
      "Handling exceptions, skipped, indexed as :  55298\n",
      "Handling exceptions, skipped, indexed as :  55303\n",
      "Handling exceptions, skipped, indexed as :  55305\n"
     ]
    },
    {
     "name": "stderr",
     "output_type": "stream",
     "text": [
      " 59%|███████████████████████████████████████████▍                              | 58690/100000 [07:30<05:13, 131.91it/s]"
     ]
    },
    {
     "name": "stdout",
     "output_type": "stream",
     "text": [
      "Handling exceptions, skipped, indexed as :  58673\n",
      "Handling exceptions, skipped, indexed as :  58681\n"
     ]
    },
    {
     "name": "stderr",
     "output_type": "stream",
     "text": [
      " 59%|███████████████████████████████████████████▊                              | 59267/100000 [07:34<05:15, 129.10it/s]"
     ]
    },
    {
     "name": "stdout",
     "output_type": "stream",
     "text": [
      "Handling exceptions, skipped, indexed as :  59247\n",
      "Handling exceptions, skipped, indexed as :  59255\n",
      "Handling exceptions, skipped, indexed as :  59258\n",
      "Handling exceptions, skipped, indexed as :  59260\n",
      "Handling exceptions, skipped, indexed as :  59261\n",
      "Handling exceptions, skipped, indexed as :  59262\n"
     ]
    },
    {
     "name": "stderr",
     "output_type": "stream",
     "text": [
      " 62%|█████████████████████████████████████████████▉                            | 62026/100000 [07:56<05:15, 120.47it/s]"
     ]
    },
    {
     "name": "stdout",
     "output_type": "stream",
     "text": [
      "Handling exceptions, skipped, indexed as :  62010\n",
      "Handling exceptions, skipped, indexed as :  62016\n"
     ]
    },
    {
     "name": "stderr",
     "output_type": "stream",
     "text": [
      " 63%|██████████████████████████████████████████████▋                           | 63139/100000 [08:05<05:10, 118.87it/s]"
     ]
    },
    {
     "name": "stdout",
     "output_type": "stream",
     "text": [
      "Handling exceptions, skipped, indexed as :  63116\n",
      "Handling exceptions, skipped, indexed as :  63120\n",
      "Handling exceptions, skipped, indexed as :  63125\n",
      "Handling exceptions, skipped, indexed as :  63128\n",
      "Handling exceptions, skipped, indexed as :  63130\n",
      "Handling exceptions, skipped, indexed as :  63132\n",
      "Handling exceptions, skipped, indexed as :  63135\n"
     ]
    },
    {
     "name": "stderr",
     "output_type": "stream",
     "text": [
      " 64%|███████████████████████████████████████████████▎                          | 63948/100000 [08:11<04:35, 130.81it/s]"
     ]
    },
    {
     "name": "stdout",
     "output_type": "stream",
     "text": [
      "Handling exceptions, skipped, indexed as :  63935\n"
     ]
    },
    {
     "name": "stderr",
     "output_type": "stream",
     "text": [
      " 65%|███████████████████████████████████████████████▉                          | 64817/100000 [08:18<04:51, 120.66it/s]"
     ]
    },
    {
     "name": "stdout",
     "output_type": "stream",
     "text": [
      "Handling exceptions, skipped, indexed as :  64808\n",
      "Handling exceptions, skipped, indexed as :  64812\n",
      "Handling exceptions, skipped, indexed as :  64814\n"
     ]
    },
    {
     "name": "stderr",
     "output_type": "stream",
     "text": [
      " 65%|████████████████████████████████████████████████                          | 65009/100000 [08:19<04:51, 120.15it/s]"
     ]
    },
    {
     "name": "stdout",
     "output_type": "stream",
     "text": [
      "Handling exceptions, skipped, indexed as :  64988\n",
      "Handling exceptions, skipped, indexed as :  64991\n"
     ]
    },
    {
     "name": "stderr",
     "output_type": "stream",
     "text": [
      " 65%|████████████████████████████████████████████████▏                         | 65120/100000 [08:20<04:16, 135.74it/s]"
     ]
    },
    {
     "name": "stdout",
     "output_type": "stream",
     "text": [
      "Handling exceptions, skipped, indexed as :  65102\n",
      "Handling exceptions, skipped, indexed as :  65103\n",
      "Handling exceptions, skipped, indexed as :  65105\n"
     ]
    },
    {
     "name": "stderr",
     "output_type": "stream",
     "text": [
      " 65%|████████████████████████████████████████████████▎                         | 65243/100000 [08:21<04:27, 129.99it/s]"
     ]
    },
    {
     "name": "stdout",
     "output_type": "stream",
     "text": [
      "Handling exceptions, skipped, indexed as :  65225\n",
      "Handling exceptions, skipped, indexed as :  65227\n"
     ]
    },
    {
     "name": "stderr",
     "output_type": "stream",
     "text": [
      " 65%|████████████████████████████████████████████████▎                         | 65355/100000 [08:22<04:53, 118.05it/s]"
     ]
    },
    {
     "name": "stdout",
     "output_type": "stream",
     "text": [
      "Handling exceptions, skipped, indexed as :  65337\n",
      "Handling exceptions, skipped, indexed as :  65339\n"
     ]
    },
    {
     "name": "stderr",
     "output_type": "stream",
     "text": [
      "100%|█████████████████████████████████████████████████████████████████████████| 100000/100000 [12:48<00:00, 130.06it/s]\n"
     ]
    },
    {
     "name": "stdout",
     "output_type": "stream",
     "text": [
      "The magnitude of the traffic data on the common wavelength position obtained           after interpolation of the red and blue bands separately： 3450\n",
      "Number of processed data： 99856\n"
     ]
    },
    {
     "name": "stderr",
     "output_type": "stream",
     "text": [
      "100%|███████████████████████████████████████████████████████████████████████████| 99856/99856 [08:48<00:00, 188.89it/s]\n",
      " 22%|████████████████▌                                                          | 22127/99856 [02:49<09:51, 131.42it/s]"
     ]
    }
   ],
   "source": [
    "FITS_PATH = r'F:/My_trial/Fits/5-10/'\n",
    "SAVE_PATH = r'F:/My_trial/Fits_preprocessed/5_10/'\n",
    "\n",
    "n = 100000   \n",
    "\n",
    "process_large_fits_files(FITS_PATH, SAVE_PATH = SAVE_PATH , n=n)"
   ]
  },
  {
   "cell_type": "markdown",
   "id": "ed25de5a-5c51-4647-838e-5787967468f3",
   "metadata": {
    "tags": []
   },
   "source": [
    "## 处理 50-60的数据"
   ]
  },
  {
   "cell_type": "code",
   "execution_count": 53,
   "id": "516bd2f8-026a-4af7-a54f-22be14e50cca",
   "metadata": {},
   "outputs": [
    {
     "name": "stderr",
     "output_type": "stream",
     "text": [
      "  8%|█████▊                                                                     | 7710/100000 [00:37<07:26, 206.50it/s]"
     ]
    },
    {
     "name": "stdout",
     "output_type": "stream",
     "text": [
      "Handling exceptions, skipped, indexed as :  7670\n"
     ]
    },
    {
     "name": "stderr",
     "output_type": "stream",
     "text": [
      " 12%|████████▋                                                                 | 11800/100000 [00:57<07:17, 201.45it/s]"
     ]
    },
    {
     "name": "stdout",
     "output_type": "stream",
     "text": [
      "Handling exceptions, skipped, indexed as :  11767\n"
     ]
    },
    {
     "name": "stderr",
     "output_type": "stream",
     "text": [
      " 12%|████████▊                                                                 | 11863/100000 [00:58<07:17, 201.43it/s]"
     ]
    },
    {
     "name": "stdout",
     "output_type": "stream",
     "text": [
      "Handling exceptions, skipped, indexed as :  11820\n"
     ]
    },
    {
     "name": "stderr",
     "output_type": "stream",
     "text": [
      " 12%|████████▉                                                                 | 12115/100000 [00:59<07:14, 202.20it/s]"
     ]
    },
    {
     "name": "stdout",
     "output_type": "stream",
     "text": [
      "Handling exceptions, skipped, indexed as :  12084\n"
     ]
    },
    {
     "name": "stderr",
     "output_type": "stream",
     "text": [
      " 13%|█████████▋                                                                | 13018/100000 [01:03<07:07, 203.36it/s]"
     ]
    },
    {
     "name": "stdout",
     "output_type": "stream",
     "text": [
      "Handling exceptions, skipped, indexed as :  12992\n"
     ]
    },
    {
     "name": "stderr",
     "output_type": "stream",
     "text": [
      " 14%|██████████▏                                                               | 13836/100000 [01:07<07:03, 203.25it/s]"
     ]
    },
    {
     "name": "stdout",
     "output_type": "stream",
     "text": [
      "Handling exceptions, skipped, indexed as :  13818\n"
     ]
    },
    {
     "name": "stderr",
     "output_type": "stream",
     "text": [
      " 14%|██████████▍                                                               | 14025/100000 [01:08<07:06, 201.62it/s]"
     ]
    },
    {
     "name": "stdout",
     "output_type": "stream",
     "text": [
      "Handling exceptions, skipped, indexed as :  14000\n"
     ]
    },
    {
     "name": "stderr",
     "output_type": "stream",
     "text": [
      " 14%|██████████▍                                                               | 14067/100000 [01:09<07:07, 201.03it/s]"
     ]
    },
    {
     "name": "stdout",
     "output_type": "stream",
     "text": [
      "Handling exceptions, skipped, indexed as :  14047\n",
      "Handling exceptions, skipped, indexed as :  14048\n"
     ]
    },
    {
     "name": "stderr",
     "output_type": "stream",
     "text": [
      "100%|█████████████████████████████████████████████████████████████████████████| 100000/100000 [09:07<00:00, 182.73it/s]\n"
     ]
    },
    {
     "name": "stdout",
     "output_type": "stream",
     "text": [
      "The magnitude of the traffic data on the common wavelength position obtained           after interpolation of the red and blue bands separately： 3450\n",
      "Number of processed data： 99991\n"
     ]
    },
    {
     "name": "stderr",
     "output_type": "stream",
     "text": [
      "100%|███████████████████████████████████████████████████████████████████████████| 99991/99991 [10:28<00:00, 159.19it/s]\n",
      "100%|███████████████████████████████████████████████████████████████████████████| 99991/99991 [12:42<00:00, 131.09it/s]\n",
      "100%|█████████████████████████████████████████████████████████████████████████| 100000/100000 [03:50<00:00, 433.97it/s]\n",
      "100%|█████████████████████████████████████████████████████████████████████████| 100000/100000 [12:35<00:00, 132.39it/s]\n"
     ]
    },
    {
     "name": "stdout",
     "output_type": "stream",
     "text": [
      "The magnitude of the traffic data on the common wavelength position obtained           after interpolation of the red and blue bands separately： 3450\n",
      "Number of processed data： 100000\n"
     ]
    },
    {
     "name": "stderr",
     "output_type": "stream",
     "text": [
      "100%|█████████████████████████████████████████████████████████████████████████| 100000/100000 [10:21<00:00, 160.85it/s]\n",
      "100%|█████████████████████████████████████████████████████████████████████████| 100000/100000 [12:47<00:00, 130.29it/s]\n",
      "100%|█████████████████████████████████████████████████████████████████████████| 100000/100000 [03:41<00:00, 451.63it/s]\n",
      "100%|█████████████████████████████████████████████████████████████████████████| 100000/100000 [12:35<00:00, 132.39it/s]\n"
     ]
    },
    {
     "name": "stdout",
     "output_type": "stream",
     "text": [
      "The magnitude of the traffic data on the common wavelength position obtained           after interpolation of the red and blue bands separately： 3450\n",
      "Number of processed data： 100000\n"
     ]
    },
    {
     "name": "stderr",
     "output_type": "stream",
     "text": [
      "100%|█████████████████████████████████████████████████████████████████████████| 100000/100000 [13:04<00:00, 127.41it/s]\n",
      "100%|█████████████████████████████████████████████████████████████████████████| 100000/100000 [12:46<00:00, 130.46it/s]\n",
      "100%|█████████████████████████████████████████████████████████████████████████| 100000/100000 [04:54<00:00, 339.15it/s]\n",
      "100%|█████████████████████████████████████████████████████████████████████████| 100000/100000 [12:51<00:00, 129.60it/s]\n"
     ]
    },
    {
     "name": "stdout",
     "output_type": "stream",
     "text": [
      "The magnitude of the traffic data on the common wavelength position obtained           after interpolation of the red and blue bands separately： 3450\n",
      "Number of processed data： 100000\n"
     ]
    },
    {
     "name": "stderr",
     "output_type": "stream",
     "text": [
      "100%|█████████████████████████████████████████████████████████████████████████| 100000/100000 [11:29<00:00, 145.04it/s]\n",
      "100%|█████████████████████████████████████████████████████████████████████████| 100000/100000 [12:51<00:00, 129.66it/s]\n",
      "100%|█████████████████████████████████████████████████████████████████████████| 100000/100000 [03:26<00:00, 485.22it/s]\n",
      "100%|███████████████████████████████████████████████████████████████████████████| 99751/99751 [13:38<00:00, 121.84it/s]\n"
     ]
    },
    {
     "name": "stdout",
     "output_type": "stream",
     "text": [
      "The magnitude of the traffic data on the common wavelength position obtained           after interpolation of the red and blue bands separately： 3450\n",
      "Number of processed data： 99751\n"
     ]
    },
    {
     "name": "stderr",
     "output_type": "stream",
     "text": [
      "100%|███████████████████████████████████████████████████████████████████████████| 99751/99751 [14:27<00:00, 115.01it/s]\n",
      "100%|███████████████████████████████████████████████████████████████████████████| 99751/99751 [12:47<00:00, 129.96it/s]\n",
      "100%|███████████████████████████████████████████████████████████████████████████| 99751/99751 [05:34<00:00, 298.24it/s]\n"
     ]
    },
    {
     "data": {
      "text/plain": [
       "(array([[-0.20025655, -0.20025655, -3.9562732 , ..., -0.03869515,\n",
       "         -0.21190235,  0.16619296],\n",
       "        [-0.1566463 , -0.1566463 , -4.09059172, ...,  0.45420725,\n",
       "          0.32056597,  0.41036318],\n",
       "        [-0.13367448, -0.13367448, -3.31331828, ...,  0.30919152,\n",
       "          0.14696917,  0.22134456],\n",
       "        ...,\n",
       "        [-1.59295036, -2.88004283, -0.03009939, ...,  0.13775695,\n",
       "          0.12089527,  0.12718165],\n",
       "        [-0.13159681, -0.13159681, -2.41976666, ..., -0.5210726 ,\n",
       "         -0.5819517 , -0.38999572],\n",
       "        [-0.17970755, -0.17970755, -0.17970755, ..., -0.24950456,\n",
       "         -0.25125686, -0.00717689]]),\n",
       "             obsid   snrg          ra        dec\n",
       " 0       651704236  56.66   72.667429  12.809156\n",
       " 1       651704250  50.24   72.617086  12.959822\n",
       " 2       651705019  53.86   71.979831  11.533922\n",
       " 3       651705108  50.96   72.137253  12.050918\n",
       " 4       651705119  58.24   72.384304  12.230325\n",
       " ...           ...    ...         ...        ...\n",
       " 99746  1018116016  51.57  209.068029  50.578521\n",
       " 99747  1018116029  51.25  209.819986  51.211654\n",
       " 99748  1018116030  50.94  209.403449  51.258928\n",
       " 99749  1018116096  52.32  209.682626  50.547380\n",
       " 99750  1018116148  56.13  210.405047  51.320721\n",
       " \n",
       " [99751 rows x 4 columns])"
      ]
     },
     "execution_count": 53,
     "metadata": {},
     "output_type": "execute_result"
    }
   ],
   "source": [
    "FITS_PATH = r'F:/My_trial/Fits/50-60/'\n",
    "SAVE_PATH = r'F:/My_trial/Fits_preprocessed/50_60/'\n",
    "\n",
    "n = 100000   \n",
    "\n",
    "process_large_fits_files(FITS_PATH, SAVE_PATH = SAVE_PATH , n=n)"
   ]
  },
  {
   "cell_type": "code",
   "execution_count": 65,
   "id": "978d51b7-1e5e-4d03-a327-baa10a946eb5",
   "metadata": {},
   "outputs": [
    {
     "data": {
      "text/plain": [
       "(100000, 3450)"
      ]
     },
     "execution_count": 65,
     "metadata": {},
     "output_type": "execute_result"
    }
   ],
   "source": [
    "data = np.load(r\"F:\\My_trial\\Fits_preprocessed\\50_60\\flux\\3_flux.npy\")\n",
    "data.shape"
   ]
  },
  {
   "cell_type": "code",
   "execution_count": 66,
   "id": "f58024cc-81c6-4a16-9ca0-71518f2db1a2",
   "metadata": {},
   "outputs": [
    {
     "data": {
      "text/plain": [
       "(100000, 4)"
      ]
     },
     "execution_count": 66,
     "metadata": {},
     "output_type": "execute_result"
    }
   ],
   "source": [
    "info_df = pd.read_csv(r\"F:\\My_trial\\Fits_preprocessed\\50_60\\info\\3_info.csv\" )\n",
    "info_df.shape"
   ]
  },
  {
   "cell_type": "code",
   "execution_count": 45,
   "id": "6cbc1e38-919f-410a-8297-515e7a573a3d",
   "metadata": {},
   "outputs": [
    {
     "name": "stdout",
     "output_type": "stream",
     "text": [
      "****************** 0 _ 10 ****************************\n"
     ]
    },
    {
     "name": "stderr",
     "output_type": "stream",
     "text": [
      "100%|███████████████████████████████████████████████████████████████████████████| 34916/34916 [00:50<00:00, 697.51it/s]\n",
      "100%|███████████████████████████████████████████████████████████████████████████| 25789/25789 [00:42<00:00, 612.33it/s]\n"
     ]
    },
    {
     "name": "stdout",
     "output_type": "stream",
     "text": [
      "****************** 10 _ 20 ****************************\n"
     ]
    },
    {
     "name": "stderr",
     "output_type": "stream",
     "text": [
      "100%|███████████████████████████████████████████████████████████████████████████| 57671/57671 [01:27<00:00, 657.52it/s]\n",
      "100%|███████████████████████████████████████████████████████████████████████████| 42510/42510 [01:06<00:00, 641.75it/s]\n"
     ]
    },
    {
     "name": "stdout",
     "output_type": "stream",
     "text": [
      "****************** 20 _ 30 ****************************\n"
     ]
    },
    {
     "name": "stderr",
     "output_type": "stream",
     "text": [
      "100%|███████████████████████████████████████████████████████████████████████████| 53492/53492 [01:17<00:00, 689.48it/s]\n",
      "100%|███████████████████████████████████████████████████████████████████████████| 41178/41178 [01:02<00:00, 663.31it/s]\n"
     ]
    },
    {
     "name": "stdout",
     "output_type": "stream",
     "text": [
      "****************** 30 _ 40 ****************************\n"
     ]
    },
    {
     "name": "stderr",
     "output_type": "stream",
     "text": [
      "100%|███████████████████████████████████████████████████████████████████████████| 54139/54139 [01:28<00:00, 614.12it/s]\n",
      "100%|███████████████████████████████████████████████████████████████████████████| 41696/41696 [01:07<00:00, 614.63it/s]\n"
     ]
    },
    {
     "name": "stdout",
     "output_type": "stream",
     "text": [
      "****************** 40 _ 50 ****************************\n"
     ]
    },
    {
     "name": "stderr",
     "output_type": "stream",
     "text": [
      "100%|███████████████████████████████████████████████████████████████████████████| 56300/56300 [01:20<00:00, 700.78it/s]\n",
      "100%|███████████████████████████████████████████████████████████████████████████| 43235/43235 [01:09<00:00, 622.41it/s]\n"
     ]
    }
   ],
   "source": [
    "match_path = r\"E:\\my_star\\download\\snrg_split\\match_low_40_50.csv\"\n",
    "FITS_PATH_low =  r\"E:\\my_star\\FITSDATA\\low_40_50/\"\n",
    "FITS_PATH_high = r\"E:\\my_star\\FITSDATA\\high_40_50/\"\n",
    "SAVE_PATH_low = r\"E:\\my_star\\data_after_processing\\Flux_low\\40_50.npy\"\n",
    "SAVE_PATH_high = r\"E:\\my_star\\data_after_processing\\Flux_high\\40_50.npy\"\n",
    "SAVE_PATH_FINAL = r\"E:\\my_star\\data_after_processing\\result\\40_50\"\n",
    "\n",
    "# 依次匹配0_10 —— 40_50 分组\n",
    "for i in range(5):\n",
    "    \n",
    "    print(\"******************\",i*10,\"_\",i*10+10,\"****************************\")\n",
    "    match_path = r\"E:\\my_star\\download\\snrg_split\\match_low_{}_{}.csv\".format(i*10,i*10+10)\n",
    "    FITS_PATH_low =  r\"E:\\my_star\\FITSDATA\\low_{}_{}/\".format(i*10,i*10+10)\n",
    "    FITS_PATH_high = r\"E:\\my_star\\FITSDATA\\high_{}_{}/\".format(i*10,i*10+10)\n",
    "    SAVE_PATH_low = r\"E:\\my_star\\data_after_processing\\Flux_low\\{}_{}.npy\".format(i*10,i*10+10)\n",
    "    SAVE_PATH_high = r\"E:\\my_star\\data_after_processing\\Flux_high\\{}_{}.npy\".format(i*10,i*10+10)\n",
    "    SAVE_PATH_FINAL = r\"E:\\my_star\\data_after_processing\\result\\{}_{}\".format(i*10,i*10+10)\n",
    "    \n",
    "    \n",
    "    update_match_and_reorder_data(match_path, SAVE_PATH_high, SAVE_PATH_low, FITS_PATH_high, FITS_PATH_low,SAVE_PATH_FINAL)\n",
    "    \n",
    "    \n"
   ]
  },
  {
   "cell_type": "code",
   "execution_count": null,
   "id": "1b7949b2-37bd-4d09-a534-c200244d85e1",
   "metadata": {},
   "outputs": [],
   "source": [
    "# 40_50\n",
    "LABEL_PATH = './LABELS/40_50_old.npy'\n",
    "SAVE_PATH = \"./spectra_after_processing/3sigma/BR_Flux_Preprocessing_payne_40_50.npy\"\n",
    "\n",
    "labels_40_50 = np.load(LABEL_PATH, allow_pickle=True).squeeze()\n",
    "labels_40_50 = pd.DataFrame(labels_40_50, columns=columns)\n",
    "labels_40_50['snrg'] = 4\n",
    "Flux_40_50 = np.load(SAVE_PATH)\n",
    "Flux_40_50 = np.pad(Flux_40_50, (0, 1), 'edge')[:Flux_40_50.shape[0], :]\n",
    "\n",
    "print(Flux_40_50.shape)\n",
    "print(labels_40_50.shape)\n",
    "\n",
    "labels_40_50_tmp = np.zeros((len(labels_40_50),17))\n",
    "for i in range(len(labels_40_50)):  \n",
    "    labels_40_50_tmp[i,0] = labels_40_50['Teff[K]'][i][0].astype('float')\n",
    "    labels_40_50_tmp[i,1] = labels_40_50['Logg'][i][0].astype('float')\n",
    "    labels_40_50_tmp[i,2] = labels_40_50['CH'][i][0].astype('float')\n",
    "    labels_40_50_tmp[i,3] = labels_40_50['NH'][i][0].astype('float')\n",
    "    labels_40_50_tmp[i,4] = labels_40_50['OH'][i][0].astype('float')\n",
    "    labels_40_50_tmp[i,5] = labels_40_50['MgH'][i][0].astype('float')\n",
    "    labels_40_50_tmp[i,6] = labels_40_50['AlH'][i][0].astype('float')\n",
    "    labels_40_50_tmp[i,7] = labels_40_50['SiH'][i][0].astype('float')\n",
    "    labels_40_50_tmp[i,8] = labels_40_50['SH'][i][0].astype('float')\n",
    "    labels_40_50_tmp[i,9] = labels_40_50['KH'][i][0].astype('float')\n",
    "    labels_40_50_tmp[i,10] = labels_40_50['CaH'][i][0].astype('float')\n",
    "    labels_40_50_tmp[i,11] = labels_40_50['TiH'][i][0].astype('float')\n",
    "    labels_40_50_tmp[i,12] = labels_40_50['CrH'][i][0].astype('float')\n",
    "    labels_40_50_tmp[i,13] = labels_40_50['MnH'][i][0].astype('float')\n",
    "    labels_40_50_tmp[i,14] = labels_40_50['FeH'][i][0].astype('float')\n",
    "    labels_40_50_tmp[i,15] = labels_40_50['NiH'][i][0].astype('float')\n",
    "    labels_40_50_tmp[i,16] = labels_40_50['snrg'][i].astype('float')\n",
    "    \n",
    "LABEL_PATH_new = './LABELS/40_50.npy'\n",
    "np.save(LABEL_PATH_new, labels_40_50_tmp)"
   ]
  },
  {
   "cell_type": "code",
   "execution_count": null,
   "id": "526d5eb5-6cab-4519-beff-42463d10d337",
   "metadata": {},
   "outputs": [],
   "source": [
    "columns=['Teff[K]', 'Logg', 'CH', 'NH', 'OH', 'MgH', 'AlH', 'SiH', 'SH', 'KH', 'CaH', 'TiH', 'CrH','MnH', 'FeH', 'NiH','snrg']\n",
    "\n",
    "for i in range(10):\n",
    "    # print(DATASET_PATH)\n",
    "    \n",
    "    DATASET_PATH = \"./download/snrg_split/match_{}_{}.csv\".format(i*10,i*10+10)\n",
    "    FITS_PATH = \"./FITSDATA/{}_{}/\".format(i*10,i*10+10)\n",
    "    LABEL_PATH = \"./data_after_processing/LABELS/{}_{}\".format(i*10,i*10+10)\n",
    "    SAVE_PATH = \"./data_after_processing/Flux/{}_{}.npy\".format(i*10,i*10+10)\n",
    "    \n",
    "    \n",
    "    # 从numpy文件加载标签数据，允许pickle对象\n",
    "    label = np.load(LABEL_PATH,  allow_pickle=True)\n",
    "    # 将加载的标签数据转换为pandas DataFrame，并指定列名\n",
    "    label = pd.DataFrame(label, columns=columns)\n",
    "   \n",
    "    # 打印光谱数据和标签数据的形状\n",
    "    print(Flux_5_8.shape)\n",
    "    print(labels_5_8.shape)\n",
    "\n",
    "    # 初始化一个临时numpy数组，用于存储处理后的标签数据，行数与labels_5_8相同，有17列\n",
    "    labels_5_8_tmp = np.zeros((len(labels_5_8),17))\n",
    "    # 遍历标签DataFrame的每一行\n",
    "    for i in range(len(labels_5_8)):  \n",
    "        # 对于每个化学元素和'snrg'，从DataFrame中提取它们的值，转换为float类型，然后存储到临时数组中\n",
    "        labels_5_8_tmp[i,0] = labels_5_8['Teff[K]'][i][0].astype('float')\n",
    "        labels_5_8_tmp[i,1] = labels_5_8['Logg'][i][0].astype('float')\n",
    "        # 继续提取和转换化学元素的值...\n",
    "        labels_5_8_tmp[i,16] = labels_5_8['snrg'][i].astype('float')\n",
    "\n",
    "    # 定义新标签数据的路径\n",
    "    LABEL_PATH_new = './LABELS/5_8.npy'\n",
    "    # 将处理后的标签数据保存到numpy文件\n",
    "    np.save(LABEL_PATH_new, labels_5_8_tmp)\n",
    "    \n",
    "    # 从numpy文件加载光谱数据\n",
    "    Flux_5_8 = np.load(SAVE_PATH)\n",
    "    # 对光谱数据进行边缘填充，然后裁剪回原始长度\n",
    "    Flux_5_8 = np.pad(Flux_5_8, (0, 2), 'edge')[:Flux_5_8.shape[0], :]"
   ]
  }
 ],
 "metadata": {
  "kernelspec": {
   "display_name": "Python 3 (ipykernel)",
   "language": "python",
   "name": "python3"
  },
  "language_info": {
   "codemirror_mode": {
    "name": "ipython",
    "version": 3
   },
   "file_extension": ".py",
   "mimetype": "text/x-python",
   "name": "python",
   "nbconvert_exporter": "python",
   "pygments_lexer": "ipython3",
   "version": "3.9.16"
  }
 },
 "nbformat": 4,
 "nbformat_minor": 5
}
