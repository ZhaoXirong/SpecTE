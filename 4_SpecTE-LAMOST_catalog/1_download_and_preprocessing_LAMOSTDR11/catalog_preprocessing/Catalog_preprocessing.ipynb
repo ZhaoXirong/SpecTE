{
 "cells": [
  {
   "cell_type": "code",
   "execution_count": 1,
   "id": "a6866884-224d-4cfc-addb-7a2c9e0b443d",
   "metadata": {},
   "outputs": [],
   "source": [
    "import numpy as np\n",
    "import pandas as pd\n",
    "import os\n",
    "from tqdm import tqdm\n",
    "from astropy.io import fits\n",
    "from scipy.interpolate import interp1d # 线性插值\n",
    "import matplotlib.pyplot as plt\n",
    "from scipy.signal import medfilt # 中值滤波\n",
    "from sklearn.preprocessing import StandardScaler  # 数据进行标准化\n",
    "import json \n",
    "import shutil"
   ]
  },
  {
   "cell_type": "markdown",
   "id": "89a9dc90-42b4-4c21-97da-91c85001cbe1",
   "metadata": {
    "tags": []
   },
   "source": [
    "# 函数定义"
   ]
  },
  {
   "cell_type": "markdown",
   "id": "0ae32b72-eb4f-4734-b300-d77fba5cb845",
   "metadata": {
    "tags": []
   },
   "source": [
    "## 工具函数："
   ]
  },
  {
   "cell_type": "markdown",
   "id": "ce779eb9-c12a-4d82-8baa-00a34d01b6ca",
   "metadata": {
    "tags": []
   },
   "source": [
    "### 查看一个fit文件下有什么字段"
   ]
  },
  {
   "cell_type": "code",
   "execution_count": 2,
   "id": "a2c5648d-b175-402b-bc72-2105540e947e",
   "metadata": {},
   "outputs": [],
   "source": [
    "def list_fits_headers(fits_path):\n",
    "    \"\"\"\n",
    "    列出压缩FITS文件中头文件的所有字段。\n",
    "    \n",
    "    参数：\n",
    "    fits_path (str): FITS文件的路径（支持.gz压缩文件）。\n",
    "    \n",
    "    返回：\n",
    "    headers (dict): FITS文件中头文件的所有字段及其值。\n",
    "    \"\"\"\n",
    "    if not os.path.exists(fits_path):\n",
    "        raise FileNotFoundError(f\"The file {fits_path} does not exist.\")\n",
    "    \n",
    "    headers = {}\n",
    "    \n",
    "    with fits.open(fits_path) as hdul:\n",
    "        for idx, hdu in enumerate(hdul):\n",
    "            header = hdu.header\n",
    "            headers[f\"HDU_{idx}\"] = dict(header.items())\n",
    "    \n",
    "    return headers\n",
    "\n",
    "# # 示例用法\n",
    "# fits_path = r'G:\\Star\\1_Data_download_and_preprocessing\\Denoising_reference_set\\download\\FITSDATA\\high_0_10\\spec-55863-B6301_sp03-211.fits.gz'\n",
    "# headers = list_fits_headers(fits_path)\n",
    "# for hdu_name, header in headers.items():\n",
    "#     print(f\"HDU Name: {hdu_name}\")\n",
    "#     for key, value in header.items():\n",
    "#         print(f\"  {key}: {value}\")\n",
    "#     print()"
   ]
  },
  {
   "cell_type": "markdown",
   "id": "129760ad-bccb-4741-ab2e-93a227c305de",
   "metadata": {
    "tags": []
   },
   "source": [
    "### 遍历目录all_path："
   ]
  },
  {
   "cell_type": "markdown",
   "id": "0857890b-cf07-49b6-aee3-c8271f9733b8",
   "metadata": {},
   "source": [
    "功能描述\n",
    "\n",
    "    函数遍历指定目录（包括其子目录）下的所有文件，并返回一个包含所有文件名的列表。\n",
    "\n",
    "参数\n",
    "\n",
    "    dirname (str): 需要遍历的目录路径字符串。\n",
    "返回值\n",
    "\n",
    "    返回一个列表，包含遍历得到的所有文件的名称（不包括路径）。"
   ]
  },
  {
   "cell_type": "code",
   "execution_count": 3,
   "id": "7c0b3eaa-c2e7-40d3-a159-cd8c0af0d70c",
   "metadata": {},
   "outputs": [],
   "source": [
    "def all_path(dirname):\n",
    "    files_names = []\n",
    "    for maindir, subdir, file_name_list in os.walk(dirname):\n",
    "        for filename in file_name_list:\n",
    "            files_names.append(filename)\n",
    "    return files_names"
   ]
  },
  {
   "cell_type": "markdown",
   "id": "a88b4171-b7ea-4b05-bfbc-f4e863f576f9",
   "metadata": {
    "tags": []
   },
   "source": [
    "## 1.Wavelength Analysis 波长分析(wave_analyse)"
   ]
  },
  {
   "cell_type": "markdown",
   "id": "a36bfccb-63e7-407d-8fb2-31387662e8dd",
   "metadata": {},
   "source": [
    "wave_analyse 函数用于分析给定目录下的 FITS 文件中记录的天体光谱数据，计算并返回给定数据集中天体光谱的蓝端和红端波长范围的最小和最大值，同时考虑了红移的影响。\n",
    "\n",
    "参数\n",
    "\n",
    "    DATASET_PATH (str): 指向包含光谱数据概览的 CSV 文件的路径。该文件用于辅助分析，但本函数示例中未直接使用该参数。\n",
    "    FITS_PATH (str): 包含 FITS 文件的目录路径。这些 FITS 文件包含了天体光谱数据。\n",
    "返回值:四个浮点数，分别是：\n",
    "\n",
    "    B_fact_min: 所有考察光谱中，蓝端波长的最小值。\n",
    "    B_fact_max: 所有考察光谱中，蓝端波长的最大值。\n",
    "    R_fact_min: 所有考察光谱中，红端波长的最小值。\n",
    "    R_fact_max: 所有考察光谱中，红端波长的最大值。"
   ]
  },
  {
   "cell_type": "code",
   "execution_count": 4,
   "id": "b89cbe06-01bc-45f0-9577-cb194674aa7d",
   "metadata": {},
   "outputs": [],
   "source": [
    "# 定义一个函数，用于分析波长数据\n",
    "def wave_analyse(DATASET_PATH, FITS_PATH):\n",
    "    # 蓝端波长范围的最小和最大值\n",
    "    B_wave_min = np.log10(3800)\n",
    "    B_wave_max = np.log10(5700)\n",
    "\n",
    "    # 红端波长范围的最小和最大值\n",
    "    R_wave_min = np.log10(5900)\n",
    "    R_wave_max = np.log10(8800)\n",
    "    \n",
    "    # 初始化存储蓝端和红端波长数据的列表\n",
    "    B_wave = []\n",
    "    R_wave = []\n",
    "    label = []\n",
    "    \n",
    "    # 读取数据集路径下的CSV文件\n",
    "    data = pd.read_csv(DATASET_PATH)  \n",
    "    \n",
    "    # 获取所有FITS文件的路径\n",
    "    file_names = all_path(FITS_PATH)\n",
    "    print(len(file_names))\n",
    "    file_names = np.array(file_names)\n",
    "    \n",
    "    # 遍历每个FITS文件\n",
    "    for i in tqdm(range(len(file_names))):\n",
    "        try:  \n",
    "            # 打开FITS文件\n",
    "            f = fits.open(FITS_PATH + file_names[i])\n",
    "            try:\n",
    "                # 尝试获取第一个HDU的流量和波长数据\n",
    "                F = f[0].data[0]  # 流量\n",
    "                W = f[0].data[2]  # 波长\n",
    "            except:\n",
    "                # 如果第一个HDU中没有数据，则尝试从第二个HDU中获取\n",
    "                F = f[1].data[\"FLUX\"][0]\n",
    "                W = f[1].data[\"WAVELENGTH\"][0]\n",
    "                \n",
    "            # 获取红移值，并调整波长数据\n",
    "            z = f[0].header['Z']  # 红移\n",
    "            W = np.log10(W) - np.log10(1 + np.float64(z))\n",
    "            # 根据蓝端和红端的波长范围，获取相应的波长数据\n",
    "            B_W = (W > B_wave_min)*(W < B_wave_max)\n",
    "            R_W = (W > R_wave_min)*(W < R_wave_max)\n",
    "            # 添加蓝端波长数据\n",
    "            B_wave.append(W[B_W])\n",
    "            # 添加红端波长数据\n",
    "            R_wave.append(W[R_W])\n",
    "        except:\n",
    "            # 处理异常情况，跳过当前循环\n",
    "            print(\"Handling exceptions, skipped, indexed as : \", i)\n",
    "            continue\n",
    "    \n",
    "    # 获取所有蓝端波长数据的最大和最小值\n",
    "    B_fact_max = np.max(B_wave[0])\n",
    "    B_fact_min = np.min(B_wave[0])\n",
    "    for W in B_wave:\n",
    "        try:\n",
    "            B_fact_max = min(B_fact_max, np.max(W))\n",
    "            B_fact_min = max(B_fact_min, np.min(W))\n",
    "        except:\n",
    "            continue\n",
    "    \n",
    "    # 获取所有红端波长数据的最大和最小值\n",
    "    R_fact_max = np.max(R_wave[0])\n",
    "    R_fact_min = np.min(R_wave[0])\n",
    "    for W in R_wave:\n",
    "        try:\n",
    "            R_fact_max = min(R_fact_max, np.max(W))\n",
    "            R_fact_min = max(R_fact_min, np.min(W))\n",
    "        except:\n",
    "            continue\n",
    "    \n",
    "\n",
    "    B_wave_scope = [B_fact_min, B_fact_max]\n",
    "    R_wave_scope = [R_fact_min, R_fact_max]\n",
    "    # 返回蓝端和红端波长的最小和最大值\n",
    "    return B_wave_scope, R_wave_scope\n",
    "\n",
    "# # 测试\n",
    "# B_wave_scope, R_wave_scope = wave_analyse(DATASET_PATH, FITS_PATH)\n",
    "# print(B_wave_scope, R_wave_scope)"
   ]
  },
  {
   "cell_type": "code",
   "execution_count": 5,
   "id": "e7dc2718-36cb-4219-92f8-2583673773a6",
   "metadata": {},
   "outputs": [],
   "source": [
    "# 定义一个函数，用于分析波长数据（去除了基于红移的波长矫正）\n",
    "def wave_analyse(DATASET_PATH, FITS_PATH):\n",
    "    # 蓝端波长范围的最小和最大值\n",
    "    B_wave_min = np.log10(3800)\n",
    "    B_wave_max = np.log10(5700)\n",
    "\n",
    "    # 红端波长范围的最小和最大值\n",
    "    R_wave_min = np.log10(5900)\n",
    "    R_wave_max = np.log10(8800)\n",
    "    \n",
    "    # 初始化存储蓝端和红端波长数据的列表\n",
    "    B_wave = []\n",
    "    R_wave = []\n",
    "    label = []\n",
    "    \n",
    "    # # 读取数据集路径下的CSV文件\n",
    "    # data = pd.read_csv(DATASET_PATH)  \n",
    "    \n",
    "    # 获取所有FITS文件的路径\n",
    "    file_names = all_path(FITS_PATH)\n",
    "    print(len(file_names))\n",
    "    file_names = np.array(file_names)\n",
    "    \n",
    "    # 遍历每个FITS文件\n",
    "    for i in tqdm(range(len(file_names))):\n",
    "        try:  \n",
    "            # 打开FITS文件\n",
    "            f = fits.open(FITS_PATH + file_names[i])\n",
    "            try:\n",
    "                # 尝试获取第一个HDU的流量和波长数据\n",
    "                F = f[0].data[0]  # 流量\n",
    "                W = f[0].data[2]  # 波长\n",
    "            except:\n",
    "                # 如果第一个HDU中没有数据，则尝试从第二个HDU中获取\n",
    "                F = f[1].data[\"FLUX\"][0]\n",
    "                W = f[1].data[\"WAVELENGTH\"][0]\n",
    "                \n",
    "            # 获取红移值，并调整波长数据\n",
    "            # z = f[0].header['Z']  # 红移\n",
    "            # W = np.log10(W) - np.log10(1 + np.float64(z))\n",
    "            W = np.log10(W)\n",
    "            \n",
    "            \n",
    "            # 根据蓝端和红端的波长范围，获取相应的波长数据\n",
    "            B_W = (W > B_wave_min)*(W < B_wave_max)\n",
    "            R_W = (W > R_wave_min)*(W < R_wave_max)\n",
    "            # 添加蓝端波长数据\n",
    "            B_wave.append(W[B_W])\n",
    "            # 添加红端波长数据\n",
    "            R_wave.append(W[R_W])\n",
    "        except:\n",
    "            # 处理异常情况，跳过当前循环\n",
    "            print(\"Handling exceptions, skipped, indexed as : \", i)\n",
    "            continue\n",
    "    \n",
    "    # 获取所有蓝端波长数据的最大和最小值\n",
    "    B_fact_max = np.max(B_wave[0])\n",
    "    B_fact_min = np.min(B_wave[0])\n",
    "    for W in B_wave:\n",
    "        try:\n",
    "            B_fact_max = min(B_fact_max, np.max(W))\n",
    "            B_fact_min = max(B_fact_min, np.min(W))\n",
    "        except:\n",
    "            continue\n",
    "    \n",
    "    # 获取所有红端波长数据的最大和最小值\n",
    "    R_fact_max = np.max(R_wave[0])\n",
    "    R_fact_min = np.min(R_wave[0])\n",
    "    for W in R_wave:\n",
    "        try:\n",
    "            R_fact_max = min(R_fact_max, np.max(W))\n",
    "            R_fact_min = max(R_fact_min, np.min(W))\n",
    "        except:\n",
    "            continue\n",
    "    \n",
    "\n",
    "    B_wave_scope = [B_fact_min, B_fact_max]\n",
    "    R_wave_scope = [R_fact_min, R_fact_max]\n",
    "    # 返回蓝端和红端波长的最小和最大值\n",
    "    return B_wave_scope, R_wave_scope\n",
    "\n",
    "\n",
    "# DATASET_PATH = r\"./download/snrg_split_match_catalog/match_low_0_10.csv\"\n",
    "# FITS_PATH = r'./download/FITSDATA/test/'\n",
    "# B_wave_scope, R_wave_scope = wave_analyse(DATASET_PATH, FITS_PATH)\n",
    "# print(B_wave_scope, R_wave_scope)"
   ]
  },
  {
   "cell_type": "markdown",
   "id": "30a14fb7-ac10-4475-a346-e407b8c4d0bc",
   "metadata": {
    "tags": []
   },
   "source": [
    "## 2. 线性插值 (linear_inter)"
   ]
  },
  {
   "cell_type": "raw",
   "id": "bd198f0d-3286-4c0a-b6a8-e5be97c2b0aa",
   "metadata": {},
   "source": [
    "功能描述\n",
    "linear_inter 函数用于对来自 FITS 文件的天体观测数据进行线性插值处理。该函数特别关注于蓝端和红端波段的光谱数据，计算这些波段在指定波长范围内的流量值。此操作对于统一不同观测数据的波长尺度，以便进行进一步分析。\n",
    "\n",
    "参数\n",
    "DATASET_PATH (str): 指向包含光谱数据概览的 CSV 文件的路径。尽管该参数在函数体中被读取，但在提供的代码示例中并未直接使用。\n",
    "FITS_PATH (str): 包含 FITS 文件的目录路径。这些文件中包含了用于分析的天体光谱数据。\n",
    "\n",
    "返回值\n",
    "函数返回三个对象：\n",
    "\n",
    "BR_flux_data (list): 一个列表，包含所有处理过的 FITS 文件中蓝端和红端波段的流量数据。每个元素是对应于一个文件中波段的流量值数组。\n",
    "B_wave_fixed (numpy.ndarray): 蓝端波长的固定采样数组，用于插值。\n",
    "R_wave_fixed (numpy.ndarray): 红端波长的固定采样数组，用于插值。"
   ]
  },
  {
   "cell_type": "code",
   "execution_count": 6,
   "id": "74853d69-0a85-429c-8a0c-c2e000718928",
   "metadata": {},
   "outputs": [],
   "source": [
    "# 定义一个函数进行线性插值（去除了基于红移的波长矫正）\n",
    "def linear_inter(FITS_PATH, B_wave_scope, R_wave_scope,start=0,end=float('inf')):\n",
    "                               \n",
    "    # 计算蓝端和红端波长范围的对数值\n",
    "    B_wave_min = np.log10(3800)\n",
    "    B_wave_max = np.log10(5700)\n",
    "\n",
    "    R_wave_min = np.log10(5900)\n",
    "    R_wave_max = np.log10(8800)\n",
    "    \n",
    "    \n",
    "    # 初始化存储蓝红波段流量数据的列表\n",
    "    BR_flux_data = []\n",
    "    # 初始化文件名列表\n",
    "    file_names = []\n",
    "    \n",
    "    # 获取FITS文件的路径\n",
    "    file_names = all_path(FITS_PATH)\n",
    "    \n",
    "    # 初始化错误列表\n",
    "    error_list = []\n",
    "    \n",
    "    #定义遍历结束位置\n",
    "    end = min(len(file_names), end)\n",
    "    \n",
    "    # 遍历文件名列表\n",
    "    for i in tqdm(range(start,end)):\n",
    "        try:\n",
    "            # 打开FITS文件\n",
    "            f = fits.open(FITS_PATH + file_names[i])\n",
    "            \n",
    "            try:\n",
    "                # 尝试从第一个HDU获取流量和波长数据\n",
    "                F = f[0].data[0] \n",
    "                W = f[0].data[2] \n",
    "            except:\n",
    "                # 如果第一个HDU中没有数据，则从第二个HDU获取\n",
    "                F = f[1].data[\"FLUX\"][0]\n",
    "                W = f[1].data[\"WAVELENGTH\"][0]\n",
    "            \n",
    "            # # 获取红移值并调整波长数据\n",
    "            # z = f[0].header['Z']  \n",
    "            # W = np.log10(W) - np.log10(1 + np.float64(z))\n",
    "            W = np.log10(W)\n",
    "        \n",
    "            # # 定义蓝端和红端波长范围\n",
    "            # B_wave_scope = [B_fact_min, B_fact_max]\n",
    "            # R_wave_scope = [R_fact_min, R_fact_max]\n",
    "        \n",
    "            # 获取蓝端的流量和波长数据\n",
    "            B_flux = F[(W > B_wave_min)*(W < B_wave_max)]\n",
    "            B_wave = W[(W > B_wave_min)*(W < B_wave_max)]\n",
    "        \n",
    "            # # 对全部数据进行线性插值\n",
    "            # f = interp1d(W, F, kind = 'linear')\n",
    "        \n",
    "            # 获取红端的流量和波长数据\n",
    "            R_flux = F[(W > R_wave_min)*(W < R_wave_max)]\n",
    "            R_wave = W[(W > R_wave_min)*(W < R_wave_max)]\n",
    "              \n",
    "            # 分别对蓝端和红端的数据进行线性插值\n",
    "            B_f = interp1d(B_wave, B_flux, kind = 'linear')\n",
    "            R_f = interp1d(R_wave, R_flux, kind = 'linear')\n",
    "        \n",
    "            # 设置采样率为0.0001，并生成固定波长范围的蓝端和红端波长数组\n",
    "            B_wave_fixed = np.arange(B_wave_scope[0], B_wave_scope[1], 0.0001)\n",
    "            R_wave_fixed = np.arange(R_wave_scope[0], R_wave_scope[1], 0.0001)\n",
    "        \n",
    "            # 将插值后的蓝端和红端流量数据合并，并添加到列表中\n",
    "            BR_flux_data.append(np.concatenate((B_f(B_wave_fixed), R_f(R_wave_fixed))))\n",
    "        \n",
    "        except:\n",
    "            # 处理异常情况，跳过当前循环\n",
    "            print(\"Handling exceptions, skipped, indexed as : \", i) \n",
    "            error_list.append(i)\n",
    "            continue\n",
    "    \n",
    "    # 打印处理后的数据量和数据维度信息\n",
    "    print(\"The magnitude of the traffic data on the common wavelength position obtained \\\n",
    "          after interpolation of the red and blue bands separately：\", np.shape(BR_flux_data)[1])\n",
    "    print(\"Number of processed data：\", np.shape(BR_flux_data)[0])\n",
    "        \n",
    "    # 返回插值后的流量数据以及蓝端和红端的固定波长数组\n",
    "    return BR_flux_data, B_wave_fixed, R_wave_fixed, error_list\n"
   ]
  },
  {
   "cell_type": "markdown",
   "id": "a4d22274-3680-4a8c-be9d-509920e4ee1c",
   "metadata": {
    "tags": []
   },
   "source": [
    "## 3. 连续谱拟合和归一化处理 (normalization_by_polyfit)"
   ]
  },
  {
   "cell_type": "markdown",
   "id": "400b9048-61e1-4297-be8f-3cdd02b943e8",
   "metadata": {
    "tags": []
   },
   "source": [
    "### csp_polyfit：  多项式拟合"
   ]
  },
  {
   "cell_type": "markdown",
   "id": "812e6139-e866-4496-8f78-c4e548677009",
   "metadata": {},
   "source": [
    "csp_polyfit：归一化光谱和波长，拟合出一个多项式\n",
    "\n",
    "参数说明：\n",
    "\n",
    "    sp: 光流量数据，一维数组。\n",
    "    angs: 角度数据，一维数组，应与光流量数据在长度上匹配。\n",
    "    param：\n",
    "        poly_global_order: 多项式拟合的全局阶数。\n",
    "        poly_upperlimit和poly_lowerlimit: 用于数据点选择的标准差倍数阈值。\n",
    "        poly_del_filled: 指示如何处理不符合条件的数据点，1 表示删除，其它值表示用拟合值填充。\n",
    "    \n",
    "返回值：\n",
    "\n",
    "    param：\n",
    "        poly_sp_c、poly_sp_s、poly_angs_c和poly_angs_s: 分别保存流量和波长的平均值、标准差\n",
    "        poly_P_g: 拟合过程中计算的多项式系数。\n",
    "        poly_sp_filtered和poly_angs_filtered: 过滤后的光流量和角度数据。"
   ]
  },
  {
   "cell_type": "code",
   "execution_count": 7,
   "id": "39f2f86b-a823-496e-9832-f23a1ebf5dd6",
   "metadata": {},
   "outputs": [],
   "source": [
    "def csp_polyfit(sp, angs, param):\n",
    "    # 标准化光流量\n",
    "    sp_c = np.mean(sp)   # 计算光流量的平均值，即中位流量\n",
    "    sp = sp - sp_c           # 以平均值为中心调整光流量，实现光流量的中心化\n",
    "    sp_s = np.std(sp)     # 计算光流量的标准差，即流量均方差\n",
    "    sp = sp / sp_s        # 用标准差标准化光流量\n",
    "    \n",
    "    # 标准化角度\n",
    "    angs_c = np.mean(angs)  # 计算波长的平均值\n",
    "    angs = angs - angs_c    # 以平均值为中心调整角度\n",
    "    angs_s = np.std(angs)   # 计算波长的标准差\n",
    "    angs = angs / angs_s    # 用标准差标准化波长\n",
    "    \n",
    "    # 更新参数字典\n",
    "    param['poly_sp_c'] = sp_c\n",
    "    param['poly_sp_s'] = sp_s\n",
    "    param['poly_angs_c'] = angs_c\n",
    "    param['poly_angs_s'] = angs_s\n",
    "    \n",
    "    # 初始化数据标志\n",
    "    data_flag = np.full(sp.shape, 1)\n",
    "    \n",
    "    i = 0\n",
    "    con = True\n",
    "    while(con):\n",
    "        # 使用多项式拟合并获取系数\n",
    "        P_g = np.polyfit(angs, sp, param['poly_global_order'])  # 计算多项式系数\n",
    "        param['poly_P_g'] = P_g\n",
    "        fitval_1 = np.polyval(P_g, angs)   # 计算多项式的拟合值\n",
    "        dev = fitval_1 - sp  # 计算拟合值与实际值的偏差\n",
    "        sig_g = np.std(dev)  # 计算偏差的标准差\n",
    "        \n",
    "        # 更新数据标志，用于识别需要保留的数据点\n",
    "        data_flag_new = (dev > (-param['poly_upperlimit'] * sig_g)) * (dev < (param['poly_lowerlimit'] * sig_g))\n",
    "    \n",
    "        if sum(abs(data_flag_new - data_flag)) > 0:\n",
    "            if param['poly_del_filled'] == 1: \n",
    "                data_flag = data_flag_new  # 更新数据标志\n",
    "            else:\n",
    "                fill_flag = data_flag - data_flag_new  # 计算需要填充的数据标志\n",
    "                index_1 = np.where(fill_flag != 0)  # 找出需要填充的数据点\n",
    "                sp[index_1] = fitval_1[index_1]  # 用拟合值填充这些数据点\n",
    "        else:\n",
    "            con = False  # 如果数据标志没有变化，则停止迭代\n",
    "        i += 1\n",
    "    #     print(\"iteration is %d\" %i)  # 打印迭代次数，此行为调试用，通常被注释\n",
    "    \n",
    "    # 根据最终的数据标志筛选数据\n",
    "    index_2 = np.where(data_flag != 0)\n",
    "    param['poly_sp_filtered'] = sp[index_2]  # 更新参数字典，保存过滤后的光流量数据\n",
    "    param['poly_angs_filtered'] = angs[index_2]  # 更新参数字典，保存过滤后的角度数据\n",
    "    \n",
    "    return param  # 返回更新后的参数字典\n"
   ]
  },
  {
   "cell_type": "markdown",
   "id": "7c1b7a0a-4ae2-49af-b1f0-ba419960015e",
   "metadata": {
    "tags": []
   },
   "source": [
    "### sp_median_polyfit1stage： 连续谱拟合"
   ]
  },
  {
   "cell_type": "markdown",
   "id": "9d8aec77-d4ae-4f3f-91a6-2eb6d0b175e2",
   "metadata": {},
   "source": [
    "对一条光谱进行一系列处理最终获得一个拟合连续谱。具体操作包括：1.用中值滤波结果预剔除异常数据点 2.拟合一个归一化后的多项式 3.反归一化得到最终拟合连续谱\n",
    "\n",
    "使用说明\n",
    "\n",
    "    sp_median_polyfit1stage(flux, lambda_log, param)\n",
    "参数\n",
    "\n",
    "    flux: 光通量数据，一维数组。\n",
    "    lambda_log: 对数波长数据，与光通量数据相对应的一维数组。\n",
    "    param: 参数字典，包含处理过程中需要的各种参数。\n",
    "参数字典param的关键字段\n",
    "\n",
    "    median_radius: 中值滤波的窗口半径。\n",
    "    poly_lowerlimit: 多项式拟合预剔除下限，乘以标准差作为阈值。\n",
    "    poly_upperlimit: 多项式拟合预剔除上限，乘以标准差作为阈值。\n",
    "    poly_del_filled: 处理标记为填充的数据点的方法（1表示删除这些点，2表示用中值滤波结果填充）。\n",
    "    poly_angs_c, poly_angs_s: 波长预处理中的中心化和缩放参数。\n",
    "    poly_P_g: 连续谱拟合的多项式系数。\n",
    "    poly_sp_s, poly_sp_c: 连续谱拟合后的缩放和偏移参数。\n",
    "    poly_SM: 是否使用原始波长（1）或对数波长（其它值）。\n",
    "返回值\n",
    "\n",
    "    continum_fitted: 拟合的连续谱，一维数组，与输入的光通量数据对应。"
   ]
  },
  {
   "cell_type": "code",
   "execution_count": 8,
   "id": "4391d15b-e9f6-4bb4-91ae-b36e52499966",
   "metadata": {},
   "outputs": [],
   "source": [
    "def sp_median_polyfit1stage(flux, lambda_log,param):\n",
    "    flux1 = flux  # 复制光通量数据\n",
    "    lambda1 = lambda_log  # 复制对数波长数据\n",
    "\n",
    "    # 中值滤波\n",
    "    flux_median1 = medfilt(flux1, param['median_radius'])  # 使用中值滤波处理光通量数据\n",
    "\n",
    "    # 利用中值滤波结果进行预剔除\n",
    "    dev1 = flux_median1 - flux1  # 计算中值滤波后的光通量与原光通量的差值\n",
    "    sigma = np.std(dev1)  # 计算差值的标准差\n",
    "    # 生成数据标记，用于识别符合预剔除条件的数据点\n",
    "    data_flag1 = (dev1 < (param['poly_lowerlimit'] * sigma)) * (dev1 > (-param['poly_upperlimit'] * sigma))\n",
    "    \n",
    "    # 利用中值滤波结果进行伪光谱线的预剔除\n",
    "    fill_flag1 = 1 - data_flag1  # 生成填充标记，用于识别需要被填充的数据点\n",
    "    \n",
    "    # 根据参数决定如何处理填充标记指示的数据点\n",
    "    if param['poly_del_filled'] == 1:\n",
    "        index_1 = np.where(data_flag1)  # 找到符合条件的数据点索引\n",
    "        flux1 = flux1[index_1]  # 仅保留这些数据点的光通量数据\n",
    "        lambda1 = lambda1[index_1]  # 仅保留这些数据点的波长数据\n",
    "    elif param['poly_del_filled'] == 2:\n",
    "        index_2 = np.where(fill_flag1)  # 找到需要填充的数据点索引\n",
    "        flux1[index_2] = flux_median1[index_2]  # 用中值滤波结果填充这些数据点的光通量\n",
    "        \n",
    "    # 迭代拟合连续谱\n",
    "    param = csp_polyfit(flux1, lambda1, param)  # 执行连续谱的多项式拟合\n",
    "    \n",
    "    # 波长预处理\n",
    "    angs = lambda1 - param['poly_angs_c']  # 波长中心化\n",
    "    angs = angs / param['poly_angs_s']  # 波长缩放\n",
    "    \n",
    "    # 连续谱样本\n",
    "    fitval_g = np.polyval(param['poly_P_g'], angs)  # 使用多项式系数计算连续谱的拟合值\n",
    "    continum_fitted = fitval_g * param['poly_sp_s'] + param['poly_sp_c']  # 根据参数调整连续谱的拟合值\n",
    "    \n",
    "    # 根据参数选择使用原始波长或对数波长\n",
    "    if param['poly_SM'] == 1: \n",
    "        angss = lambda1\n",
    "    else: \n",
    "        angss = 10 ** lambda1  # 如果需要，将波长转换为对数形式\n",
    " \n",
    "    return continum_fitted  # 返回拟合的连续谱"
   ]
  },
  {
   "cell_type": "markdown",
   "id": "e342396c-95d3-45bf-80f6-42207675041c",
   "metadata": {
    "tags": []
   },
   "source": [
    "### normalization_by_polyfit： 使用拟合连续谱对原始光谱数据归一化"
   ]
  },
  {
   "cell_type": "markdown",
   "id": "6b1d0c50-3b7a-45f4-8c21-6a091ad65c82",
   "metadata": {},
   "source": [
    "概述\n",
    "对每条光谱的蓝端和红端分别进行连续谱拟合和归一化。先分别处理蓝端和红端的光谱，对每一部分分别进行连续谱拟合，最后利用拟合结果对原始光谱数据进行归一化处理。\n",
    "\n",
    "参数说明\n",
    "\n",
    "    BR_flux_data: 原始光谱数据数组，假设为二维数组，其中每一行代表一条光谱数据。\n",
    "    B_wave_fixed: 蓝端波长的固定采样数组，一维数组。\n",
    "    R_wave_fixed: 红端波长的固定采样数组，一维数组。\n",
    "    param: (可选) 拟合参数字典，用于控制连续谱拟合的具体行为。如果未提供，则使用默认参数。\n",
    "    SAVE_PATH: (可选) 字符串，表示保存处理后数据的文件路径。如果提供此参数，函数将处理后的数据保存为NumPy文件。\n",
    "返回值\n",
    "\n",
    "    BR_flux_data_fitted: 归一化后的光谱数据数组，与原始光谱数据具有相同的形状。"
   ]
  },
  {
   "cell_type": "code",
   "execution_count": 9,
   "id": "5495f758-458e-456e-8a4d-d68d22f3b28b",
   "metadata": {},
   "outputs": [],
   "source": [
    "def normalization_by_polyfit(BR_flux_data, B_wave_fixed, R_wave_fixed, param=None, SAVE_PATH=None):\n",
    "    \"\"\"                      \n",
    "    对光谱数据进行连续谱拟合和归一化处理。\n",
    "\n",
    "    参数:\n",
    "    - BR_flux_data: 原始光谱数据数组。\n",
    "    - B_wave_fixed: 蓝端波长的固定采样数组。\n",
    "    - R_wave_fixed: 红端波长的固定采样数组。\n",
    "    - param: 拟合参数字典，可选。\n",
    "    - SAVE_PATH: 保存处理后数据的文件路径，可选。\n",
    "    \"\"\"\n",
    "    # 检查是否提供了拟合参数，如果没有，则设置默认参数\n",
    "    if param is None:\n",
    "        param = {'poly_global_order': 5, 'nor': 1, 'poly_lowerlimit': 3, 'poly_upperlimit': 4, \n",
    "                 'median_radius': 3, 'poly_SM': 0, 'poly_del_filled': 2}\n",
    "\n",
    "    # 初始化一个与原始光谱数据相同形状的数组，用于存储拟合后的数据\n",
    "    BR_flux_data_fitted = np.zeros_like(BR_flux_data)\n",
    "    \n",
    "    # 遍历每一行光谱数据\n",
    "    for i in tqdm(range(BR_flux_data_fitted.shape[0])):\n",
    "        \n",
    "        try:\n",
    "            # 对蓝端和红端波长的光谱数据分别进行连续谱拟合\n",
    "            B_continum_fitted_train = sp_median_polyfit1stage(BR_flux_data[i][:len(B_wave_fixed)], np.log10(B_wave_fixed), param)\n",
    "            R_continum_fitted_train = sp_median_polyfit1stage(BR_flux_data[i][len(B_wave_fixed):], np.log10(R_wave_fixed), param)\n",
    "\n",
    "            # 使用拟合得到的连续谱对原始光谱数据进行归一化\n",
    "            BR_flux_data_fitted[i, :len(B_wave_fixed)] = BR_flux_data[i][:len(B_wave_fixed)] / B_continum_fitted_train\n",
    "            BR_flux_data_fitted[i, len(B_wave_fixed):] = BR_flux_data[i][len(B_wave_fixed):] / R_continum_fitted_train\n",
    "        except:\n",
    "            print(f\"Handling exceptions, indexed as: {i}\")\n",
    "            continue\n",
    "\n",
    "    # 如果提供了保存路径，将处理后的数据保存到指定文件\n",
    "    if SAVE_PATH:\n",
    "        np.save(SAVE_PATH, BR_flux_data_fitted)\n",
    "    \n",
    "    return BR_flux_data_fitted\n",
    "\n",
    "# 注意: sp_median_polyfit1stage 需要根据实际的函数定义和参数进行调整。"
   ]
  },
  {
   "cell_type": "markdown",
   "id": "8643217d-8368-4e89-97bd-ac57ddec32ed",
   "metadata": {
    "tags": []
   },
   "source": [
    "## 4. 用3σ原则处理异常值和标准化处理"
   ]
  },
  {
   "cell_type": "markdown",
   "id": "ff38c8bb-8187-4fb5-87dd-5d897389516b",
   "metadata": {
    "tags": []
   },
   "source": [
    "### three_sigma：异常值处理子函数"
   ]
  },
  {
   "cell_type": "markdown",
   "id": "f220c3cd-0422-4616-b763-72974d45f0dd",
   "metadata": {},
   "source": [
    "函数基于3σ原则（三西格玛规则）对光谱数据中的异常值进行识别和处理。先假设数据遵循正态分布，数据集中在均值的±3σ（标准差）区间内的概率为99.73%，因此位于这个区间之外的点被视为异常值。该函数计算给定光谱数据片段的平均值和标准差，识别异常值，并将这些异常值替换为平均值，最后返回处理后的光谱数据点列表。"
   ]
  },
  {
   "cell_type": "code",
   "execution_count": 10,
   "id": "acb1d497-1a73-4649-9cdd-9841063bae9b",
   "metadata": {},
   "outputs": [],
   "source": [
    "def three_sigma(Flux, flux_index, sigma_rate=3):\n",
    "    mean_value = Flux[flux_index].mean()  # 计算指定索引光谱数据的平均值\n",
    "    std_value = Flux[flux_index].std()  # 计算指定索引光谱数据的标准差\n",
    "    # 根据3σ原则确定异常值规则：异常值为超出平均值±3倍标准差的数据点\n",
    "    rule = (mean_value - sigma_rate * std_value > Flux[flux_index]) | (mean_value + sigma_rate * std_value < Flux[flux_index])\n",
    "    indice = np.arange(Flux[flux_index].shape[0])[rule]  # 获取所有异常值的索引位置\n",
    "    Flux_points = []  # 初始化一个列表，用于存放处理后的光谱数据点\n",
    "    for i in range(Flux[flux_index].shape[0]):  # 遍历光谱数据点\n",
    "        if i in indice:  # 如果当前点是异常值\n",
    "            Flux_points.append(mean_value)  # 用平均值替换异常值\n",
    "        else:\n",
    "            Flux_points.append(Flux[flux_index][i])  # 正常值保持不变\n",
    "    return Flux_points  # 返回处理后的光谱数据点列表\n"
   ]
  },
  {
   "cell_type": "markdown",
   "id": "91abc27f-6275-4bfd-b6e9-0c5f9601dd15",
   "metadata": {
    "tags": []
   },
   "source": [
    "### three_sigma_processing："
   ]
  },
  {
   "cell_type": "markdown",
   "id": "bdd13405-1d19-4d0f-88ea-81fe1ef38405",
   "metadata": {},
   "source": [
    "用于批量处理光谱数据集，应用3σ原则去除异常值并进行后续的标准化处理。"
   ]
  },
  {
   "cell_type": "code",
   "execution_count": 11,
   "id": "e858d64e-2a1c-4f0c-b9f9-5516b77dadfa",
   "metadata": {},
   "outputs": [],
   "source": [
    "def three_sigma_processing(Flux, SAVE_PATH_3sigma=None,failed_indices=[]):\n",
    "    Flux_3sigma = []  # 初始化一个列表，用于存储所有光谱数据的3σ处理结果\n",
    "    for i in tqdm(range(Flux.shape[0])):  # 遍历所有光谱数据\n",
    "        Flux_3sigma.append(three_sigma(Flux, i, sigma_rate=3))  # 对每条光谱数据应用3σ处理\n",
    "    Flux_3sigma = np.array(Flux_3sigma)  # 将处理结果列表转换为NumPy数组\n",
    "    \n",
    "    if np.isinf(Flux_3sigma).any():\n",
    "        print(\"数据中存在无穷大值。\")\n",
    "        # 将无穷大值替换为 NaN\n",
    "        Flux_3sigma[np.isinf(Flux_3sigma)] = np.nan\n",
    "\n",
    "    rows_with_nan = np.isnan(Flux_3sigma).any(axis=1)\n",
    "    indices_of_rows_with_nan = np.where(rows_with_nan)[0]\n",
    "    \n",
    "    if indices_of_rows_with_nan.size > 0:\n",
    "        \n",
    "        print(\"indices_of_rows_with_nan:\",indices_of_rows_with_nan)\n",
    "        Flux_3sigma = np.delete(Flux_3sigma, indices_of_rows_with_nan, axis=0)\n",
    "        failed_indices = get_original_indices(failed_indices, indices_of_rows_with_nan)\n",
    "    \n",
    "\n",
    "    sc = StandardScaler()  # 创建一个StandardScaler对象，用于后续的标准化处理\n",
    "    Flux_3sigma_sc_T = sc.fit_transform(Flux_3sigma.T)  # 对3σ处理后的光谱数据进行标准化\n",
    "    Flux_3sigma_sc = Flux_3sigma_sc_T.T  # 转置回原来的形状\n",
    "    \n",
    "    \n",
    "    \n",
    "    if SAVE_PATH_3sigma:\n",
    "        np.save(SAVE_PATH_3sigma, Flux_3sigma_sc)  # 将标准化后的光谱数据保存到指定路径\n",
    "        \n",
    "    return  Flux_3sigma_sc, failed_indices\n",
    "\n",
    "# Flux = np.array([\n",
    "#         [1, 2, 3, 4,123,4848,12,45],\n",
    "#         [5, np.inf, 7, 8,123,4848,12,45],  # 包含无穷大\n",
    "#         [9, 10, np.nan, 12,123,4848,12,45],  # 包含NaN\n",
    "#         [13, 14, 15, 16,123,4848,12,45],\n",
    "#         [13, 14, 15, 16,123,4848,12,45],\n",
    "#         [13, 14, 15, 16,123,4848,12,45],\n",
    "#         [9, 10, np.nan, 12,123,4848,12,45],\n",
    "#     ])\n",
    "# failed_indices = []  # 假设在原始数据中出错的索引\n",
    "# Flux_3sigma_sc, failed_indices = three_sigma_processing(Flux, failed_indices=failed_indices)\n",
    "# failed_indices"
   ]
  },
  {
   "cell_type": "code",
   "execution_count": 12,
   "id": "d2d18055-67e4-49dc-b285-cbb41f957c40",
   "metadata": {},
   "outputs": [],
   "source": [
    "def get_original_indices(failed_indices, new_failed_index):\n",
    "    # failed_indices: list of indices of previous failed data in original data\n",
    "    # new_failed_index: list of indices of newly failed data in the filtered data\n",
    "    \n",
    "    # Create a mapping from new data index to original data index\n",
    "    failed_indices_raw = failed_indices[:]\n",
    "    for i in new_failed_index:\n",
    "        for j in range(len(failed_indices)):\n",
    "            if failed_indices[j] <= i:\n",
    "                i += 1\n",
    "            else:\n",
    "                failed_indices_raw.append(i)\n",
    "                break\n",
    "        else:\n",
    "            failed_indices_raw.append(i)\n",
    "    failed_indices_raw.sort()        \n",
    "    return failed_indices_raw        "
   ]
  },
  {
   "cell_type": "markdown",
   "id": "13ef0fcd-d762-42bf-98fc-5c74ffcf8fde",
   "metadata": {
    "tags": []
   },
   "source": [
    "## 5.提取info文件"
   ]
  },
  {
   "cell_type": "code",
   "execution_count": 13,
   "id": "ba588c47-67f4-463b-a1e9-f8fa6fc11f18",
   "metadata": {},
   "outputs": [],
   "source": [
    "def extract_fits_info(FITS_PATH, start=0, end = float('inf'), failed_indice=[],save_path=None):\n",
    "    \"\"\"\n",
    "    提取指定范围内的FITS文件中的OBSID、SNRG、RA、DEC字段，并存储到一个DataFrame中。\n",
    "    \n",
    "    参数：\n",
    "    FITS_PATH (str): FITS文件的目录路径。\n",
    "    start (int): 起始索引（包含）。\n",
    "    end (int): 结束索引（不包含）。\n",
    "    failed_indice (list): 要跳过的文件索引列表。\n",
    "    \n",
    "    返回：\n",
    "    df (pd.DataFrame): 包含提取信息的DataFrame，列名为obsid、snrg、ra、dec。\n",
    "    \"\"\"\n",
    "    data = []\n",
    "    \n",
    "    # 获取FITS文件的路径\n",
    "    file_names = all_path(FITS_PATH)\n",
    "    \n",
    "    #定义遍历结束位置\n",
    "    end = min(len(file_names), end)\n",
    "    \n",
    "    if failed_indice:\n",
    "        # 如果不为空，将所有元素加上start\n",
    "        failed_indice = [x + start for x in failed_indice]\n",
    "    \n",
    "    for i in tqdm(range(start,end)):\n",
    "        \n",
    "        # 检查当前索引是否在failed_indice中\n",
    "        if i in failed_indice:\n",
    "            continue\n",
    "        \n",
    "        fits_path = os.path.join(FITS_PATH, file_names[i])\n",
    "        with fits.open(fits_path) as hdul:\n",
    "            header = hdul[0].header\n",
    "            obsid = header.get('OBSID', None)\n",
    "            snrg = header.get('SNRG', None)\n",
    "            ra = header.get('RA', None)\n",
    "            dec = header.get('DEC', None)\n",
    "            data.append([obsid, snrg, ra, dec])\n",
    "    \n",
    "    df = pd.DataFrame(data, columns=['obsid', 'snrg', 'ra', 'dec'])\n",
    "    \n",
    "        # 如果提供了保存路径，则保存DataFrame到CSV文件\n",
    "    if save_path:\n",
    "        df.to_csv(save_path, index=False)\n",
    "        \n",
    "    return df\n",
    "\n",
    "# FITS_PATH = r\"G:\\Star\\1_Data_download_and_preprocessing\\Denoising_reference_set\\download\\FITSDATA\\test/\"\n",
    "# failed_indice =[1, 2, 3, 4, 6, 9]\n",
    "# end = 100\n",
    "# info_df = extract_fits_info(FITS_PATH,start=50, end=end, failed_indice=failed_indice)\n",
    "# info_df.shape"
   ]
  },
  {
   "cell_type": "markdown",
   "id": "b682f7c7-0183-4096-b3db-e075b5446862",
   "metadata": {
    "tags": []
   },
   "source": [
    "# 预处理全流程打包："
   ]
  },
  {
   "cell_type": "code",
   "execution_count": 14,
   "id": "5590d88b-2ab5-4fd5-b801-d222ae70e4c8",
   "metadata": {},
   "outputs": [],
   "source": [
    "def process_large_fits_files(FITS_PATH, SAVE_PATH = None, n=100000, wave_scope_path=\"./wave_scope.json\",start=0):\n",
    "    \"\"\"\n",
    "    处理大量FITS文件的函数，执行数据插值、连续谱拟合、3σ处理和信息提取等操作。\n",
    "    \n",
    "    参数：\n",
    "    FITS_PATH (str): FITS文件的目录路径。\n",
    "    SAVE_PATH (str): 保存处理后数据的路径。\n",
    "    info_save_path (str): 保存提取信息的CSV文件路径。\n",
    "    n (int): 每次处理的最大文件数量。\n",
    "    wave_scope_path (str): 波长范围的JSON文件路径。\n",
    "    \"\"\"\n",
    "    \n",
    "    # 1.读取最小和最大值。保证和训练集处理流程一致\n",
    "    with open(wave_scope_path, \"r\") as file:\n",
    "        wave_scope = json.load(file)\n",
    "    B_wave_scope = wave_scope['B_wave_scope']\n",
    "    R_wave_scope = wave_scope['R_wave_scope']\n",
    "    \n",
    "    # 创建保存目录\n",
    "    flux_save_dir = os.path.join(SAVE_PATH, 'flux')\n",
    "    info_save_dir = os.path.join(SAVE_PATH, 'info')\n",
    "    os.makedirs(flux_save_dir, exist_ok=True)\n",
    "    os.makedirs(info_save_dir, exist_ok=True)\n",
    "    num_files = len(all_path(FITS_PATH)) // n + 1\n",
    "    \n",
    "    # 将一个大文件分多个部分处理\n",
    "    for i in range(start,num_files):\n",
    "        start = i * n\n",
    "        end = (i + 1) * n\n",
    "        \n",
    "         # 定义保存路径\n",
    "        flux_save_path = os.path.join(flux_save_dir, \"{}_flux.npy\".format(i))\n",
    "        info_save_path = os.path.join(info_save_dir, \"{}_info.csv\".format(i))\n",
    "        print(flux_save_path)\n",
    "        \n",
    "        # 2.在范围内进行插值，统一波长范围和数据格式\n",
    "        BR_flux_data, B_wave_fixed, R_wave_fixed, failed_indice = linear_inter(FITS_PATH, B_wave_scope, R_wave_scope, start=start, end=end)\n",
    "\n",
    "        # 3.进行连续谱拟合，并以此对原始光谱数据归一化\n",
    "        BR_flux_data_fitted = normalization_by_polyfit(BR_flux_data, B_wave_fixed, R_wave_fixed, param=None, SAVE_PATH=None)\n",
    "\n",
    "        # 4.基于3σ原则对光谱数据中的异常值进行识别和处理，并归一化，最后将数据保存到save_path\n",
    "        Flux_3sigma_sc, failed_indice = three_sigma_processing(BR_flux_data_fitted, SAVE_PATH_3sigma=flux_save_path,failed_indices=failed_indice)\n",
    "        print(\"failed_indice:\", failed_indice)\n",
    "        # 5. 提取当前范围内的FITS文件信息（OBSID、SNRG、RA、DEC），并将信息保存到CSV文件中\n",
    "        info_df = extract_fits_info(FITS_PATH, start, end, failed_indice=failed_indice, save_path=info_save_path)\n",
    "        print(\"flux shape:\",Flux_3sigma_sc.shape)\n",
    "        print(\"info shape:\",info_df.shape)\n",
    "\n",
    "        \n",
    "    return Flux_3sigma_sc, info_df"
   ]
  },
  {
   "cell_type": "markdown",
   "id": "23cc32f8-a4da-487e-9b51-b0f93a78f990",
   "metadata": {},
   "source": [
    "## 处理 16-20的数据"
   ]
  },
  {
   "cell_type": "code",
   "execution_count": 15,
   "id": "88452230-29ed-4979-9a1b-213e81204ffd",
   "metadata": {},
   "outputs": [
    {
     "name": "stdout",
     "output_type": "stream",
     "text": [
      "../Fits_preprocessed/16-20/flux\\0_flux.npy\n"
     ]
    },
    {
     "name": "stderr",
     "output_type": "stream",
     "text": [
      "100%|█████████████████████████████████████████████████████████████████████████| 100000/100000 [09:49<00:00, 169.58it/s]\n"
     ]
    },
    {
     "name": "stdout",
     "output_type": "stream",
     "text": [
      "The magnitude of the traffic data on the common wavelength position obtained           after interpolation of the red and blue bands separately： 3450\n",
      "Number of processed data： 100000\n"
     ]
    },
    {
     "name": "stderr",
     "output_type": "stream",
     "text": [
      "100%|█████████████████████████████████████████████████████████████████████████| 100000/100000 [08:40<00:00, 192.05it/s]\n",
      "100%|█████████████████████████████████████████████████████████████████████████| 100000/100000 [13:25<00:00, 124.12it/s]\n"
     ]
    },
    {
     "name": "stdout",
     "output_type": "stream",
     "text": [
      "failed_indice: []\n"
     ]
    },
    {
     "name": "stderr",
     "output_type": "stream",
     "text": [
      "100%|█████████████████████████████████████████████████████████████████████████| 100000/100000 [04:38<00:00, 359.27it/s]\n"
     ]
    },
    {
     "name": "stdout",
     "output_type": "stream",
     "text": [
      "flux shape: (100000, 3450)\n",
      "info shape: (100000, 4)\n",
      "../Fits_preprocessed/16-20/flux\\1_flux.npy\n"
     ]
    },
    {
     "name": "stderr",
     "output_type": "stream",
     "text": [
      "100%|█████████████████████████████████████████████████████████████████████████| 100000/100000 [12:03<00:00, 138.22it/s]\n"
     ]
    },
    {
     "name": "stdout",
     "output_type": "stream",
     "text": [
      "The magnitude of the traffic data on the common wavelength position obtained           after interpolation of the red and blue bands separately： 3450\n",
      "Number of processed data： 100000\n"
     ]
    },
    {
     "name": "stderr",
     "output_type": "stream",
     "text": [
      "100%|█████████████████████████████████████████████████████████████████████████| 100000/100000 [09:32<00:00, 174.65it/s]\n",
      "100%|█████████████████████████████████████████████████████████████████████████| 100000/100000 [12:55<00:00, 128.96it/s]\n"
     ]
    },
    {
     "name": "stdout",
     "output_type": "stream",
     "text": [
      "failed_indice: []\n"
     ]
    },
    {
     "name": "stderr",
     "output_type": "stream",
     "text": [
      "100%|█████████████████████████████████████████████████████████████████████████| 100000/100000 [03:46<00:00, 440.62it/s]\n"
     ]
    },
    {
     "name": "stdout",
     "output_type": "stream",
     "text": [
      "flux shape: (100000, 3450)\n",
      "info shape: (100000, 4)\n",
      "../Fits_preprocessed/16-20/flux\\2_flux.npy\n"
     ]
    },
    {
     "name": "stderr",
     "output_type": "stream",
     "text": [
      "100%|█████████████████████████████████████████████████████████████████████████| 100000/100000 [12:26<00:00, 134.04it/s]\n"
     ]
    },
    {
     "name": "stdout",
     "output_type": "stream",
     "text": [
      "The magnitude of the traffic data on the common wavelength position obtained           after interpolation of the red and blue bands separately： 3450\n",
      "Number of processed data： 100000\n"
     ]
    },
    {
     "name": "stderr",
     "output_type": "stream",
     "text": [
      " 53%|███████████████████████████████████████▏                                  | 52893/100000 [04:52<04:09, 188.87it/s]C:\\Users\\ZhaoXR\\AppData\\Local\\Temp\\ipykernel_9556\\3054061946.py:6: RuntimeWarning: invalid value encountered in divide\n",
      "  sp = sp / sp_s        # 用标准差标准化光流量\n",
      " 53%|███████████████████████████████████████▏                                  | 52932/100000 [04:52<04:19, 181.04it/s]"
     ]
    },
    {
     "name": "stdout",
     "output_type": "stream",
     "text": [
      "Handling exceptions, indexed as: 52901\n"
     ]
    },
    {
     "name": "stderr",
     "output_type": "stream",
     "text": [
      " 63%|██████████████████████████████████████████████▊                           | 63182/100000 [05:49<03:15, 188.26it/s]"
     ]
    },
    {
     "name": "stdout",
     "output_type": "stream",
     "text": [
      "Handling exceptions, indexed as: 63144\n"
     ]
    },
    {
     "name": "stderr",
     "output_type": "stream",
     "text": [
      " 65%|████████████████████████████████████████████████▍                         | 65420/100000 [06:01<03:18, 174.07it/s]"
     ]
    },
    {
     "name": "stdout",
     "output_type": "stream",
     "text": [
      "Handling exceptions, indexed as: 65400\n"
     ]
    },
    {
     "name": "stderr",
     "output_type": "stream",
     "text": [
      " 70%|███████████████████████████████████████████████████▊                      | 70026/100000 [06:28<02:37, 189.94it/s]"
     ]
    },
    {
     "name": "stdout",
     "output_type": "stream",
     "text": [
      "Handling exceptions, indexed as: 69989\n"
     ]
    },
    {
     "name": "stderr",
     "output_type": "stream",
     "text": [
      " 72%|████████████████████████████████████████████████████▉                     | 71597/100000 [06:36<02:38, 179.76it/s]"
     ]
    },
    {
     "name": "stdout",
     "output_type": "stream",
     "text": [
      "Handling exceptions, indexed as: 71571\n"
     ]
    },
    {
     "name": "stderr",
     "output_type": "stream",
     "text": [
      " 74%|██████████████████████████████████████████████████████▍                   | 73607/100000 [06:48<02:23, 183.47it/s]"
     ]
    },
    {
     "name": "stdout",
     "output_type": "stream",
     "text": [
      "Handling exceptions, indexed as: 73568\n"
     ]
    },
    {
     "name": "stderr",
     "output_type": "stream",
     "text": [
      " 74%|██████████████████████████████████████████████████████▊                   | 74051/100000 [06:50<02:26, 177.17it/s]"
     ]
    },
    {
     "name": "stdout",
     "output_type": "stream",
     "text": [
      "Handling exceptions, indexed as: 74030\n"
     ]
    },
    {
     "name": "stderr",
     "output_type": "stream",
     "text": [
      " 93%|████████████████████████████████████████████████████████████████████▋     | 92738/100000 [08:36<00:42, 170.45it/s]C:\\Users\\ZhaoXR\\AppData\\Local\\Temp\\ipykernel_9556\\1774348333.py:30: RuntimeWarning: invalid value encountered in divide\n",
      "  BR_flux_data_fitted[i, len(B_wave_fixed):] = BR_flux_data[i][len(B_wave_fixed):] / R_continum_fitted_train\n",
      "100%|█████████████████████████████████████████████████████████████████████████| 100000/100000 [09:17<00:00, 179.42it/s]\n",
      "100%|█████████████████████████████████████████████████████████████████████████| 100000/100000 [12:52<00:00, 129.47it/s]\n"
     ]
    },
    {
     "name": "stdout",
     "output_type": "stream",
     "text": [
      "indices_of_rows_with_nan: [92754]\n",
      "failed_indice: [92754]\n"
     ]
    },
    {
     "name": "stderr",
     "output_type": "stream",
     "text": [
      "100%|█████████████████████████████████████████████████████████████████████████| 100000/100000 [03:27<00:00, 481.78it/s]\n"
     ]
    },
    {
     "name": "stdout",
     "output_type": "stream",
     "text": [
      "flux shape: (99999, 3450)\n",
      "info shape: (99999, 4)\n",
      "../Fits_preprocessed/16-20/flux\\3_flux.npy\n"
     ]
    },
    {
     "name": "stderr",
     "output_type": "stream",
     "text": [
      "100%|█████████████████████████████████████████████████████████████████████████| 100000/100000 [12:06<00:00, 137.60it/s]\n"
     ]
    },
    {
     "name": "stdout",
     "output_type": "stream",
     "text": [
      "The magnitude of the traffic data on the common wavelength position obtained           after interpolation of the red and blue bands separately： 3450\n",
      "Number of processed data： 100000\n"
     ]
    },
    {
     "name": "stderr",
     "output_type": "stream",
     "text": [
      " 49%|████████████████████████████████████▏                                     | 48828/100000 [04:35<04:40, 182.36it/s]C:\\Users\\ZhaoXR\\AppData\\Local\\Temp\\ipykernel_9556\\1774348333.py:30: RuntimeWarning: invalid value encountered in divide\n",
      "  BR_flux_data_fitted[i, len(B_wave_fixed):] = BR_flux_data[i][len(B_wave_fixed):] / R_continum_fitted_train\n",
      "100%|█████████████████████████████████████████████████████████████████████████| 100000/100000 [09:25<00:00, 176.80it/s]\n",
      "100%|█████████████████████████████████████████████████████████████████████████| 100000/100000 [12:57<00:00, 128.54it/s]\n"
     ]
    },
    {
     "name": "stdout",
     "output_type": "stream",
     "text": [
      "indices_of_rows_with_nan: [48839 65253]\n",
      "failed_indice: [48839, 65253]\n"
     ]
    },
    {
     "name": "stderr",
     "output_type": "stream",
     "text": [
      "100%|█████████████████████████████████████████████████████████████████████████| 100000/100000 [03:37<00:00, 460.60it/s]\n"
     ]
    },
    {
     "name": "stdout",
     "output_type": "stream",
     "text": [
      "flux shape: (99998, 3450)\n",
      "info shape: (99998, 4)\n",
      "../Fits_preprocessed/16-20/flux\\4_flux.npy\n"
     ]
    },
    {
     "name": "stderr",
     "output_type": "stream",
     "text": [
      "100%|█████████████████████████████████████████████████████████████████████████| 100000/100000 [12:06<00:00, 137.70it/s]\n"
     ]
    },
    {
     "name": "stdout",
     "output_type": "stream",
     "text": [
      "The magnitude of the traffic data on the common wavelength position obtained           after interpolation of the red and blue bands separately： 3450\n",
      "Number of processed data： 100000\n"
     ]
    },
    {
     "name": "stderr",
     "output_type": "stream",
     "text": [
      " 90%|██████████████████████████████████████████████████████████████████▎       | 89615/100000 [08:52<01:00, 172.05it/s]C:\\Users\\ZhaoXR\\AppData\\Local\\Temp\\ipykernel_9556\\1774348333.py:30: RuntimeWarning: invalid value encountered in divide\n",
      "  BR_flux_data_fitted[i, len(B_wave_fixed):] = BR_flux_data[i][len(B_wave_fixed):] / R_continum_fitted_train\n",
      "100%|█████████████████████████████████████████████████████████████████████████| 100000/100000 [09:53<00:00, 168.40it/s]\n",
      "100%|█████████████████████████████████████████████████████████████████████████| 100000/100000 [12:57<00:00, 128.60it/s]\n"
     ]
    },
    {
     "name": "stdout",
     "output_type": "stream",
     "text": [
      "indices_of_rows_with_nan: [89624]\n",
      "failed_indice: [89624]\n"
     ]
    },
    {
     "name": "stderr",
     "output_type": "stream",
     "text": [
      "100%|█████████████████████████████████████████████████████████████████████████| 100000/100000 [03:31<00:00, 472.94it/s]\n"
     ]
    },
    {
     "name": "stdout",
     "output_type": "stream",
     "text": [
      "flux shape: (99999, 3450)\n",
      "info shape: (99999, 4)\n",
      "../Fits_preprocessed/16-20/flux\\5_flux.npy\n"
     ]
    },
    {
     "name": "stderr",
     "output_type": "stream",
     "text": [
      "100%|█████████████████████████████████████████████████████████████████████████| 100000/100000 [12:01<00:00, 138.58it/s]\n"
     ]
    },
    {
     "name": "stdout",
     "output_type": "stream",
     "text": [
      "The magnitude of the traffic data on the common wavelength position obtained           after interpolation of the red and blue bands separately： 3450\n",
      "Number of processed data： 100000\n"
     ]
    },
    {
     "name": "stderr",
     "output_type": "stream",
     "text": [
      " 12%|████████▋                                                                 | 11696/100000 [01:07<08:12, 179.41it/s]C:\\Users\\ZhaoXR\\AppData\\Local\\Temp\\ipykernel_9556\\1774348333.py:30: RuntimeWarning: invalid value encountered in divide\n",
      "  BR_flux_data_fitted[i, len(B_wave_fixed):] = BR_flux_data[i][len(B_wave_fixed):] / R_continum_fitted_train\n",
      "100%|█████████████████████████████████████████████████████████████████████████| 100000/100000 [09:37<00:00, 173.19it/s]\n",
      "100%|█████████████████████████████████████████████████████████████████████████| 100000/100000 [12:57<00:00, 128.57it/s]\n"
     ]
    },
    {
     "name": "stdout",
     "output_type": "stream",
     "text": [
      "indices_of_rows_with_nan: [11707 31200 60519]\n",
      "failed_indice: [11707, 31200, 60519]\n"
     ]
    },
    {
     "name": "stderr",
     "output_type": "stream",
     "text": [
      "100%|█████████████████████████████████████████████████████████████████████████| 100000/100000 [03:28<00:00, 480.01it/s]\n"
     ]
    },
    {
     "name": "stdout",
     "output_type": "stream",
     "text": [
      "flux shape: (99997, 3450)\n",
      "info shape: (99997, 4)\n",
      "../Fits_preprocessed/16-20/flux\\6_flux.npy\n"
     ]
    },
    {
     "name": "stderr",
     "output_type": "stream",
     "text": [
      "100%|█████████████████████████████████████████████████████████████████████████| 100000/100000 [11:44<00:00, 141.97it/s]\n"
     ]
    },
    {
     "name": "stdout",
     "output_type": "stream",
     "text": [
      "The magnitude of the traffic data on the common wavelength position obtained           after interpolation of the red and blue bands separately： 3450\n",
      "Number of processed data： 100000\n"
     ]
    },
    {
     "name": "stderr",
     "output_type": "stream",
     "text": [
      " 41%|██████████████████████████████▏                                           | 40745/100000 [03:55<05:37, 175.43it/s]C:\\Users\\ZhaoXR\\AppData\\Local\\Temp\\ipykernel_9556\\3054061946.py:6: RuntimeWarning: invalid value encountered in divide\n",
      "  sp = sp / sp_s        # 用标准差标准化光流量\n",
      " 41%|██████████████████████████████▏                                           | 40763/100000 [03:55<05:43, 172.39it/s]"
     ]
    },
    {
     "name": "stdout",
     "output_type": "stream",
     "text": [
      "Handling exceptions, indexed as: 40745\n"
     ]
    },
    {
     "name": "stderr",
     "output_type": "stream",
     "text": [
      " 41%|██████████████████████████████▎                                           | 40902/100000 [03:56<06:10, 159.62it/s]"
     ]
    },
    {
     "name": "stdout",
     "output_type": "stream",
     "text": [
      "Handling exceptions, indexed as: 40873\n"
     ]
    },
    {
     "name": "stderr",
     "output_type": "stream",
     "text": [
      "100%|█████████████████████████████████████████████████████████████████████████| 100000/100000 [09:52<00:00, 168.82it/s]\n",
      "100%|█████████████████████████████████████████████████████████████████████████| 100000/100000 [12:52<00:00, 129.38it/s]\n"
     ]
    },
    {
     "name": "stdout",
     "output_type": "stream",
     "text": [
      "failed_indice: []\n"
     ]
    },
    {
     "name": "stderr",
     "output_type": "stream",
     "text": [
      "100%|█████████████████████████████████████████████████████████████████████████| 100000/100000 [03:20<00:00, 499.96it/s]\n"
     ]
    },
    {
     "name": "stdout",
     "output_type": "stream",
     "text": [
      "flux shape: (100000, 3450)\n",
      "info shape: (100000, 4)\n",
      "../Fits_preprocessed/16-20/flux\\7_flux.npy\n"
     ]
    },
    {
     "name": "stderr",
     "output_type": "stream",
     "text": [
      "100%|███████████████████████████████████████████████████████████████████████████| 20858/20858 [02:17<00:00, 151.80it/s]\n"
     ]
    },
    {
     "name": "stdout",
     "output_type": "stream",
     "text": [
      "The magnitude of the traffic data on the common wavelength position obtained           after interpolation of the red and blue bands separately： 3450\n",
      "Number of processed data： 20858\n"
     ]
    },
    {
     "name": "stderr",
     "output_type": "stream",
     "text": [
      " 82%|█████████████████████████████████████████████████████████████▋             | 17167/20858 [01:26<00:17, 211.23it/s]C:\\Users\\ZhaoXR\\AppData\\Local\\Temp\\ipykernel_9556\\1774348333.py:30: RuntimeWarning: invalid value encountered in divide\n",
      "  BR_flux_data_fitted[i, len(B_wave_fixed):] = BR_flux_data[i][len(B_wave_fixed):] / R_continum_fitted_train\n",
      "100%|███████████████████████████████████████████████████████████████████████████| 20858/20858 [01:45<00:00, 197.60it/s]\n",
      "100%|███████████████████████████████████████████████████████████████████████████| 20858/20858 [02:35<00:00, 134.41it/s]\n"
     ]
    },
    {
     "name": "stdout",
     "output_type": "stream",
     "text": [
      "indices_of_rows_with_nan: [17186]\n",
      "failed_indice: [17186]\n"
     ]
    },
    {
     "name": "stderr",
     "output_type": "stream",
     "text": [
      "100%|███████████████████████████████████████████████████████████████████████████| 20858/20858 [00:28<00:00, 742.83it/s]\n"
     ]
    },
    {
     "name": "stdout",
     "output_type": "stream",
     "text": [
      "flux shape: (20857, 3450)\n",
      "info shape: (20857, 4)\n"
     ]
    },
    {
     "data": {
      "text/plain": [
       "(array([[-3.74697278, -3.78235195, -3.69388501, ...,  0.88686407,\n",
       "          0.59490921,  0.05755014],\n",
       "        [-3.95207231, -0.09017275, -2.72029037, ..., -1.65022614,\n",
       "         -1.54198895, -2.50544793],\n",
       "        [-0.10987553, -4.01185717, -1.89651461, ...,  1.94595702,\n",
       "          0.17206218,  0.82726523],\n",
       "        ...,\n",
       "        [-0.03144827, -0.03144827, -0.03144827, ..., -1.00664445,\n",
       "         -1.01485043, -0.92718756],\n",
       "        [-0.03503371, -2.8985549 , -0.22527337, ..., -0.03503371,\n",
       "         -0.03503371, -0.03503371],\n",
       "        [-2.69544571, -2.15008595,  0.96185225, ...,  0.78169599,\n",
       "          0.75834781,  0.84654214]]),\n",
       "             obsid   snrg          ra        dec\n",
       " 0      1058111173  18.11   96.159323  54.537961\n",
       " 1      1058111217  17.66   97.274598  54.718099\n",
       " 2      1058112005  16.79   99.564636  53.826233\n",
       " 3      1058112010  18.28   99.751652  54.073488\n",
       " 4      1058112019  16.12   99.457830  53.805246\n",
       " ...           ...    ...         ...        ...\n",
       " 20852  1128116025  16.79  281.796073  36.242230\n",
       " 20853  1128116185  19.03  282.704266  36.450098\n",
       " 20854  1128116188  19.58  282.715687  36.480339\n",
       " 20855  1128116218  16.30  282.437182  36.552605\n",
       " 20856  1128116236  17.31  283.152804  37.126216\n",
       " \n",
       " [20857 rows x 4 columns])"
      ]
     },
     "execution_count": 15,
     "metadata": {},
     "output_type": "execute_result"
    }
   ],
   "source": [
    "FITS_PATH = r'../catalog_download/FITS/16-20/'\n",
    "SAVE_PATH = r'../Fits_preprocessed/16-20/'\n",
    "\n",
    "n = 100000   \n",
    "\n",
    "process_large_fits_files(FITS_PATH, SAVE_PATH = SAVE_PATH , n=n)"
   ]
  },
  {
   "cell_type": "markdown",
   "id": "160b4a80-79d5-4d06-9e39-94c45d82d4e9",
   "metadata": {},
   "source": [
    "## 处理 30-35的数据"
   ]
  },
  {
   "cell_type": "code",
   "execution_count": 16,
   "id": "aab7a0d5-9ca6-43e2-a174-83eac2dcb8b3",
   "metadata": {},
   "outputs": [
    {
     "name": "stdout",
     "output_type": "stream",
     "text": [
      "../Fits_preprocessed/30-35/flux\\0_flux.npy\n"
     ]
    },
    {
     "name": "stderr",
     "output_type": "stream",
     "text": [
      "100%|█████████████████████████████████████████████████████████████████████████| 100000/100000 [10:04<00:00, 165.47it/s]\n"
     ]
    },
    {
     "name": "stdout",
     "output_type": "stream",
     "text": [
      "The magnitude of the traffic data on the common wavelength position obtained           after interpolation of the red and blue bands separately： 3450\n",
      "Number of processed data： 100000\n"
     ]
    },
    {
     "name": "stderr",
     "output_type": "stream",
     "text": [
      "100%|█████████████████████████████████████████████████████████████████████████| 100000/100000 [09:56<00:00, 167.55it/s]\n",
      "100%|█████████████████████████████████████████████████████████████████████████| 100000/100000 [12:47<00:00, 130.32it/s]\n"
     ]
    },
    {
     "name": "stdout",
     "output_type": "stream",
     "text": [
      "failed_indice: []\n"
     ]
    },
    {
     "name": "stderr",
     "output_type": "stream",
     "text": [
      "100%|█████████████████████████████████████████████████████████████████████████| 100000/100000 [03:23<00:00, 492.27it/s]\n"
     ]
    },
    {
     "name": "stdout",
     "output_type": "stream",
     "text": [
      "flux shape: (100000, 3450)\n",
      "info shape: (100000, 4)\n",
      "../Fits_preprocessed/30-35/flux\\1_flux.npy\n"
     ]
    },
    {
     "name": "stderr",
     "output_type": "stream",
     "text": [
      "100%|█████████████████████████████████████████████████████████████████████████| 100000/100000 [12:03<00:00, 138.13it/s]\n"
     ]
    },
    {
     "name": "stdout",
     "output_type": "stream",
     "text": [
      "The magnitude of the traffic data on the common wavelength position obtained           after interpolation of the red and blue bands separately： 3450\n",
      "Number of processed data： 100000\n"
     ]
    },
    {
     "name": "stderr",
     "output_type": "stream",
     "text": [
      "100%|█████████████████████████████████████████████████████████████████████████| 100000/100000 [10:19<00:00, 161.42it/s]\n",
      "100%|█████████████████████████████████████████████████████████████████████████| 100000/100000 [12:58<00:00, 128.42it/s]\n"
     ]
    },
    {
     "name": "stdout",
     "output_type": "stream",
     "text": [
      "failed_indice: []\n"
     ]
    },
    {
     "name": "stderr",
     "output_type": "stream",
     "text": [
      "100%|█████████████████████████████████████████████████████████████████████████| 100000/100000 [03:30<00:00, 474.48it/s]\n"
     ]
    },
    {
     "name": "stdout",
     "output_type": "stream",
     "text": [
      "flux shape: (100000, 3450)\n",
      "info shape: (100000, 4)\n",
      "../Fits_preprocessed/30-35/flux\\2_flux.npy\n"
     ]
    },
    {
     "name": "stderr",
     "output_type": "stream",
     "text": [
      "100%|█████████████████████████████████████████████████████████████████████████| 100000/100000 [12:26<00:00, 133.92it/s]\n"
     ]
    },
    {
     "name": "stdout",
     "output_type": "stream",
     "text": [
      "The magnitude of the traffic data on the common wavelength position obtained           after interpolation of the red and blue bands separately： 3450\n",
      "Number of processed data： 100000\n"
     ]
    },
    {
     "name": "stderr",
     "output_type": "stream",
     "text": [
      "  0%|                                                                               | 9/100000 [00:00<18:48, 88.62it/s]C:\\Users\\ZhaoXR\\AppData\\Local\\Temp\\ipykernel_9556\\1774348333.py:30: RuntimeWarning: invalid value encountered in divide\n",
      "  BR_flux_data_fitted[i, len(B_wave_fixed):] = BR_flux_data[i][len(B_wave_fixed):] / R_continum_fitted_train\n",
      "  9%|███████                                                                    | 9448/100000 [01:05<10:12, 147.85it/s]C:\\Users\\ZhaoXR\\AppData\\Local\\Temp\\ipykernel_9556\\3054061946.py:6: RuntimeWarning: invalid value encountered in divide\n",
      "  sp = sp / sp_s        # 用标准差标准化光流量\n",
      "  9%|███████                                                                    | 9479/100000 [01:05<10:09, 148.58it/s]"
     ]
    },
    {
     "name": "stdout",
     "output_type": "stream",
     "text": [
      "Handling exceptions, indexed as: 9458\n"
     ]
    },
    {
     "name": "stderr",
     "output_type": "stream",
     "text": [
      "100%|█████████████████████████████████████████████████████████████████████████| 100000/100000 [11:18<00:00, 147.38it/s]\n",
      "100%|█████████████████████████████████████████████████████████████████████████| 100000/100000 [12:59<00:00, 128.36it/s]\n"
     ]
    },
    {
     "name": "stdout",
     "output_type": "stream",
     "text": [
      "indices_of_rows_with_nan: [   18 38863 41821 49226 65245 68074]\n",
      "failed_indice: [18, 38863, 41821, 49226, 65245, 68074]\n"
     ]
    },
    {
     "name": "stderr",
     "output_type": "stream",
     "text": [
      "100%|█████████████████████████████████████████████████████████████████████████| 100000/100000 [03:39<00:00, 455.91it/s]\n"
     ]
    },
    {
     "name": "stdout",
     "output_type": "stream",
     "text": [
      "flux shape: (99994, 3450)\n",
      "info shape: (99994, 4)\n",
      "../Fits_preprocessed/30-35/flux\\3_flux.npy\n"
     ]
    },
    {
     "name": "stderr",
     "output_type": "stream",
     "text": [
      "100%|█████████████████████████████████████████████████████████████████████████| 100000/100000 [12:26<00:00, 133.90it/s]\n"
     ]
    },
    {
     "name": "stdout",
     "output_type": "stream",
     "text": [
      "The magnitude of the traffic data on the common wavelength position obtained           after interpolation of the red and blue bands separately： 3450\n",
      "Number of processed data： 100000\n"
     ]
    },
    {
     "name": "stderr",
     "output_type": "stream",
     "text": [
      "  6%|████▊                                                                      | 6381/100000 [00:42<09:58, 156.30it/s]C:\\Users\\ZhaoXR\\AppData\\Local\\Temp\\ipykernel_9556\\1774348333.py:30: RuntimeWarning: invalid value encountered in divide\n",
      "  BR_flux_data_fitted[i, len(B_wave_fixed):] = BR_flux_data[i][len(B_wave_fixed):] / R_continum_fitted_train\n",
      "100%|█████████████████████████████████████████████████████████████████████████| 100000/100000 [11:02<00:00, 150.84it/s]\n",
      "100%|█████████████████████████████████████████████████████████████████████████| 100000/100000 [13:07<00:00, 126.92it/s]\n"
     ]
    },
    {
     "name": "stdout",
     "output_type": "stream",
     "text": [
      "indices_of_rows_with_nan: [6388]\n",
      "failed_indice: [6388]\n"
     ]
    },
    {
     "name": "stderr",
     "output_type": "stream",
     "text": [
      "100%|█████████████████████████████████████████████████████████████████████████| 100000/100000 [03:34<00:00, 466.37it/s]\n"
     ]
    },
    {
     "name": "stdout",
     "output_type": "stream",
     "text": [
      "flux shape: (99999, 3450)\n",
      "info shape: (99999, 4)\n",
      "../Fits_preprocessed/30-35/flux\\4_flux.npy\n"
     ]
    },
    {
     "name": "stderr",
     "output_type": "stream",
     "text": [
      "100%|█████████████████████████████████████████████████████████████████████████| 100000/100000 [12:45<00:00, 130.64it/s]\n"
     ]
    },
    {
     "name": "stdout",
     "output_type": "stream",
     "text": [
      "The magnitude of the traffic data on the common wavelength position obtained           after interpolation of the red and blue bands separately： 3450\n",
      "Number of processed data： 100000\n"
     ]
    },
    {
     "name": "stderr",
     "output_type": "stream",
     "text": [
      "100%|█████████████████████████████████████████████████████████████████████████| 100000/100000 [12:38<00:00, 131.80it/s]\n",
      "100%|█████████████████████████████████████████████████████████████████████████| 100000/100000 [13:05<00:00, 127.32it/s]\n"
     ]
    },
    {
     "name": "stdout",
     "output_type": "stream",
     "text": [
      "failed_indice: []\n"
     ]
    },
    {
     "name": "stderr",
     "output_type": "stream",
     "text": [
      "100%|█████████████████████████████████████████████████████████████████████████| 100000/100000 [04:41<00:00, 354.70it/s]\n"
     ]
    },
    {
     "name": "stdout",
     "output_type": "stream",
     "text": [
      "flux shape: (100000, 3450)\n",
      "info shape: (100000, 4)\n",
      "../Fits_preprocessed/30-35/flux\\5_flux.npy\n"
     ]
    },
    {
     "name": "stderr",
     "output_type": "stream",
     "text": [
      "100%|█████████████████████████████████████████████████████████████████████████████| 3312/3312 [00:22<00:00, 145.53it/s]\n"
     ]
    },
    {
     "name": "stdout",
     "output_type": "stream",
     "text": [
      "The magnitude of the traffic data on the common wavelength position obtained           after interpolation of the red and blue bands separately： 3450\n",
      "Number of processed data： 3312\n"
     ]
    },
    {
     "name": "stderr",
     "output_type": "stream",
     "text": [
      " 30%|███████████████████████                                                       | 981/3312 [00:05<00:12, 179.85it/s]C:\\Users\\ZhaoXR\\AppData\\Local\\Temp\\ipykernel_9556\\1774348333.py:30: RuntimeWarning: invalid value encountered in divide\n",
      "  BR_flux_data_fitted[i, len(B_wave_fixed):] = BR_flux_data[i][len(B_wave_fixed):] / R_continum_fitted_train\n",
      "100%|█████████████████████████████████████████████████████████████████████████████| 3312/3312 [00:18<00:00, 182.43it/s]\n",
      "100%|█████████████████████████████████████████████████████████████████████████████| 3312/3312 [00:24<00:00, 135.74it/s]\n"
     ]
    },
    {
     "name": "stdout",
     "output_type": "stream",
     "text": [
      "indices_of_rows_with_nan: [984]\n",
      "failed_indice: [984]\n"
     ]
    },
    {
     "name": "stderr",
     "output_type": "stream",
     "text": [
      "100%|█████████████████████████████████████████████████████████████████████████████| 3312/3312 [00:04<00:00, 779.32it/s]"
     ]
    },
    {
     "name": "stdout",
     "output_type": "stream",
     "text": [
      "flux shape: (3311, 3450)\n",
      "info shape: (3311, 4)\n"
     ]
    },
    {
     "name": "stderr",
     "output_type": "stream",
     "text": [
      "\n"
     ]
    },
    {
     "data": {
      "text/plain": [
       "(array([[-0.05129747, -2.5004574 , -2.38433456, ...,  0.05830685,\n",
       "         -0.27884234, -0.27488583],\n",
       "        [-0.17716117, -3.33416107, -3.39773674, ...,  0.20671677,\n",
       "          0.41901137,  0.16856611],\n",
       "        [-0.12313798, -3.9372145 , -0.12313798, ...,  0.1459633 ,\n",
       "          0.18669405,  0.11261704],\n",
       "        ...,\n",
       "        [-0.15333518, -0.15333518, -0.91734887, ...,  2.02395608,\n",
       "          2.04970277,  0.91095282],\n",
       "        [-0.13486798, -0.68260919, -1.03729732, ..., -0.66805934,\n",
       "         -1.09318194, -0.9668637 ],\n",
       "        [-2.50741085, -0.06669427, -0.06669427, ..., -0.02669275,\n",
       "         -0.32519711, -0.08979576]]),\n",
       "            obsid   snrg          ra        dec\n",
       " 0     1111015106  34.83  195.814089  11.710451\n",
       " 1     1111015112  31.34  195.552356  11.839663\n",
       " 2     1111015118  32.89  195.642502  11.799528\n",
       " 3     1111015119  31.06  195.530596  11.772068\n",
       " 4     1111015149  30.09  195.514151  12.047389\n",
       " ...          ...    ...         ...        ...\n",
       " 3306  1128116056  31.47  283.267134  36.529686\n",
       " 3307  1128116095  30.09  282.398290  36.193330\n",
       " 3308  1128116108  34.13  283.615755  36.480875\n",
       " 3309  1128116194  30.03  282.460885  36.350100\n",
       " 3310  1128116231  31.93  283.095458  36.982137\n",
       " \n",
       " [3311 rows x 4 columns])"
      ]
     },
     "execution_count": 16,
     "metadata": {},
     "output_type": "execute_result"
    }
   ],
   "source": [
    "FITS_PATH = r'../catalog_download/FITS/30-35/'\n",
    "SAVE_PATH = r'../Fits_preprocessed/30-35/'\n",
    "\n",
    "n = 100000   \n",
    "\n",
    "process_large_fits_files(FITS_PATH, SAVE_PATH = SAVE_PATH , n=n)"
   ]
  },
  {
   "cell_type": "markdown",
   "id": "5f433f61-d39b-46a1-b334-8fb211f8a70e",
   "metadata": {},
   "source": [
    "## 处理 30-35的数据"
   ]
  },
  {
   "cell_type": "code",
   "execution_count": 17,
   "id": "3d18db6e-8e9b-4cab-ad19-3f27db5eb697",
   "metadata": {},
   "outputs": [
    {
     "name": "stdout",
     "output_type": "stream",
     "text": [
      "../Fits_preprocessed/13-16/flux\\0_flux.npy\n"
     ]
    },
    {
     "name": "stderr",
     "output_type": "stream",
     "text": [
      "100%|█████████████████████████████████████████████████████████████████████████| 100000/100000 [10:18<00:00, 161.71it/s]\n"
     ]
    },
    {
     "name": "stdout",
     "output_type": "stream",
     "text": [
      "The magnitude of the traffic data on the common wavelength position obtained           after interpolation of the red and blue bands separately： 3450\n",
      "Number of processed data： 100000\n"
     ]
    },
    {
     "name": "stderr",
     "output_type": "stream",
     "text": [
      "100%|█████████████████████████████████████████████████████████████████████████| 100000/100000 [09:13<00:00, 180.57it/s]\n",
      "100%|█████████████████████████████████████████████████████████████████████████| 100000/100000 [12:45<00:00, 130.62it/s]\n"
     ]
    },
    {
     "name": "stdout",
     "output_type": "stream",
     "text": [
      "failed_indice: []\n"
     ]
    },
    {
     "name": "stderr",
     "output_type": "stream",
     "text": [
      "100%|█████████████████████████████████████████████████████████████████████████| 100000/100000 [03:29<00:00, 478.25it/s]\n"
     ]
    },
    {
     "name": "stdout",
     "output_type": "stream",
     "text": [
      "flux shape: (100000, 3450)\n",
      "info shape: (100000, 4)\n",
      "../Fits_preprocessed/13-16/flux\\1_flux.npy\n"
     ]
    },
    {
     "name": "stderr",
     "output_type": "stream",
     "text": [
      "100%|█████████████████████████████████████████████████████████████████████████| 100000/100000 [12:18<00:00, 135.39it/s]\n"
     ]
    },
    {
     "name": "stdout",
     "output_type": "stream",
     "text": [
      "The magnitude of the traffic data on the common wavelength position obtained           after interpolation of the red and blue bands separately： 3450\n",
      "Number of processed data： 100000\n"
     ]
    },
    {
     "name": "stderr",
     "output_type": "stream",
     "text": [
      "100%|█████████████████████████████████████████████████████████████████████████| 100000/100000 [09:49<00:00, 169.65it/s]\n",
      "100%|█████████████████████████████████████████████████████████████████████████| 100000/100000 [12:51<00:00, 129.61it/s]\n"
     ]
    },
    {
     "name": "stdout",
     "output_type": "stream",
     "text": [
      "failed_indice: []\n"
     ]
    },
    {
     "name": "stderr",
     "output_type": "stream",
     "text": [
      "100%|█████████████████████████████████████████████████████████████████████████| 100000/100000 [03:25<00:00, 486.34it/s]\n"
     ]
    },
    {
     "name": "stdout",
     "output_type": "stream",
     "text": [
      "flux shape: (100000, 3450)\n",
      "info shape: (100000, 4)\n",
      "../Fits_preprocessed/13-16/flux\\2_flux.npy\n"
     ]
    },
    {
     "name": "stderr",
     "output_type": "stream",
     "text": [
      "100%|█████████████████████████████████████████████████████████████████████████| 100000/100000 [12:19<00:00, 135.29it/s]\n"
     ]
    },
    {
     "name": "stdout",
     "output_type": "stream",
     "text": [
      "The magnitude of the traffic data on the common wavelength position obtained           after interpolation of the red and blue bands separately： 3450\n",
      "Number of processed data： 100000\n"
     ]
    },
    {
     "name": "stderr",
     "output_type": "stream",
     "text": [
      " 42%|██████████████████████████████▋                                           | 41549/100000 [04:20<06:23, 152.42it/s]C:\\Users\\ZhaoXR\\AppData\\Local\\Temp\\ipykernel_9556\\3054061946.py:6: RuntimeWarning: invalid value encountered in divide\n",
      "  sp = sp / sp_s        # 用标准差标准化光流量\n",
      " 42%|██████████████████████████████▊                                           | 41582/100000 [04:21<06:14, 155.94it/s]"
     ]
    },
    {
     "name": "stdout",
     "output_type": "stream",
     "text": [
      "Handling exceptions, indexed as: 41562\n"
     ]
    },
    {
     "name": "stderr",
     "output_type": "stream",
     "text": [
      " 61%|█████████████████████████████████████████████▎                            | 61234/100000 [06:26<04:04, 158.31it/s]"
     ]
    },
    {
     "name": "stdout",
     "output_type": "stream",
     "text": [
      "Handling exceptions, indexed as: 61199\n"
     ]
    },
    {
     "name": "stderr",
     "output_type": "stream",
     "text": [
      " 99%|█████████████████████████████████████████████████████████████████████████▌| 99368/100000 [10:34<00:04, 155.42it/s]C:\\Users\\ZhaoXR\\AppData\\Local\\Temp\\ipykernel_9556\\1774348333.py:30: RuntimeWarning: divide by zero encountered in divide\n",
      "  BR_flux_data_fitted[i, len(B_wave_fixed):] = BR_flux_data[i][len(B_wave_fixed):] / R_continum_fitted_train\n",
      "C:\\Users\\ZhaoXR\\AppData\\Local\\Temp\\ipykernel_9556\\1774348333.py:30: RuntimeWarning: invalid value encountered in divide\n",
      "  BR_flux_data_fitted[i, len(B_wave_fixed):] = BR_flux_data[i][len(B_wave_fixed):] / R_continum_fitted_train\n",
      "100%|█████████████████████████████████████████████████████████████████████████| 100000/100000 [10:38<00:00, 156.64it/s]\n",
      "100%|█████████████████████████████████████████████████████████████████████████| 100000/100000 [12:48<00:00, 130.20it/s]\n"
     ]
    },
    {
     "name": "stdout",
     "output_type": "stream",
     "text": [
      "数据中存在无穷大值。\n",
      "indices_of_rows_with_nan: [99380]\n",
      "failed_indice: [99380]\n"
     ]
    },
    {
     "name": "stderr",
     "output_type": "stream",
     "text": [
      "100%|█████████████████████████████████████████████████████████████████████████| 100000/100000 [04:32<00:00, 367.16it/s]\n"
     ]
    },
    {
     "name": "stdout",
     "output_type": "stream",
     "text": [
      "flux shape: (99999, 3450)\n",
      "info shape: (99999, 4)\n",
      "../Fits_preprocessed/13-16/flux\\3_flux.npy\n"
     ]
    },
    {
     "name": "stderr",
     "output_type": "stream",
     "text": [
      "100%|█████████████████████████████████████████████████████████████████████████| 100000/100000 [12:29<00:00, 133.34it/s]\n"
     ]
    },
    {
     "name": "stdout",
     "output_type": "stream",
     "text": [
      "The magnitude of the traffic data on the common wavelength position obtained           after interpolation of the red and blue bands separately： 3450\n",
      "Number of processed data： 100000\n"
     ]
    },
    {
     "name": "stderr",
     "output_type": "stream",
     "text": [
      " 73%|█████████████████████████████████████████████████████▉                    | 72858/100000 [07:23<03:06, 145.52it/s]C:\\Users\\ZhaoXR\\AppData\\Local\\Temp\\ipykernel_9556\\1774348333.py:30: RuntimeWarning: invalid value encountered in divide\n",
      "  BR_flux_data_fitted[i, len(B_wave_fixed):] = BR_flux_data[i][len(B_wave_fixed):] / R_continum_fitted_train\n",
      "100%|█████████████████████████████████████████████████████████████████████████| 100000/100000 [10:07<00:00, 164.57it/s]\n",
      "100%|█████████████████████████████████████████████████████████████████████████| 100000/100000 [12:52<00:00, 129.41it/s]\n"
     ]
    },
    {
     "name": "stdout",
     "output_type": "stream",
     "text": [
      "indices_of_rows_with_nan: [72865]\n",
      "failed_indice: [72865]\n"
     ]
    },
    {
     "name": "stderr",
     "output_type": "stream",
     "text": [
      "100%|█████████████████████████████████████████████████████████████████████████| 100000/100000 [03:17<00:00, 506.40it/s]\n"
     ]
    },
    {
     "name": "stdout",
     "output_type": "stream",
     "text": [
      "flux shape: (99999, 3450)\n",
      "info shape: (99999, 4)\n",
      "../Fits_preprocessed/13-16/flux\\4_flux.npy\n"
     ]
    },
    {
     "name": "stderr",
     "output_type": "stream",
     "text": [
      "100%|█████████████████████████████████████████████████████████████████████████| 100000/100000 [12:41<00:00, 131.25it/s]\n"
     ]
    },
    {
     "name": "stdout",
     "output_type": "stream",
     "text": [
      "The magnitude of the traffic data on the common wavelength position obtained           after interpolation of the red and blue bands separately： 3450\n",
      "Number of processed data： 100000\n"
     ]
    },
    {
     "name": "stderr",
     "output_type": "stream",
     "text": [
      " 37%|███████████████████████████                                               | 36569/100000 [04:01<07:42, 137.28it/s]C:\\Users\\ZhaoXR\\AppData\\Local\\Temp\\ipykernel_9556\\1774348333.py:30: RuntimeWarning: invalid value encountered in divide\n",
      "  BR_flux_data_fitted[i, len(B_wave_fixed):] = BR_flux_data[i][len(B_wave_fixed):] / R_continum_fitted_train\n",
      "100%|█████████████████████████████████████████████████████████████████████████| 100000/100000 [10:59<00:00, 151.61it/s]\n",
      "100%|█████████████████████████████████████████████████████████████████████████| 100000/100000 [12:44<00:00, 130.83it/s]\n"
     ]
    },
    {
     "name": "stdout",
     "output_type": "stream",
     "text": [
      "indices_of_rows_with_nan: [36570 87987]\n",
      "failed_indice: [36570, 87987]\n"
     ]
    },
    {
     "name": "stderr",
     "output_type": "stream",
     "text": [
      "100%|█████████████████████████████████████████████████████████████████████████| 100000/100000 [03:25<00:00, 486.52it/s]\n"
     ]
    },
    {
     "name": "stdout",
     "output_type": "stream",
     "text": [
      "flux shape: (99998, 3450)\n",
      "info shape: (99998, 4)\n",
      "../Fits_preprocessed/13-16/flux\\5_flux.npy\n"
     ]
    },
    {
     "name": "stderr",
     "output_type": "stream",
     "text": [
      "100%|█████████████████████████████████████████████████████████████████████████| 100000/100000 [12:21<00:00, 134.86it/s]\n"
     ]
    },
    {
     "name": "stdout",
     "output_type": "stream",
     "text": [
      "The magnitude of the traffic data on the common wavelength position obtained           after interpolation of the red and blue bands separately： 3450\n",
      "Number of processed data： 100000\n"
     ]
    },
    {
     "name": "stderr",
     "output_type": "stream",
     "text": [
      " 16%|███████████▍                                                              | 15503/100000 [01:31<08:31, 165.06it/s]C:\\Users\\ZhaoXR\\AppData\\Local\\Temp\\ipykernel_9556\\1774348333.py:30: RuntimeWarning: invalid value encountered in divide\n",
      "  BR_flux_data_fitted[i, len(B_wave_fixed):] = BR_flux_data[i][len(B_wave_fixed):] / R_continum_fitted_train\n",
      " 82%|████████████████████████████████████████████████████████████▎             | 81504/100000 [08:10<01:48, 170.18it/s]C:\\Users\\ZhaoXR\\AppData\\Local\\Temp\\ipykernel_9556\\3054061946.py:6: RuntimeWarning: invalid value encountered in divide\n",
      "  sp = sp / sp_s        # 用标准差标准化光流量\n",
      " 82%|████████████████████████████████████████████████████████████▎             | 81539/100000 [08:10<01:56, 158.35it/s]"
     ]
    },
    {
     "name": "stdout",
     "output_type": "stream",
     "text": [
      "Handling exceptions, indexed as: 81519\n"
     ]
    },
    {
     "name": "stderr",
     "output_type": "stream",
     "text": [
      "100%|█████████████████████████████████████████████████████████████████████████| 100000/100000 [10:04<00:00, 165.51it/s]\n",
      "100%|█████████████████████████████████████████████████████████████████████████| 100000/100000 [12:47<00:00, 130.30it/s]\n"
     ]
    },
    {
     "name": "stdout",
     "output_type": "stream",
     "text": [
      "indices_of_rows_with_nan: [15517 15996 20671 79034 90406 90548]\n",
      "failed_indice: [15517, 15996, 20671, 79034, 90406, 90548]\n"
     ]
    },
    {
     "name": "stderr",
     "output_type": "stream",
     "text": [
      "100%|█████████████████████████████████████████████████████████████████████████| 100000/100000 [03:15<00:00, 511.39it/s]\n"
     ]
    },
    {
     "name": "stdout",
     "output_type": "stream",
     "text": [
      "flux shape: (99994, 3450)\n",
      "info shape: (99994, 4)\n",
      "../Fits_preprocessed/13-16/flux\\6_flux.npy\n"
     ]
    },
    {
     "name": "stderr",
     "output_type": "stream",
     "text": [
      "100%|███████████████████████████████████████████████████████████████████████████| 64832/64832 [07:53<00:00, 136.85it/s]\n"
     ]
    },
    {
     "name": "stdout",
     "output_type": "stream",
     "text": [
      "The magnitude of the traffic data on the common wavelength position obtained           after interpolation of the red and blue bands separately： 3450\n",
      "Number of processed data： 64832\n"
     ]
    },
    {
     "name": "stderr",
     "output_type": "stream",
     "text": [
      "100%|███████████████████████████████████████████████████████████████████████████| 64832/64832 [06:56<00:00, 155.79it/s]\n",
      "100%|███████████████████████████████████████████████████████████████████████████| 64832/64832 [08:13<00:00, 131.42it/s]\n"
     ]
    },
    {
     "name": "stdout",
     "output_type": "stream",
     "text": [
      "failed_indice: []\n"
     ]
    },
    {
     "name": "stderr",
     "output_type": "stream",
     "text": [
      "100%|███████████████████████████████████████████████████████████████████████████| 64832/64832 [01:44<00:00, 621.36it/s]\n"
     ]
    },
    {
     "name": "stdout",
     "output_type": "stream",
     "text": [
      "flux shape: (64832, 3450)\n",
      "info shape: (64832, 4)\n"
     ]
    },
    {
     "data": {
      "text/plain": [
       "(array([[-2.97828739,  0.88465233, -1.8623727 , ..., -0.18062994,\n",
       "         -0.17502067, -0.25175281],\n",
       "        [-0.00428256, -0.00428256, -0.00428256, ...,  0.38326399,\n",
       "          0.316794  ,  0.00576271],\n",
       "        [-3.47386224, -3.63560934, -0.09552162, ..., -2.97246436,\n",
       "         -2.45297556, -2.97563499],\n",
       "        ...,\n",
       "        [-0.05584169, -0.05584169, -4.14034076, ..., -0.05584169,\n",
       "         -0.05584169, -0.05584169],\n",
       "        [ 0.69669136, -2.03940532,  0.50247878, ...,  1.42897857,\n",
       "         -0.08351701,  1.37173952],\n",
       "        [ 0.06477717, -1.68182388,  2.25408616, ..., -0.39503176,\n",
       "         -0.69863197, -0.69099562]]),\n",
       "             obsid   snrg          ra        dec\n",
       " 0       892716117  15.26  223.691252  51.889493\n",
       " 1       892716119  15.42  223.512896  51.799577\n",
       " 2       892716156  15.33  222.652846  51.510397\n",
       " 3       892716202  13.62  221.992778  51.841686\n",
       " 4       892716227  13.50  222.805132  52.095758\n",
       " ...           ...    ...         ...        ...\n",
       " 64827  1128115224  15.53  284.168689  36.144380\n",
       " 64828  1128116010  13.95  282.058052  36.119280\n",
       " 64829  1128116012  13.22  282.189049  36.214662\n",
       " 64830  1128116039  15.76  282.682700  36.908512\n",
       " 64831  1128116197  13.39  282.914898  36.355098\n",
       " \n",
       " [64832 rows x 4 columns])"
      ]
     },
     "execution_count": 17,
     "metadata": {},
     "output_type": "execute_result"
    }
   ],
   "source": [
    "FITS_PATH = r'../catalog_download/FITS/13-16/'\n",
    "SAVE_PATH = r'../Fits_preprocessed/13-16/'\n",
    "\n",
    "n = 100000   \n",
    "\n",
    "process_large_fits_files(FITS_PATH, SAVE_PATH = SAVE_PATH , n=n)"
   ]
  },
  {
   "cell_type": "code",
   "execution_count": null,
   "id": "b308ed73-30a3-4110-8627-c7fbd382f973",
   "metadata": {},
   "outputs": [],
   "source": []
  }
 ],
 "metadata": {
  "kernelspec": {
   "display_name": "Python 3 (ipykernel)",
   "language": "python",
   "name": "python3"
  },
  "language_info": {
   "codemirror_mode": {
    "name": "ipython",
    "version": 3
   },
   "file_extension": ".py",
   "mimetype": "text/x-python",
   "name": "python",
   "nbconvert_exporter": "python",
   "pygments_lexer": "ipython3",
   "version": "3.9.16"
  }
 },
 "nbformat": 4,
 "nbformat_minor": 5
}
