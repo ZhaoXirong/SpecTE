{
 "cells": [
  {
   "cell_type": "code",
   "execution_count": 5,
   "id": "a6866884-224d-4cfc-addb-7a2c9e0b443d",
   "metadata": {},
   "outputs": [],
   "source": [
    "import wget\n",
    "import os\n",
    "import pickle\n",
    "import json"
   ]
  },
  {
   "cell_type": "code",
   "execution_count": 6,
   "id": "8eaf8a6d-ed55-4b5a-9ce5-cbe87322a749",
   "metadata": {},
   "outputs": [],
   "source": [
    "# # 定义文件路径\n",
    "\n",
    "# 定义文件路径\n",
    "url_txt_path = r\"G:\\Star\\4_SpecTE-LAMOST_catalog\\1_download_and_preprocessing_LAMOSTDR11\\catalog_download\\download_url\\16-20.txt\"     # URL文件\n",
    "download_path = r\"G:\\Star\\4_SpecTE-LAMOST_catalog\\1_download_and_preprocessing_LAMOSTDR11\\catalog_download\\FITS\\16-20\"        # 目标下载位置\n",
    "progress_file = r'G:\\Star\\4_SpecTE-LAMOST_catalog\\1_download_and_preprocessing_LAMOSTDR11\\catalog_download\\progress\\download_progress_16-20.json'    # 保存下载进度log文件（保存进度，用于恢复下载）\n",
    "\n",
    "# url_txt_path = \"./download_url/5-6.txt\"\n",
    "# download_path = \"./Fits/5-6\"\n",
    "# progress_file = \"./Fits/download_progress_5-6.json\""
   ]
  },
  {
   "cell_type": "markdown",
   "id": "e2cfebae-91fd-429f-94c6-bed9f9ab4c94",
   "metadata": {},
   "source": [
    "# 开始下载"
   ]
  },
  {
   "cell_type": "code",
   "execution_count": 7,
   "id": "8dfcbc96-4746-46c9-a1b7-6aa5e76be0cd",
   "metadata": {},
   "outputs": [],
   "source": [
    "# 保存下载进程\n",
    "def save_progress(progress, progress_file):\n",
    "    with open(progress_file, 'w') as f:\n",
    "        json.dump(progress, f)\n",
    "\n",
    "# 加载下载进程\n",
    "def load_progress(progress_file):\n",
    "    if os.path.exists(progress_file):\n",
    "        with open(progress_file, 'r') as f:\n",
    "            return json.load(f)\n",
    "    return {'completed': [], 'err_log': {}, 'n': 0}\n",
    "\n",
    "def download_spectra(url_txt_path, download_path, progress_file):\n",
    "    with open(url_txt_path, 'r') as f:\n",
    "        err_list = []\n",
    "        ls = []\n",
    "\n",
    "        # 读到链接列表ls\n",
    "        f.readline()  # 跳过第一行，如果需要\n",
    "        while True:\n",
    "            line = f.readline()\n",
    "            if line:\n",
    "                ls.append(line.strip())  # 去掉换行符\n",
    "            else:\n",
    "                break\n",
    "\n",
    "    # Number of all spectra\n",
    "    print(\"Number of spectra to download:\", len(ls))\n",
    "    \n",
    "    # 防止出问题\n",
    "    progress = load_progress(progress_file)\n",
    "    completed = set(progress['completed'])\n",
    "    err_log = progress['err_log']\n",
    "    n = progress['n']\n",
    "\n",
    "    for j in range(0, len(ls)):\n",
    "        if j in completed:\n",
    "            continue\n",
    "        try:\n",
    "            wget.download(ls[j], download_path)\n",
    "            completed.add(j)\n",
    "            if j % 20 == 0:  # 每下载20个保存一次进度\n",
    "                save_progress({'completed': list(completed), 'err_log': err_log, 'n': n}, progress_file)\n",
    "        except Exception as e:\n",
    "            print(f\"|| {j} err: {e}\")\n",
    "            err_list.append(j)\n",
    "            continue\n",
    "\n",
    "    err_log[n] = err_list\n",
    "    n += 1\n",
    "    save_progress({'completed': list(completed), 'err_log': err_log, 'n': n}, progress_file)\n",
    "\n",
    "    # 失败处重新下载\n",
    "    while len(err_list) > 5:\n",
    "        final_err_list = []\n",
    "        print(\"\\n重新下载失败光谱\")\n",
    "        print(\"Number of err spectra to download:\", len(err_list))\n",
    "        for j in err_list:\n",
    "            try:\n",
    "                wget.download(ls[j], download_path)\n",
    "                completed.add(j)\n",
    "                save_progress({'completed': list(completed), 'err_log': err_log, 'n': n}, progress_file)\n",
    "            except Exception as e:\n",
    "                print(f\"|| {j} err: {e}\")\n",
    "                final_err_list.append(j)\n",
    "                continue\n",
    "\n",
    "        err_log[n] = final_err_list\n",
    "        err_list = final_err_list\n",
    "        n += 1\n",
    "        save_progress({'completed': list(completed), 'err_log': err_log, 'n': n}, progress_file)\n",
    "\n",
    "    return err_log"
   ]
  },
  {
   "cell_type": "code",
   "execution_count": 8,
   "id": "1cd239f7-7659-4195-906c-5abcb776cea7",
   "metadata": {},
   "outputs": [
    {
     "name": "stdout",
     "output_type": "stream",
     "text": [
      "Number of spectra to download: 720855\n"
     ]
    }
   ],
   "source": [
    "#创建下载路径的文件夹\n",
    "os.makedirs(download_path, exist_ok=True)\n",
    "\n",
    "# 开始下载\n",
    "error_log = download_spectra(url_txt_path, download_path, progress_file)"
   ]
  },
  {
   "cell_type": "code",
   "execution_count": null,
   "id": "da161be9-f043-4596-982a-2107a9adf6aa",
   "metadata": {},
   "outputs": [],
   "source": []
  }
 ],
 "metadata": {
  "kernelspec": {
   "display_name": "torch",
   "language": "python",
   "name": "torch"
  },
  "language_info": {
   "codemirror_mode": {
    "name": "ipython",
    "version": 3
   },
   "file_extension": ".py",
   "mimetype": "text/x-python",
   "name": "python",
   "nbconvert_exporter": "python",
   "pygments_lexer": "ipython3",
   "version": "3.8.17"
  }
 },
 "nbformat": 4,
 "nbformat_minor": 5
}
