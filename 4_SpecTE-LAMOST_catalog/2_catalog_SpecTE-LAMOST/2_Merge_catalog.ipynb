{
 "cells": [
  {
   "cell_type": "code",
   "execution_count": 1,
   "id": "ba85ed60-c3b1-4812-9338-a1ae92636391",
   "metadata": {},
   "outputs": [],
   "source": [
    "import pandas as pd\n",
    "import numpy as np\n",
    "from tqdm import tqdm\n",
    "import os"
   ]
  },
  {
   "cell_type": "markdown",
   "id": "21553896-9fb2-49dc-9bc7-2d2d33f1a0fe",
   "metadata": {},
   "source": [
    "# 将多个组合并成一个星表"
   ]
  },
  {
   "cell_type": "code",
   "execution_count": 2,
   "id": "5d608702-ff6d-4cb2-931f-d87154bc6609",
   "metadata": {},
   "outputs": [
    {
     "data": {
      "text/plain": [
       "['.ipynb_checkpoints',\n",
       " '10-13',\n",
       " '100-150',\n",
       " '13-16',\n",
       " '150-999',\n",
       " '16-20',\n",
       " '20-25',\n",
       " '25-30',\n",
       " '30-35',\n",
       " '35-40',\n",
       " '40-50',\n",
       " '5-6',\n",
       " '50-60',\n",
       " '6-8',\n",
       " '60-80',\n",
       " '8-10',\n",
       " '80-100',\n",
       " 'catalog.csv',\n",
       " 'catalog.csv.gz',\n",
       " 'Merge_catalog.ipynb']"
      ]
     },
     "execution_count": 2,
     "metadata": {},
     "output_type": "execute_result"
    }
   ],
   "source": [
    "catalog_path = r\"./\"\n",
    "dir_list = os.listdir(catalog_path)\n",
    "dir_list"
   ]
  },
  {
   "cell_type": "code",
   "execution_count": 3,
   "id": "fbf9b9c2-f8a9-4e17-837f-bfd14eccab17",
   "metadata": {},
   "outputs": [
    {
     "data": {
      "text/plain": [
       "16"
      ]
     },
     "execution_count": 3,
     "metadata": {},
     "output_type": "execute_result"
    }
   ],
   "source": [
    "catalog_list=[]\n",
    "for path in dir_list:\n",
    "    folder_catalog = os.path.join(catalog_path,path)\n",
    "    \n",
    "    if os.path.isdir(folder_catalog):\n",
    "        catalog_file = os.path.join(path, 'catalog.csv')\n",
    "        if os.path.isfile(catalog_file):\n",
    "            catalog_temp=pd.read_csv(catalog_file)\n",
    "            catalog_list.append(catalog_temp)\n",
    "    \n",
    "len(catalog_list)"
   ]
  },
  {
   "cell_type": "code",
   "execution_count": 4,
   "id": "d56f049f-d0e3-49a4-bc9c-5d9aa3c0a9c1",
   "metadata": {},
   "outputs": [],
   "source": [
    "catalog = pd.concat(catalog_list, ignore_index=True)\n"
   ]
  },
  {
   "cell_type": "code",
   "execution_count": 5,
   "id": "e6b15c5b-eafd-4bd2-9c84-c735141ad6a7",
   "metadata": {},
   "outputs": [
    {
     "data": {
      "text/plain": [
       "(9798538, 42)"
      ]
     },
     "execution_count": 5,
     "metadata": {},
     "output_type": "execute_result"
    }
   ],
   "source": [
    "catalog.shape"
   ]
  },
  {
   "cell_type": "markdown",
   "id": "4829dc87-b02f-4328-8c7d-484f4385bed0",
   "metadata": {},
   "source": [
    "## 保存星表"
   ]
  },
  {
   "cell_type": "code",
   "execution_count": 6,
   "id": "1edcc52c-0765-4975-8fb1-d4454477aeb2",
   "metadata": {},
   "outputs": [],
   "source": [
    "catalog.to_csv(os.path.join(catalog_path,\"catalog.csv\"), index=False)"
   ]
  },
  {
   "cell_type": "markdown",
   "id": "d524f49a-7b1c-46f7-9749-0de600bfdcd1",
   "metadata": {},
   "source": [
    "## 保存压缩文件用于上传"
   ]
  },
  {
   "cell_type": "code",
   "execution_count": 4,
   "id": "d81d1947-94f1-4b78-83be-8a6c7673a15a",
   "metadata": {},
   "outputs": [],
   "source": [
    "# 保存压缩文件用于上传\n",
    "import csv\n",
    "catalog = pd.read_csv(os.path.join(catalog_path,\"catalog.csv\"))\n",
    "catalog.to_csv(\n",
    "    'catalog.csv.gz',\n",
    "    index=False,  # 不保存索引\n",
    "    compression='gzip',  # 使用 gzip 压缩\n",
    "    float_format='%.10f',  # 保留小数\n",
    "    quoting=csv.QUOTE_MINIMAL  # 最小化引号使用\n",
    ")"
   ]
  },
  {
   "cell_type": "code",
   "execution_count": null,
   "id": "7cb646a2-5c62-4d84-8816-4df356976fa1",
   "metadata": {},
   "outputs": [],
   "source": []
  }
 ],
 "metadata": {
  "kernelspec": {
   "display_name": "Python 3 (ipykernel)",
   "language": "python",
   "name": "python3"
  },
  "language_info": {
   "codemirror_mode": {
    "name": "ipython",
    "version": 3
   },
   "file_extension": ".py",
   "mimetype": "text/x-python",
   "name": "python",
   "nbconvert_exporter": "python",
   "pygments_lexer": "ipython3",
   "version": "3.9.16"
  }
 },
 "nbformat": 4,
 "nbformat_minor": 5
}
