{
 "cells": [
  {
   "cell_type": "code",
   "execution_count": 1,
   "id": "939a9d40-58fe-473b-a816-abc81be4068e",
   "metadata": {},
   "outputs": [],
   "source": [
    "import wget\n",
    "import pandas as pd\n",
    "import numpy as np\n",
    "import matplotlib.pyplot as plt\n",
    "from astropy.io import fits\n",
    "from tqdm import tqdm"
   ]
  },
  {
   "cell_type": "markdown",
   "id": "1bb1982e-6963-4dcd-9f83-9b6fe7d6bfb9",
   "metadata": {
    "jp-MarkdownHeadingCollapsed": true,
    "tags": []
   },
   "source": [
    "# dr3"
   ]
  },
  {
   "cell_type": "markdown",
   "id": "017242c9-8ae9-4ac5-ac4f-48d02a3bee21",
   "metadata": {
    "jp-MarkdownHeadingCollapsed": true,
    "tags": []
   },
   "source": [
    "## 下载"
   ]
  },
  {
   "cell_type": "code",
   "execution_count": 2,
   "id": "9b0dcd71-8836-4cc0-b4ef-c3a17633ff20",
   "metadata": {},
   "outputs": [
    {
     "name": "stdout",
     "output_type": "stream",
     "text": [
      "100% [......................................................................] 873518400 / 873518400"
     ]
    },
    {
     "data": {
      "text/plain": [
       "'F:\\\\My_trial\\\\Fits_preprocessed\\\\other_catalog/GALAH_DR3_main_allstar_v2.fits'"
      ]
     },
     "execution_count": 2,
     "metadata": {},
     "output_type": "execute_result"
    }
   ],
   "source": [
    "wget.download('https://cloud.datacentral.org.au/teamdata/GALAH/public/GALAH_DR3/GALAH_DR3_main_allstar_v2.fits', r\"./\")"
   ]
  },
  {
   "cell_type": "markdown",
   "id": "f10a0af5-ea9d-4a27-9bfc-b0deeaeb4ba7",
   "metadata": {
    "jp-MarkdownHeadingCollapsed": true,
    "tags": []
   },
   "source": [
    "## 处理"
   ]
  },
  {
   "cell_type": "markdown",
   "id": "74b18f24-1b0e-4b98-a951-b8bbfbd237ed",
   "metadata": {
    "jp-MarkdownHeadingCollapsed": true,
    "tags": []
   },
   "source": [
    "### 将星表按照需要，存到df"
   ]
  },
  {
   "cell_type": "code",
   "execution_count": 10,
   "id": "571404ad-16e7-4150-93d7-8034e82dbe38",
   "metadata": {},
   "outputs": [],
   "source": [
    "# 读取数据\n",
    "hdu = fits.open(r\"./GALAH_DR3_main_allstar_v2.fits\")\n",
    "# hdu[1].header"
   ]
  },
  {
   "cell_type": "code",
   "execution_count": 11,
   "id": "cbc02c96-ff5d-4f6d-8661-297b6e2b85c0",
   "metadata": {},
   "outputs": [
    {
     "name": "stderr",
     "output_type": "stream",
     "text": [
      "100%|██████████████████████████████████████████████████████████████████████████████████| 22/22 [00:01<00:00, 14.41it/s]"
     ]
    },
    {
     "name": "stdout",
     "output_type": "stream",
     "text": [
      "<class 'pandas.core.frame.DataFrame'>\n",
      "RangeIndex: 588571 entries, 0 to 588570\n",
      "Data columns (total 22 columns):\n",
      " #   Column       Non-Null Count   Dtype \n",
      "---  ------       --------------   ----- \n",
      " 0   ra_dr2       588571 non-null  >f8   \n",
      " 1   dec_dr2      588571 non-null  >f8   \n",
      " 2   flag_sp      588571 non-null  >i8   \n",
      " 3   snr_c3_iraf  588571 non-null  >f8   \n",
      " 4   star_id      588571 non-null  object\n",
      " 5   sobject_id   588571 non-null  >i8   \n",
      " 6   teff         581149 non-null  >f4   \n",
      " 7   logg         581149 non-null  >f4   \n",
      " 8   fe_h         567408 non-null  >f4   \n",
      " 9   Mg_fe        504056 non-null  >f8   \n",
      " 10  Si_fe        515027 non-null  >f8   \n",
      " 11  K_fe         496920 non-null  >f8   \n",
      " 12  Ca_fe        517490 non-null  >f8   \n",
      " 13  Ti_fe        466507 non-null  >f8   \n",
      " 14  Cr_fe        507932 non-null  >f8   \n",
      " 15  Ni_fe        423662 non-null  >f8   \n",
      " 16  C_fe         293907 non-null  >f8   \n",
      " 17  O_fe         519276 non-null  >f8   \n",
      " 18  Al_fe        522895 non-null  >f8   \n",
      " 19  Mn_fe        515032 non-null  >f8   \n",
      " 20  Na_fe        527414 non-null  >f8   \n",
      " 21  V_fe         243784 non-null  >f8   \n",
      "dtypes: float32(3), float64(16), int64(2), object(1)\n",
      "memory usage: 92.1+ MB\n"
     ]
    },
    {
     "name": "stderr",
     "output_type": "stream",
     "text": [
      "\n"
     ]
    }
   ],
   "source": [
    "# 将需要的目录存到df\n",
    "\n",
    "lable_list = ['ra_dr2', 'dec_dr2','flag_sp','snr_c3_iraf','star_id','sobject_id','teff','logg','fe_h','Mg_fe','Si_fe','K_fe','Ca_fe','Ti_fe','Cr_fe','Ni_fe','C_fe','O_fe' ,'Al_fe','Mn_fe','Na_fe','V_fe']\n",
    "\n",
    "df_GALAH = pd.DataFrame(data=None, columns=lable_list)\n",
    "for lable_name in tqdm(lable_list):\n",
    "    df_GALAH[lable_name] = hdu[1].data[lable_name]\n",
    "df_GALAH.info()"
   ]
  },
  {
   "cell_type": "code",
   "execution_count": 12,
   "id": "f47673a2-4350-4d6e-abd9-1811df128be3",
   "metadata": {},
   "outputs": [
    {
     "data": {
      "text/plain": [
       "(588571, 22)"
      ]
     },
     "execution_count": 12,
     "metadata": {},
     "output_type": "execute_result"
    }
   ],
   "source": [
    "df_GALAH.shape"
   ]
  },
  {
   "cell_type": "markdown",
   "id": "d666ca9d-b62c-4dee-9727-7d41c7d74b9e",
   "metadata": {
    "jp-MarkdownHeadingCollapsed": true,
    "tags": []
   },
   "source": [
    "### 筛选掉不好的数据"
   ]
  },
  {
   "cell_type": "code",
   "execution_count": 5,
   "id": "a8a32181-aea8-4f4a-a614-045e9dbf26d5",
   "metadata": {},
   "outputs": [
    {
     "data": {
      "text/plain": [
       "(326264, 20)"
      ]
     },
     "execution_count": 5,
     "metadata": {},
     "output_type": "execute_result"
    }
   ],
   "source": [
    "# 将整个 DataFrame 或相关列转换为小端格式。这可以确保所有操作（如筛选、删除等）都在正确的数据类型上执行。\n",
    "for col in df_GALAH.columns:\n",
    "    if df_GALAH[col].dtype.byteorder == '>':\n",
    "        df_GALAH[col] = df_GALAH[col].values.byteswap().newbyteorder()\n",
    "\n",
    "# 按flag_sp筛选\n",
    "df_GALAH =df_GALAH.drop(\n",
    "    df_GALAH.index[np.where(df_GALAH['flag_sp']!=0)[0]])\n",
    "df_GALAH.reset_index(drop=True, inplace=True)    # drop：是否删除原始索引列   inplace：是否在原始数据框上直接修改\n",
    "df_GALAH.shape\n",
    "\n",
    "# 按snr_c3_iraf<30筛选\n",
    "df_GALAH =df_GALAH.drop(\n",
    "    df_GALAH.index[np.where(df_GALAH['snr_c3_iraf']<30)[0]])\n",
    "df_GALAH.reset_index(drop=True, inplace=True)    # drop：是否删除原始索引列   inplace：是否在原始数据框上直接修改\n",
    "df_GALAH.shape\n",
    "\n"
   ]
  },
  {
   "cell_type": "markdown",
   "id": "aa16aa01-03d1-41bf-ab55-a077f463df43",
   "metadata": {
    "jp-MarkdownHeadingCollapsed": true,
    "tags": []
   },
   "source": [
    "### 将X/Fe 转换为X/H"
   ]
  },
  {
   "cell_type": "code",
   "execution_count": 6,
   "id": "1ee9a021-8868-44b2-a766-10e5be8bf20d",
   "metadata": {},
   "outputs": [
    {
     "data": {
      "text/html": [
       "<div>\n",
       "<style scoped>\n",
       "    .dataframe tbody tr th:only-of-type {\n",
       "        vertical-align: middle;\n",
       "    }\n",
       "\n",
       "    .dataframe tbody tr th {\n",
       "        vertical-align: top;\n",
       "    }\n",
       "\n",
       "    .dataframe thead th {\n",
       "        text-align: right;\n",
       "    }\n",
       "</style>\n",
       "<table border=\"1\" class=\"dataframe\">\n",
       "  <thead>\n",
       "    <tr style=\"text-align: right;\">\n",
       "      <th></th>\n",
       "      <th>GALAH_starid</th>\n",
       "      <th>GALAH_RA</th>\n",
       "      <th>GALAH_Dec</th>\n",
       "      <th>GALAH_Teff[K]</th>\n",
       "      <th>GALAH_Logg</th>\n",
       "      <th>GALAH_FeH</th>\n",
       "      <th>GALAH_MgH</th>\n",
       "      <th>GALAH_SiH</th>\n",
       "      <th>GALAH_KH</th>\n",
       "      <th>GALAH_CaH</th>\n",
       "      <th>GALAH_TiH</th>\n",
       "      <th>GALAH_CrH</th>\n",
       "      <th>GALAH_NiH</th>\n",
       "      <th>GALAH_CH</th>\n",
       "      <th>GALAH_OH</th>\n",
       "      <th>GALAH_AlH</th>\n",
       "      <th>GALAH_MnH</th>\n",
       "    </tr>\n",
       "  </thead>\n",
       "  <tbody>\n",
       "    <tr>\n",
       "      <th>1</th>\n",
       "      <td>03405609-6844483</td>\n",
       "      <td>55.233798</td>\n",
       "      <td>-68.746746</td>\n",
       "      <td>5642.742676</td>\n",
       "      <td>4.298538</td>\n",
       "      <td>0.082866</td>\n",
       "      <td>0.020715</td>\n",
       "      <td>0.175627</td>\n",
       "      <td>-0.054782</td>\n",
       "      <td>-0.146646</td>\n",
       "      <td>0.125296</td>\n",
       "      <td>0.16298</td>\n",
       "      <td>0.073291</td>\n",
       "      <td>0.20428</td>\n",
       "      <td>0.154053</td>\n",
       "      <td>0.303096</td>\n",
       "      <td>0.009558</td>\n",
       "    </tr>\n",
       "    <tr>\n",
       "      <th>2</th>\n",
       "      <td>03403587-6844432</td>\n",
       "      <td>55.149569</td>\n",
       "      <td>-68.745502</td>\n",
       "      <td>4940.007324</td>\n",
       "      <td>4.590864</td>\n",
       "      <td>0.109674</td>\n",
       "      <td>0.162903</td>\n",
       "      <td>0.028643</td>\n",
       "      <td>-0.016138</td>\n",
       "      <td>0.108688</td>\n",
       "      <td>-0.079381</td>\n",
       "      <td>0.055596</td>\n",
       "      <td>0.117284</td>\n",
       "      <td>NaN</td>\n",
       "      <td>0.330039</td>\n",
       "      <td>0.203572</td>\n",
       "      <td>0.167831</td>\n",
       "    </tr>\n",
       "    <tr>\n",
       "      <th>3</th>\n",
       "      <td>03402113-6848514</td>\n",
       "      <td>55.087989</td>\n",
       "      <td>-68.814367</td>\n",
       "      <td>5789.730469</td>\n",
       "      <td>4.427538</td>\n",
       "      <td>-0.421067</td>\n",
       "      <td>-0.310231</td>\n",
       "      <td>-0.295358</td>\n",
       "      <td>-0.380096</td>\n",
       "      <td>-0.332973</td>\n",
       "      <td>0.092756</td>\n",
       "      <td>-0.409865</td>\n",
       "      <td>-0.360667</td>\n",
       "      <td>0.186586</td>\n",
       "      <td>0.157015</td>\n",
       "      <td>-0.27097</td>\n",
       "      <td>-0.492918</td>\n",
       "    </tr>\n",
       "    <tr>\n",
       "      <th>4</th>\n",
       "      <td>03394376-6848101</td>\n",
       "      <td>54.932398</td>\n",
       "      <td>-68.802856</td>\n",
       "      <td>4679.781738</td>\n",
       "      <td>1.944841</td>\n",
       "      <td>-1.203136</td>\n",
       "      <td>-0.968172</td>\n",
       "      <td>-1.060492</td>\n",
       "      <td>-1.304515</td>\n",
       "      <td>-1.002976</td>\n",
       "      <td>NaN</td>\n",
       "      <td>-1.372157</td>\n",
       "      <td>-1.481865</td>\n",
       "      <td>NaN</td>\n",
       "      <td>-0.611822</td>\n",
       "      <td>-0.970984</td>\n",
       "      <td>-1.428613</td>\n",
       "    </tr>\n",
       "    <tr>\n",
       "      <th>5</th>\n",
       "      <td>03405458-6854480</td>\n",
       "      <td>55.227613</td>\n",
       "      <td>-68.913237</td>\n",
       "      <td>6170.653809</td>\n",
       "      <td>4.146284</td>\n",
       "      <td>-0.384692</td>\n",
       "      <td>-0.233238</td>\n",
       "      <td>-0.318847</td>\n",
       "      <td>-0.540235</td>\n",
       "      <td>-0.361372</td>\n",
       "      <td>NaN</td>\n",
       "      <td>-0.303339</td>\n",
       "      <td>NaN</td>\n",
       "      <td>0.067389</td>\n",
       "      <td>-0.203362</td>\n",
       "      <td>-0.31586</td>\n",
       "      <td>-0.471397</td>\n",
       "    </tr>\n",
       "    <tr>\n",
       "      <th>...</th>\n",
       "      <td>...</td>\n",
       "      <td>...</td>\n",
       "      <td>...</td>\n",
       "      <td>...</td>\n",
       "      <td>...</td>\n",
       "      <td>...</td>\n",
       "      <td>...</td>\n",
       "      <td>...</td>\n",
       "      <td>...</td>\n",
       "      <td>...</td>\n",
       "      <td>...</td>\n",
       "      <td>...</td>\n",
       "      <td>...</td>\n",
       "      <td>...</td>\n",
       "      <td>...</td>\n",
       "      <td>...</td>\n",
       "      <td>...</td>\n",
       "    </tr>\n",
       "    <tr>\n",
       "      <th>326259</th>\n",
       "      <td>15142072-4415325</td>\n",
       "      <td>228.586315</td>\n",
       "      <td>-44.259058</td>\n",
       "      <td>4531.215332</td>\n",
       "      <td>2.410332</td>\n",
       "      <td>-0.293808</td>\n",
       "      <td>-0.144124</td>\n",
       "      <td>-0.146496</td>\n",
       "      <td>-0.339019</td>\n",
       "      <td>-0.11385</td>\n",
       "      <td>-0.143996</td>\n",
       "      <td>-0.385375</td>\n",
       "      <td>-0.273325</td>\n",
       "      <td>NaN</td>\n",
       "      <td>0.062936</td>\n",
       "      <td>0.08953</td>\n",
       "      <td>-0.480828</td>\n",
       "    </tr>\n",
       "    <tr>\n",
       "      <th>326260</th>\n",
       "      <td>15151322-4415182</td>\n",
       "      <td>228.805089</td>\n",
       "      <td>-44.255053</td>\n",
       "      <td>6059.499512</td>\n",
       "      <td>3.519315</td>\n",
       "      <td>-0.045074</td>\n",
       "      <td>-0.15768</td>\n",
       "      <td>-0.059793</td>\n",
       "      <td>0.349271</td>\n",
       "      <td>0.122638</td>\n",
       "      <td>-0.090163</td>\n",
       "      <td>-0.165575</td>\n",
       "      <td>-0.349195</td>\n",
       "      <td>-0.385639</td>\n",
       "      <td>0.147953</td>\n",
       "      <td>-0.17905</td>\n",
       "      <td>0.006529</td>\n",
       "    </tr>\n",
       "    <tr>\n",
       "      <th>326261</th>\n",
       "      <td>15162269-4414571</td>\n",
       "      <td>229.09451</td>\n",
       "      <td>-44.24921</td>\n",
       "      <td>4132.972656</td>\n",
       "      <td>0.959392</td>\n",
       "      <td>-1.003942</td>\n",
       "      <td>-0.916899</td>\n",
       "      <td>-0.91241</td>\n",
       "      <td>-1.199549</td>\n",
       "      <td>-0.652221</td>\n",
       "      <td>-0.837043</td>\n",
       "      <td>-1.168993</td>\n",
       "      <td>-1.137659</td>\n",
       "      <td>NaN</td>\n",
       "      <td>NaN</td>\n",
       "      <td>-1.100304</td>\n",
       "      <td>-1.477088</td>\n",
       "    </tr>\n",
       "    <tr>\n",
       "      <th>326262</th>\n",
       "      <td>15161847-4418028</td>\n",
       "      <td>229.076923</td>\n",
       "      <td>-44.300799</td>\n",
       "      <td>4776.927246</td>\n",
       "      <td>2.420797</td>\n",
       "      <td>0.007314</td>\n",
       "      <td>-0.022626</td>\n",
       "      <td>0.002215</td>\n",
       "      <td>-0.087745</td>\n",
       "      <td>0.175625</td>\n",
       "      <td>-0.026534</td>\n",
       "      <td>-0.020608</td>\n",
       "      <td>0.101908</td>\n",
       "      <td>NaN</td>\n",
       "      <td>0.203465</td>\n",
       "      <td>0.194115</td>\n",
       "      <td>0.003137</td>\n",
       "    </tr>\n",
       "    <tr>\n",
       "      <th>326263</th>\n",
       "      <td>15132160-4416479</td>\n",
       "      <td>228.339779</td>\n",
       "      <td>-44.280044</td>\n",
       "      <td>6125.684082</td>\n",
       "      <td>3.717687</td>\n",
       "      <td>-0.002151</td>\n",
       "      <td>-0.124992</td>\n",
       "      <td>-0.06112</td>\n",
       "      <td>0.079522</td>\n",
       "      <td>0.172231</td>\n",
       "      <td>-0.119614</td>\n",
       "      <td>-0.191367</td>\n",
       "      <td>-0.126633</td>\n",
       "      <td>0.035132</td>\n",
       "      <td>-0.026278</td>\n",
       "      <td>-0.06908</td>\n",
       "      <td>-0.084575</td>\n",
       "    </tr>\n",
       "  </tbody>\n",
       "</table>\n",
       "<p>326263 rows × 17 columns</p>\n",
       "</div>"
      ],
      "text/plain": [
       "            GALAH_starid    GALAH_RA  GALAH_Dec GALAH_Teff[K] GALAH_Logg  \\\n",
       "1       03405609-6844483   55.233798 -68.746746   5642.742676   4.298538   \n",
       "2       03403587-6844432   55.149569 -68.745502   4940.007324   4.590864   \n",
       "3       03402113-6848514   55.087989 -68.814367   5789.730469   4.427538   \n",
       "4       03394376-6848101   54.932398 -68.802856   4679.781738   1.944841   \n",
       "5       03405458-6854480   55.227613 -68.913237   6170.653809   4.146284   \n",
       "...                  ...         ...        ...           ...        ...   \n",
       "326259  15142072-4415325  228.586315 -44.259058   4531.215332   2.410332   \n",
       "326260  15151322-4415182  228.805089 -44.255053   6059.499512   3.519315   \n",
       "326261  15162269-4414571   229.09451  -44.24921   4132.972656   0.959392   \n",
       "326262  15161847-4418028  229.076923 -44.300799   4776.927246   2.420797   \n",
       "326263  15132160-4416479  228.339779 -44.280044   6125.684082   3.717687   \n",
       "\n",
       "       GALAH_FeH GALAH_MgH GALAH_SiH  GALAH_KH GALAH_CaH GALAH_TiH GALAH_CrH  \\\n",
       "1       0.082866  0.020715  0.175627 -0.054782 -0.146646  0.125296   0.16298   \n",
       "2       0.109674  0.162903  0.028643 -0.016138  0.108688 -0.079381  0.055596   \n",
       "3      -0.421067 -0.310231 -0.295358 -0.380096 -0.332973  0.092756 -0.409865   \n",
       "4      -1.203136 -0.968172 -1.060492 -1.304515 -1.002976       NaN -1.372157   \n",
       "5      -0.384692 -0.233238 -0.318847 -0.540235 -0.361372       NaN -0.303339   \n",
       "...          ...       ...       ...       ...       ...       ...       ...   \n",
       "326259 -0.293808 -0.144124 -0.146496 -0.339019  -0.11385 -0.143996 -0.385375   \n",
       "326260 -0.045074  -0.15768 -0.059793  0.349271  0.122638 -0.090163 -0.165575   \n",
       "326261 -1.003942 -0.916899  -0.91241 -1.199549 -0.652221 -0.837043 -1.168993   \n",
       "326262  0.007314 -0.022626  0.002215 -0.087745  0.175625 -0.026534 -0.020608   \n",
       "326263 -0.002151 -0.124992  -0.06112  0.079522  0.172231 -0.119614 -0.191367   \n",
       "\n",
       "       GALAH_NiH  GALAH_CH  GALAH_OH GALAH_AlH GALAH_MnH  \n",
       "1       0.073291   0.20428  0.154053  0.303096  0.009558  \n",
       "2       0.117284       NaN  0.330039  0.203572  0.167831  \n",
       "3      -0.360667  0.186586  0.157015  -0.27097 -0.492918  \n",
       "4      -1.481865       NaN -0.611822 -0.970984 -1.428613  \n",
       "5            NaN  0.067389 -0.203362  -0.31586 -0.471397  \n",
       "...          ...       ...       ...       ...       ...  \n",
       "326259 -0.273325       NaN  0.062936   0.08953 -0.480828  \n",
       "326260 -0.349195 -0.385639  0.147953  -0.17905  0.006529  \n",
       "326261 -1.137659       NaN       NaN -1.100304 -1.477088  \n",
       "326262  0.101908       NaN  0.203465  0.194115  0.003137  \n",
       "326263 -0.126633  0.035132 -0.026278  -0.06908 -0.084575  \n",
       "\n",
       "[326263 rows x 17 columns]"
      ]
     },
     "execution_count": 6,
     "metadata": {},
     "output_type": "execute_result"
    }
   ],
   "source": [
    "# X/Fe转换成X/H\n",
    "# lable_list = ['ra_dr2', 'dec_dr2','flag_sp','snr_c3_iraf','star_id','sobject_id','teff','logg','fe_h','Mg_fe','Si_fe','K_fe','Ca_fe','Ti_fe','Cr_fe','Ni_fe','C_fe','O_fe' ,'Al_fe','Mn_fe']\n",
    "output_label = ['GALAH_starid', 'GALAH_RA', 'GALAH_Dec', 'GALAH_Teff[K]','GALAH_Logg',\n",
    "                'GALAH_FeH', 'GALAH_MgH', 'GALAH_SiH', 'GALAH_KH', 'GALAH_CaH',\n",
    "                'GALAH_TiH', 'GALAH_CrH', 'GALAH_NiH', 'GALAH_CH', 'GALAH_OH',\n",
    "                'GALAH_AlH', 'GALAH_MnH']\n",
    "\n",
    "# 'teff','logg','fe_h','Mg_fe','Si_fe','K_fe','Ca_fe','Ti_fe','Cr_fe','Ni_fe','C_fe','O_fe' ,'Al_fe','Mn_fe'\n",
    "\n",
    "# ['star_id','ra_dr2', 'dec_dr2','teff','logg','fe_h','Mg_fe','Si_fe','K_fe','Ca_fe','Ti_fe','Cr_fe','Ni_fe','C_fe','O_fe' ,'Al_fe','Mn_fe']\n",
    "df_GALAH = pd.DataFrame(data=df_GALAH[['star_id','ra_dr2', 'dec_dr2','teff','logg','fe_h','Mg_fe','Si_fe','K_fe','Ca_fe','Ti_fe','Cr_fe','Ni_fe','C_fe','O_fe' ,'Al_fe','Mn_fe']].values,\n",
    "                                columns=output_label)\n",
    "df_GALAH = df_GALAH.iloc[1:]\n",
    "for label_name in ['GALAH_MgH', 'GALAH_SiH', 'GALAH_KH', 'GALAH_CaH',\n",
    "                'GALAH_TiH', 'GALAH_CrH', 'GALAH_NiH', 'GALAH_CH', 'GALAH_OH',\n",
    "                'GALAH_AlH', 'GALAH_MnH']:\n",
    "        df_GALAH[label_name] = df_GALAH[label_name] + df_GALAH['GALAH_FeH']\n",
    " \n",
    "df_GALAH"
   ]
  },
  {
   "cell_type": "markdown",
   "id": "0b07727c-3c69-46a7-be20-5e95946b1c22",
   "metadata": {
    "jp-MarkdownHeadingCollapsed": true,
    "tags": []
   },
   "source": [
    "### 保存数据"
   ]
  },
  {
   "cell_type": "code",
   "execution_count": 7,
   "id": "b2f36704-155c-437b-a907-a7f54312e24f",
   "metadata": {},
   "outputs": [],
   "source": [
    "df_GALAH.to_csv('df_GALAH.csv', index=False) "
   ]
  },
  {
   "cell_type": "code",
   "execution_count": null,
   "id": "d96f3467-24be-4892-8175-3566c20d9a2a",
   "metadata": {},
   "outputs": [],
   "source": [
    "# 'C_fe' 'O_fe' 'Na_fe''Mg_fe''Al_fe''Si_fe''K_fe''Ca_fe''Sc_fe''Sc2_fe''Ti_fe''Ti2_fe''V_fe''Cr_fe''Cr2_fe''Mn_fe''Co_fe' 'Ni_fe''Cu_fe''Zn_fe''Rb_fe''Sr_fe''Y_fe''Zr_fe''Mo_fe''Ru_fe''Ba_fe''La_fe''Ce_fe''Nd_fe''Sm_fe''Eu_fe'\n",
    "\n",
    "# flag_sp!=0  snr_c3_iraf<30"
   ]
  },
  {
   "cell_type": "markdown",
   "id": "e06a9d58-fb44-4500-9251-dc8ab06e6f06",
   "metadata": {
    "tags": []
   },
   "source": [
    "# dr 4"
   ]
  },
  {
   "cell_type": "markdown",
   "id": "facd915b-7505-4440-8966-61a1c839fb7b",
   "metadata": {
    "jp-MarkdownHeadingCollapsed": true,
    "tags": []
   },
   "source": [
    "## 下载"
   ]
  },
  {
   "cell_type": "code",
   "execution_count": 4,
   "id": "f530db27-6231-4699-8de4-0f0cc8d3e1a8",
   "metadata": {},
   "outputs": [
    {
     "name": "stdout",
     "output_type": "stream",
     "text": [
      "100% [......................................................................] 757998720 / 757998720"
     ]
    },
    {
     "data": {
      "text/plain": [
       "'.//galah_dr4_allstar_240705.fits'"
      ]
     },
     "execution_count": 4,
     "metadata": {},
     "output_type": "execute_result"
    }
   ],
   "source": [
    "wget.download('https://cloud.datacentral.org.au/teamdata/GALAH/public/GALAH_DR4/catalogs/galah_dr4_allstar_240705.fits', r\"./\")"
   ]
  },
  {
   "cell_type": "markdown",
   "id": "16549b06-3f13-4075-8b81-08222144351b",
   "metadata": {
    "tags": []
   },
   "source": [
    "## 处理"
   ]
  },
  {
   "cell_type": "markdown",
   "id": "de1d9695-cf1c-45cb-afcb-f5f3cde4d5b4",
   "metadata": {
    "tags": []
   },
   "source": [
    "### 将星表按照需要，存到df"
   ]
  },
  {
   "cell_type": "code",
   "execution_count": 2,
   "id": "09011db5-1504-42c7-ab48-b6ae31f97f85",
   "metadata": {},
   "outputs": [],
   "source": [
    "# 读取数据\n",
    "hdu = fits.open(r\"./galah_dr4_allstar_240705.fits\")\n",
    "# hdu[1].header"
   ]
  },
  {
   "cell_type": "code",
   "execution_count": 3,
   "id": "c2bdf31b-f7b3-4f78-9e38-2e6def3c2a61",
   "metadata": {},
   "outputs": [
    {
     "name": "stderr",
     "output_type": "stream",
     "text": [
      "100%|██████████████████████████████████████████████████████████████████████████████████| 25/25 [00:01<00:00, 20.88it/s]\n"
     ]
    },
    {
     "name": "stdout",
     "output_type": "stream",
     "text": [
      "<class 'pandas.core.frame.DataFrame'>\n",
      "RangeIndex: 917588 entries, 0 to 917587\n",
      "Data columns (total 25 columns):\n",
      " #   Column             Non-Null Count   Dtype \n",
      "---  ------             --------------   ----- \n",
      " 0   ra                 917588 non-null  >f8   \n",
      " 1   dec                917588 non-null  >f8   \n",
      " 2   sobject_id         917588 non-null  >i8   \n",
      " 3   tmass_id           917588 non-null  object\n",
      " 4   flag_sp            917588 non-null  >i4   \n",
      " 5   gaiadr3_source_id  917588 non-null  >i8   \n",
      " 6   snr_px_ccd3        911958 non-null  >f4   \n",
      " 7   teff               906688 non-null  >f4   \n",
      " 8   logg               906688 non-null  >f4   \n",
      " 9   rv_comp_1          906689 non-null  >f4   \n",
      " 10  rv_comp_2          32566 non-null   >f4   \n",
      " 11  fe_h               906688 non-null  >f4   \n",
      " 12  mg_fe              898029 non-null  >f4   \n",
      " 13  si_fe              885806 non-null  >f4   \n",
      " 14  k_fe               860264 non-null  >f4   \n",
      " 15  ca_fe              900125 non-null  >f4   \n",
      " 16  ti_fe              902775 non-null  >f4   \n",
      " 17  cr_fe              903296 non-null  >f4   \n",
      " 18  ni_fe              901834 non-null  >f4   \n",
      " 19  c_fe               904936 non-null  >f4   \n",
      " 20  o_fe               874246 non-null  >f4   \n",
      " 21  al_fe              849310 non-null  >f4   \n",
      " 22  mn_fe              900093 non-null  >f4   \n",
      " 23  na_fe              893906 non-null  >f4   \n",
      " 24  v_fe               820452 non-null  >f4   \n",
      "dtypes: float32(19), float64(2), int32(1), int64(2), object(1)\n",
      "memory usage: 105.0+ MB\n"
     ]
    }
   ],
   "source": [
    "# 将需要的目录存到df\n",
    "\n",
    "lable_list = ['ra', 'dec', 'sobject_id', 'tmass_id', 'flag_sp', 'gaiadr3_source_id', 'snr_px_ccd3', 'teff', 'logg', 'rv_comp_1', 'rv_comp_2', 'fe_h', 'mg_fe', 'si_fe', 'k_fe', 'ca_fe', 'ti_fe', 'cr_fe', 'ni_fe', 'c_fe', 'o_fe' ,'al_fe', 'mn_fe', 'na_fe', 'v_fe']\n",
    "\n",
    "df_GALAH = pd.DataFrame(data=None, columns=lable_list)\n",
    "for lable_name in tqdm(lable_list):\n",
    "    df_GALAH[lable_name] = hdu[1].data[lable_name]\n",
    "df_GALAH.info()"
   ]
  },
  {
   "cell_type": "code",
   "execution_count": 4,
   "id": "fdbbf804-9f59-4aab-8fec-37edfd8e7ded",
   "metadata": {},
   "outputs": [
    {
     "data": {
      "text/plain": [
       "(917588, 25)"
      ]
     },
     "execution_count": 4,
     "metadata": {},
     "output_type": "execute_result"
    }
   ],
   "source": [
    "df_GALAH.shape"
   ]
  },
  {
   "cell_type": "markdown",
   "id": "39ff5ccf-b228-4eaa-a6a7-633e4bceef99",
   "metadata": {
    "tags": []
   },
   "source": [
    "### 筛选掉不好的数据"
   ]
  },
  {
   "cell_type": "code",
   "execution_count": 5,
   "id": "053b20a3-c647-4179-8c6d-efa043c14ac5",
   "metadata": {},
   "outputs": [
    {
     "data": {
      "text/plain": [
       "(663075, 25)"
      ]
     },
     "execution_count": 5,
     "metadata": {},
     "output_type": "execute_result"
    }
   ],
   "source": [
    "# 将整个 DataFrame 或相关列转换为小端格式。这可以确保所有操作（如筛选、删除等）都在正确的数据类型上执行。\n",
    "for col in df_GALAH.columns:\n",
    "    if df_GALAH[col].dtype.byteorder == '>':\n",
    "        df_GALAH[col] = df_GALAH[col].values.byteswap().newbyteorder()\n",
    "\n",
    "# 按flag_sp筛选\n",
    "df_GALAH =df_GALAH.drop(\n",
    "    df_GALAH.index[np.where(df_GALAH['flag_sp']!=0)[0]])\n",
    "df_GALAH.reset_index(drop=True, inplace=True)    # drop：是否删除原始索引列   inplace：是否在原始数据框上直接修改\n",
    "df_GALAH.shape\n",
    "\n",
    "# # 按snr_c3_iraf<30筛选\n",
    "# df_GALAH =df_GALAH.drop(\n",
    "#     df_GALAH.index[np.where(df_GALAH['snr_px_ccd3']<30)[0]])\n",
    "# df_GALAH.reset_index(drop=True, inplace=True)    # drop：是否删除原始索引列   inplace：是否在原始数据框上直接修改\n",
    "# df_GALAH.shape\n",
    "\n"
   ]
  },
  {
   "cell_type": "code",
   "execution_count": 6,
   "id": "67a75882-4930-4006-a16d-a5144a4921b5",
   "metadata": {},
   "outputs": [
    {
     "name": "stdout",
     "output_type": "stream",
     "text": [
      "<class 'pandas.core.frame.DataFrame'>\n",
      "RangeIndex: 663075 entries, 0 to 663074\n",
      "Data columns (total 25 columns):\n",
      " #   Column             Non-Null Count   Dtype  \n",
      "---  ------             --------------   -----  \n",
      " 0   ra                 663075 non-null  float64\n",
      " 1   dec                663075 non-null  float64\n",
      " 2   sobject_id         663075 non-null  int64  \n",
      " 3   tmass_id           663075 non-null  object \n",
      " 4   flag_sp            663075 non-null  int32  \n",
      " 5   gaiadr3_source_id  663075 non-null  int64  \n",
      " 6   snr_px_ccd3        663075 non-null  float32\n",
      " 7   teff               663075 non-null  float32\n",
      " 8   logg               663075 non-null  float32\n",
      " 9   rv_comp_1          663075 non-null  float32\n",
      " 10  rv_comp_2          0 non-null       float32\n",
      " 11  fe_h               663075 non-null  float32\n",
      " 12  mg_fe              661885 non-null  float32\n",
      " 13  si_fe              661016 non-null  float32\n",
      " 14  k_fe               662135 non-null  float32\n",
      " 15  ca_fe              662663 non-null  float32\n",
      " 16  ti_fe              662716 non-null  float32\n",
      " 17  cr_fe              662776 non-null  float32\n",
      " 18  ni_fe              662752 non-null  float32\n",
      " 19  c_fe               662733 non-null  float32\n",
      " 20  o_fe               659372 non-null  float32\n",
      " 21  al_fe              652207 non-null  float32\n",
      " 22  mn_fe              662681 non-null  float32\n",
      " 23  na_fe              662146 non-null  float32\n",
      " 24  v_fe               651832 non-null  float32\n",
      "dtypes: float32(19), float64(2), int32(1), int64(2), object(1)\n",
      "memory usage: 75.9+ MB\n"
     ]
    }
   ],
   "source": [
    "df_GALAH.info()"
   ]
  },
  {
   "cell_type": "markdown",
   "id": "f22ce594-0560-434b-b419-7c81d51c1f9d",
   "metadata": {
    "tags": []
   },
   "source": [
    "### 将X/Fe 转换为X/H"
   ]
  },
  {
   "cell_type": "code",
   "execution_count": 7,
   "id": "e3f5bad2-b790-481c-92e6-dd9e81a53004",
   "metadata": {},
   "outputs": [
    {
     "data": {
      "text/html": [
       "<div>\n",
       "<style scoped>\n",
       "    .dataframe tbody tr th:only-of-type {\n",
       "        vertical-align: middle;\n",
       "    }\n",
       "\n",
       "    .dataframe tbody tr th {\n",
       "        vertical-align: top;\n",
       "    }\n",
       "\n",
       "    .dataframe thead th {\n",
       "        text-align: right;\n",
       "    }\n",
       "</style>\n",
       "<table border=\"1\" class=\"dataframe\">\n",
       "  <thead>\n",
       "    <tr style=\"text-align: right;\">\n",
       "      <th></th>\n",
       "      <th>GALAH_sobject_id</th>\n",
       "      <th>GALAH_RA</th>\n",
       "      <th>GALAH_Dec</th>\n",
       "      <th>GALAH_Teff[K]</th>\n",
       "      <th>GALAH_Logg</th>\n",
       "      <th>GALAH_RV</th>\n",
       "      <th>GALAH_FeH</th>\n",
       "      <th>GALAH_MgH</th>\n",
       "      <th>GALAH_SiH</th>\n",
       "      <th>GALAH_KH</th>\n",
       "      <th>GALAH_CaH</th>\n",
       "      <th>GALAH_TiH</th>\n",
       "      <th>GALAH_CrH</th>\n",
       "      <th>GALAH_NiH</th>\n",
       "      <th>GALAH_CH</th>\n",
       "      <th>GALAH_OH</th>\n",
       "      <th>GALAH_AlH</th>\n",
       "      <th>GALAH_MnH</th>\n",
       "      <th>GALAH_NaH</th>\n",
       "      <th>GALAH_VH</th>\n",
       "    </tr>\n",
       "  </thead>\n",
       "  <tbody>\n",
       "    <tr>\n",
       "      <th>1</th>\n",
       "      <td>1.611160e+14</td>\n",
       "      <td>0.001000</td>\n",
       "      <td>-57.162334</td>\n",
       "      <td>4900.511719</td>\n",
       "      <td>4.464450</td>\n",
       "      <td>-17.269478</td>\n",
       "      <td>-1.032346</td>\n",
       "      <td>-0.485245</td>\n",
       "      <td>-0.522659</td>\n",
       "      <td>-0.836103</td>\n",
       "      <td>-0.733011</td>\n",
       "      <td>-0.623313</td>\n",
       "      <td>-0.921852</td>\n",
       "      <td>-1.047303</td>\n",
       "      <td>-1.056093</td>\n",
       "      <td>-1.641717</td>\n",
       "      <td>-0.636157</td>\n",
       "      <td>-1.270972</td>\n",
       "      <td>-1.026297</td>\n",
       "      <td>-0.815148</td>\n",
       "    </tr>\n",
       "    <tr>\n",
       "      <th>2</th>\n",
       "      <td>1.611160e+14</td>\n",
       "      <td>0.001000</td>\n",
       "      <td>-57.713528</td>\n",
       "      <td>5543.346191</td>\n",
       "      <td>4.175371</td>\n",
       "      <td>35.673534</td>\n",
       "      <td>-0.654349</td>\n",
       "      <td>-0.339513</td>\n",
       "      <td>-0.499854</td>\n",
       "      <td>-0.412886</td>\n",
       "      <td>-0.442860</td>\n",
       "      <td>-0.477679</td>\n",
       "      <td>-0.656255</td>\n",
       "      <td>-0.640972</td>\n",
       "      <td>-0.365437</td>\n",
       "      <td>-0.047547</td>\n",
       "      <td>-0.628637</td>\n",
       "      <td>-0.852933</td>\n",
       "      <td>-0.618969</td>\n",
       "      <td>-0.506713</td>\n",
       "    </tr>\n",
       "    <tr>\n",
       "      <th>3</th>\n",
       "      <td>1.407130e+14</td>\n",
       "      <td>0.001042</td>\n",
       "      <td>-75.687943</td>\n",
       "      <td>5529.029297</td>\n",
       "      <td>4.521021</td>\n",
       "      <td>24.175571</td>\n",
       "      <td>0.135527</td>\n",
       "      <td>0.179893</td>\n",
       "      <td>0.122973</td>\n",
       "      <td>0.055832</td>\n",
       "      <td>0.102860</td>\n",
       "      <td>0.086971</td>\n",
       "      <td>0.150604</td>\n",
       "      <td>0.133135</td>\n",
       "      <td>0.130371</td>\n",
       "      <td>0.135678</td>\n",
       "      <td>0.232372</td>\n",
       "      <td>0.188496</td>\n",
       "      <td>0.076286</td>\n",
       "      <td>0.252581</td>\n",
       "    </tr>\n",
       "    <tr>\n",
       "      <th>4</th>\n",
       "      <td>1.407080e+14</td>\n",
       "      <td>0.001583</td>\n",
       "      <td>-77.940865</td>\n",
       "      <td>4977.451172</td>\n",
       "      <td>3.172151</td>\n",
       "      <td>51.569466</td>\n",
       "      <td>-0.612790</td>\n",
       "      <td>-0.312235</td>\n",
       "      <td>-0.321094</td>\n",
       "      <td>-0.533563</td>\n",
       "      <td>-0.381498</td>\n",
       "      <td>-0.319066</td>\n",
       "      <td>-0.602469</td>\n",
       "      <td>-0.551210</td>\n",
       "      <td>-0.469420</td>\n",
       "      <td>-0.269039</td>\n",
       "      <td>-0.037948</td>\n",
       "      <td>-0.734186</td>\n",
       "      <td>-0.550215</td>\n",
       "      <td>-0.316458</td>\n",
       "    </tr>\n",
       "    <tr>\n",
       "      <th>5</th>\n",
       "      <td>1.611180e+14</td>\n",
       "      <td>0.001667</td>\n",
       "      <td>-51.243973</td>\n",
       "      <td>5694.408691</td>\n",
       "      <td>4.450530</td>\n",
       "      <td>33.268894</td>\n",
       "      <td>0.107221</td>\n",
       "      <td>0.176302</td>\n",
       "      <td>0.131125</td>\n",
       "      <td>0.039020</td>\n",
       "      <td>0.088876</td>\n",
       "      <td>0.068954</td>\n",
       "      <td>0.079446</td>\n",
       "      <td>0.134381</td>\n",
       "      <td>0.119479</td>\n",
       "      <td>0.059279</td>\n",
       "      <td>0.157909</td>\n",
       "      <td>0.171137</td>\n",
       "      <td>0.094745</td>\n",
       "      <td>0.157260</td>\n",
       "    </tr>\n",
       "    <tr>\n",
       "      <th>...</th>\n",
       "      <td>...</td>\n",
       "      <td>...</td>\n",
       "      <td>...</td>\n",
       "      <td>...</td>\n",
       "      <td>...</td>\n",
       "      <td>...</td>\n",
       "      <td>...</td>\n",
       "      <td>...</td>\n",
       "      <td>...</td>\n",
       "      <td>...</td>\n",
       "      <td>...</td>\n",
       "      <td>...</td>\n",
       "      <td>...</td>\n",
       "      <td>...</td>\n",
       "      <td>...</td>\n",
       "      <td>...</td>\n",
       "      <td>...</td>\n",
       "      <td>...</td>\n",
       "      <td>...</td>\n",
       "      <td>...</td>\n",
       "    </tr>\n",
       "    <tr>\n",
       "      <th>663070</th>\n",
       "      <td>1.611160e+14</td>\n",
       "      <td>359.995819</td>\n",
       "      <td>-56.851055</td>\n",
       "      <td>5481.137695</td>\n",
       "      <td>4.445670</td>\n",
       "      <td>-6.889793</td>\n",
       "      <td>0.103741</td>\n",
       "      <td>0.221993</td>\n",
       "      <td>0.150510</td>\n",
       "      <td>0.164297</td>\n",
       "      <td>0.131254</td>\n",
       "      <td>0.091621</td>\n",
       "      <td>0.108528</td>\n",
       "      <td>0.149705</td>\n",
       "      <td>0.206520</td>\n",
       "      <td>0.101541</td>\n",
       "      <td>0.351872</td>\n",
       "      <td>0.181172</td>\n",
       "      <td>0.186800</td>\n",
       "      <td>0.199482</td>\n",
       "    </tr>\n",
       "    <tr>\n",
       "      <th>663071</th>\n",
       "      <td>2.008010e+14</td>\n",
       "      <td>359.997070</td>\n",
       "      <td>-54.356224</td>\n",
       "      <td>5428.497070</td>\n",
       "      <td>4.455420</td>\n",
       "      <td>15.372953</td>\n",
       "      <td>0.010281</td>\n",
       "      <td>0.092273</td>\n",
       "      <td>0.094932</td>\n",
       "      <td>-0.052973</td>\n",
       "      <td>-0.033793</td>\n",
       "      <td>0.015348</td>\n",
       "      <td>0.027000</td>\n",
       "      <td>0.056165</td>\n",
       "      <td>0.147511</td>\n",
       "      <td>0.175296</td>\n",
       "      <td>0.206904</td>\n",
       "      <td>-0.013190</td>\n",
       "      <td>-0.031190</td>\n",
       "      <td>0.140210</td>\n",
       "    </tr>\n",
       "    <tr>\n",
       "      <th>663072</th>\n",
       "      <td>1.707110e+14</td>\n",
       "      <td>359.998779</td>\n",
       "      <td>-63.245998</td>\n",
       "      <td>5902.784180</td>\n",
       "      <td>4.012203</td>\n",
       "      <td>24.662785</td>\n",
       "      <td>-0.415962</td>\n",
       "      <td>-0.334707</td>\n",
       "      <td>-0.383137</td>\n",
       "      <td>-0.270259</td>\n",
       "      <td>-0.377403</td>\n",
       "      <td>-0.346356</td>\n",
       "      <td>-0.329139</td>\n",
       "      <td>-0.402470</td>\n",
       "      <td>-0.405404</td>\n",
       "      <td>-0.067628</td>\n",
       "      <td>-0.571348</td>\n",
       "      <td>-0.529947</td>\n",
       "      <td>-0.324590</td>\n",
       "      <td>-0.339275</td>\n",
       "    </tr>\n",
       "    <tr>\n",
       "      <th>663073</th>\n",
       "      <td>2.008010e+14</td>\n",
       "      <td>0.000167</td>\n",
       "      <td>-52.963306</td>\n",
       "      <td>5399.747559</td>\n",
       "      <td>4.333981</td>\n",
       "      <td>3.227795</td>\n",
       "      <td>-0.095362</td>\n",
       "      <td>0.054439</td>\n",
       "      <td>-0.024124</td>\n",
       "      <td>0.215236</td>\n",
       "      <td>0.004322</td>\n",
       "      <td>-0.097859</td>\n",
       "      <td>-0.089264</td>\n",
       "      <td>-0.050772</td>\n",
       "      <td>0.005421</td>\n",
       "      <td>-0.147737</td>\n",
       "      <td>0.212130</td>\n",
       "      <td>-0.046102</td>\n",
       "      <td>-0.014221</td>\n",
       "      <td>0.065007</td>\n",
       "    </tr>\n",
       "    <tr>\n",
       "      <th>663074</th>\n",
       "      <td>2.101150e+14</td>\n",
       "      <td>0.000000</td>\n",
       "      <td>0.000000</td>\n",
       "      <td>5781.336426</td>\n",
       "      <td>4.439082</td>\n",
       "      <td>-21.246084</td>\n",
       "      <td>0.069012</td>\n",
       "      <td>0.194042</td>\n",
       "      <td>0.070802</td>\n",
       "      <td>0.135206</td>\n",
       "      <td>0.108316</td>\n",
       "      <td>0.061868</td>\n",
       "      <td>0.063649</td>\n",
       "      <td>0.100057</td>\n",
       "      <td>0.083850</td>\n",
       "      <td>0.258219</td>\n",
       "      <td>0.188355</td>\n",
       "      <td>0.085814</td>\n",
       "      <td>0.076311</td>\n",
       "      <td>0.064050</td>\n",
       "    </tr>\n",
       "  </tbody>\n",
       "</table>\n",
       "<p>663074 rows × 20 columns</p>\n",
       "</div>"
      ],
      "text/plain": [
       "        GALAH_sobject_id    GALAH_RA  GALAH_Dec  GALAH_Teff[K]  GALAH_Logg  \\\n",
       "1           1.611160e+14    0.001000 -57.162334    4900.511719    4.464450   \n",
       "2           1.611160e+14    0.001000 -57.713528    5543.346191    4.175371   \n",
       "3           1.407130e+14    0.001042 -75.687943    5529.029297    4.521021   \n",
       "4           1.407080e+14    0.001583 -77.940865    4977.451172    3.172151   \n",
       "5           1.611180e+14    0.001667 -51.243973    5694.408691    4.450530   \n",
       "...                  ...         ...        ...            ...         ...   \n",
       "663070      1.611160e+14  359.995819 -56.851055    5481.137695    4.445670   \n",
       "663071      2.008010e+14  359.997070 -54.356224    5428.497070    4.455420   \n",
       "663072      1.707110e+14  359.998779 -63.245998    5902.784180    4.012203   \n",
       "663073      2.008010e+14    0.000167 -52.963306    5399.747559    4.333981   \n",
       "663074      2.101150e+14    0.000000   0.000000    5781.336426    4.439082   \n",
       "\n",
       "         GALAH_RV  GALAH_FeH  GALAH_MgH  GALAH_SiH  GALAH_KH  GALAH_CaH  \\\n",
       "1      -17.269478  -1.032346  -0.485245  -0.522659 -0.836103  -0.733011   \n",
       "2       35.673534  -0.654349  -0.339513  -0.499854 -0.412886  -0.442860   \n",
       "3       24.175571   0.135527   0.179893   0.122973  0.055832   0.102860   \n",
       "4       51.569466  -0.612790  -0.312235  -0.321094 -0.533563  -0.381498   \n",
       "5       33.268894   0.107221   0.176302   0.131125  0.039020   0.088876   \n",
       "...           ...        ...        ...        ...       ...        ...   \n",
       "663070  -6.889793   0.103741   0.221993   0.150510  0.164297   0.131254   \n",
       "663071  15.372953   0.010281   0.092273   0.094932 -0.052973  -0.033793   \n",
       "663072  24.662785  -0.415962  -0.334707  -0.383137 -0.270259  -0.377403   \n",
       "663073   3.227795  -0.095362   0.054439  -0.024124  0.215236   0.004322   \n",
       "663074 -21.246084   0.069012   0.194042   0.070802  0.135206   0.108316   \n",
       "\n",
       "        GALAH_TiH  GALAH_CrH  GALAH_NiH  GALAH_CH  GALAH_OH  GALAH_AlH  \\\n",
       "1       -0.623313  -0.921852  -1.047303 -1.056093 -1.641717  -0.636157   \n",
       "2       -0.477679  -0.656255  -0.640972 -0.365437 -0.047547  -0.628637   \n",
       "3        0.086971   0.150604   0.133135  0.130371  0.135678   0.232372   \n",
       "4       -0.319066  -0.602469  -0.551210 -0.469420 -0.269039  -0.037948   \n",
       "5        0.068954   0.079446   0.134381  0.119479  0.059279   0.157909   \n",
       "...           ...        ...        ...       ...       ...        ...   \n",
       "663070   0.091621   0.108528   0.149705  0.206520  0.101541   0.351872   \n",
       "663071   0.015348   0.027000   0.056165  0.147511  0.175296   0.206904   \n",
       "663072  -0.346356  -0.329139  -0.402470 -0.405404 -0.067628  -0.571348   \n",
       "663073  -0.097859  -0.089264  -0.050772  0.005421 -0.147737   0.212130   \n",
       "663074   0.061868   0.063649   0.100057  0.083850  0.258219   0.188355   \n",
       "\n",
       "        GALAH_MnH  GALAH_NaH  GALAH_VH  \n",
       "1       -1.270972  -1.026297 -0.815148  \n",
       "2       -0.852933  -0.618969 -0.506713  \n",
       "3        0.188496   0.076286  0.252581  \n",
       "4       -0.734186  -0.550215 -0.316458  \n",
       "5        0.171137   0.094745  0.157260  \n",
       "...           ...        ...       ...  \n",
       "663070   0.181172   0.186800  0.199482  \n",
       "663071  -0.013190  -0.031190  0.140210  \n",
       "663072  -0.529947  -0.324590 -0.339275  \n",
       "663073  -0.046102  -0.014221  0.065007  \n",
       "663074   0.085814   0.076311  0.064050  \n",
       "\n",
       "[663074 rows x 20 columns]"
      ]
     },
     "execution_count": 7,
     "metadata": {},
     "output_type": "execute_result"
    }
   ],
   "source": [
    "# X/Fe转换成X/H\n",
    "# lable_list = ['ra', 'dec', 'sobject_id', 'tmass_id', 'flag_sp', 'gaiadr3_source_id', 'snr_px_ccd3', 'teff', 'logg', 'rv_comp_1', 'rv_comp_2', 'fe_h', 'mg_fe', 'si_fe', 'k_fe', 'ca_fe', 'ti_fe', 'cr_fe', 'ni_fe', 'c_fe', 'o_fe' ,'al_fe', 'mn_fe', 'na_fe', 'v_fe']\n",
    "output_label = ['GALAH_sobject_id', 'GALAH_RA', 'GALAH_Dec', 'GALAH_Teff[K]','GALAH_Logg', 'GALAH_RV',\n",
    "                'GALAH_FeH', 'GALAH_MgH', 'GALAH_SiH', 'GALAH_KH', 'GALAH_CaH',\n",
    "                'GALAH_TiH', 'GALAH_CrH', 'GALAH_NiH', 'GALAH_CH', 'GALAH_OH',\n",
    "                'GALAH_AlH', 'GALAH_MnH', 'GALAH_NaH', 'GALAH_VH']\n",
    "\n",
    "# 'teff','logg','fe_h','Mg_fe','Si_fe','K_fe','Ca_fe','Ti_fe','Cr_fe','Ni_fe','C_fe','O_fe' ,'Al_fe','Mn_fe'\n",
    "\n",
    "# ['star_id','ra_dr2', 'dec_dr2','teff','logg','fe_h','Mg_fe','Si_fe','K_fe','Ca_fe','Ti_fe','Cr_fe','Ni_fe','C_fe','O_fe' ,'Al_fe','Mn_fe']\n",
    "df_GALAH = pd.DataFrame(data=df_GALAH[['sobject_id','ra', 'dec','teff','logg', 'rv_comp_1', 'fe_h','mg_fe', 'si_fe', 'k_fe', 'ca_fe', 'ti_fe', 'cr_fe', 'ni_fe', 'c_fe', 'o_fe' ,'al_fe', 'mn_fe', 'na_fe', 'v_fe']].values,\n",
    "                                columns=output_label)\n",
    "df_GALAH = df_GALAH.iloc[1:]\n",
    "for label_name in ['GALAH_MgH', 'GALAH_SiH', 'GALAH_KH', 'GALAH_CaH',\n",
    "                'GALAH_TiH', 'GALAH_CrH', 'GALAH_NiH', 'GALAH_CH', 'GALAH_OH',\n",
    "                'GALAH_AlH', 'GALAH_MnH', 'GALAH_NaH', 'GALAH_VH']:\n",
    "        df_GALAH[label_name] = df_GALAH[label_name] + df_GALAH['GALAH_FeH']\n",
    " \n",
    "df_GALAH"
   ]
  },
  {
   "cell_type": "code",
   "execution_count": 8,
   "id": "51b0b542-76d6-494a-9896-be5403803f1c",
   "metadata": {},
   "outputs": [],
   "source": [
    "df_GALAH.to_csv('df_GALAH_dr4.csv', index=False) "
   ]
  },
  {
   "cell_type": "code",
   "execution_count": null,
   "id": "9447116c-ad8d-4fd3-8e3e-1904bec68413",
   "metadata": {},
   "outputs": [],
   "source": []
  }
 ],
 "metadata": {
  "kernelspec": {
   "display_name": "torch",
   "language": "python",
   "name": "torch"
  },
  "language_info": {
   "codemirror_mode": {
    "name": "ipython",
    "version": 3
   },
   "file_extension": ".py",
   "mimetype": "text/x-python",
   "name": "python",
   "nbconvert_exporter": "python",
   "pygments_lexer": "ipython3",
   "version": "3.8.17"
  }
 },
 "nbformat": 4,
 "nbformat_minor": 5
}
