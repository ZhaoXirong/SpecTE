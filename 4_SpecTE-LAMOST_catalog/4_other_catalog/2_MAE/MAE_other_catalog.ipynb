{
 "cells": [
  {
   "cell_type": "code",
   "execution_count": 1,
   "id": "9778a857-bfc0-4dca-90ad-e5a08a38b875",
   "metadata": {},
   "outputs": [],
   "source": [
    "import numpy as np\n",
    "import pandas as pd\n",
    "from sklearn.metrics import mean_absolute_error"
   ]
  },
  {
   "cell_type": "markdown",
   "id": "f4abc235-97c2-4a1d-9b57-2986991ae925",
   "metadata": {},
   "source": [
    "# 计算不同星表之间的MAE等指标\n",
    "需要先对星表进行交叉匹配，这里读取交叉匹配后的数据"
   ]
  },
  {
   "cell_type": "markdown",
   "id": "74d970ae-1a87-4e42-86a1-25ba45d1e736",
   "metadata": {
    "tags": []
   },
   "source": [
    "# GALAH星表"
   ]
  },
  {
   "cell_type": "code",
   "execution_count": 15,
   "id": "d5069e9a-0eb5-4f7e-8eea-1012875f8652",
   "metadata": {},
   "outputs": [],
   "source": [
    "# GALAH星表\n",
    "path = r'../match/match_SpecTE-GALAHdr4.csv'\n",
    "match_GALAH_SpecTE_catalog=pd.read_csv(path)"
   ]
  },
  {
   "cell_type": "code",
   "execution_count": 16,
   "id": "e6992046-c124-4726-8945-d01da824d5a2",
   "metadata": {},
   "outputs": [
    {
     "name": "stdout",
     "output_type": "stream",
     "text": [
      "<class 'pandas.core.frame.DataFrame'>\n",
      "RangeIndex: 51763 entries, 0 to 51762\n",
      "Data columns (total 63 columns):\n",
      " #   Column               Non-Null Count  Dtype  \n",
      "---  ------               --------------  -----  \n",
      " 0   GALAH_sobject_id     51763 non-null  float64\n",
      " 1   GALAH_RA             51763 non-null  float64\n",
      " 2   GALAH_Dec            51763 non-null  float64\n",
      " 3   GALAH_Teff[K]        51763 non-null  float64\n",
      " 4   GALAH_Logg           51763 non-null  float64\n",
      " 5   GALAH_RV             51763 non-null  float64\n",
      " 6   GALAH_FeH            51763 non-null  float64\n",
      " 7   GALAH_MgH            51653 non-null  float64\n",
      " 8   GALAH_SiH            51597 non-null  float64\n",
      " 9   GALAH_KH             51706 non-null  float64\n",
      " 10  GALAH_CaH            51740 non-null  float64\n",
      " 11  GALAH_TiH            51739 non-null  float64\n",
      " 12  GALAH_CrH            51738 non-null  float64\n",
      " 13  GALAH_NiH            51750 non-null  float64\n",
      " 14  GALAH_CH             51738 non-null  float64\n",
      " 15  GALAH_OH             51526 non-null  float64\n",
      " 16  GALAH_AlH            50940 non-null  float64\n",
      " 17  GALAH_MnH            51748 non-null  float64\n",
      " 18  GALAH_NaH            51704 non-null  float64\n",
      " 19  GALAH_VH             50855 non-null  float64\n",
      " 20  obsid                51763 non-null  int64  \n",
      " 21  ra                   51763 non-null  float64\n",
      " 22  dec                  51763 non-null  float64\n",
      " 23  snrg                 51763 non-null  float64\n",
      " 24  Teff[K]              51763 non-null  float64\n",
      " 25  Teff[K]_uncertainty  51763 non-null  float64\n",
      " 26  Logg                 51763 non-null  float64\n",
      " 27  Logg_uncertainty     51763 non-null  float64\n",
      " 28  RV                   51763 non-null  float64\n",
      " 29  RV_uncertainty       51763 non-null  float64\n",
      " 30  FeH                  51763 non-null  float64\n",
      " 31  FeH_uncertainty      51763 non-null  float64\n",
      " 32  MgH                  51763 non-null  float64\n",
      " 33  MgH_uncertainty      51763 non-null  float64\n",
      " 34  SiH                  51763 non-null  float64\n",
      " 35  SiH_uncertainty      51763 non-null  float64\n",
      " 36  SH                   51763 non-null  float64\n",
      " 37  SH_uncertainty       51763 non-null  float64\n",
      " 38  KH                   51763 non-null  float64\n",
      " 39  KH_uncertainty       51763 non-null  float64\n",
      " 40  CaH                  51763 non-null  float64\n",
      " 41  CaH_uncertainty      51763 non-null  float64\n",
      " 42  TiH                  51763 non-null  float64\n",
      " 43  TiH_uncertainty      51763 non-null  float64\n",
      " 44  CrH                  51763 non-null  float64\n",
      " 45  CrH_uncertainty      51763 non-null  float64\n",
      " 46  NiH                  51763 non-null  float64\n",
      " 47  NiH_uncertainty      51763 non-null  float64\n",
      " 48  CH                   51763 non-null  float64\n",
      " 49  CH_uncertainty       51763 non-null  float64\n",
      " 50  NH                   51763 non-null  float64\n",
      " 51  NH_uncertainty       51763 non-null  float64\n",
      " 52  OH                   51763 non-null  float64\n",
      " 53  OH_uncertainty       51763 non-null  float64\n",
      " 54  AlH                  51763 non-null  float64\n",
      " 55  AlH_uncertainty      51763 non-null  float64\n",
      " 56  MnH                  51763 non-null  float64\n",
      " 57  MnH_uncertainty      51763 non-null  float64\n",
      " 58  NaH                  51763 non-null  float64\n",
      " 59  NaH_uncertainty      51763 non-null  float64\n",
      " 60  VH                   51763 non-null  float64\n",
      " 61  VH_uncertainty       51763 non-null  float64\n",
      " 62  Separation           51763 non-null  float64\n",
      "dtypes: float64(62), int64(1)\n",
      "memory usage: 24.9 MB\n"
     ]
    }
   ],
   "source": [
    "match_GALAH_SpecTE_catalog.info()"
   ]
  },
  {
   "cell_type": "code",
   "execution_count": 17,
   "id": "50baed95-87dd-4fa9-aca9-f3cc3b20800d",
   "metadata": {},
   "outputs": [
    {
     "name": "stdout",
     "output_type": "stream",
     "text": [
      "   Parameter  diff_mean    diff_std        MAE\n",
      "0    Teff[K]  19.460700  155.528897  85.742087\n",
      "1       Logg   0.019141    0.219635   0.118555\n",
      "2         RV  -0.123528   10.964424   4.392765\n",
      "3        FeH  -0.003704    0.107662   0.066694\n",
      "4        MgH   0.014644    0.108672   0.074570\n",
      "5        SiH  -0.000472    0.102236   0.073388\n",
      "6         KH  -0.031369    0.231162   0.169824\n",
      "7        CaH  -0.000564    0.115830   0.080776\n",
      "8        TiH   0.107884    0.133933   0.136042\n",
      "9        CrH   0.144493    0.163358   0.175293\n",
      "10       NiH  -0.011352    0.119071   0.074378\n",
      "11        CH   0.000927    0.182991   0.126759\n",
      "12        OH   0.006881    0.259169   0.187213\n",
      "13       AlH  -0.076222    0.190808   0.150047\n",
      "14       MnH  -0.026443    0.136941   0.095558\n",
      "15       NaH   0.132113    0.191129   0.185109\n",
      "16        VH   0.164462    0.170693   0.191414\n"
     ]
    }
   ],
   "source": [
    "# 统一名字方便代码复用\n",
    "df = match_GALAH_SpecTE_catalog\n",
    "\n",
    "# 初始化存储结果的列表\n",
    "results = []\n",
    "\n",
    "# 参数列表 需要上下一一对应\n",
    "GALAH_catalog_label = ['GALAH_Teff[K]','GALAH_Logg', 'GALAH_RV',\n",
    "                'GALAH_FeH', 'GALAH_MgH', 'GALAH_SiH', 'GALAH_KH', 'GALAH_CaH',\n",
    "                'GALAH_TiH', 'GALAH_CrH', 'GALAH_NiH', 'GALAH_CH', 'GALAH_OH',\n",
    "                'GALAH_AlH', 'GALAH_MnH', 'GALAH_NaH', 'GALAH_VH']\n",
    "SpecTE_catalog_label = ['Teff[K]', 'Logg', 'RV', 'FeH', 'MgH', 'SiH', 'KH', 'CaH', 'TiH', 'CrH', 'NiH', 'CH', 'OH', 'AlH', 'MnH', 'NaH', 'VH']\n",
    "\n",
    "\n",
    "\n",
    "# 计算 diff_std, diff_mean 和 mae\n",
    "for galah_label, specte_label in zip(GALAH_catalog_label, SpecTE_catalog_label):\n",
    "    \n",
    "    # 处理空值，确保两个列都没有空值\n",
    "    valid_data = df[[galah_label, specte_label]].dropna()\n",
    "    \n",
    "    # 计算差值的均值和标准差\n",
    "    diff = valid_data[galah_label] - valid_data[specte_label]\n",
    "    diff_std = diff.std(axis=0)\n",
    "    diff_mean = diff.mean(axis=0)\n",
    "    \n",
    "    # 计算 mae\n",
    "    mae = mean_absolute_error(valid_data[galah_label], valid_data[specte_label])\n",
    "    \n",
    "    # 添加结果到列表中\n",
    "    results.append([specte_label, diff_mean, diff_std, mae])\n",
    "\n",
    "# 创建 DataFrame\n",
    "results_df = pd.DataFrame(results, columns=['Parameter', 'diff_mean', 'diff_std', 'MAE'])\n",
    "\n",
    "# 打印结果 DataFrame\n",
    "print(results_df)\n"
   ]
  },
  {
   "cell_type": "code",
   "execution_count": 18,
   "id": "c1ec0dcc-a849-478f-b083-0a63048382c2",
   "metadata": {},
   "outputs": [],
   "source": [
    "results_df.to_csv('./result_MAE/GALAH_SpecTE_results.csv', index=False)"
   ]
  },
  {
   "cell_type": "markdown",
   "id": "667e0864-9b95-43de-801a-0291af430c86",
   "metadata": {
    "jp-MarkdownHeadingCollapsed": true,
    "tags": []
   },
   "source": [
    "# GALAH_ASPCAP星表"
   ]
  },
  {
   "cell_type": "code",
   "execution_count": 21,
   "id": "25429b1d-ed17-4fe1-9570-6f14be7a1369",
   "metadata": {},
   "outputs": [
    {
     "name": "stdout",
     "output_type": "stream",
     "text": [
      "<class 'pandas.core.frame.DataFrame'>\n",
      "RangeIndex: 20977 entries, 0 to 20976\n",
      "Data columns (total 38 columns):\n",
      " #   Column          Non-Null Count  Dtype  \n",
      "---  ------          --------------  -----  \n",
      " 0   GALAH_starid    20977 non-null  object \n",
      " 1   GALAH_RA        20977 non-null  float64\n",
      " 2   GALAH_Dec       20977 non-null  float64\n",
      " 3   GALAH_Teff[K]   20977 non-null  float64\n",
      " 4   GALAH_Logg      20977 non-null  float64\n",
      " 5   GALAH_FeH       20977 non-null  float64\n",
      " 6   GALAH_MgH       20613 non-null  float64\n",
      " 7   GALAH_SiH       20844 non-null  float64\n",
      " 8   GALAH_KH        19621 non-null  float64\n",
      " 9   GALAH_CaH       20403 non-null  float64\n",
      " 10  GALAH_TiH       20483 non-null  float64\n",
      " 11  GALAH_CrH       20787 non-null  float64\n",
      " 12  GALAH_NiH       19666 non-null  float64\n",
      " 13  GALAH_CH        7945 non-null   float64\n",
      " 14  GALAH_OH        19797 non-null  float64\n",
      " 15  GALAH_AlH       20602 non-null  float64\n",
      " 16  GALAH_MnH       20809 non-null  float64\n",
      " 17  ASPCAP_starid   20977 non-null  object \n",
      " 18  ASPCAP_RA       20977 non-null  float64\n",
      " 19  ASPCAP_Dec      20977 non-null  float64\n",
      " 20  ASPCAP_RV       20977 non-null  float64\n",
      " 21  ASPCAP_Teff[K]  20977 non-null  float64\n",
      " 22  ASPCAP_Logg     20977 non-null  float64\n",
      " 23  ASPCAP_CH       20977 non-null  float64\n",
      " 24  ASPCAP_NH       20977 non-null  float64\n",
      " 25  ASPCAP_OH       20977 non-null  float64\n",
      " 26  ASPCAP_MgH      20977 non-null  float64\n",
      " 27  ASPCAP_AlH      20977 non-null  float64\n",
      " 28  ASPCAP_SiH      20977 non-null  float64\n",
      " 29  ASPCAP_SH       20977 non-null  float64\n",
      " 30  ASPCAP_KH       20977 non-null  float64\n",
      " 31  ASPCAP_CaH      20977 non-null  float64\n",
      " 32  ASPCAP_TiH      20977 non-null  float64\n",
      " 33  ASPCAP_CrH      20977 non-null  float64\n",
      " 34  ASPCAP_MnH      20977 non-null  float64\n",
      " 35  ASPCAP_FeH      20977 non-null  float64\n",
      " 36  ASPCAP_NiH      20977 non-null  float64\n",
      " 37  Separation      20977 non-null  float64\n",
      "dtypes: float64(36), object(2)\n",
      "memory usage: 6.1+ MB\n"
     ]
    }
   ],
   "source": [
    "# GALAH星表\n",
    "path = r'F:\\My_trial\\Fits_preprocessed\\other_catalog\\match_GALAH_apogee.csv'\n",
    "match_GALAH_apogee_catalog=pd.read_csv(path)\n",
    "match_GALAH_apogee_catalog.info()"
   ]
  },
  {
   "cell_type": "code",
   "execution_count": 22,
   "id": "b42d4952-8932-4a2b-94ff-5a67c2f9a273",
   "metadata": {},
   "outputs": [
    {
     "name": "stdout",
     "output_type": "stream",
     "text": [
      "         Parameter  diff_mean    diff_std        MAE\n",
      "0   ASPCAP_Teff[K]   0.086246  109.034836  72.228294\n",
      "1      ASPCAP_Logg  -0.026931    0.133338   0.090275\n",
      "2       ASPCAP_FeH  -0.020208    0.105276   0.072803\n",
      "3       ASPCAP_MgH  -0.019688    0.137432   0.100732\n",
      "4       ASPCAP_SiH  -0.031290    0.102146   0.080092\n",
      "5        ASPCAP_KH  -0.031112    0.252438   0.174172\n",
      "6       ASPCAP_CaH   0.040445    0.144833   0.108957\n",
      "7       ASPCAP_TiH   0.085806    0.232145   0.182271\n",
      "8       ASPCAP_CrH   0.051695    0.266992   0.179080\n",
      "9       ASPCAP_NiH  -0.030732    0.135470   0.102430\n",
      "10       ASPCAP_CH   0.087263    0.193296   0.142837\n",
      "11       ASPCAP_OH   0.042217    0.232229   0.170631\n",
      "12      ASPCAP_AlH  -0.001976    0.156198   0.117927\n",
      "13      ASPCAP_MnH  -0.025265    0.166360   0.111607\n"
     ]
    }
   ],
   "source": [
    "# 统一名字方便代码复用\n",
    "df = match_GALAH_apogee_catalog\n",
    "\n",
    "# 初始化存储结果的列表\n",
    "results = []\n",
    "\n",
    "# 参数列表\n",
    "GALAH_catalog_label = ['GALAH_Teff[K]', 'GALAH_Logg', 'GALAH_FeH', 'GALAH_MgH', 'GALAH_SiH', 'GALAH_KH', 'GALAH_CaH', 'GALAH_TiH', 'GALAH_CrH', 'GALAH_NiH', 'GALAH_CH', 'GALAH_OH', 'GALAH_AlH', 'GALAH_MnH']\n",
    "ASPCAP_catalog_label = ['ASPCAP_Teff[K]', 'ASPCAP_Logg', 'ASPCAP_FeH', 'ASPCAP_MgH', 'ASPCAP_SiH', 'ASPCAP_KH', 'ASPCAP_CaH', 'ASPCAP_TiH', 'ASPCAP_CrH', 'ASPCAP_NiH', 'ASPCAP_CH', 'ASPCAP_OH', 'ASPCAP_AlH', 'ASPCAP_MnH']\n",
    "\n",
    "# 计算 diff_std, diff_mean 和 mae\n",
    "for galah_label, specte_label in zip(GALAH_catalog_label, ASPCAP_catalog_label):\n",
    "    \n",
    "    # 处理空值，确保两个列都没有空值\n",
    "    valid_data = df[[galah_label, specte_label]].dropna()\n",
    "    \n",
    "    # 计算差值的均值和标准差\n",
    "    diff = valid_data[galah_label] - valid_data[specte_label]\n",
    "    diff_std = diff.std(axis=0)\n",
    "    diff_mean = diff.mean(axis=0)\n",
    "    \n",
    "    # 计算 mae\n",
    "    mae = mean_absolute_error(valid_data[galah_label], valid_data[specte_label])\n",
    "    \n",
    "    # 添加结果到列表中\n",
    "    results.append([specte_label, diff_mean, diff_std, mae])\n",
    "\n",
    "# 创建 DataFrame\n",
    "results_df = pd.DataFrame(results, columns=['Parameter', 'diff_mean', 'diff_std', 'MAE'])\n",
    "\n",
    "# 打印结果 DataFrame\n",
    "print(results_df)\n"
   ]
  },
  {
   "cell_type": "code",
   "execution_count": 11,
   "id": "381e6625-ff5e-4432-8c97-dffbb82daff0",
   "metadata": {},
   "outputs": [],
   "source": [
    "results_df.to_csv('./分析结果/GALAH_ASPCAP_results.csv', index=False)"
   ]
  },
  {
   "cell_type": "markdown",
   "id": "9ef36846-48c5-4cfa-be8b-002f3d84ac81",
   "metadata": {
    "tags": []
   },
   "source": [
    "# StarGRUNet星表"
   ]
  },
  {
   "cell_type": "code",
   "execution_count": 5,
   "id": "7a93e130-f665-4fad-9787-fcf601386600",
   "metadata": {},
   "outputs": [
    {
     "name": "stdout",
     "output_type": "stream",
     "text": [
      "<class 'pandas.core.frame.DataFrame'>\n",
      "RangeIndex: 142019 entries, 0 to 142018\n",
      "Columns: 133 entries, obsid to Separation\n",
      "dtypes: float64(127), int64(4), object(2)\n",
      "memory usage: 144.1+ MB\n"
     ]
    }
   ],
   "source": [
    "# 读取数据\n",
    "path = r'../match/match_SpecTE-StarGRU-APOGEE.csv'\n",
    "match_SpecTE_StarGRU_APOGEE_catalog=pd.read_csv(path)\n",
    "match_SpecTE_StarGRU_APOGEE_catalog.info()"
   ]
  },
  {
   "cell_type": "code",
   "execution_count": null,
   "id": "c3423eaa-2790-4a30-9754-74e219853e7e",
   "metadata": {},
   "outputs": [],
   "source": [
    "\n",
    "columns = match_SpecTE_StarGRU_APOGEE_catalog.columns\n",
    "for i in columns:\n",
    "    print(i)"
   ]
  },
  {
   "cell_type": "markdown",
   "id": "3816ba64-1d57-4143-949b-03fb8cc72307",
   "metadata": {},
   "source": [
    "## StarGRU-ASPCAP"
   ]
  },
  {
   "cell_type": "code",
   "execution_count": 11,
   "id": "7c5bdfbd-569a-4991-8078-fa053fb84e2a",
   "metadata": {},
   "outputs": [
    {
     "name": "stdout",
     "output_type": "stream",
     "text": [
      "    Parameter  diff_mean    diff_std         MAE\n",
      "0   Teff[K]_2  18.713020  166.398981  118.814556\n",
      "1      Logg_2   0.017079    0.270694    0.165584\n",
      "2       FeH_2  -0.000332    0.105143    0.057979\n",
      "3       MgH_2   0.003712    0.090981    0.052603\n",
      "4       SiH_2   0.003196    0.110924    0.060939\n",
      "5        SH_2  -0.001969    0.128758    0.080865\n",
      "6        KH_2   0.002181    0.153606    0.090440\n",
      "7       CaH_2   0.005112    0.114553    0.060762\n",
      "8       TiH_2  -0.000162    0.176522    0.104327\n",
      "9       CrH_2  -0.007344    0.220973    0.128345\n",
      "10      NiH_2  -0.001691    0.103921    0.061702\n",
      "11       CH_2   0.000914    0.113846    0.066041\n",
      "12       NH_2  -0.004668    0.192369    0.115286\n",
      "13       OH_2   0.001598    0.119169    0.075563\n",
      "14      AlH_2   0.001378    0.134659    0.075087\n",
      "15      MnH_2  -0.000354    0.133301    0.074684\n"
     ]
    }
   ],
   "source": [
    "# StarGRUNet\n",
    "\n",
    "# 统一名字方便代码复用\n",
    "df = match_SpecTE_StarGRU_APOGEE_catalog\n",
    "\n",
    "# 初始化存储结果的列表\n",
    "results = []\n",
    "\n",
    "\n",
    "# 参数列表\n",
    "StarGRUNet_catalog_label = ['Teff[K]_2', 'Logg_2', 'FeH_2', 'MgH_2', 'SiH_2', 'SH_2', 'KH_2', 'CaH_2', 'TiH_2', 'CrH_2', 'NiH_2', 'CH_2', 'NH_2', 'OH_2', 'AlH_2', 'MnH_2']\n",
    "ASPCAP_catalog_label = ['ASPCAP_Teff[K]_2', 'ASPCAP_Logg_2', 'ASPCAP_FeH_2', 'ASPCAP_MgH_2', \n",
    "                        'ASPCAP_SiH_2', 'ASPCAP_SH_2', 'ASPCAP_KH_2', 'ASPCAP_CaH_2', \n",
    "                        'ASPCAP_TiH_2', 'ASPCAP_CrH_2', 'ASPCAP_NiH_2', 'ASPCAP_CH_2', \n",
    "                        'ASPCAP_NH_2', 'ASPCAP_OH_2', 'ASPCAP_AlH_2', 'ASPCAP_MnH_2']\n",
    "\n",
    "# 计算 diff_std, diff_mean 和 mae\n",
    "for galah_label, specte_label in zip(ASPCAP_catalog_label, StarGRUNet_catalog_label):\n",
    "    \n",
    "    # 处理空值，确保两个列都没有空值\n",
    "    valid_data = df[[galah_label, specte_label]].dropna()\n",
    "    \n",
    "    # 计算差值的均值和标准差\n",
    "    diff = valid_data[galah_label] - valid_data[specte_label]\n",
    "    diff_std = diff.std(axis=0)\n",
    "    diff_mean = diff.mean(axis=0)\n",
    "    \n",
    "    # 计算 mae\n",
    "    mae = mean_absolute_error(valid_data[galah_label], valid_data[specte_label])\n",
    "    \n",
    "    # 添加结果到列表中\n",
    "    results.append([specte_label, diff_mean, diff_std, mae])\n",
    "\n",
    "# 创建 DataFrame\n",
    "results_df = pd.DataFrame(results, columns=['Parameter', 'diff_mean', 'diff_std', 'MAE'])\n",
    "\n",
    "# 打印结果 DataFrame\n",
    "print(results_df)\n"
   ]
  },
  {
   "cell_type": "code",
   "execution_count": 12,
   "id": "04cb85de-d714-4136-941f-cdd2e54cf96b",
   "metadata": {},
   "outputs": [],
   "source": [
    "results_df.to_csv('./result_MAE/StarGRUNet_ASPCAP_results.csv', index=False)"
   ]
  },
  {
   "cell_type": "markdown",
   "id": "f5aec7a4-9e25-4ed5-aa67-e82dee45d4b8",
   "metadata": {},
   "source": [
    "## SpecTE-ASPCAP"
   ]
  },
  {
   "cell_type": "code",
   "execution_count": 19,
   "id": "89d21346-f2ae-416f-904e-31aabdde3854",
   "metadata": {},
   "outputs": [
    {
     "name": "stdout",
     "output_type": "stream",
     "text": [
      "    Parameter  diff_mean   diff_std        MAE\n",
      "0   Teff[K]_1   0.421453  79.037952  40.967451\n",
      "1      Logg_1  -0.000522   0.140154   0.075560\n",
      "2          RV  -0.034773   8.983694   3.688715\n",
      "3       FeH_1   0.000370   0.052872   0.032086\n",
      "4       MgH_1   0.000291   0.054051   0.034600\n",
      "5       SiH_1   0.000361   0.055472   0.035309\n",
      "6        SH_1   0.000297   0.100200   0.066362\n",
      "7        KH_1  -0.000249   0.123940   0.072213\n",
      "8       CaH_1   0.000727   0.064898   0.039684\n",
      "9       TiH_1   0.001125   0.142634   0.086466\n",
      "10      CrH_1   0.000021   0.193043   0.110413\n",
      "11      NiH_1   0.000225   0.061407   0.038378\n",
      "12       CH_1   0.000400   0.069021   0.043070\n",
      "13       NH_1   0.000181   0.163050   0.091977\n",
      "14       OH_1   0.000434   0.088587   0.057320\n",
      "15      AlH_1   0.000294   0.077035   0.048648\n",
      "16      MnH_1   0.000710   0.079259   0.048009\n",
      "17        NaH   0.001115   0.329509   0.203229\n",
      "18         VH   0.000024   0.229702   0.148207\n"
     ]
    }
   ],
   "source": [
    "# 统一名字方便代码复用\n",
    "df = match_SpecTE_StarGRU_APOGEE_catalog\n",
    "\n",
    "# 初始化存储结果的列表\n",
    "results = []\n",
    "\n",
    "# 参数列表\n",
    "SpecTE_catalog_label = ['Teff[K]_1', 'Logg_1', 'RV', 'FeH_1', 'MgH_1', 'SiH_1', 'SH_1', 'KH_1', 'CaH_1', 'TiH_1', 'CrH_1', 'NiH_1', 'CH_1', 'NH_1', 'OH_1', 'AlH_1', 'MnH_1','NaH','VH']\n",
    "ASPCAP_catalog_label = ['ASPCAP_Teff[K]_1', 'ASPCAP_Logg_1', 'ASPCAP_RV_1', 'ASPCAP_FeH_1', 'ASPCAP_MgH_1', \n",
    "                        'ASPCAP_SiH_1', 'ASPCAP_SH_1', 'ASPCAP_KH_1', 'ASPCAP_CaH_1',\n",
    "                        'ASPCAP_TiH_1', 'ASPCAP_CrH_1', 'ASPCAP_NiH_1', 'ASPCAP_CH_1',\n",
    "                        'ASPCAP_NH_1', 'ASPCAP_OH_1', 'ASPCAP_AlH_1', 'ASPCAP_MnH_1','ASPCAP_NaH_1','ASPCAP_VH_1']\n",
    "\n",
    "# 计算 diff_std, diff_mean 和 mae\n",
    "for galah_label, specte_label in zip(ASPCAP_catalog_label, SpecTE_catalog_label):\n",
    "    \n",
    "    # 处理空值，确保两个列都没有空值\n",
    "    valid_data = df[[galah_label, specte_label]].dropna()\n",
    "    \n",
    "    # 计算差值的均值和标准差\n",
    "    diff = valid_data[galah_label] - valid_data[specte_label]\n",
    "    diff_std = diff.std(axis=0)\n",
    "    diff_mean = diff.mean(axis=0)\n",
    "    \n",
    "    # 计算 mae\n",
    "    mae = mean_absolute_error(valid_data[galah_label], valid_data[specte_label])\n",
    "    \n",
    "    # 添加结果到列表中\n",
    "    results.append([specte_label, diff_mean, diff_std, mae])\n",
    "\n",
    "# 创建 DataFrame\n",
    "results_df = pd.DataFrame(results, columns=['Parameter', 'diff_mean', 'diff_std', 'MAE'])\n",
    "\n",
    "# 打印结果 DataFrame\n",
    "print(results_df)\n"
   ]
  },
  {
   "cell_type": "code",
   "execution_count": 20,
   "id": "269d9ecb-ba85-411d-a224-7821e2578a06",
   "metadata": {},
   "outputs": [],
   "source": [
    "results_df.to_csv('./result_MAE/SpecTE_ASPCAP_results.csv', index=False)"
   ]
  },
  {
   "cell_type": "code",
   "execution_count": null,
   "id": "a1c181df-01ea-4e50-a99b-cbcb2d4c7ebf",
   "metadata": {},
   "outputs": [],
   "source": []
  }
 ],
 "metadata": {
  "kernelspec": {
   "display_name": "pytorch",
   "language": "python",
   "name": "pytorch"
  },
  "language_info": {
   "codemirror_mode": {
    "name": "ipython",
    "version": 3
   },
   "file_extension": ".py",
   "mimetype": "text/x-python",
   "name": "python",
   "nbconvert_exporter": "python",
   "pygments_lexer": "ipython3",
   "version": "3.9.16"
  }
 },
 "nbformat": 4,
 "nbformat_minor": 5
}
