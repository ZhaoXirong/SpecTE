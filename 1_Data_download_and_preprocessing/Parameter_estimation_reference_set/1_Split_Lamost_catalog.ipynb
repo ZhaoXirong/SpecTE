{
 "cells": [
  {
   "cell_type": "code",
   "execution_count": 2,
   "id": "17492601-abb9-46b6-8b52-1ec1b973c128",
   "metadata": {},
   "outputs": [],
   "source": [
    "import pandas as pd\n",
    "import numpy as np\n",
    "from tqdm import tqdm"
   ]
  },
  {
   "cell_type": "markdown",
   "id": "b81f0302-d0ac-45a6-a453-1725cdab8a3c",
   "metadata": {},
   "source": [
    "# 处理下载下来的lamost星表\n",
    "老版本原始数据是一个联合列，由|进行分割。这里将数据拆分为多个列，并生成csv，dr11不需要"
   ]
  },
  {
   "cell_type": "code",
   "execution_count": 3,
   "id": "82b6b433-bc22-49c4-ab7f-de0af5c5f662",
   "metadata": {},
   "outputs": [
    {
     "name": "stdout",
     "output_type": "stream",
     "text": [
      "<class 'pandas.core.frame.DataFrame'>\n",
      "RangeIndex: 9625555 entries, 0 to 9625554\n",
      "Data columns (total 7 columns):\n",
      " #   Column  Dtype  \n",
      "---  ------  -----  \n",
      " 0   obsid   int64  \n",
      " 1   uid     object \n",
      " 2   snrg    float64\n",
      " 3   class   object \n",
      " 4   z       float64\n",
      " 5   ra      float64\n",
      " 6   dec     float64\n",
      "dtypes: float64(4), int64(1), object(2)\n",
      "memory usage: 514.1+ MB\n"
     ]
    }
   ],
   "source": [
    "# 读取数据\n",
    "df_lamost = pd.read_csv(r'G:\\Star\\1_Data_download_and_preprocessing\\raw_data_catalogue_label\\DR11_V11_SNRG=5_class=star.csv', comment='#')\n",
    "# df_lamost = pd.read_csv('./data/dr10_LAMOST_9964.csv')\n",
    "df_lamost.info()"
   ]
  },
  {
   "cell_type": "markdown",
   "id": "58ee6dee-f10b-4238-bb7a-830f163861fc",
   "metadata": {
    "jp-MarkdownHeadingCollapsed": true,
    "tags": []
   },
   "source": [
    "## 老版本的星表需要分割，新版本不需要运行这个部分\n",
    "老版本原始数据是一个联合列，由|进行分割。这里将数据拆分为多个列，并生成csv"
   ]
  },
  {
   "cell_type": "code",
   "execution_count": 3,
   "id": "cc861b5f-a97e-48c9-937c-ea7cd1a25fdb",
   "metadata": {},
   "outputs": [
    {
     "data": {
      "text/plain": [
       "'combined_obsid|combined_snrg|combined_ra|combined_dec'"
      ]
     },
     "execution_count": 3,
     "metadata": {},
     "output_type": "execute_result"
    }
   ],
   "source": [
    "combined_name=df_lamost.columns[0]\n",
    "combined_name"
   ]
  },
  {
   "cell_type": "code",
   "execution_count": 4,
   "id": "0f55f04f-14e5-43f9-b6e0-65bbdda91a2a",
   "metadata": {},
   "outputs": [],
   "source": [
    "# 使用 str.split() 方法按竖线分割数据列\n",
    "new_columns = df_lamost[combined_name].str.split('|', expand=True)\n",
    "\n",
    "# 为新列命名\n",
    "# new_columns.columns = ['lamost_obsid', 'lamost_snrg', 'lamost_class', 'lamost_subclass', 'lamost_z', 'lamost_ra', 'lamost_dec', 'lamost_logg', 'lamost_file']\n",
    "names = combined_name.split('|') # 使用split方法拆分字符串\n",
    "names = [name.replace('combined', 'lamost') for name in names] # 替换前缀并创建新的列表\n",
    "new_columns.columns = names\n",
    "\n",
    "# 将新列添加到数据框中\n",
    "df_lamost = pd.concat([df_lamost, new_columns], axis=1)\n",
    "\n",
    "# 删除原始的单一列数据\n",
    "df_lamost.drop(combined_name, axis=1, inplace=True)\n"
   ]
  },
  {
   "cell_type": "code",
   "execution_count": 5,
   "id": "e70abab6-2642-4acf-91a3-55bcb6ce6d9e",
   "metadata": {},
   "outputs": [
    {
     "data": {
      "text/plain": [
       "(11473644, 4)"
      ]
     },
     "execution_count": 5,
     "metadata": {},
     "output_type": "execute_result"
    }
   ],
   "source": [
    "df_lamost.shape"
   ]
  },
  {
   "cell_type": "code",
   "execution_count": 6,
   "id": "d392b81d-b596-4a4f-b4d0-db057e8fd420",
   "metadata": {},
   "outputs": [
    {
     "name": "stdout",
     "output_type": "stream",
     "text": [
      "<class 'pandas.core.frame.DataFrame'>\n",
      "RangeIndex: 11473644 entries, 0 to 11473643\n",
      "Data columns (total 4 columns):\n",
      " #   Column        Dtype \n",
      "---  ------        ----- \n",
      " 0   lamost_obsid  object\n",
      " 1   lamost_snrg   object\n",
      " 2   lamost_ra     object\n",
      " 3   lamost_dec    object\n",
      "dtypes: object(4)\n",
      "memory usage: 350.1+ MB\n"
     ]
    }
   ],
   "source": [
    "df_lamost.info()"
   ]
  },
  {
   "cell_type": "code",
   "execution_count": 24,
   "id": "a31aaf82-3de1-4429-955b-25cc5126f12f",
   "metadata": {},
   "outputs": [
    {
     "data": {
      "text/plain": [
       "0    332.2022740000\n",
       "1    332.5354560000\n",
       "2    332.3687450000\n",
       "3    332.2066650000\n",
       "4    332.3215230000\n",
       "Name: lamost_ra, dtype: object"
      ]
     },
     "execution_count": 24,
     "metadata": {},
     "output_type": "execute_result"
    }
   ],
   "source": [
    "df_lamost['lamost_ra'][0:5]"
   ]
  },
  {
   "cell_type": "code",
   "execution_count": null,
   "id": "fc8fbc43-cd7d-4aff-9c66-b16d5a8fd88a",
   "metadata": {},
   "outputs": [],
   "source": [
    "# 将 'lamost_snrg' 列转换为数值型，这里使用 pd.to_numeric，并忽略无法转换的错误\n",
    "df_lamost['lamost_snrg'] = pd.to_numeric(df_lamost['lamost_snrg'], errors='coerce')"
   ]
  },
  {
   "cell_type": "code",
   "execution_count": 22,
   "id": "5efc110d-b19f-465f-9c5a-cf45f560aef0",
   "metadata": {},
   "outputs": [],
   "source": [
    "# # 保存数据\n",
    "# df_lamost.to_csv(r'E:\\my_star\\raw_data_catalogue_label\\lamost_dr10_data_catalog.csv', index=False)"
   ]
  }
 ],
 "metadata": {
  "kernelspec": {
   "display_name": "torch",
   "language": "python",
   "name": "torch"
  },
  "language_info": {
   "codemirror_mode": {
    "name": "ipython",
    "version": 3
   },
   "file_extension": ".py",
   "mimetype": "text/x-python",
   "name": "python",
   "nbconvert_exporter": "python",
   "pygments_lexer": "ipython3",
   "version": "3.8.17"
  }
 },
 "nbformat": 4,
 "nbformat_minor": 5
}
