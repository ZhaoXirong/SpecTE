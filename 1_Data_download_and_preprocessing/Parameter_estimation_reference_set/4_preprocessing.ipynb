{
 "cells": [
  {
   "cell_type": "code",
   "execution_count": 61,
   "id": "a6866884-224d-4cfc-addb-7a2c9e0b443d",
   "metadata": {},
   "outputs": [],
   "source": [
    "import numpy as np\n",
    "import pandas as pd\n",
    "import os\n",
    "from tqdm import tqdm\n",
    "from astropy.io import fits\n",
    "from scipy.interpolate import interp1d # 线性插值\n",
    "import matplotlib.pyplot as plt\n",
    "from scipy.signal import medfilt # 中值滤波\n",
    "from sklearn.preprocessing import StandardScaler  # 数据进行标准化\n",
    "import json \n",
    "import shutil"
   ]
  },
  {
   "cell_type": "code",
   "execution_count": 2,
   "id": "d237395c-af3a-43e2-8133-ac56346c0e45",
   "metadata": {},
   "outputs": [],
   "source": [
    "# columns=['ASPCAP_Teff[K]', 'ASPCAP_Logg', 'ASPCAP_CH', 'ASPCAP_NH', 'ASPCAP_OH', \n",
    "#          'ASPCAP_MgH', 'ASPCAP_AlH', 'ASPCAP_SiH', 'ASPCAP_SH', 'ASPCAP_KH', \n",
    "#          'ASPCAP_CaH', 'ASPCAP_TiH', 'ASPCAP_CrH','ASPCAP_MnH', 'ASPCAP_FeH', \n",
    "#          'ASPCAP_NiH', 'lamost_snrg', 'lamost_obsid']\n",
    "\n",
    "columns=['ASPCAP_Teff[K]', 'ASPCAP_Logg', 'ASPCAP_RV', 'ASPCAP_CH', 'ASPCAP_NH', 'ASPCAP_OH', \n",
    "         'ASPCAP_NaH', 'ASPCAP_MgH', 'ASPCAP_AlH', 'ASPCAP_SiH', 'ASPCAP_SH', 'ASPCAP_KH', \n",
    "         'ASPCAP_CaH', 'ASPCAP_TiH',  'ASPCAP_VH', 'ASPCAP_CrH','ASPCAP_MnH', 'ASPCAP_FeH', \n",
    "         'ASPCAP_NiH', 'snrg', 'obsid', 'uid',]"
   ]
  },
  {
   "cell_type": "markdown",
   "id": "89a9dc90-42b4-4c21-97da-91c85001cbe1",
   "metadata": {
    "tags": []
   },
   "source": [
    "# 函数定义"
   ]
  },
  {
   "cell_type": "markdown",
   "id": "0ae32b72-eb4f-4734-b300-d77fba5cb845",
   "metadata": {
    "tags": []
   },
   "source": [
    "## 工具函数："
   ]
  },
  {
   "cell_type": "markdown",
   "id": "129760ad-bccb-4741-ab2e-93a227c305de",
   "metadata": {
    "tags": []
   },
   "source": [
    "### 遍历目录all_path："
   ]
  },
  {
   "cell_type": "markdown",
   "id": "0857890b-cf07-49b6-aee3-c8271f9733b8",
   "metadata": {},
   "source": [
    "功能描述\n",
    "\n",
    "    函数遍历指定目录（包括其子目录）下的所有文件，并返回一个包含所有文件名的列表。\n",
    "\n",
    "参数\n",
    "\n",
    "    dirname (str): 需要遍历的目录路径字符串。\n",
    "返回值\n",
    "\n",
    "    返回一个列表，包含遍历得到的所有文件的名称（不包括路径）。"
   ]
  },
  {
   "cell_type": "code",
   "execution_count": 3,
   "id": "7c0b3eaa-c2e7-40d3-a159-cd8c0af0d70c",
   "metadata": {},
   "outputs": [],
   "source": [
    "def all_path(dirname):\n",
    "    files_names = []\n",
    "    for maindir, subdir, file_name_list in os.walk(dirname):\n",
    "        for filename in file_name_list:\n",
    "            files_names.append(filename)\n",
    "    return files_names"
   ]
  },
  {
   "cell_type": "markdown",
   "id": "a88b4171-b7ea-4b05-bfbc-f4e863f576f9",
   "metadata": {
    "tags": []
   },
   "source": [
    "## 1.Wavelength Analysis 波长分析(wave_analyse)"
   ]
  },
  {
   "cell_type": "markdown",
   "id": "a36bfccb-63e7-407d-8fb2-31387662e8dd",
   "metadata": {},
   "source": [
    "wave_analyse 函数用于分析给定目录下的 FITS 文件中记录的天体光谱数据，计算并返回给定数据集中天体光谱的蓝端和红端波长范围的最小和最大值，同时考虑了红移的影响。\n",
    "\n",
    "参数\n",
    "\n",
    "    DATASET_PATH (str): 指向包含光谱数据概览的 CSV 文件的路径。该文件用于辅助分析，但本函数示例中未直接使用该参数。\n",
    "    FITS_PATH (str): 包含 FITS 文件的目录路径。这些 FITS 文件包含了天体光谱数据。\n",
    "返回值:四个浮点数，分别是：\n",
    "\n",
    "    B_fact_min: 所有考察光谱中，蓝端波长的最小值。\n",
    "    B_fact_max: 所有考察光谱中，蓝端波长的最大值。\n",
    "    R_fact_min: 所有考察光谱中，红端波长的最小值。\n",
    "    R_fact_max: 所有考察光谱中，红端波长的最大值。"
   ]
  },
  {
   "cell_type": "code",
   "execution_count": 4,
   "id": "b89cbe06-01bc-45f0-9577-cb194674aa7d",
   "metadata": {},
   "outputs": [],
   "source": [
    "# 定义一个函数，用于分析波长数据\n",
    "def wave_analyse(DATASET_PATH, FITS_PATH):\n",
    "    # 蓝端波长范围的最小和最大值\n",
    "    B_wave_min = np.log10(3800)\n",
    "    B_wave_max = np.log10(5700)\n",
    "\n",
    "    # 红端波长范围的最小和最大值\n",
    "    R_wave_min = np.log10(5900)\n",
    "    R_wave_max = np.log10(8800)\n",
    "    \n",
    "    # 初始化存储蓝端和红端波长数据的列表\n",
    "    B_wave = []\n",
    "    R_wave = []\n",
    "    label = []\n",
    "    \n",
    "    # 读取数据集路径下的CSV文件\n",
    "    data = pd.read_csv(DATASET_PATH)  \n",
    "    \n",
    "    # 获取所有FITS文件的路径\n",
    "    file_names = all_path(FITS_PATH)\n",
    "    print(len(file_names))\n",
    "    file_names = np.array(file_names)\n",
    "    \n",
    "    # 遍历每个FITS文件\n",
    "    for i in tqdm(range(len(file_names))):\n",
    "        try:  \n",
    "            # 打开FITS文件\n",
    "            f = fits.open(FITS_PATH + file_names[i])\n",
    "            try:\n",
    "                # 尝试获取第一个HDU的流量和波长数据\n",
    "                F = f[0].data[0]  # 流量\n",
    "                W = f[0].data[2]  # 波长\n",
    "            except:\n",
    "                # 如果第一个HDU中没有数据，则尝试从第二个HDU中获取\n",
    "                F = f[1].data[\"FLUX\"][0]\n",
    "                W = f[1].data[\"WAVELENGTH\"][0]\n",
    "                \n",
    "            # 获取红移值，并调整波长数据\n",
    "            z = f[0].header['Z']  # 红移\n",
    "            W = np.log10(W) - np.log10(1 + np.float64(z))\n",
    "            # 根据蓝端和红端的波长范围，获取相应的波长数据\n",
    "            B_W = (W > B_wave_min)*(W < B_wave_max)\n",
    "            R_W = (W > R_wave_min)*(W < R_wave_max)\n",
    "            # 添加蓝端波长数据\n",
    "            B_wave.append(W[B_W])\n",
    "            # 添加红端波长数据\n",
    "            R_wave.append(W[R_W])\n",
    "        except:\n",
    "            # 处理异常情况，跳过当前循环\n",
    "            print(\"Handling exceptions, skipped, indexed as : \", i)\n",
    "            continue\n",
    "    \n",
    "    # 获取所有蓝端波长数据的最大和最小值\n",
    "    B_fact_max = np.max(B_wave[0])\n",
    "    B_fact_min = np.min(B_wave[0])\n",
    "    for W in B_wave:\n",
    "        try:\n",
    "            B_fact_max = min(B_fact_max, np.max(W))\n",
    "            B_fact_min = max(B_fact_min, np.min(W))\n",
    "        except:\n",
    "            continue\n",
    "    \n",
    "    # 获取所有红端波长数据的最大和最小值\n",
    "    R_fact_max = np.max(R_wave[0])\n",
    "    R_fact_min = np.min(R_wave[0])\n",
    "    for W in R_wave:\n",
    "        try:\n",
    "            R_fact_max = min(R_fact_max, np.max(W))\n",
    "            R_fact_min = max(R_fact_min, np.min(W))\n",
    "        except:\n",
    "            continue\n",
    "    \n",
    "\n",
    "    B_wave_scope = [B_fact_min, B_fact_max]\n",
    "    R_wave_scope = [R_fact_min, R_fact_max]\n",
    "    # 返回蓝端和红端波长的最小和最大值\n",
    "    return B_wave_scope, R_wave_scope\n",
    "\n",
    "# # 测试\n",
    "# B_wave_scope, R_wave_scope = wave_analyse(DATASET_PATH, FITS_PATH)\n",
    "# print(B_wave_scope, R_wave_scope)"
   ]
  },
  {
   "cell_type": "code",
   "execution_count": 5,
   "id": "e7dc2718-36cb-4219-92f8-2583673773a6",
   "metadata": {},
   "outputs": [],
   "source": [
    "# 定义一个函数，用于分析波长数据（去除了基于红移的波长矫正）\n",
    "def wave_analyse(DATASET_PATH, FITS_PATH):\n",
    "    # 蓝端波长范围的最小和最大值\n",
    "    B_wave_min = np.log10(3800)\n",
    "    B_wave_max = np.log10(5700)\n",
    "\n",
    "    # 红端波长范围的最小和最大值\n",
    "    R_wave_min = np.log10(5900)\n",
    "    R_wave_max = np.log10(8800)\n",
    "    \n",
    "    # 初始化存储蓝端和红端波长数据的列表\n",
    "    B_wave = []\n",
    "    R_wave = []\n",
    "    label = []\n",
    "    \n",
    "    # # 读取数据集路径下的CSV文件\n",
    "    # data = pd.read_csv(DATASET_PATH)  \n",
    "    \n",
    "    # 获取所有FITS文件的路径\n",
    "    file_names = all_path(FITS_PATH)\n",
    "    print(len(file_names))\n",
    "    file_names = np.array(file_names)\n",
    "    \n",
    "    # 遍历每个FITS文件\n",
    "    for i in tqdm(range(len(file_names))):\n",
    "        try:  \n",
    "            # 打开FITS文件\n",
    "            f = fits.open(FITS_PATH + file_names[i])\n",
    "            try:\n",
    "                # 尝试获取第一个HDU的流量和波长数据\n",
    "                F = f[0].data[0]  # 流量\n",
    "                W = f[0].data[2]  # 波长\n",
    "            except:\n",
    "                # 如果第一个HDU中没有数据，则尝试从第二个HDU中获取\n",
    "                F = f[1].data[\"FLUX\"][0]\n",
    "                W = f[1].data[\"WAVELENGTH\"][0]\n",
    "                \n",
    "            # 获取红移值，并调整波长数据\n",
    "            # z = f[0].header['Z']  # 红移\n",
    "            # W = np.log10(W) - np.log10(1 + np.float64(z))\n",
    "            W = np.log10(W)\n",
    "            \n",
    "            \n",
    "            # 根据蓝端和红端的波长范围，获取相应的波长数据\n",
    "            B_W = (W > B_wave_min)*(W < B_wave_max)\n",
    "            R_W = (W > R_wave_min)*(W < R_wave_max)\n",
    "            # 添加蓝端波长数据\n",
    "            B_wave.append(W[B_W])\n",
    "            # 添加红端波长数据\n",
    "            R_wave.append(W[R_W])\n",
    "        except:\n",
    "            # 处理异常情况，跳过当前循环\n",
    "            print(\"Handling exceptions, skipped, indexed as : \", i)\n",
    "            continue\n",
    "    \n",
    "    # 获取所有蓝端波长数据的最大和最小值\n",
    "    B_fact_max = np.max(B_wave[0])\n",
    "    B_fact_min = np.min(B_wave[0])\n",
    "    for W in B_wave:\n",
    "        try:\n",
    "            B_fact_max = min(B_fact_max, np.max(W))\n",
    "            B_fact_min = max(B_fact_min, np.min(W))\n",
    "        except:\n",
    "            continue\n",
    "    \n",
    "    # 获取所有红端波长数据的最大和最小值\n",
    "    R_fact_max = np.max(R_wave[0])\n",
    "    R_fact_min = np.min(R_wave[0])\n",
    "    for W in R_wave:\n",
    "        try:\n",
    "            R_fact_max = min(R_fact_max, np.max(W))\n",
    "            R_fact_min = max(R_fact_min, np.min(W))\n",
    "        except:\n",
    "            continue\n",
    "    \n",
    "\n",
    "    B_wave_scope = [B_fact_min, B_fact_max]\n",
    "    R_wave_scope = [R_fact_min, R_fact_max]\n",
    "    # 返回蓝端和红端波长的最小和最大值\n",
    "    return B_wave_scope, R_wave_scope\n",
    "\n",
    "\n",
    "# DATASET_PATH = r\"./download/snrg_split_match_catalog/match_low_0_10.csv\"\n",
    "# FITS_PATH = r'./download/FITSDATA/test/'\n",
    "# B_wave_scope, R_wave_scope = wave_analyse(DATASET_PATH, FITS_PATH)\n",
    "# print(B_wave_scope, R_wave_scope)"
   ]
  },
  {
   "cell_type": "markdown",
   "id": "30a14fb7-ac10-4475-a346-e407b8c4d0bc",
   "metadata": {
    "tags": []
   },
   "source": [
    "## 2. 线性插值 (linear_inter)"
   ]
  },
  {
   "cell_type": "raw",
   "id": "bd198f0d-3286-4c0a-b6a8-e5be97c2b0aa",
   "metadata": {},
   "source": [
    "功能描述\n",
    "linear_inter 函数用于对来自 FITS 文件的天体观测数据进行线性插值处理。该函数特别关注于蓝端和红端波段的光谱数据，计算这些波段在指定波长范围内的流量值。此操作对于统一不同观测数据的波长尺度，以便进行进一步分析。\n",
    "\n",
    "参数\n",
    "DATASET_PATH (str): 指向包含光谱数据概览的 CSV 文件的路径。尽管该参数在函数体中被读取，但在提供的代码示例中并未直接使用。\n",
    "FITS_PATH (str): 包含 FITS 文件的目录路径。这些文件中包含了用于分析的天体光谱数据。\n",
    "\n",
    "返回值\n",
    "函数返回三个对象：\n",
    "\n",
    "BR_flux_data (list): 一个列表，包含所有处理过的 FITS 文件中蓝端和红端波段的流量数据。每个元素是对应于一个文件中波段的流量值数组。\n",
    "B_wave_fixed (numpy.ndarray): 蓝端波长的固定采样数组，用于插值。\n",
    "R_wave_fixed (numpy.ndarray): 红端波长的固定采样数组，用于插值。"
   ]
  },
  {
   "cell_type": "code",
   "execution_count": 6,
   "id": "ad3ea33a-d3b4-49aa-9781-cd5dfe01ecaf",
   "metadata": {},
   "outputs": [],
   "source": [
    "\n",
    "\n",
    "# 定义一个函数进行线性插值\n",
    "def linear_inter(DATASET_PATH, FITS_PATH, B_wave_scope, R_wave_scope):\n",
    "    \n",
    "    # 计算蓝端和红端波长范围的对数值\n",
    "    B_wave_min = np.log10(3800)\n",
    "    B_wave_max = np.log10(5700)\n",
    "\n",
    "    R_wave_min = np.log10(5900)\n",
    "    R_wave_max = np.log10(8800)\n",
    "    \n",
    "    # 读取CSV文件中的数据集\n",
    "    # data = pd.read_csv(DATASET_PATH)  \n",
    "    # 初始化存储蓝红波段流量数据的列表\n",
    "    BR_flux_data = []\n",
    "    # 初始化文件名列表\n",
    "    file_names = []\n",
    "    \n",
    "    # 获取FITS文件的路径\n",
    "    file_names = all_path(FITS_PATH)\n",
    "    \n",
    "    # 初始化错误列表\n",
    "    error_list = []\n",
    "    \n",
    "    # 遍历文件名列表\n",
    "    for i in tqdm(range(len(file_names))):\n",
    "        try:\n",
    "            # 打开FITS文件\n",
    "            f = fits.open(FITS_PATH + file_names[i])\n",
    "            \n",
    "            try:\n",
    "                # 尝试从第一个HDU获取流量和波长数据\n",
    "                F = f[0].data[0] \n",
    "                W = f[0].data[2] \n",
    "            except:\n",
    "                # 如果第一个HDU中没有数据，则从第二个HDU获取\n",
    "                F = f[1].data[\"FLUX\"][0]\n",
    "                W = f[1].data[\"WAVELENGTH\"][0]\n",
    "            \n",
    "            # 获取红移值并调整波长数据\n",
    "            z = f[0].header['Z']  \n",
    "            W = np.log10(W) - np.log10(1 + np.float64(z))\n",
    "        \n",
    "            # # 定义蓝端和红端波长范围\n",
    "            # B_wave_scope = [B_fact_min, B_fact_max]\n",
    "            # R_wave_scope = [R_fact_min, R_fact_max]\n",
    "        \n",
    "            # 获取蓝端的流量和波长数据\n",
    "            B_flux = F[(W > B_wave_min)*(W < B_wave_max)]\n",
    "            B_wave = W[(W > B_wave_min)*(W < B_wave_max)]\n",
    "        \n",
    "            # # 对全部数据进行线性插值\n",
    "            # f = interp1d(W, F, kind = 'linear')\n",
    "        \n",
    "            # 获取红端的流量和波长数据\n",
    "            R_flux = F[(W > R_wave_min)*(W < R_wave_max)]\n",
    "            R_wave = W[(W > R_wave_min)*(W < R_wave_max)]\n",
    "              \n",
    "            # 分别对蓝端和红端的数据进行线性插值\n",
    "            B_f = interp1d(B_wave, B_flux, kind = 'linear')\n",
    "            R_f = interp1d(R_wave, R_flux, kind = 'linear')\n",
    "        \n",
    "            # 设置采样率为0.0001，并生成固定波长范围的蓝端和红端波长数组\n",
    "            B_wave_fixed = np.arange(B_wave_scope[0], B_wave_scope[1], 0.0001)\n",
    "            R_wave_fixed = np.arange(R_wave_scope[0], R_wave_scope[1], 0.0001)\n",
    "        \n",
    "            # 将插值后的蓝端和红端流量数据合并，并添加到列表中\n",
    "            BR_flux_data.append(np.concatenate((B_f(B_wave_fixed), R_f(R_wave_fixed))))\n",
    "        \n",
    "        except:\n",
    "            # 处理异常情况，跳过当前循环\n",
    "            print(\"Handling exceptions, skipped, indexed as : \", i) \n",
    "            error_list.append(i)\n",
    "            continue\n",
    "    \n",
    "    # 打印处理后的数据量和数据维度信息\n",
    "    print(\"The magnitude of the traffic data on the common wavelength position obtained \\\n",
    "          after interpolation of the red and blue bands separately：\", np.shape(BR_flux_data)[1])\n",
    "    print(\"Number of processed data：\", np.shape(BR_flux_data)[0])\n",
    "        \n",
    "    # 返回插值后的流量数据以及蓝端和红端的固定波长数组\n",
    "    return BR_flux_data, B_wave_fixed, R_wave_fixed, error_list\n"
   ]
  },
  {
   "cell_type": "code",
   "execution_count": 7,
   "id": "4aa6764a-e3c1-4769-aa80-3f0761e20219",
   "metadata": {},
   "outputs": [],
   "source": [
    "\n",
    "\n",
    "# 定义一个函数进行线性插值（去除了基于红移的波长矫正）\n",
    "def linear_inter(DATASET_PATH, FITS_PATH, B_wave_scope, R_wave_scope):\n",
    "    \n",
    "    # 计算蓝端和红端波长范围的对数值\n",
    "    B_wave_min = np.log10(3800)\n",
    "    B_wave_max = np.log10(5700)\n",
    "\n",
    "    R_wave_min = np.log10(5900)\n",
    "    R_wave_max = np.log10(8800)\n",
    "    \n",
    "    # 读取CSV文件中的数据集\n",
    "    # data = pd.read_csv(DATASET_PATH)  \n",
    "    # 初始化存储蓝红波段流量数据的列表\n",
    "    BR_flux_data = []\n",
    "    # 初始化文件名列表\n",
    "    file_names = []\n",
    "    \n",
    "    # 获取FITS文件的路径\n",
    "    file_names = all_path(FITS_PATH)\n",
    "    \n",
    "    # 初始化错误列表\n",
    "    error_list = []\n",
    "    \n",
    "    # 遍历文件名列表\n",
    "    for i in tqdm(range(len(file_names))):\n",
    "        try:\n",
    "            # 打开FITS文件\n",
    "            f = fits.open(FITS_PATH + file_names[i])\n",
    "            \n",
    "            try:\n",
    "                # 尝试从第一个HDU获取流量和波长数据\n",
    "                F = f[0].data[0] \n",
    "                W = f[0].data[2] \n",
    "            except:\n",
    "                # 如果第一个HDU中没有数据，则从第二个HDU获取\n",
    "                F = f[1].data[\"FLUX\"][0]\n",
    "                W = f[1].data[\"WAVELENGTH\"][0]\n",
    "            \n",
    "            # # 获取红移值并调整波长数据\n",
    "            # z = f[0].header['Z']  \n",
    "            # W = np.log10(W) - np.log10(1 + np.float64(z))\n",
    "            W = np.log10(W)\n",
    "        \n",
    "            # # 定义蓝端和红端波长范围\n",
    "            # B_wave_scope = [B_fact_min, B_fact_max]\n",
    "            # R_wave_scope = [R_fact_min, R_fact_max]\n",
    "        \n",
    "            # 获取蓝端的流量和波长数据\n",
    "            B_flux = F[(W > B_wave_min)*(W < B_wave_max)]\n",
    "            B_wave = W[(W > B_wave_min)*(W < B_wave_max)]\n",
    "        \n",
    "            # # 对全部数据进行线性插值\n",
    "            # f = interp1d(W, F, kind = 'linear')\n",
    "        \n",
    "            # 获取红端的流量和波长数据\n",
    "            R_flux = F[(W > R_wave_min)*(W < R_wave_max)]\n",
    "            R_wave = W[(W > R_wave_min)*(W < R_wave_max)]\n",
    "              \n",
    "            # 分别对蓝端和红端的数据进行线性插值\n",
    "            B_f = interp1d(B_wave, B_flux, kind = 'linear')\n",
    "            R_f = interp1d(R_wave, R_flux, kind = 'linear')\n",
    "        \n",
    "            # 设置采样率为0.0001，并生成固定波长范围的蓝端和红端波长数组\n",
    "            B_wave_fixed = np.arange(B_wave_scope[0], B_wave_scope[1], 0.0001)\n",
    "            R_wave_fixed = np.arange(R_wave_scope[0], R_wave_scope[1], 0.0001)\n",
    "        \n",
    "            # 将插值后的蓝端和红端流量数据合并，并添加到列表中\n",
    "            BR_flux_data.append(np.concatenate((B_f(B_wave_fixed), R_f(R_wave_fixed))))\n",
    "        \n",
    "        except:\n",
    "            # 处理异常情况，跳过当前循环\n",
    "            print(\"Handling exceptions, skipped, indexed as : \", i) \n",
    "            error_list.append(i)\n",
    "            continue\n",
    "    \n",
    "    # 打印处理后的数据量和数据维度信息\n",
    "    print(\"The magnitude of the traffic data on the common wavelength position obtained \\\n",
    "          after interpolation of the red and blue bands separately：\", np.shape(BR_flux_data)[1])\n",
    "    print(\"Number of processed data：\", np.shape(BR_flux_data)[0])\n",
    "        \n",
    "    # 返回插值后的流量数据以及蓝端和红端的固定波长数组\n",
    "    return BR_flux_data, B_wave_fixed, R_wave_fixed, error_list\n"
   ]
  },
  {
   "cell_type": "markdown",
   "id": "a4d22274-3680-4a8c-be9d-509920e4ee1c",
   "metadata": {
    "tags": []
   },
   "source": [
    "## 3. 连续谱拟合和归一化处理 (normalization_by_polyfit)"
   ]
  },
  {
   "cell_type": "markdown",
   "id": "400b9048-61e1-4297-be8f-3cdd02b943e8",
   "metadata": {
    "tags": []
   },
   "source": [
    "### csp_polyfit：  多项式拟合"
   ]
  },
  {
   "cell_type": "markdown",
   "id": "812e6139-e866-4496-8f78-c4e548677009",
   "metadata": {},
   "source": [
    "csp_polyfit：归一化光谱和波长，拟合出一个多项式\n",
    "\n",
    "参数说明：\n",
    "\n",
    "    sp: 光流量数据，一维数组。\n",
    "    angs: 角度数据，一维数组，应与光流量数据在长度上匹配。\n",
    "    param：\n",
    "        poly_global_order: 多项式拟合的全局阶数。\n",
    "        poly_upperlimit和poly_lowerlimit: 用于数据点选择的标准差倍数阈值。\n",
    "        poly_del_filled: 指示如何处理不符合条件的数据点，1 表示删除，其它值表示用拟合值填充。\n",
    "    \n",
    "返回值：\n",
    "\n",
    "    param：\n",
    "        poly_sp_c、poly_sp_s、poly_angs_c和poly_angs_s: 分别保存流量和波长的平均值、标准差\n",
    "        poly_P_g: 拟合过程中计算的多项式系数。\n",
    "        poly_sp_filtered和poly_angs_filtered: 过滤后的光流量和角度数据。"
   ]
  },
  {
   "cell_type": "code",
   "execution_count": 8,
   "id": "39f2f86b-a823-496e-9832-f23a1ebf5dd6",
   "metadata": {},
   "outputs": [],
   "source": [
    "def csp_polyfit(sp, angs, param):\n",
    "    # 标准化光流量\n",
    "    sp_c = np.mean(sp)   # 计算光流量的平均值，即中位流量\n",
    "    sp = sp - sp_c           # 以平均值为中心调整光流量，实现光流量的中心化\n",
    "    sp_s = np.std(sp)     # 计算光流量的标准差，即流量均方差\n",
    "    sp = sp / sp_s        # 用标准差标准化光流量\n",
    "    \n",
    "    # 标准化角度\n",
    "    angs_c = np.mean(angs)  # 计算波长的平均值\n",
    "    angs = angs - angs_c    # 以平均值为中心调整角度\n",
    "    angs_s = np.std(angs)   # 计算波长的标准差\n",
    "    angs = angs / angs_s    # 用标准差标准化波长\n",
    "    \n",
    "    # 更新参数字典\n",
    "    param['poly_sp_c'] = sp_c\n",
    "    param['poly_sp_s'] = sp_s\n",
    "    param['poly_angs_c'] = angs_c\n",
    "    param['poly_angs_s'] = angs_s\n",
    "    \n",
    "    # 初始化数据标志\n",
    "    data_flag = np.full(sp.shape, 1)\n",
    "    \n",
    "    i = 0\n",
    "    con = True\n",
    "    while(con):\n",
    "        # 使用多项式拟合并获取系数\n",
    "        P_g = np.polyfit(angs, sp, param['poly_global_order'])  # 计算多项式系数\n",
    "        param['poly_P_g'] = P_g\n",
    "        fitval_1 = np.polyval(P_g, angs)   # 计算多项式的拟合值\n",
    "        dev = fitval_1 - sp  # 计算拟合值与实际值的偏差\n",
    "        sig_g = np.std(dev)  # 计算偏差的标准差\n",
    "        \n",
    "        # 更新数据标志，用于识别需要保留的数据点\n",
    "        data_flag_new = (dev > (-param['poly_upperlimit'] * sig_g)) * (dev < (param['poly_lowerlimit'] * sig_g))\n",
    "    \n",
    "        if sum(abs(data_flag_new - data_flag)) > 0:\n",
    "            if param['poly_del_filled'] == 1: \n",
    "                data_flag = data_flag_new  # 更新数据标志\n",
    "            else:\n",
    "                fill_flag = data_flag - data_flag_new  # 计算需要填充的数据标志\n",
    "                index_1 = np.where(fill_flag != 0)  # 找出需要填充的数据点\n",
    "                sp[index_1] = fitval_1[index_1]  # 用拟合值填充这些数据点\n",
    "        else:\n",
    "            con = False  # 如果数据标志没有变化，则停止迭代\n",
    "        i += 1\n",
    "    #     print(\"iteration is %d\" %i)  # 打印迭代次数，此行为调试用，通常被注释\n",
    "    \n",
    "    # 根据最终的数据标志筛选数据\n",
    "    index_2 = np.where(data_flag != 0)\n",
    "    param['poly_sp_filtered'] = sp[index_2]  # 更新参数字典，保存过滤后的光流量数据\n",
    "    param['poly_angs_filtered'] = angs[index_2]  # 更新参数字典，保存过滤后的角度数据\n",
    "    \n",
    "    return param  # 返回更新后的参数字典\n"
   ]
  },
  {
   "cell_type": "markdown",
   "id": "7c1b7a0a-4ae2-49af-b1f0-ba419960015e",
   "metadata": {
    "tags": []
   },
   "source": [
    "### sp_median_polyfit1stage： 连续谱拟合"
   ]
  },
  {
   "cell_type": "markdown",
   "id": "9d8aec77-d4ae-4f3f-91a6-2eb6d0b175e2",
   "metadata": {},
   "source": [
    "对一条光谱进行一系列处理最终获得一个拟合连续谱。具体操作包括：1.用中值滤波结果预剔除异常数据点 2.拟合一个归一化后的多项式 3.反归一化得到最终拟合连续谱\n",
    "\n",
    "使用说明\n",
    "\n",
    "    sp_median_polyfit1stage(flux, lambda_log, param)\n",
    "参数\n",
    "\n",
    "    flux: 光通量数据，一维数组。\n",
    "    lambda_log: 对数波长数据，与光通量数据相对应的一维数组。\n",
    "    param: 参数字典，包含处理过程中需要的各种参数。\n",
    "参数字典param的关键字段\n",
    "\n",
    "    median_radius: 中值滤波的窗口半径。\n",
    "    poly_lowerlimit: 多项式拟合预剔除下限，乘以标准差作为阈值。\n",
    "    poly_upperlimit: 多项式拟合预剔除上限，乘以标准差作为阈值。\n",
    "    poly_del_filled: 处理标记为填充的数据点的方法（1表示删除这些点，2表示用中值滤波结果填充）。\n",
    "    poly_angs_c, poly_angs_s: 波长预处理中的中心化和缩放参数。\n",
    "    poly_P_g: 连续谱拟合的多项式系数。\n",
    "    poly_sp_s, poly_sp_c: 连续谱拟合后的缩放和偏移参数。\n",
    "    poly_SM: 是否使用原始波长（1）或对数波长（其它值）。\n",
    "返回值\n",
    "\n",
    "    continum_fitted: 拟合的连续谱，一维数组，与输入的光通量数据对应。"
   ]
  },
  {
   "cell_type": "code",
   "execution_count": 9,
   "id": "4391d15b-e9f6-4bb4-91ae-b36e52499966",
   "metadata": {},
   "outputs": [],
   "source": [
    "def sp_median_polyfit1stage(flux, lambda_log,param):\n",
    "    flux1 = flux  # 复制光通量数据\n",
    "    lambda1 = lambda_log  # 复制对数波长数据\n",
    "\n",
    "    # 中值滤波\n",
    "    flux_median1 = medfilt(flux1, param['median_radius'])  # 使用中值滤波处理光通量数据\n",
    "\n",
    "    # 利用中值滤波结果进行预剔除\n",
    "    dev1 = flux_median1 - flux1  # 计算中值滤波后的光通量与原光通量的差值\n",
    "    sigma = np.std(dev1)  # 计算差值的标准差\n",
    "    # 生成数据标记，用于识别符合预剔除条件的数据点\n",
    "    data_flag1 = (dev1 < (param['poly_lowerlimit'] * sigma)) * (dev1 > (-param['poly_upperlimit'] * sigma))\n",
    "    \n",
    "    # 利用中值滤波结果进行伪光谱线的预剔除\n",
    "    fill_flag1 = 1 - data_flag1  # 生成填充标记，用于识别需要被填充的数据点\n",
    "    \n",
    "    # 根据参数决定如何处理填充标记指示的数据点\n",
    "    if param['poly_del_filled'] == 1:\n",
    "        index_1 = np.where(data_flag1)  # 找到符合条件的数据点索引\n",
    "        flux1 = flux1[index_1]  # 仅保留这些数据点的光通量数据\n",
    "        lambda1 = lambda1[index_1]  # 仅保留这些数据点的波长数据\n",
    "    elif param['poly_del_filled'] == 2:\n",
    "        index_2 = np.where(fill_flag1)  # 找到需要填充的数据点索引\n",
    "        flux1[index_2] = flux_median1[index_2]  # 用中值滤波结果填充这些数据点的光通量\n",
    "        \n",
    "    # 迭代拟合连续谱\n",
    "    param = csp_polyfit(flux1, lambda1, param)  # 执行连续谱的多项式拟合\n",
    "    \n",
    "    # 波长预处理\n",
    "    angs = lambda1 - param['poly_angs_c']  # 波长中心化\n",
    "    angs = angs / param['poly_angs_s']  # 波长缩放\n",
    "    \n",
    "    # 连续谱样本\n",
    "    fitval_g = np.polyval(param['poly_P_g'], angs)  # 使用多项式系数计算连续谱的拟合值\n",
    "    continum_fitted = fitval_g * param['poly_sp_s'] + param['poly_sp_c']  # 根据参数调整连续谱的拟合值\n",
    "    \n",
    "    # 根据参数选择使用原始波长或对数波长\n",
    "    if param['poly_SM'] == 1: \n",
    "        angss = lambda1\n",
    "    else: \n",
    "        angss = 10 ** lambda1  # 如果需要，将波长转换为对数形式\n",
    " \n",
    "    return continum_fitted  # 返回拟合的连续谱"
   ]
  },
  {
   "cell_type": "markdown",
   "id": "e342396c-95d3-45bf-80f6-42207675041c",
   "metadata": {
    "tags": []
   },
   "source": [
    "### normalization_by_polyfit： 使用拟合连续谱对原始光谱数据归一化"
   ]
  },
  {
   "cell_type": "markdown",
   "id": "6b1d0c50-3b7a-45f4-8c21-6a091ad65c82",
   "metadata": {},
   "source": [
    "概述\n",
    "对每条光谱的蓝端和红端分别进行连续谱拟合和归一化。先分别处理蓝端和红端的光谱，对每一部分分别进行连续谱拟合，最后利用拟合结果对原始光谱数据进行归一化处理。\n",
    "\n",
    "参数说明\n",
    "\n",
    "    BR_flux_data: 原始光谱数据数组，假设为二维数组，其中每一行代表一条光谱数据。\n",
    "    B_wave_fixed: 蓝端波长的固定采样数组，一维数组。\n",
    "    R_wave_fixed: 红端波长的固定采样数组，一维数组。\n",
    "    param: (可选) 拟合参数字典，用于控制连续谱拟合的具体行为。如果未提供，则使用默认参数。\n",
    "    SAVE_PATH: (可选) 字符串，表示保存处理后数据的文件路径。如果提供此参数，函数将处理后的数据保存为NumPy文件。\n",
    "返回值\n",
    "\n",
    "    BR_flux_data_fitted: 归一化后的光谱数据数组，与原始光谱数据具有相同的形状。"
   ]
  },
  {
   "cell_type": "code",
   "execution_count": 10,
   "id": "5495f758-458e-456e-8a4d-d68d22f3b28b",
   "metadata": {},
   "outputs": [],
   "source": [
    "def normalization_by_polyfit(BR_flux_data, B_wave_fixed, R_wave_fixed, param=None, SAVE_PATH=None):\n",
    "    \"\"\"\n",
    "    对光谱数据进行连续谱拟合和归一化处理。\n",
    "\n",
    "    参数:\n",
    "    - BR_flux_data: 原始光谱数据数组。\n",
    "    - B_wave_fixed: 蓝端波长的固定采样数组。\n",
    "    - R_wave_fixed: 红端波长的固定采样数组。\n",
    "    - param: 拟合参数字典，可选。\n",
    "    - SAVE_PATH: 保存处理后数据的文件路径，可选。\n",
    "    \"\"\"\n",
    "    # 检查是否提供了拟合参数，如果没有，则设置默认参数\n",
    "    if param is None:\n",
    "        param = {'poly_global_order': 5, 'nor': 1, 'poly_lowerlimit': 3, 'poly_upperlimit': 4, \n",
    "                 'median_radius': 3, 'poly_SM': 0, 'poly_del_filled': 2}\n",
    "\n",
    "    # 初始化一个与原始光谱数据相同形状的数组，用于存储拟合后的数据\n",
    "    BR_flux_data_fitted = np.zeros_like(BR_flux_data)\n",
    "    \n",
    "    # 遍历每一行光谱数据\n",
    "    for i in tqdm(range(BR_flux_data_fitted.shape[0])):\n",
    "        \n",
    "        try:\n",
    "            # 对蓝端和红端波长的光谱数据分别进行连续谱拟合\n",
    "            B_continum_fitted_train = sp_median_polyfit1stage(BR_flux_data[i][:len(B_wave_fixed)], np.log10(B_wave_fixed), param)\n",
    "            R_continum_fitted_train = sp_median_polyfit1stage(BR_flux_data[i][len(B_wave_fixed):], np.log10(R_wave_fixed), param)\n",
    "\n",
    "            # 使用拟合得到的连续谱对原始光谱数据进行归一化\n",
    "            BR_flux_data_fitted[i, :len(B_wave_fixed)] = BR_flux_data[i][:len(B_wave_fixed)] / B_continum_fitted_train\n",
    "            BR_flux_data_fitted[i, len(B_wave_fixed):] = BR_flux_data[i][len(B_wave_fixed):] / R_continum_fitted_train\n",
    "        except:\n",
    "            print(f\"Handling exceptions, indexed as: {i}\")\n",
    "            continue\n",
    "\n",
    "    # 如果提供了保存路径，将处理后的数据保存到指定文件\n",
    "    if SAVE_PATH:\n",
    "        np.save(SAVE_PATH, BR_flux_data_fitted)\n",
    "    \n",
    "    return BR_flux_data_fitted\n",
    "\n",
    "# 注意: sp_median_polyfit1stage 需要根据实际的函数定义和参数进行调整。"
   ]
  },
  {
   "cell_type": "markdown",
   "id": "8643217d-8368-4e89-97bd-ac57ddec32ed",
   "metadata": {
    "tags": []
   },
   "source": [
    "## 4. 用3σ原则处理异常值和标准化处理"
   ]
  },
  {
   "cell_type": "markdown",
   "id": "ff38c8bb-8187-4fb5-87dd-5d897389516b",
   "metadata": {
    "tags": []
   },
   "source": [
    "### three_sigma：异常值处理子函数"
   ]
  },
  {
   "cell_type": "markdown",
   "id": "f220c3cd-0422-4616-b763-72974d45f0dd",
   "metadata": {},
   "source": [
    "函数基于3σ原则（三西格玛规则）对光谱数据中的异常值进行识别和处理。先假设数据遵循正态分布，数据集中在均值的±3σ（标准差）区间内的概率为99.73%，因此位于这个区间之外的点被视为异常值。该函数计算给定光谱数据片段的平均值和标准差，识别异常值，并将这些异常值替换为平均值，最后返回处理后的光谱数据点列表。"
   ]
  },
  {
   "cell_type": "code",
   "execution_count": 11,
   "id": "acb1d497-1a73-4649-9cdd-9841063bae9b",
   "metadata": {},
   "outputs": [],
   "source": [
    "def three_sigma(Flux, flux_index, sigma_rate=3):\n",
    "    mean_value = Flux[flux_index].mean()  # 计算指定索引光谱数据的平均值\n",
    "    std_value = Flux[flux_index].std()  # 计算指定索引光谱数据的标准差\n",
    "    # 根据3σ原则确定异常值规则：异常值为超出平均值±3倍标准差的数据点\n",
    "    rule = (mean_value - sigma_rate * std_value > Flux[flux_index]) | (mean_value + sigma_rate * std_value < Flux[flux_index])\n",
    "    indice = np.arange(Flux[flux_index].shape[0])[rule]  # 获取所有异常值的索引位置\n",
    "    Flux_points = []  # 初始化一个列表，用于存放处理后的光谱数据点\n",
    "    for i in range(Flux[flux_index].shape[0]):  # 遍历光谱数据点\n",
    "        if i in indice:  # 如果当前点是异常值\n",
    "            Flux_points.append(mean_value)  # 用平均值替换异常值\n",
    "        else:\n",
    "            Flux_points.append(Flux[flux_index][i])  # 正常值保持不变\n",
    "    return Flux_points  # 返回处理后的光谱数据点列表\n"
   ]
  },
  {
   "cell_type": "markdown",
   "id": "91abc27f-6275-4bfd-b6e9-0c5f9601dd15",
   "metadata": {
    "tags": []
   },
   "source": [
    "### three_sigma_processing："
   ]
  },
  {
   "cell_type": "markdown",
   "id": "bdd13405-1d19-4d0f-88ea-81fe1ef38405",
   "metadata": {},
   "source": [
    "用于批量处理光谱数据集，应用3σ原则去除异常值并进行后续的标准化处理。"
   ]
  },
  {
   "cell_type": "code",
   "execution_count": 12,
   "id": "e858d64e-2a1c-4f0c-b9f9-5516b77dadfa",
   "metadata": {},
   "outputs": [],
   "source": [
    "def three_sigma_processing(Flux, SAVE_PATH_3sigma=None):\n",
    "    Flux_3sigma = []  # 初始化一个列表，用于存储所有光谱数据的3σ处理结果\n",
    "    for i in tqdm(range(Flux.shape[0])):  # 遍历所有光谱数据\n",
    "        Flux_3sigma.append(three_sigma(Flux, i, sigma_rate=3))  # 对每条光谱数据应用3σ处理\n",
    "    Flux_3sigma = np.array(Flux_3sigma)  # 将处理结果列表转换为NumPy数组\n",
    "    sc = StandardScaler()  # 创建一个StandardScaler对象，用于后续的标准化处理\n",
    "    Flux_3sigma_sc_T = sc.fit_transform(Flux_3sigma.T)  # 对3σ处理后的光谱数据进行标准化\n",
    "    Flux_3sigma_sc = Flux_3sigma_sc_T.T  # 转置回原来的形状\n",
    "    if SAVE_PATH_3sigma:\n",
    "        np.save(SAVE_PATH_3sigma, Flux_3sigma_sc)  # 将标准化后的光谱数据保存到指定路径\n",
    "    return  Flux_3sigma_sc\n"
   ]
  },
  {
   "cell_type": "markdown",
   "id": "d05e70b8-1cfc-4e6a-9aa6-eed7c160564c",
   "metadata": {
    "tags": []
   },
   "source": [
    "## 5. Matching spectra and tagging 匹配光谱和标记"
   ]
  },
  {
   "cell_type": "code",
   "execution_count": 13,
   "id": "3e03fe63-ddb5-4042-a253-4ad97961393e",
   "metadata": {},
   "outputs": [],
   "source": [
    "def match_and_labeling_apogee(labels_list, match_path, FITS_PATH, LABEL_PATH, failed_indice):\n",
    "        # 从DATASET_PATH读取数据集\n",
    "        data = pd.read_csv(match_path)\n",
    "        label_all = []  # 初始化标签列表\n",
    "        file_names = all_path(FITS_PATH)  # 获取FITS_PATH下的所有文件路径\n",
    "        file_names = np.array(file_names)  # 将文件名列表转换为numpy数组\n",
    "        \n",
    "        # 存储未找到对应FITS文件的恒星的obsid\n",
    "        obsid_list = []\n",
    "\n",
    "        # 生成文件名的索引数组\n",
    "        file_names_indice = np.arange(file_names.shape[0])\n",
    "        # 从索引数组中移除失败的索引\n",
    "        file_names_indice = np.setdiff1d(file_names_indice, failed_indice, assume_unique=True)\n",
    "        # 使用剩余的索引更新文件名数组\n",
    "        file_names = file_names[file_names_indice]\n",
    "        \n",
    "        for name in tqdm(file_names):  # 进度条显示处理进度\n",
    "            try:\n",
    "                f = fits.open(FITS_PATH + name)  # 打开FITS文件\n",
    "                obsid = f[0].header['OBSID']  # 从文件头部读取OBSID\n",
    "                lables_values = []  # 初始化标签值列表\n",
    "                for label_name in labels_list:  # 遍历所有标签名称\n",
    "                    # 根据OBSID和标签名称获取标签值\n",
    "                    label_value = data.loc[data.obsid == obsid][label_name].values\n",
    "                    lables_values.append(label_value)  # 将标签值添加到列表中\n",
    "                label_all.append(lables_values)  # 将标签值列表添加到总列表中\n",
    "            except:\n",
    "                obsid_list.append(obsid)  # 如果出错，则将OBSID添加到未找到列表中\n",
    "                continue\n",
    "        label_all = np.asarray(label_all)  # 将标签列表转换为numpy数组\n",
    "        np.save(LABEL_PATH, label_all)  # 将标签数组保存到LABEL_PATH指定的路径\n",
    "        print(obsid_list)\n",
    "        return label_all\n",
    "    \n",
    "    \n",
    "# match_path = \"./download/snrg_split_match_catalog/match_50_100.csv\"\n",
    "# FITS_PATH =  \"./download/FITSDATA/50_100/\"\n",
    "# LABEL_PATH = \"./data_after_processing/Labels/50_100\"\n",
    "\n",
    "# with open('./failed_indice_dir.json', \"r\") as file:\n",
    "#     failed_indices = json.load(file)\n",
    "    \n",
    "# failed_indice = failed_indices[\"./data_after_processing/Flux/50_100.npy\"]\n",
    "# label_all=match_and_labeling_apogee(columns, match_path, FITS_PATH, LABEL_PATH, failed_indice)    "
   ]
  },
  {
   "cell_type": "markdown",
   "id": "04bb85f8-9feb-4b0d-a68f-71760bbfd1d2",
   "metadata": {
    "tags": []
   },
   "source": [
    "# 处理流程："
   ]
  },
  {
   "cell_type": "markdown",
   "id": "10d02a9c-5a54-45dc-a16e-78e043dca515",
   "metadata": {
    "tags": []
   },
   "source": [
    "### 整体流程："
   ]
  },
  {
   "cell_type": "code",
   "execution_count": 23,
   "id": "e63fd152-0516-4e32-8cd3-e11b94e237d2",
   "metadata": {},
   "outputs": [
    {
     "name": "stdout",
     "output_type": "stream",
     "text": [
      "34938\n"
     ]
    },
    {
     "name": "stderr",
     "output_type": "stream",
     "text": [
      " 12%|█████████▏                                                                  | 4251/34938 [00:20<02:29, 205.68it/s]C:\\Users\\ZhaoXR\\AppData\\Local\\Temp\\ipykernel_15524\\3616475048.py:40: RuntimeWarning: invalid value encountered in log10\n",
      "  W = np.log10(W) - np.log10(1 + np.float64(z))\n",
      "100%|███████████████████████████████████████████████████████████████████████████| 34938/34938 [02:54<00:00, 199.68it/s]\n"
     ]
    }
   ],
   "source": [
    "DATASET_PATH = r\"E:\\my_star\\download\\snrg_split\\match_low_0_10.csv\"\n",
    "FITS_PATH = r'E:\\my_star\\FITSDATA\\low_0_10/'\n",
    "SAVE_PATH_low = r\"E:\\my_star\\data_after_processing\\Flux_low\\0_10.npy\"\n",
    "SAVE_PATH_high = r\"E:\\my_star\\data_after_processing\\Flux_high\\0_10.npy\"\n",
    "\n",
    "# 1.初步波长分析，计算光谱蓝端和红端波长范围的最小和最大值\n",
    "B_wave_scope, R_wave_scope = wave_analyse(DATASET_PATH, FITS_PATH)\n",
    "\n",
    "# 2.在范围内进行插值，统一波长范围和数据格式\n",
    "BR_flux_data, B_wave_fixed, R_wave_fixed,failed_indice = linear_inter(DATASET_PATH, FITS_PATH, B_wave_scope, R_wave_scope)\n",
    "\n",
    "# 3.进行连续谱拟合，并以此对原始光谱数据归一化\n",
    "BR_flux_data_fitted = normalization_by_polyfit(BR_flux_data, B_wave_fixed, R_wave_fixed, param=None, SAVE_PATH=None)\n",
    "\n",
    "# # 4.基于3σ原则对光谱数据中的异常值进行识别和处理，并归一化\n",
    "Flux_3sigma_sc=three_sigma_processing(BR_flux_data_fitted,SAVE_PATH_low)\n",
    "\n",
    "# # 标签匹配\n",
    "# label_all=match_and_labeling_apogee(columns, match_path, FITS_PATH, LABEL_PATH, failed_indice)    "
   ]
  },
  {
   "cell_type": "markdown",
   "id": "4978d4aa-8df0-480f-a6a3-164e8bfa4718",
   "metadata": {
    "tags": []
   },
   "source": [
    "### 详细过程："
   ]
  },
  {
   "cell_type": "markdown",
   "id": "9a4d8b14-0fe1-4ea7-bca7-88c26c21aaf0",
   "metadata": {
    "jp-MarkdownHeadingCollapsed": true,
    "tags": []
   },
   "source": [
    "#### 定义数据的路径"
   ]
  },
  {
   "cell_type": "code",
   "execution_count": 28,
   "id": "6f1b2b30-6c4a-4577-93b9-d0bb0a9d7b4d",
   "metadata": {},
   "outputs": [],
   "source": [
    "# 定义数据的路径\n",
    "\n",
    "DATASET_PATH = \"./download/snrg_split_match_catalog/match_50_100.csv\"\n",
    "FITS_PATH = \"./download/FITSDATA/50_100/\"\n",
    "SAVE_PATH = \"./data_after_processing/Labels\"\n",
    "Labels_SAVE_PATH = \"./data_after_processing/Labels\""
   ]
  },
  {
   "cell_type": "markdown",
   "id": "90984ef0-f9d6-42a1-9c8b-fcc7543893d3",
   "metadata": {
    "jp-MarkdownHeadingCollapsed": true,
    "tags": []
   },
   "source": [
    "#### 1.初步波长分析，计算光谱蓝端和红端波长范围的最小和最大值"
   ]
  },
  {
   "cell_type": "code",
   "execution_count": 19,
   "id": "093f3cf8-bcc4-454f-97ab-71b90748b0e1",
   "metadata": {},
   "outputs": [
    {
     "name": "stdout",
     "output_type": "stream",
     "text": [
      "57703\n"
     ]
    },
    {
     "name": "stderr",
     "output_type": "stream",
     "text": [
      "  7%|████▉                                                                       | 3774/57703 [00:17<04:09, 215.72it/s]C:\\Users\\ZhaoXR\\AppData\\Local\\Temp\\ipykernel_5140\\3616475048.py:40: RuntimeWarning: invalid value encountered in log10\n",
      "  W = np.log10(W) - np.log10(1 + np.float64(z))\n",
      "100%|███████████████████████████████████████████████████████████████████████████| 57703/57703 [05:17<00:00, 181.70it/s]\n"
     ]
    }
   ],
   "source": [
    "# 1.初步波长分析，计算光谱蓝端和红端波长范围的最小和最大值\n",
    "B_wave_scope, R_wave_scope = wave_analyse(DATASET_PATH, FITS_PATH)"
   ]
  },
  {
   "cell_type": "code",
   "execution_count": 21,
   "id": "0eddac5c-8f88-4dc6-a890-6cef63a0d6af",
   "metadata": {},
   "outputs": [
    {
     "data": {
      "text/plain": [
       "[3.5845802, 3.7557747]"
      ]
     },
     "execution_count": 21,
     "metadata": {},
     "output_type": "execute_result"
    }
   ],
   "source": [
    "B_wave_scope"
   ]
  },
  {
   "cell_type": "code",
   "execution_count": 45,
   "id": "432db494-7c4f-4493-89dc-c253f22fbc9f",
   "metadata": {},
   "outputs": [
    {
     "data": {
      "text/plain": [
       "[3.5845432, 3.641482]"
      ]
     },
     "execution_count": 45,
     "metadata": {},
     "output_type": "execute_result"
    }
   ],
   "source": [
    "B_wave_scope "
   ]
  },
  {
   "cell_type": "code",
   "execution_count": 56,
   "id": "af8448e4-e576-40a6-ae7a-502b604ff81d",
   "metadata": {},
   "outputs": [
    {
     "data": {
      "text/plain": [
       "[3.7709522, 3.9443824]"
      ]
     },
     "execution_count": 56,
     "metadata": {},
     "output_type": "execute_result"
    }
   ],
   "source": [
    "R_wave_scope"
   ]
  },
  {
   "cell_type": "code",
   "execution_count": 46,
   "id": "6f82ad1d-e310-42f1-b0eb-0ac42393eb77",
   "metadata": {},
   "outputs": [
    {
     "data": {
      "text/plain": [
       "[3.7709522, 3.9443824]"
      ]
     },
     "execution_count": 46,
     "metadata": {},
     "output_type": "execute_result"
    }
   ],
   "source": [
    "R_wave_scope"
   ]
  },
  {
   "cell_type": "code",
   "execution_count": 26,
   "id": "6aebd2d8-208a-4e70-8e84-0923811d12c4",
   "metadata": {},
   "outputs": [
    {
     "data": {
      "text/plain": [
       "(34978, 22)"
      ]
     },
     "execution_count": 26,
     "metadata": {},
     "output_type": "execute_result"
    }
   ],
   "source": [
    "# 读取数据集路径下的CSV文件\n",
    "data = pd.read_csv(DATASET_PATH)  \n",
    "data.shape"
   ]
  },
  {
   "cell_type": "markdown",
   "id": "5ab4418b-3010-4586-b2f9-d6658ad5cd33",
   "metadata": {
    "jp-MarkdownHeadingCollapsed": true,
    "tags": []
   },
   "source": [
    "#### 2.在范围内进行插值，统一波长范围和数据格式"
   ]
  },
  {
   "cell_type": "code",
   "execution_count": 23,
   "id": "612db8d9-e2e6-44ab-b7e0-d0931e0db498",
   "metadata": {},
   "outputs": [
    {
     "name": "stderr",
     "output_type": "stream",
     "text": [
      " 12%|█████████▏                                                                  | 4252/34938 [00:29<03:59, 127.90it/s]C:\\Users\\ZhaoXR\\AppData\\Local\\Temp\\ipykernel_5140\\1721443507.py:41: RuntimeWarning: invalid value encountered in log10\n",
      "  W = np.log10(W) - np.log10(1 + np.float64(z))\n",
      " 12%|█████████▎                                                                  | 4279/34938 [00:29<04:11, 122.10it/s]"
     ]
    },
    {
     "name": "stdout",
     "output_type": "stream",
     "text": [
      "Handling exceptions, skipped, indexed as :  4262\n"
     ]
    },
    {
     "name": "stderr",
     "output_type": "stream",
     "text": [
      " 31%|███████████████████████▍                                                   | 10895/34938 [01:15<02:39, 150.93it/s]"
     ]
    },
    {
     "name": "stdout",
     "output_type": "stream",
     "text": [
      "Handling exceptions, skipped, indexed as :  10865\n"
     ]
    },
    {
     "name": "stderr",
     "output_type": "stream",
     "text": [
      " 52%|███████████████████████████████████████                                    | 18209/34938 [02:11<02:04, 134.39it/s]"
     ]
    },
    {
     "name": "stdout",
     "output_type": "stream",
     "text": [
      "Handling exceptions, skipped, indexed as :  18196\n"
     ]
    },
    {
     "name": "stderr",
     "output_type": "stream",
     "text": [
      " 57%|██████████████████████████████████████████▌                                | 19834/34938 [02:24<01:56, 129.23it/s]"
     ]
    },
    {
     "name": "stdout",
     "output_type": "stream",
     "text": [
      "Handling exceptions, skipped, indexed as :  19817\n"
     ]
    },
    {
     "name": "stderr",
     "output_type": "stream",
     "text": [
      " 61%|█████████████████████████████████████████████▌                             | 21241/34938 [02:34<01:38, 139.65it/s]"
     ]
    },
    {
     "name": "stdout",
     "output_type": "stream",
     "text": [
      "Handling exceptions, skipped, indexed as :  21225\n"
     ]
    },
    {
     "name": "stderr",
     "output_type": "stream",
     "text": [
      " 66%|█████████████████████████████████████████████████▍                         | 23029/34938 [02:48<01:32, 128.37it/s]"
     ]
    },
    {
     "name": "stdout",
     "output_type": "stream",
     "text": [
      "Handling exceptions, skipped, indexed as :  23004\n"
     ]
    },
    {
     "name": "stderr",
     "output_type": "stream",
     "text": [
      " 66%|█████████████████████████████████████████████████▊                         | 23233/34938 [02:49<01:25, 137.54it/s]"
     ]
    },
    {
     "name": "stdout",
     "output_type": "stream",
     "text": [
      "Handling exceptions, skipped, indexed as :  23219\n"
     ]
    },
    {
     "name": "stderr",
     "output_type": "stream",
     "text": [
      " 67%|██████████████████████████████████████████████████                         | 23304/34938 [02:50<01:29, 130.33it/s]"
     ]
    },
    {
     "name": "stdout",
     "output_type": "stream",
     "text": [
      "Handling exceptions, skipped, indexed as :  23283\n"
     ]
    },
    {
     "name": "stderr",
     "output_type": "stream",
     "text": [
      " 74%|███████████████████████████████████████████████████████▌                   | 25888/34938 [03:10<01:14, 121.65it/s]"
     ]
    },
    {
     "name": "stdout",
     "output_type": "stream",
     "text": [
      "Handling exceptions, skipped, indexed as :  25870\n"
     ]
    },
    {
     "name": "stderr",
     "output_type": "stream",
     "text": [
      " 78%|██████████████████████████████████████████████████████████▎                | 27149/34938 [03:19<01:07, 115.00it/s]"
     ]
    },
    {
     "name": "stdout",
     "output_type": "stream",
     "text": [
      "Handling exceptions, skipped, indexed as :  27134\n"
     ]
    },
    {
     "name": "stderr",
     "output_type": "stream",
     "text": [
      " 84%|██████████████████████████████████████████████████████████████▋            | 29190/34938 [03:35<00:43, 132.09it/s]"
     ]
    },
    {
     "name": "stdout",
     "output_type": "stream",
     "text": [
      "Handling exceptions, skipped, indexed as :  29171\n"
     ]
    },
    {
     "name": "stderr",
     "output_type": "stream",
     "text": [
      " 97%|████████████████████████████████████████████████████████████████████████▊  | 33918/34938 [04:12<00:07, 135.81it/s]"
     ]
    },
    {
     "name": "stdout",
     "output_type": "stream",
     "text": [
      "Handling exceptions, skipped, indexed as :  33896\n"
     ]
    },
    {
     "name": "stderr",
     "output_type": "stream",
     "text": [
      " 98%|█████████████████████████████████████████████████████████████████████████▊ | 34377/34938 [04:15<00:04, 126.43it/s]"
     ]
    },
    {
     "name": "stdout",
     "output_type": "stream",
     "text": [
      "Handling exceptions, skipped, indexed as :  34355\n"
     ]
    },
    {
     "name": "stderr",
     "output_type": "stream",
     "text": [
      "100%|███████████████████████████████████████████████████████████████████████████| 34938/34938 [04:20<00:00, 134.15it/s]\n"
     ]
    },
    {
     "name": "stdout",
     "output_type": "stream",
     "text": [
      "The magnitude of the traffic data on the common wavelength position obtained           after interpolation of the red and blue bands separately： 3447\n",
      "Number of processed data： 34925\n"
     ]
    }
   ],
   "source": [
    "# 2.在范围内进行插值，统一波长范围和数据格式\n",
    "BR_flux_data, B_wave_fixed, R_wave_fixed,failed_indice = linear_inter(DATASET_PATH, FITS_PATH, B_wave_scope, R_wave_scope)"
   ]
  },
  {
   "cell_type": "code",
   "execution_count": 38,
   "id": "3bd0824a-cf40-419b-b276-417011496a0d",
   "metadata": {},
   "outputs": [
    {
     "data": {
      "text/plain": [
       "34925"
      ]
     },
     "execution_count": 38,
     "metadata": {},
     "output_type": "execute_result"
    }
   ],
   "source": [
    "len(BR_flux_data)"
   ]
  },
  {
   "cell_type": "code",
   "execution_count": 58,
   "id": "a1ad72bf-03ee-4849-9ebe-f1040db211af",
   "metadata": {},
   "outputs": [
    {
     "data": {
      "text/plain": [
       "2305"
      ]
     },
     "execution_count": 58,
     "metadata": {},
     "output_type": "execute_result"
    }
   ],
   "source": [
    "len(BR_flux_data[5])"
   ]
  },
  {
   "cell_type": "code",
   "execution_count": 42,
   "id": "c0a98cb8-7556-4b13-bbf2-9741ff499998",
   "metadata": {},
   "outputs": [
    {
     "data": {
      "text/plain": [
       "[3.5845432, 3.641482]"
      ]
     },
     "execution_count": 42,
     "metadata": {},
     "output_type": "execute_result"
    }
   ],
   "source": [
    "B_wave_scope"
   ]
  },
  {
   "cell_type": "code",
   "execution_count": 43,
   "id": "a1b1719a-9d64-4e11-9e5f-76c8c36658e1",
   "metadata": {},
   "outputs": [
    {
     "data": {
      "text/plain": [
       "[3.7709522, 3.9443824]"
      ]
     },
     "execution_count": 43,
     "metadata": {},
     "output_type": "execute_result"
    }
   ],
   "source": [
    "R_wave_scope"
   ]
  },
  {
   "cell_type": "code",
   "execution_count": 59,
   "id": "8dac4371-4596-4a23-ab1b-4384fec15b88",
   "metadata": {},
   "outputs": [
    {
     "data": {
      "text/plain": [
       "[<matplotlib.lines.Line2D at 0x1c10a7d5b20>]"
      ]
     },
     "execution_count": 59,
     "metadata": {},
     "output_type": "execute_result"
    },
    {
     "data": {
      "image/png": "[encoded data removed]",
      "text/plain": [
       "<Figure size 2000x500 with 1 Axes>"
      ]
     },
     "metadata": {},
     "output_type": "display_data"
    }
   ],
   "source": [
    "# 显示目前的效果\n",
    "BR_flux_data[0]\n",
    "plt.figure(figsize=[20, 5])\n",
    "plt.plot(BR_flux_data[20], 'k-')"
   ]
  },
  {
   "cell_type": "code",
   "execution_count": 25,
   "id": "4b979498-29bb-4a59-a511-8f304a199e17",
   "metadata": {},
   "outputs": [
    {
     "data": {
      "text/plain": [
       "[<matplotlib.lines.Line2D at 0x2ec4f37cac0>]"
      ]
     },
     "execution_count": 25,
     "metadata": {},
     "output_type": "execute_result"
    },
    {
     "data": {
      "image/png": "[encoded data removed]",
      "text/plain": [
       "<Figure size 2000x500 with 1 Axes>"
      ]
     },
     "metadata": {},
     "output_type": "display_data"
    }
   ],
   "source": [
    "# 显示目前的效果\n",
    "BR_flux_data[0]\n",
    "plt.figure(figsize=[20, 5])\n",
    "plt.plot(BR_flux_data[20], 'k-')"
   ]
  },
  {
   "cell_type": "markdown",
   "id": "e64f3bed-2a2f-4e32-8300-496f96008efe",
   "metadata": {
    "jp-MarkdownHeadingCollapsed": true,
    "tags": []
   },
   "source": [
    "#### 3.进行连续谱拟合，并以此对原始光谱数据归一化"
   ]
  },
  {
   "cell_type": "code",
   "execution_count": 24,
   "id": "b667aca6-5593-460f-b0eb-ea6b3f8c679b",
   "metadata": {},
   "outputs": [
    {
     "name": "stderr",
     "output_type": "stream",
     "text": [
      "100%|███████████████████████████████████████████████████████████████████████████| 34925/34925 [04:29<00:00, 129.53it/s]\n"
     ]
    }
   ],
   "source": [
    "# 3.进行连续谱拟合，并以此对原始光谱数据归一化\n",
    "BR_flux_data_fitted = normalization_by_polyfit(BR_flux_data, B_wave_fixed, R_wave_fixed, param=None, SAVE_PATH=None)"
   ]
  },
  {
   "cell_type": "code",
   "execution_count": 63,
   "id": "3faec37a-80d3-4a63-895e-ad96858d13ab",
   "metadata": {},
   "outputs": [
    {
     "data": {
      "text/plain": [
       "34925"
      ]
     },
     "execution_count": 63,
     "metadata": {},
     "output_type": "execute_result"
    }
   ],
   "source": [
    "len(BR_flux_data_fitted)"
   ]
  },
  {
   "cell_type": "code",
   "execution_count": 26,
   "id": "8a1aa5d8-501b-42b2-b9a7-b42667f39c83",
   "metadata": {},
   "outputs": [
    {
     "data": {
      "text/plain": [
       "[<matplotlib.lines.Line2D at 0x2ec0f945100>]"
      ]
     },
     "execution_count": 26,
     "metadata": {},
     "output_type": "execute_result"
    },
    {
     "data": {
      "image/png": "[encoded data removed]",
      "text/plain": [
       "<Figure size 2000x500 with 1 Axes>"
      ]
     },
     "metadata": {},
     "output_type": "display_data"
    }
   ],
   "source": [
    "# 显示目前的效果\n",
    "plt.figure(figsize=[20, 5])\n",
    "plt.plot(BR_flux_data_fitted[20], 'k-')"
   ]
  },
  {
   "cell_type": "markdown",
   "id": "84d9a126-fab0-4ee8-bd75-f5fe8859f202",
   "metadata": {
    "jp-MarkdownHeadingCollapsed": true,
    "tags": []
   },
   "source": [
    "#### 4.基于3σ原则对光谱数据中的异常值进行识别和处理，并归一化"
   ]
  },
  {
   "cell_type": "code",
   "execution_count": 29,
   "id": "4bb64998-e094-494c-8b2d-1a8df56f1f80",
   "metadata": {},
   "outputs": [
    {
     "name": "stderr",
     "output_type": "stream",
     "text": [
      "100%|███████████████████████████████████████████████████████████████████████████| 34925/34925 [05:29<00:00, 105.86it/s]\n"
     ]
    }
   ],
   "source": [
    "Flux_3sigma_sc=three_sigma_processing(BR_flux_data_fitted,SAVE_PATH_low)"
   ]
  },
  {
   "cell_type": "code",
   "execution_count": 30,
   "id": "1515dc1e-bcc3-40c7-a065-0751f61ea263",
   "metadata": {},
   "outputs": [
    {
     "data": {
      "text/plain": [
       "13223"
      ]
     },
     "execution_count": 30,
     "metadata": {},
     "output_type": "execute_result"
    }
   ],
   "source": [
    "len(Flux_3sigma_sc)"
   ]
  },
  {
   "cell_type": "code",
   "execution_count": 31,
   "id": "34bda6f2-9a84-499e-ba51-f9b4c26a5514",
   "metadata": {},
   "outputs": [
    {
     "data": {
      "text/plain": [
       "[<matplotlib.lines.Line2D at 0x2d5dd06fa30>]"
      ]
     },
     "execution_count": 31,
     "metadata": {},
     "output_type": "execute_result"
    },
    {
     "data": {
      "image/png": "[encoded data removed]",
      "text/plain": [
       "<Figure size 2000x500 with 1 Axes>"
      ]
     },
     "metadata": {},
     "output_type": "display_data"
    }
   ],
   "source": [
    "# 显示目前的效果\n",
    "plt.figure(figsize=[20, 5])\n",
    "plt.plot(Flux_3sigma_sc[20], 'k-')"
   ]
  },
  {
   "cell_type": "markdown",
   "id": "902b9595-140e-41aa-aff0-b03d72a76f88",
   "metadata": {
    "tags": []
   },
   "source": [
    "#### 5.标签匹配"
   ]
  },
  {
   "cell_type": "code",
   "execution_count": 19,
   "id": "e2576853-f3a4-4c28-b263-958d0f5414ed",
   "metadata": {},
   "outputs": [
    {
     "name": "stderr",
     "output_type": "stream",
     "text": [
      "100%|███████████████████████████████████████████████████████████████████████████| 13223/13223 [00:54<00:00, 242.77it/s]\n"
     ]
    },
    {
     "name": "stdout",
     "output_type": "stream",
     "text": [
      "[]\n"
     ]
    }
   ],
   "source": [
    "# Label Matching 标签匹配¶\n",
    "\n",
    "# labels_list=['ASPCAP_Teff[K]', 'ASPCAP_Logg', 'ASPCAP_CH', 'ASPCAP_NH', 'ASPCAP_OH', \n",
    "#          'ASPCAP_MgH', 'ASPCAP_AlH', 'ASPCAP_SiH', 'ASPCAP_SH', 'ASPCAP_KH', \n",
    "#          'ASPCAP_CaH', 'ASPCAP_TiH', 'ASPCAP_CrH','ASPCAP_MnH', 'ASPCAP_FeH', \n",
    "#          'ASPCAP_NiH','lamost_snrg']\n",
    "label_all=match_and_labeling_apogee(columns, DATASET_PATH, FITS_PATH, LABEL_PATH, failed_indice)\n",
    "# label_all=match_and_labeling_apogee(columns, match_path, FITS_PATH, LABEL_PATH, failed_indice)  "
   ]
  },
  {
   "cell_type": "code",
   "execution_count": 22,
   "id": "1f1a7328-6218-4e33-a2d2-15839be87a6f",
   "metadata": {},
   "outputs": [
    {
     "data": {
      "text/plain": [
       "array([[5.02571000e+03],\n",
       "       [4.52551600e+00],\n",
       "       [2.03818990e-01],\n",
       "       [3.86489990e-01],\n",
       "       [1.56726896e-01],\n",
       "       [2.18442500e-01],\n",
       "       [2.98096000e-01],\n",
       "       [2.05053985e-01],\n",
       "       [1.18396490e-01],\n",
       "       [1.10356897e-01],\n",
       "       [1.31684990e-01],\n",
       "       [2.71178990e-01],\n",
       "       [2.37268280e-01],\n",
       "       [2.95312520e-01],\n",
       "       [1.64030000e-01],\n",
       "       [2.43670000e-01],\n",
       "       [8.57700000e+01]])"
      ]
     },
     "execution_count": 22,
     "metadata": {},
     "output_type": "execute_result"
    }
   ],
   "source": [
    "label_all[20]"
   ]
  },
  {
   "cell_type": "code",
   "execution_count": 74,
   "id": "5cab5527-483c-4858-9350-6f80b29aa08d",
   "metadata": {},
   "outputs": [
    {
     "data": {
      "text/plain": [
       "Index(['Unnamed: 0', 'ASPCAP_starid', 'ASPCAP_RA', 'ASPCAP_Dec', 'ASPCAP_RV',\n",
       "       'ASPCAP_Teff[K]', 'ASPCAP_Logg', 'ASPCAP_CH', 'ASPCAP_NH', 'ASPCAP_OH',\n",
       "       'ASPCAP_MgH', 'ASPCAP_AlH', 'ASPCAP_SiH', 'ASPCAP_SH', 'ASPCAP_KH',\n",
       "       'ASPCAP_CaH', 'ASPCAP_TiH', 'ASPCAP_CrH', 'ASPCAP_MnH', 'ASPCAP_FeH',\n",
       "       'ASPCAP_NiH', 'lamost_obsid', 'lamost_snrg', 'lamost_class',\n",
       "       'lamost_subclass', 'lamost_z', 'lamost_ra', 'lamost_dec', 'lamost_logg',\n",
       "       'lamost_file', 'GroupID', 'GroupSize', 'Separation'],\n",
       "      dtype='object')"
      ]
     },
     "execution_count": 74,
     "metadata": {},
     "output_type": "execute_result"
    }
   ],
   "source": [
    "data.columns"
   ]
  },
  {
   "cell_type": "code",
   "execution_count": 75,
   "id": "fe69d237-af6f-42d0-b2a0-2063fb6fe79a",
   "metadata": {},
   "outputs": [
    {
     "name": "stderr",
     "output_type": "stream",
     "text": [
      "100%|████████████████████████████████████████████████████████████| 13223/13223 [00:53<00:00, 246.81it/s]\n"
     ]
    }
   ],
   "source": [
    "for name in tqdm(file_names):  # 进度条显示处理进度\n",
    "            \n",
    "    f = fits.open(FITS_PATH + name)  # 打开FITS文件\n",
    "    obsid = f[0].header['OBSID']  # 从文件头部读取OBSID\n",
    "    lables_values = []  # 初始化标签值列表\n",
    "    for label_name in labels_list:  # 遍历所有标签名称\n",
    "        # 根据OBSID和标签名称获取标签值\n",
    "        label_value = data.loc[data.lamost_obsid == obsid][label_name].values\n",
    "        lables_values.append(label_value)  # 将标签值添加到列表中\n",
    "    label_all.append(lables_values)  # 将标签值列表添加到总列表中\n",
    "            \n",
    "        "
   ]
  },
  {
   "cell_type": "code",
   "execution_count": null,
   "id": "32c02c3f-8499-480a-bffc-ed0cec6b9e66",
   "metadata": {},
   "outputs": [],
   "source": [
    "label_all"
   ]
  },
  {
   "cell_type": "markdown",
   "id": "b682f7c7-0183-4096-b3db-e075b5446862",
   "metadata": {
    "tags": []
   },
   "source": [
    "# 预处理打包处理："
   ]
  },
  {
   "cell_type": "markdown",
   "id": "3a8341fa-ddf5-41e1-b387-0d2cefc1bbb0",
   "metadata": {
    "tags": []
   },
   "source": [
    "### 定义打包函数"
   ]
  },
  {
   "cell_type": "code",
   "execution_count": 14,
   "id": "66341148-d05f-47ba-99a4-04f662786fd8",
   "metadata": {},
   "outputs": [],
   "source": [
    "\n",
    "# columns=['ASPCAP_Teff[K]', 'ASPCAP_Logg', 'ASPCAP_RV', 'ASPCAP_CH', 'ASPCAP_NH', 'ASPCAP_OH', \n",
    "#          'ASPCAP_NaH', 'ASPCAP_MgH', 'ASPCAP_AlH', 'ASPCAP_SiH', 'ASPCAP_SH', 'ASPCAP_KH', \n",
    "#          'ASPCAP_CaH', 'ASPCAP_TiH',  'ASPCAP_VH', 'ASPCAP_CrH','ASPCAP_MnH', 'ASPCAP_FeH', \n",
    "#          'ASPCAP_NiH', 'snrg', 'obsid', 'uid',]\n",
    "\n",
    "def data_processing(DATASET_PATH, FITS_PATH, LABEL_SAVE_PATH, SAVE_PATH, B_wave_scope, R_wave_scope):\n",
    "    \n",
    "    \n",
    "    # 2.在范围内进行插值，统一波长范围和数据格式\n",
    "    BR_flux_data, B_wave_fixed, R_wave_fixed,failed_indice = linear_inter(DATASET_PATH, FITS_PATH, B_wave_scope, R_wave_scope)\n",
    "\n",
    "    # 3.进行连续谱拟合，并以此对原始光谱数据归一化\n",
    "    BR_flux_data_fitted = normalization_by_polyfit(BR_flux_data, B_wave_fixed, R_wave_fixed, param=None, SAVE_PATH=None)\n",
    "\n",
    "    # # 4.基于3σ原则对光谱数据中的异常值进行识别和处理，并归一化\n",
    "    Flux_3sigma_sc=three_sigma_processing(BR_flux_data_fitted,SAVE_PATH)\n",
    "    \n",
    "    # 5.匹配恒星参数标签\n",
    "    label_all=match_and_labeling_apogee(columns, DATASET_PATH, FITS_PATH, LABEL_SAVE_PATH, failed_indice)   \n",
    "    \n",
    "    return failed_indice"
   ]
  },
  {
   "cell_type": "markdown",
   "id": "7972d20a-c4a5-4778-a46a-1664112ac9b9",
   "metadata": {
    "tags": []
   },
   "source": [
    "### 处理所有数据："
   ]
  },
  {
   "cell_type": "markdown",
   "id": "ad9df113-19ad-4539-8055-173a4d5aa87a",
   "metadata": {
    "jp-MarkdownHeadingCollapsed": true,
    "tags": []
   },
   "source": [
    "#### 1. 计算所有数据的波长范围\n",
    "可以直接读取范围文件"
   ]
  },
  {
   "cell_type": "code",
   "execution_count": 17,
   "id": "99f1a9c6-8580-4959-80a2-4d26b86209a3",
   "metadata": {},
   "outputs": [
    {
     "name": "stdout",
     "output_type": "stream",
     "text": [
      "E:\\my_star\\FITSDATA\\low_0_10/\n",
      "34938\n"
     ]
    },
    {
     "name": "stderr",
     "output_type": "stream",
     "text": [
      " 12%|█████████▎                                                                  | 4262/34938 [00:19<02:20, 218.06it/s]C:\\Users\\ZhaoXR\\AppData\\Local\\Temp\\ipykernel_16444\\3616475048.py:40: RuntimeWarning: invalid value encountered in log10\n",
      "  W = np.log10(W) - np.log10(1 + np.float64(z))\n",
      "100%|███████████████████████████████████████████████████████████████████████████| 34938/34938 [02:35<00:00, 225.37it/s]\n"
     ]
    },
    {
     "name": "stdout",
     "output_type": "stream",
     "text": [
      "[3.5845432, 3.641482] [3.7709522, 3.9443824]\n",
      "E:\\my_star\\FITSDATA\\low_10_20/\n",
      "57703\n"
     ]
    },
    {
     "name": "stderr",
     "output_type": "stream",
     "text": [
      "  7%|████▉                                                                       | 3765/57703 [00:16<04:01, 223.79it/s]C:\\Users\\ZhaoXR\\AppData\\Local\\Temp\\ipykernel_16444\\3616475048.py:40: RuntimeWarning: invalid value encountered in log10\n",
      "  W = np.log10(W) - np.log10(1 + np.float64(z))\n",
      "100%|███████████████████████████████████████████████████████████████████████████| 57703/57703 [04:24<00:00, 217.84it/s]\n"
     ]
    },
    {
     "name": "stdout",
     "output_type": "stream",
     "text": [
      "[3.5845802, 3.7557747] [3.7709522, 3.9443824]\n",
      "E:\\my_star\\FITSDATA\\low_20_30/\n",
      "53509\n"
     ]
    },
    {
     "name": "stderr",
     "output_type": "stream",
     "text": [
      " 14%|██████████▊                                                                 | 7650/53509 [00:35<03:31, 216.45it/s]C:\\Users\\ZhaoXR\\AppData\\Local\\Temp\\ipykernel_16444\\3616475048.py:40: RuntimeWarning: invalid value encountered in log10\n",
      "  W = np.log10(W) - np.log10(1 + np.float64(z))\n",
      "100%|███████████████████████████████████████████████████████████████████████████| 53509/53509 [04:08<00:00, 215.22it/s]\n"
     ]
    },
    {
     "name": "stdout",
     "output_type": "stream",
     "text": [
      "[3.584718, 3.7557747] [3.7709522, 3.9443824]\n",
      "E:\\my_star\\FITSDATA\\low_30_40/\n",
      "54145\n"
     ]
    },
    {
     "name": "stderr",
     "output_type": "stream",
     "text": [
      " 29%|█████████████████████▋                                                     | 15623/54145 [01:14<03:02, 211.17it/s]C:\\Users\\ZhaoXR\\AppData\\Local\\Temp\\ipykernel_16444\\3616475048.py:40: RuntimeWarning: invalid value encountered in log10\n",
      "  W = np.log10(W) - np.log10(1 + np.float64(z))\n",
      "100%|███████████████████████████████████████████████████████████████████████████| 54145/54145 [04:17<00:00, 209.97it/s]\n"
     ]
    },
    {
     "name": "stdout",
     "output_type": "stream",
     "text": [
      "[3.584429, 3.7557747] [3.7709522, 3.9443824]\n",
      "E:\\my_star\\FITSDATA\\low_40_50/\n",
      "56304\n"
     ]
    },
    {
     "name": "stderr",
     "output_type": "stream",
     "text": [
      "  1%|▊                                                                            | 588/56304 [00:02<04:17, 216.50it/s]C:\\Users\\ZhaoXR\\AppData\\Local\\Temp\\ipykernel_16444\\3616475048.py:40: RuntimeWarning: invalid value encountered in log10\n",
      "  W = np.log10(W) - np.log10(1 + np.float64(z))\n",
      "100%|███████████████████████████████████████████████████████████████████████████| 56304/56304 [04:40<00:00, 200.74it/s]\n"
     ]
    },
    {
     "name": "stdout",
     "output_type": "stream",
     "text": [
      "[3.5843618, 3.7557747] [3.7709522, 3.9443824]\n",
      "69028\n"
     ]
    },
    {
     "name": "stderr",
     "output_type": "stream",
     "text": [
      "  7%|█████▍                                                                      | 4976/69028 [00:23<04:55, 217.08it/s]C:\\Users\\ZhaoXR\\AppData\\Local\\Temp\\ipykernel_16444\\3616475048.py:40: RuntimeWarning: invalid value encountered in log10\n",
      "  W = np.log10(W) - np.log10(1 + np.float64(z))\n",
      "100%|███████████████████████████████████████████████████████████████████████████| 69028/69028 [05:28<00:00, 209.82it/s]\n"
     ]
    },
    {
     "name": "stdout",
     "output_type": "stream",
     "text": [
      "78758\n"
     ]
    },
    {
     "name": "stderr",
     "output_type": "stream",
     "text": [
      " 10%|███████▍                                                                    | 7716/78758 [00:36<05:38, 209.85it/s]C:\\Users\\ZhaoXR\\AppData\\Local\\Temp\\ipykernel_16444\\3616475048.py:40: RuntimeWarning: invalid value encountered in log10\n",
      "  W = np.log10(W) - np.log10(1 + np.float64(z))\n",
      "100%|███████████████████████████████████████████████████████████████████████████| 78758/78758 [06:16<00:00, 209.15it/s]\n"
     ]
    }
   ],
   "source": [
    "# DATASET_PATH = r\"E:\\my_star\\download\\snrg_split\\match_low_0_10.csv\"\n",
    "# FITS_PATH = r'E:\\my_star\\FITSDATA\\low_0_10/'\n",
    "# SAVE_PATH_low = r\"E:\\my_star\\data_after_processing\\Flux_low\\0_10.npy\"\n",
    "# SAVE_PATH_high = r\"E:\\my_star\\data_after_processing\\Flux_high\\0_10.npy\"\n",
    "\n",
    "\n",
    "\n",
    "# 定义列表存放没组数据的范围\n",
    "B_wave_scope_list=[]\n",
    "R_wave_scope_list=[]\n",
    "\n",
    "\n",
    "# 依次计算low_0_10 —— 40_50 十个分组的范围\n",
    "for i in range(5):\n",
    "    # print(DATASET_PATH)\n",
    "    \n",
    "    DATASET_PATH = r\"E:\\my_star\\download\\snrg_split\\match_low_{}_{}.csv\".format(i*10,i*10+10)\n",
    "    FITS_PATH =  r\"E:\\my_star\\FITSDATA\\low_{}_{}/\".format(i*10,i*10+10)\n",
    "    SAVE_PATH_low = r\"E:\\my_star\\data_after_processing\\Flux_low\\{}_{}.npy\".format(i*10,i*10+10)\n",
    "\n",
    "    \n",
    "    print(FITS_PATH)\n",
    "    B_wave_temp_scope, R_wave_temp_scope = wave_analyse(DATASET_PATH, FITS_PATH)\n",
    "    B_wave_scope_list.append(B_wave_temp_scope)\n",
    "    R_wave_scope_list.append(R_wave_temp_scope)\n",
    "    print(B_wave_temp_scope,R_wave_temp_scope)\n",
    "\n",
    "    \n",
    "# 计算high_100_120，high_120_200分组的范围\n",
    "DATASET_PATH = r\"E:\\my_star\\download\\snrg_split\\match_high_100_120.csv\"\n",
    "FITS_PATH =  r\"E:\\my_star\\FITSDATA\\high_100_120/\"\n",
    "SAVE_PATH_high = r\"E:\\my_star\\data_after_processing\\Flux_high\\0_10.npy\"\n",
    "B_wave_temp_scope, R_wave_temp_scope = wave_analyse(DATASET_PATH, FITS_PATH)    \n",
    "B_wave_scope_list.append(B_wave_temp_scope)\n",
    "R_wave_scope_list.append(R_wave_temp_scope)\n",
    "\n",
    "DATASET_PATH = r\"E:\\my_star\\download\\snrg_split\\match_high_120_200.csv\"\n",
    "FITS_PATH =  r\"E:\\my_star\\FITSDATA\\high_120_200/\"\n",
    "SAVE_PATH_high = r\"E:\\my_star\\data_after_processing\\Flux_high\\0_10.npy\"\n",
    "B_wave_temp_scope, R_wave_temp_scope = wave_analyse(DATASET_PATH, FITS_PATH)    \n",
    "B_wave_scope_list.append(B_wave_temp_scope)\n",
    "R_wave_scope_list.append(R_wave_temp_scope)\n",
    "\n",
    "\n",
    "\n",
    "# 计算总范围    \n",
    "B_wave_scope = [min(range[0] for range in B_wave_scope_list), max(range[1] for range in B_wave_scope_list)]\n",
    "R_wave_scope = [min(range[0] for range in R_wave_scope_list), max(range[1] for range in R_wave_scope_list)]"
   ]
  },
  {
   "cell_type": "code",
   "execution_count": 25,
   "id": "5d966358-388c-4b09-ab36-20c508f6c18a",
   "metadata": {},
   "outputs": [],
   "source": [
    "# 暂存计算的 wave_scope\n",
    "wave_scope = {}\n",
    "wave_scope['B_wave_scope']= [float(value) for value in B_wave_scope]\n",
    "wave_scope['R_wave_scope']= [float(value) for value in R_wave_scope]\n",
    "wave_scope_path = \"./wave_scope.json\"\n",
    "with open(wave_scope_path, \"w\") as file:\n",
    "    json.dump(wave_scope, file)"
   ]
  },
  {
   "cell_type": "code",
   "execution_count": 15,
   "id": "b909e6c9-9559-4fd6-9577-ff3d932db389",
   "metadata": {},
   "outputs": [],
   "source": [
    "# 读取暂存的 wave_scope\n",
    "wave_scope_path = \"./wave_scope.json\"\n",
    "with open(wave_scope_path, \"r\") as file:\n",
    "    wave_scope = json.load(file)\n",
    "B_wave_scope= wave_scope['B_wave_scope']\n",
    "R_wave_scope= wave_scope['R_wave_scope']"
   ]
  },
  {
   "cell_type": "code",
   "execution_count": 16,
   "id": "83c6ca0a-a2ea-4373-9276-5d7ae4237baf",
   "metadata": {},
   "outputs": [
    {
     "data": {
      "text/plain": [
       "[3.5843000411987305, 3.7558000087738037]"
      ]
     },
     "execution_count": 16,
     "metadata": {},
     "output_type": "execute_result"
    }
   ],
   "source": [
    "B_wave_scope"
   ]
  },
  {
   "cell_type": "code",
   "execution_count": 17,
   "id": "e30df9f7-feda-4885-ae54-68d044e5f9e4",
   "metadata": {},
   "outputs": [
    {
     "data": {
      "text/plain": [
       "[3.770901679992676, 3.944399833679199]"
      ]
     },
     "execution_count": 17,
     "metadata": {},
     "output_type": "execute_result"
    }
   ],
   "source": [
    "R_wave_scope"
   ]
  },
  {
   "cell_type": "markdown",
   "id": "73aa5edf-86bf-444a-a698-37b691bff624",
   "metadata": {
    "tags": []
   },
   "source": [
    "#### 2. 对光谱进行一系列预处理，生成数据和标签"
   ]
  },
  {
   "cell_type": "code",
   "execution_count": 18,
   "id": "d5921fd2-36ff-4b8c-ab59-d0c9a25e0439",
   "metadata": {},
   "outputs": [
    {
     "name": "stdout",
     "output_type": "stream",
     "text": [
      "******************** 0 _ 50 ****************************\n"
     ]
    },
    {
     "name": "stderr",
     "output_type": "stream",
     "text": [
      "100%|███████████████████████████████████████████████████████████████████████████| 93603/93603 [09:57<00:00, 156.78it/s]\n"
     ]
    },
    {
     "name": "stdout",
     "output_type": "stream",
     "text": [
      "The magnitude of the traffic data on the common wavelength position obtained           after interpolation of the red and blue bands separately： 3450\n",
      "Number of processed data： 93603\n"
     ]
    },
    {
     "name": "stderr",
     "output_type": "stream",
     "text": [
      " 44%|████████████████████████████████▉                                          | 41101/93603 [04:11<05:09, 169.67it/s]C:\\Users\\ZhaoXR\\AppData\\Local\\Temp\\ipykernel_25116\\3054061946.py:6: RuntimeWarning: invalid value encountered in true_divide\n",
      "  sp = sp / sp_s        # 用标准差标准化光流量\n",
      " 44%|█████████████████████████████████▍                                          | 41136/93603 [04:12<09:58, 87.64it/s]"
     ]
    },
    {
     "name": "stdout",
     "output_type": "stream",
     "text": [
      "Handling exceptions, indexed as: 41106\n"
     ]
    },
    {
     "name": "stderr",
     "output_type": "stream",
     "text": [
      "100%|███████████████████████████████████████████████████████████████████████████| 93603/93603 [09:41<00:00, 160.85it/s]\n",
      "100%|███████████████████████████████████████████████████████████████████████████| 93603/93603 [12:13<00:00, 127.65it/s]\n",
      "100%|████████████████████████████████████████████████████████████████████████████| 93603/93603 [16:02<00:00, 97.26it/s]\n"
     ]
    },
    {
     "name": "stdout",
     "output_type": "stream",
     "text": [
      "[]\n",
      "******************** 50 _ 100 ****************************\n"
     ]
    },
    {
     "name": "stderr",
     "output_type": "stream",
     "text": [
      "100%|███████████████████████████████████████████████████████████████████████████| 67220/67220 [08:12<00:00, 136.55it/s]\n"
     ]
    },
    {
     "name": "stdout",
     "output_type": "stream",
     "text": [
      "The magnitude of the traffic data on the common wavelength position obtained           after interpolation of the red and blue bands separately： 3450\n",
      "Number of processed data： 67220\n"
     ]
    },
    {
     "name": "stderr",
     "output_type": "stream",
     "text": [
      " 31%|███████████████████████▋                                                    | 20911/67220 [03:52<08:08, 94.88it/s]C:\\Users\\ZhaoXR\\AppData\\Local\\Temp\\ipykernel_25116\\3054061946.py:6: RuntimeWarning: invalid value encountered in true_divide\n",
      "  sp = sp / sp_s        # 用标准差标准化光流量\n",
      " 31%|███████████████████████▋                                                    | 20921/67220 [03:52<08:30, 90.74it/s]"
     ]
    },
    {
     "name": "stdout",
     "output_type": "stream",
     "text": [
      "Handling exceptions, indexed as: 20912\n"
     ]
    },
    {
     "name": "stderr",
     "output_type": "stream",
     "text": [
      " 32%|████████████████████████                                                    | 21237/67220 [03:55<07:49, 97.85it/s]"
     ]
    },
    {
     "name": "stdout",
     "output_type": "stream",
     "text": [
      "Handling exceptions, indexed as: 21226\n"
     ]
    },
    {
     "name": "stderr",
     "output_type": "stream",
     "text": [
      " 59%|█████████████████████████████████████████████                               | 39847/67220 [07:22<05:12, 87.54it/s]C:\\Users\\ZhaoXR\\AppData\\Local\\Temp\\ipykernel_25116\\2104238279.py:30: RuntimeWarning: invalid value encountered in true_divide\n",
      "  BR_flux_data_fitted[i, len(B_wave_fixed):] = BR_flux_data[i][len(B_wave_fixed):] / R_continum_fitted_train\n",
      "100%|████████████████████████████████████████████████████████████████████████████| 67220/67220 [12:44<00:00, 87.95it/s]\n",
      "100%|███████████████████████████████████████████████████████████████████████████| 67220/67220 [09:02<00:00, 123.92it/s]\n",
      "100%|████████████████████████████████████████████████████████████████████████████| 67220/67220 [11:31<00:00, 97.25it/s]\n"
     ]
    },
    {
     "name": "stdout",
     "output_type": "stream",
     "text": [
      "[]\n",
      "******************100_999****************************\n"
     ]
    },
    {
     "name": "stderr",
     "output_type": "stream",
     "text": [
      "100%|███████████████████████████████████████████████████████████████████████████| 81009/81009 [08:27<00:00, 159.47it/s]\n"
     ]
    },
    {
     "name": "stdout",
     "output_type": "stream",
     "text": [
      "The magnitude of the traffic data on the common wavelength position obtained           after interpolation of the red and blue bands separately： 3450\n",
      "Number of processed data： 81009\n"
     ]
    },
    {
     "name": "stderr",
     "output_type": "stream",
     "text": [
      " 18%|█████████████▍                                                             | 14455/81009 [01:38<07:13, 153.45it/s]C:\\Users\\ZhaoXR\\AppData\\Local\\Temp\\ipykernel_25116\\3054061946.py:6: RuntimeWarning: invalid value encountered in true_divide\n",
      "  sp = sp / sp_s        # 用标准差标准化光流量\n",
      " 18%|█████████████▍                                                             | 14487/81009 [01:38<07:20, 150.91it/s]"
     ]
    },
    {
     "name": "stdout",
     "output_type": "stream",
     "text": [
      "Handling exceptions, indexed as: 14465\n"
     ]
    },
    {
     "name": "stderr",
     "output_type": "stream",
     "text": [
      "100%|███████████████████████████████████████████████████████████████████████████| 81009/81009 [09:37<00:00, 140.35it/s]\n",
      "100%|███████████████████████████████████████████████████████████████████████████| 81009/81009 [10:29<00:00, 128.77it/s]\n",
      "100%|████████████████████████████████████████████████████████████████████████████| 81009/81009 [14:04<00:00, 95.89it/s]\n"
     ]
    },
    {
     "name": "stdout",
     "output_type": "stream",
     "text": [
      "[]\n"
     ]
    }
   ],
   "source": [
    "import json\n",
    "\n",
    "failed_indice_dir = {}\n",
    "file_path = \"./failed_indice_dir.json\"\n",
    "with open(file_path, \"w\") as file:\n",
    "    json.dump(failed_indice_dir, file)\n",
    "    \n",
    "# 依次处理0_50 —— 50_100 分组\n",
    "for i in range(2):\n",
    "    # print(DATASET_PATH)\n",
    "    DATASET_PATH = \"./download/snrg_split_match_catalog/match_{}_{}.csv\".format(i*50,i*50+50)\n",
    "    FITS_PATH =  \"./download/FITSDATA/{}_{}/\".format(i*50,i*50+50)\n",
    "    SAVE_PATH = \"./data_after_processing/Flux/{}_{}.npy\".format(i*50,i*50+50)\n",
    "    Labels_SAVE_PATH= \"./data_after_processing/Labels_temp/{}_{}.npy\".format(i*50,i*50+50)\n",
    "    \n",
    "    print(\"********************\",i*50,\"_\",i*50+50,\"****************************\")\n",
    "    # 读取文件，更新字典，然后再次保存\n",
    "    with open(file_path, \"r\") as file:\n",
    "        loaded_failed_indice_dir = json.load(file)\n",
    "\n",
    "    # 处理数据并保存失败列\n",
    "    failed_indice = data_processing(DATASET_PATH, FITS_PATH, Labels_SAVE_PATH, SAVE_PATH, B_wave_scope, R_wave_scope)\n",
    "    \n",
    "    loaded_failed_indice_dir[SAVE_PATH] = failed_indice\n",
    "\n",
    "    # 再次保存到原文件\n",
    "    with open(file_path, \"w\") as file:\n",
    "        json.dump(loaded_failed_indice_dir, file)\n",
    "\n",
    "        \n",
    "# 处理h100+分组\n",
    "DATASET_PATH = \"./download/snrg_split_match_catalog/match_100.csv\"\n",
    "FITS_PATH =  \"./download/FITSDATA/100_999/\"\n",
    "SAVE_PATH = \"./data_after_processing/Flux/100_999.npy\"\n",
    "Labels_SAVE_PATH= \"./data_after_processing/Labels_temp/100_999.npy\"\n",
    "\n",
    "print(\"******************100_999****************************\")\n",
    "# 读取文件，更新字典，然后再次保存\n",
    "with open(file_path, \"r\") as file:\n",
    "    loaded_failed_indice_dir = json.load(file)\n",
    "\n",
    "# 处理数据并保存失败列\n",
    "failed_indice = data_processing(DATASET_PATH, FITS_PATH, Labels_SAVE_PATH, SAVE_PATH, B_wave_scope, R_wave_scope)\n",
    "\n",
    "loaded_failed_indice_dir[SAVE_PATH] = failed_indice\n",
    "\n",
    "# 再次保存到原文件\n",
    "with open(file_path, \"w\") as file:\n",
    "    json.dump(loaded_failed_indice_dir, file)"
   ]
  },
  {
   "cell_type": "markdown",
   "id": "4d2dc83f-2e44-474d-b964-16b14f8a53fb",
   "metadata": {
    "tags": []
   },
   "source": [
    "####  3.查看标签是否匹配，并规范数据"
   ]
  },
  {
   "cell_type": "code",
   "execution_count": 29,
   "id": "b06e9e2e-83c5-4c8d-b460-dbfbd3d508ef",
   "metadata": {},
   "outputs": [
    {
     "name": "stdout",
     "output_type": "stream",
     "text": [
      "(93603, 3450)\n",
      "(93603, 22, 1)\n"
     ]
    }
   ],
   "source": [
    "# 查看数据标签和数据数量上是否匹配\n",
    "# 1\n",
    "SAVE_PATH = \"./data_after_processing/Flux/0_50.npy\"\n",
    "Labels_SAVE_PATH= \"./data_after_processing/Labels_temp/0_50.npy\"\n",
    "# # 2\n",
    "# SAVE_PATH = \"./data_after_processing/Flux/50_100.npy\"\n",
    "# Labels_SAVE_PATH= \"./data_after_processing/Labels_temp/50_100.npy\"\n",
    "# # 3\n",
    "# SAVE_PATH = \"./data_after_processing/Flux/100_999.npy\"\n",
    "# Labels_SAVE_PATH= \"./data_after_processing/Labels_temp/100_999.npy\"\n",
    "\n",
    "Flux = np.load(SAVE_PATH)\n",
    "Labels = np.load(Labels_SAVE_PATH,allow_pickle=True)\n",
    "\n",
    "print(Flux.shape)\n",
    "print(Labels.shape)"
   ]
  },
  {
   "cell_type": "code",
   "execution_count": 30,
   "id": "282a7da9-ed36-4106-b0e6-a7ed812752f3",
   "metadata": {},
   "outputs": [
    {
     "name": "stdout",
     "output_type": "stream",
     "text": [
      "(93603, 22)\n"
     ]
    }
   ],
   "source": [
    "# 降维操作\n",
    "right_Labels = Labels.squeeze(axis=2)\n",
    "print(right_Labels.shape)"
   ]
  },
  {
   "cell_type": "code",
   "execution_count": 31,
   "id": "974d70c9-a295-4a97-9a9f-ef46d866331c",
   "metadata": {},
   "outputs": [
    {
     "data": {
      "text/plain": [
       "array([4764.177734375, 3.298414707183838, -93.16979217529295,\n",
       "       0.3900949954986572, 0.6429300308227539, 0.3697609901428222,\n",
       "       0.6552219986915588, 0.4059569835662842, 0.4231210052967071,\n",
       "       0.3599402010440826, 0.2389419823884964, 0.4183390140533447,\n",
       "       0.3406559824943542, 0.468293160200119, 0.2338019907474517,\n",
       "       0.4868640005588531, 0.4085620045661926, 0.3451200127601623,\n",
       "       0.3959825038909912, 46.64, 708004, 'G13321826578680'], dtype=object)"
      ]
     },
     "execution_count": 31,
     "metadata": {},
     "output_type": "execute_result"
    }
   ],
   "source": [
    "right_Labels[0]"
   ]
  },
  {
   "cell_type": "code",
   "execution_count": 32,
   "id": "78547eff-ea24-4b14-b9e5-a95527f854a3",
   "metadata": {},
   "outputs": [
    {
     "data": {
      "text/plain": [
       "[float,\n",
       " float,\n",
       " float,\n",
       " float,\n",
       " float,\n",
       " float,\n",
       " float,\n",
       " float,\n",
       " float,\n",
       " float,\n",
       " float,\n",
       " float,\n",
       " float,\n",
       " float,\n",
       " float,\n",
       " float,\n",
       " float,\n",
       " float,\n",
       " float,\n",
       " float,\n",
       " int,\n",
       " str]"
      ]
     },
     "execution_count": 32,
     "metadata": {},
     "output_type": "execute_result"
    }
   ],
   "source": [
    "# 输出每个元素的数据类型\n",
    "element_types = [type(item) for item in right_Labels[0]]\n",
    "element_types"
   ]
  },
  {
   "cell_type": "code",
   "execution_count": 33,
   "id": "749de2bc-3547-4741-9386-f4e9fa3ee92e",
   "metadata": {},
   "outputs": [],
   "source": [
    "#保存数据\n",
    "Labels_SAVE_PATH= \"./data_after_processing/Labels/0_50.npy\"\n",
    "# Labels_SAVE_PATH= \"./data_after_processing/Labels/50_100.npy\"\n",
    "# Labels_SAVE_PATH= \"./data_after_processing/Labels/100_999.npy\"\n",
    "np.save(Labels_SAVE_PATH, right_Labels)"
   ]
  },
  {
   "cell_type": "markdown",
   "id": "e93645c0-9839-462e-ad39-fa6b48ccf305",
   "metadata": {
    "tags": []
   },
   "source": [
    "####  4.合并到一个文件"
   ]
  },
  {
   "cell_type": "markdown",
   "id": "a2672a08-fe70-4ca2-abb4-7eb086c6df48",
   "metadata": {
    "tags": []
   },
   "source": [
    "#####  4.1 全部整合"
   ]
  },
  {
   "cell_type": "code",
   "execution_count": 62,
   "id": "4d9c3850-6424-4aff-98a1-13afbd612208",
   "metadata": {},
   "outputs": [
    {
     "data": {
      "text/plain": [
       "['0_50.npy', '100_999.npy', '50_100.npy']"
      ]
     },
     "execution_count": 62,
     "metadata": {},
     "output_type": "execute_result"
    }
   ],
   "source": [
    "# 读取数据\n",
    "label_PATH=\"./data_after_processing/Labels/\"\n",
    "flux_PATH=\"./data_after_processing/Flux/\"\n",
    "\n",
    "label_path_list=os.listdir(label_PATH)\n",
    "label_path_list"
   ]
  },
  {
   "cell_type": "code",
   "execution_count": 63,
   "id": "39972a88-0c31-4259-aad6-a159f94cc239",
   "metadata": {},
   "outputs": [],
   "source": [
    "# 全部整合\n",
    "label_all = pd.DataFrame()\n",
    "flux_all =None\n",
    "\n",
    "for path in label_path_list:\n",
    "    label = np.load(label_PATH+path,  allow_pickle=True)\n",
    "    flux = np.load(flux_PATH+path)\n",
    "    \n",
    "    label = pd.DataFrame(label, columns=['Teff[K]', 'Logg', 'RV', 'CH', 'NH', 'OH', 'NaH', 'MgH', 'AlH', 'SiH', 'SH', \n",
    "                                 'KH', 'CaH', 'TiH',  'VH', 'CrH','MnH', 'FeH', 'NiH', 'snrg', 'obsid', 'uid',])  \n",
    "    \n",
    "    label_all = pd.concat([label_all, label], axis=0)\n",
    "    # flux_all = np.concatenate([flux_all, flux], axis=0)\n",
    "    # 如果flux_all是None，初始化它为第一个flux的形状\n",
    "    if flux_all is None:\n",
    "        flux_all = flux\n",
    "    else:\n",
    "        # 将当前的通量数据添加到flux_all中\n",
    "        flux_all =np.concatenate([flux_all, flux], axis=0)"
   ]
  },
  {
   "cell_type": "code",
   "execution_count": 64,
   "id": "8dd981a9-cf13-4a48-9d12-9b0ef51d8f48",
   "metadata": {},
   "outputs": [
    {
     "data": {
      "text/plain": [
       "(241832, 3450)"
      ]
     },
     "execution_count": 64,
     "metadata": {},
     "output_type": "execute_result"
    }
   ],
   "source": [
    "flux_all.shape"
   ]
  },
  {
   "cell_type": "code",
   "execution_count": 65,
   "id": "80ea0b97-d6d9-4574-a62c-34be625cb694",
   "metadata": {},
   "outputs": [
    {
     "data": {
      "text/plain": [
       "(241832, 22)"
      ]
     },
     "execution_count": 65,
     "metadata": {},
     "output_type": "execute_result"
    }
   ],
   "source": [
    "label_all.shape"
   ]
  },
  {
   "cell_type": "code",
   "execution_count": 66,
   "id": "22a395b1-4ade-4948-a621-f2a3942ec1a3",
   "metadata": {},
   "outputs": [],
   "source": [
    "# 保存\n",
    "SAVE_PATH= \"./data_after_processing/result/\"\n",
    "# 保存 label_all 到 CSV 文件\n",
    "label_all.to_csv(SAVE_PATH+'labels_all.csv', index=False)\n",
    "\n",
    "# 保存 flux_all 到 NPY 文件\n",
    "np.save(SAVE_PATH+'flux_all', flux_all)"
   ]
  },
  {
   "cell_type": "markdown",
   "id": "2c450478-2300-47e3-8224-0fb838830db5",
   "metadata": {
    "tags": []
   },
   "source": [
    "##### 4.2 整合高信噪比部分"
   ]
  },
  {
   "cell_type": "code",
   "execution_count": 67,
   "id": "cc1f3d10-3e30-40dd-998e-c102abcb84f6",
   "metadata": {},
   "outputs": [],
   "source": [
    "label_path_list = ['100_999.npy', '50_100.npy']\n",
    "\n",
    "# 整合高信噪比部分\n",
    "label_all = pd.DataFrame()\n",
    "flux_all =None\n",
    "\n",
    "for path in label_path_list:\n",
    "    label = np.load(label_PATH+path,  allow_pickle=True)\n",
    "    flux = np.load(flux_PATH+path)\n",
    "    \n",
    "    label = pd.DataFrame(label, columns=['Teff[K]', 'Logg', 'RV', 'CH', 'NH', 'OH', 'NaH', 'MgH', 'AlH', 'SiH', 'SH', \n",
    "                                 'KH', 'CaH', 'TiH',  'VH', 'CrH','MnH', 'FeH', 'NiH', 'snrg', 'obsid', 'uid',])  \n",
    "    \n",
    "    label_all = pd.concat([label_all, label], axis=0)\n",
    "    # flux_all = np.concatenate([flux_all, flux], axis=0)\n",
    "    # 如果flux_all是None，初始化它为第一个flux的形状\n",
    "    if flux_all is None:\n",
    "        flux_all = flux\n",
    "    else:\n",
    "        # 将当前的通量数据添加到flux_all中\n",
    "        flux_all =np.concatenate([flux_all, flux], axis=0)"
   ]
  },
  {
   "cell_type": "code",
   "execution_count": 68,
   "id": "1732c28d-99f8-4c1b-b195-93ff5d9a1498",
   "metadata": {},
   "outputs": [
    {
     "data": {
      "text/plain": [
       "(148229, 3450)"
      ]
     },
     "execution_count": 68,
     "metadata": {},
     "output_type": "execute_result"
    }
   ],
   "source": [
    "flux_all.shape"
   ]
  },
  {
   "cell_type": "code",
   "execution_count": 69,
   "id": "c55eb914-16ea-4805-b085-3081b3805abe",
   "metadata": {},
   "outputs": [
    {
     "data": {
      "text/plain": [
       "(148229, 22)"
      ]
     },
     "execution_count": 69,
     "metadata": {},
     "output_type": "execute_result"
    }
   ],
   "source": [
    "label_all.shape"
   ]
  },
  {
   "cell_type": "code",
   "execution_count": 71,
   "id": "7caa7c69-58a9-481f-931c-2b8a1a345df4",
   "metadata": {},
   "outputs": [],
   "source": [
    "# 保存\n",
    "SAVE_PATH= \"./data_after_processing/result/\"\n",
    "# 保存 label_all 到 CSV 文件\n",
    "label_all.to_csv(SAVE_PATH+'labels_50_999.csv', index=False)\n",
    "\n",
    "# 保存 flux_all 到 NPY 文件\n",
    "np.save(SAVE_PATH+'flux_50_999', flux_all)"
   ]
  },
  {
   "cell_type": "markdown",
   "id": "ea3ae820-9a40-4f1f-b4cb-d6c88b39b067",
   "metadata": {
    "tags": []
   },
   "source": [
    "##### 整合低信噪比部分"
   ]
  },
  {
   "cell_type": "code",
   "execution_count": 72,
   "id": "44d745b7-dfec-46cf-a317-cf8cc8c1601e",
   "metadata": {},
   "outputs": [],
   "source": [
    "label_path_list = ['0_50.npy',]\n",
    "\n",
    "# 整合低信噪比部分\n",
    "label_all = pd.DataFrame()\n",
    "flux_all =None\n",
    "\n",
    "for path in label_path_list:\n",
    "    label = np.load(label_PATH+path,  allow_pickle=True)\n",
    "    flux = np.load(flux_PATH+path)\n",
    "    \n",
    "    label = pd.DataFrame(label, columns=['Teff[K]', 'Logg', 'RV', 'CH', 'NH', 'OH', 'NaH', 'MgH', 'AlH', 'SiH', 'SH', \n",
    "                                 'KH', 'CaH', 'TiH',  'VH', 'CrH','MnH', 'FeH', 'NiH', 'snrg', 'obsid', 'uid',])  \n",
    "    \n",
    "    label_all = pd.concat([label_all, label], axis=0)\n",
    "    # flux_all = np.concatenate([flux_all, flux], axis=0)\n",
    "    # 如果flux_all是None，初始化它为第一个flux的形状\n",
    "    if flux_all is None:\n",
    "        flux_all = flux\n",
    "    else:\n",
    "        # 将当前的通量数据添加到flux_all中\n",
    "        flux_all =np.concatenate([flux_all, flux], axis=0)"
   ]
  },
  {
   "cell_type": "code",
   "execution_count": 73,
   "id": "13efd2cc-4951-4b6f-a461-782cca8c4d78",
   "metadata": {},
   "outputs": [
    {
     "data": {
      "text/plain": [
       "(93603, 3450)"
      ]
     },
     "execution_count": 73,
     "metadata": {},
     "output_type": "execute_result"
    }
   ],
   "source": [
    "flux_all.shape"
   ]
  },
  {
   "cell_type": "code",
   "execution_count": 74,
   "id": "c2c473e7-04c9-436b-815f-210b83594f6e",
   "metadata": {},
   "outputs": [
    {
     "data": {
      "text/plain": [
       "(93603, 22)"
      ]
     },
     "execution_count": 74,
     "metadata": {},
     "output_type": "execute_result"
    }
   ],
   "source": [
    "label_all.shape"
   ]
  },
  {
   "cell_type": "code",
   "execution_count": 75,
   "id": "f20a0fcf-f982-4cda-a0a2-b4cc53359dc8",
   "metadata": {},
   "outputs": [],
   "source": [
    "# 保存\n",
    "SAVE_PATH= \"./data_after_processing/result/\"\n",
    "# 保存 label_all 到 CSV 文件\n",
    "label_all.to_csv(SAVE_PATH+'labels_5_50.csv', index=False)\n",
    "\n",
    "# 保存 flux_all 到 NPY 文件\n",
    "np.save(SAVE_PATH+'flux_5_50', flux_all)"
   ]
  },
  {
   "cell_type": "code",
   "execution_count": 76,
   "id": "7733e60d-a899-48db-93ca-0c6c2c4beeec",
   "metadata": {},
   "outputs": [],
   "source": [
    "del  label_all, flux_all"
   ]
  },
  {
   "cell_type": "code",
   "execution_count": null,
   "id": "fd196407-2b57-4fd4-98d0-0737b8fd6913",
   "metadata": {},
   "outputs": [],
   "source": []
  }
 ],
 "metadata": {
  "kernelspec": {
   "display_name": "torch",
   "language": "python",
   "name": "torch"
  },
  "language_info": {
   "codemirror_mode": {
    "name": "ipython",
    "version": 3
   },
   "file_extension": ".py",
   "mimetype": "text/x-python",
   "name": "python",
   "nbconvert_exporter": "python",
   "pygments_lexer": "ipython3",
   "version": "3.8.17"
  }
 },
 "nbformat": 4,
 "nbformat_minor": 5
}
