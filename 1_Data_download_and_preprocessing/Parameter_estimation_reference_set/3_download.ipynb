{
 "cells": [
  {
   "cell_type": "code",
   "execution_count": 1,
   "id": "a6866884-224d-4cfc-addb-7a2c9e0b443d",
   "metadata": {},
   "outputs": [],
   "source": [
    "import wget\n",
    "import os\n",
    "import json"
   ]
  },
  {
   "cell_type": "markdown",
   "id": "e2cfebae-91fd-429f-94c6-bed9f9ab4c94",
   "metadata": {},
   "source": [
    "# 按照前一步得到的obsid下载所需要的数据"
   ]
  },
  {
   "cell_type": "markdown",
   "id": "f40967e5-9384-4d3f-9fa5-55e46b026d2f",
   "metadata": {},
   "source": [
    "## 创建文件夹"
   ]
  },
  {
   "cell_type": "code",
   "execution_count": 2,
   "id": "5a4fb6c3-00d5-4299-889e-4db0e7767da3",
   "metadata": {},
   "outputs": [
    {
     "name": "stdout",
     "output_type": "stream",
     "text": [
      "./download/FITSDATA\\0_50\n",
      "./download/FITSDATA\\50_100\n",
      "./download/FITSDATA\\100_999\n"
     ]
    }
   ],
   "source": [
    "# 创建文件夹\n",
    "fold_path =  r'./download/FITSDATA' \n",
    "if not os.path.exists(fold_path):\n",
    "    os.makedirs(fold_path)\n",
    "    \n",
    "for i in range(0,2):\n",
    "    fold_name = \"{}_{}\".format(i*50,(i+1)*50)\n",
    "    path = os.path.join(fold_path,fold_name)\n",
    "    os.makedirs(path, exist_ok=True)\n",
    "    print(path)\n",
    "    \n",
    "path = os.path.join(fold_path,\"100_999\")\n",
    "os.makedirs(path, exist_ok=True)\n",
    "print(path) "
   ]
  },
  {
   "cell_type": "markdown",
   "id": "e4711b58-0962-4b98-a4fc-0e68653298a4",
   "metadata": {},
   "source": [
    "## 开始下载"
   ]
  },
  {
   "cell_type": "markdown",
   "id": "e6976768-071c-4072-b2d2-4adb3c13d25e",
   "metadata": {},
   "source": [
    "### 定义下载函数"
   ]
  },
  {
   "cell_type": "code",
   "execution_count": 3,
   "id": "92fa6a97-db8f-4358-ba19-e32357fd3d5d",
   "metadata": {},
   "outputs": [],
   "source": [
    "\n",
    "\n",
    "# 保存下载进程\n",
    "def save_progress(progress, progress_file):\n",
    "    with open(progress_file, 'w') as f:\n",
    "        json.dump(progress, f)\n",
    "\n",
    "# 加载下载进程\n",
    "def load_progress(progress_file):\n",
    "    if os.path.exists(progress_file):\n",
    "        with open(progress_file, 'r') as f:\n",
    "            return json.load(f)\n",
    "    return {'completed': [], 'err_log': {}, 'n': 0}\n",
    "\n",
    "def download_spectra(url_txt_path, download_path, progress_file):\n",
    "    with open(url_txt_path, 'r') as f:\n",
    "        err_list = []\n",
    "        ls = []\n",
    "\n",
    "        # 读到链接列表ls\n",
    "        f.readline()  # 跳过第一行，如果需要\n",
    "        while True:\n",
    "            line = f.readline()\n",
    "            if line:\n",
    "                ls.append(line.strip())  # 去掉换行符\n",
    "            else:\n",
    "                break\n",
    "\n",
    "    # Number of all spectra\n",
    "    print(\"Number of spectra to download:\", len(ls))\n",
    "    \n",
    "    # 防止出问题\n",
    "    progress = load_progress(progress_file)\n",
    "    completed = set(progress['completed'])\n",
    "    err_log = progress['err_log']\n",
    "    n = progress['n']\n",
    "\n",
    "    for j in range(0, len(ls)):\n",
    "        if j in completed:\n",
    "            continue\n",
    "        try:\n",
    "            wget.download(ls[j], download_path)\n",
    "            completed.add(j)\n",
    "            if j % 20 == 0:  # 每下载20个保存一次进度\n",
    "                save_progress({'completed': list(completed), 'err_log': err_log, 'n': n}, progress_file)\n",
    "        except Exception as e:\n",
    "            print(f\"|| {j} err: {e}\")\n",
    "            err_list.append(j)\n",
    "            continue\n",
    "\n",
    "    err_log[n] = err_list\n",
    "    n += 1\n",
    "    save_progress({'completed': list(completed), 'err_log': err_log, 'n': n}, progress_file)\n",
    "\n",
    "    # 失败处重新下载\n",
    "    while len(err_list) > 20:\n",
    "        final_err_list = []\n",
    "        print(\"\\n重新下载失败光谱\")\n",
    "        print(\"Number of err spectra to download:\", len(err_list))\n",
    "        for j in err_list:\n",
    "            try:\n",
    "                wget.download(ls[j], download_path)\n",
    "                completed.add(j)\n",
    "                save_progress({'completed': list(completed), 'err_log': err_log, 'n': n}, progress_file)\n",
    "            except Exception as e:\n",
    "                print(f\"|| {j} err: {e}\")\n",
    "                final_err_list.append(j)\n",
    "                continue\n",
    "\n",
    "        err_log[n] = final_err_list\n",
    "        err_list = final_err_list\n",
    "        n += 1\n",
    "        save_progress({'completed': list(completed), 'err_log': err_log, 'n': n}, progress_file)\n",
    "\n",
    "    return err_log"
   ]
  },
  {
   "cell_type": "markdown",
   "id": "1b2e0f1e-c0ff-4780-9aea-b051da7fa24c",
   "metadata": {},
   "source": [
    "### 下载 0_50"
   ]
  },
  {
   "cell_type": "code",
   "execution_count": 4,
   "id": "c00a4f10-5212-410e-b0dd-3b653fbe7c2f",
   "metadata": {},
   "outputs": [
    {
     "name": "stdout",
     "output_type": "stream",
     "text": [
      "Number of spectra to download: 93616\n",
      "-1 / unknown|| 69653 err: <urlopen error [WinError 10060] 由于连接方在一段时间后没有正确答复或连接的主机没有反应，连接尝试失败。>\n",
      "-1 / unknown|| 70621 err: <urlopen error [WinError 10060] 由于连接方在一段时间后没有正确答复或连接的主机没有反应，连接尝试失败。>\n",
      "-1 / unknown|| 71305 err: <urlopen error [WinError 10060] 由于连接方在一段时间后没有正确答复或连接的主机没有反应，连接尝试失败。>\n",
      "-1 / unknown|| 74165 err: <urlopen error [WinError 10060] 由于连接方在一段时间后没有正确答复或连接的主机没有反应，连接尝试失败。>\n",
      "-1 / unknown|| 74425 err: <urlopen error [WinError 10060] 由于连接方在一段时间后没有正确答复或连接的主机没有反应，连接尝试失败。>\n",
      "-1 / unknown|| 75256 err: <urlopen error [WinError 10060] 由于连接方在一段时间后没有正确答复或连接的主机没有反应，连接尝试失败。>\n",
      "-1 / unknown|| 76861 err: <urlopen error [WinError 10060] 由于连接方在一段时间后没有正确答复或连接的主机没有反应，连接尝试失败。>\n",
      "-1 / unknown|| 87415 err: <urlopen error [WinError 10060] 由于连接方在一段时间后没有正确答复或连接的主机没有反应，连接尝试失败。>\n",
      "-1 / unknown|| 88550 err: <urlopen error [WinError 10060] 由于连接方在一段时间后没有正确答复或连接的主机没有反应，连接尝试失败。>\n",
      "-1 / unknown|| 90181 err: <urlopen error [WinError 10060] 由于连接方在一段时间后没有正确答复或连接的主机没有反应，连接尝试失败。>\n",
      "-1 / unknown|| 92881 err: <urlopen error [WinError 10060] 由于连接方在一段时间后没有正确答复或连接的主机没有反应，连接尝试失败。>\n",
      "-1 / unknown|| 93510 err: <urlopen error [WinError 10060] 由于连接方在一段时间后没有正确答复或连接的主机没有反应，连接尝试失败。>\n",
      "-1 / unknown"
     ]
    },
    {
     "ename": "NameError",
     "evalue": "name 'n' is not defined",
     "output_type": "error",
     "traceback": [
      "\u001b[1;31m---------------------------------------------------------------------------\u001b[0m",
      "\u001b[1;31mNameError\u001b[0m                                 Traceback (most recent call last)",
      "Cell \u001b[1;32mIn[4], line 14\u001b[0m\n\u001b[0;32m      9\u001b[0m error_log \u001b[38;5;241m=\u001b[39m download_spectra(url_txt_path, download_path, progress_file)\n\u001b[0;32m     12\u001b[0m \u001b[38;5;66;03m# 手动下载失败项\u001b[39;00m\n\u001b[1;32m---> 14\u001b[0m err_list\u001b[38;5;241m=\u001b[39merror_log[\u001b[43mn\u001b[49m\u001b[38;5;241m-\u001b[39m\u001b[38;5;241m1\u001b[39m]\n\u001b[0;32m     15\u001b[0m final_err_list \u001b[38;5;241m=\u001b[39m []\n\u001b[0;32m     17\u001b[0m \u001b[38;5;28mprint\u001b[39m(\u001b[38;5;124m\"\u001b[39m\u001b[38;5;124mNumber of err spectra to download：\u001b[39m\u001b[38;5;124m\"\u001b[39m, \u001b[38;5;28mlen\u001b[39m(err_list))\n",
      "\u001b[1;31mNameError\u001b[0m: name 'n' is not defined"
     ]
    }
   ],
   "source": [
    "# 定义文件路径\n",
    "url_txt_path = \"./download/download_url/url-0_50.txt\"     # URL文件\n",
    "download_path = \"./download/FITSDATA/0_50\"        # 目标位置\n",
    "progress_file = './download/download_url/download_progress_0_50.json'    # 保存下载进度log文件\n",
    "\n",
    "#创建下载路径的文件夹\n",
    "os.makedirs(download_path, exist_ok=True)\n",
    "\n",
    "error_log = download_spectra(url_txt_path, download_path, progress_file)\n",
    "\n",
    "\n",
    "# 手动下载失败项\n",
    "load_progress\n",
    "err_list=error_log[n-1]\n",
    "final_err_list = []\n",
    "\n",
    "print(\"Number of err spectra to download：\", len(err_list))\n",
    "for j in err_list:\n",
    "    try:\n",
    "        pass\n",
    "        wget.download(ls[j], download_path)\n",
    "    except: \n",
    "        print(\"|| {}  err\".format(j))\n",
    "        final_err_list.append(j)\n",
    "        continue\n",
    "        \n",
    "error_log[n]=final_err_list \n",
    "n=n+1 \n",
    "# 打印错误日志\n",
    "print(error_log)"
   ]
  },
  {
   "cell_type": "markdown",
   "id": "b21cf6cb-1b4c-4fec-8c8e-694d4e319d27",
   "metadata": {},
   "source": [
    "### 下载 50_100"
   ]
  },
  {
   "cell_type": "code",
   "execution_count": 6,
   "id": "19c1ccd4-ef8c-46e0-8c70-ac7568145d2c",
   "metadata": {},
   "outputs": [
    {
     "name": "stdout",
     "output_type": "stream",
     "text": [
      "Number of spectra to download: 67220\n"
     ]
    }
   ],
   "source": [
    "# 定义文件路径\n",
    "url_txt_path = \"./download/download_url/url-50_100.txt\"     # URL文件\n",
    "download_path = \"./download/FITSDATA/50_100\"        # 目标位置\n",
    "progress_file = './download/FITSDATA/download_progress_50_100.json'    # 保存下载进度log文件\n",
    "\n",
    "#创建下载路径的文件夹\n",
    "os.makedirs(download_path, exist_ok=True)\n",
    "\n",
    "error_log = download_spectra(url_txt_path, download_path, progress_file)\n",
    "\n",
    "\n",
    "# # 手动下载失败项\n",
    "\n",
    "# err_list=error_log[n-1]\n",
    "# final_err_list = []\n",
    "\n",
    "# print(\"Number of err spectra to download：\", len(err_list))\n",
    "# for j in err_list:\n",
    "#     try:\n",
    "#         pass\n",
    "#         wget.download(ls[j], download_path)\n",
    "#     except: \n",
    "#         print(\"|| {}  err\".format(j))\n",
    "#         final_err_list.append(j)\n",
    "#         continue\n",
    "        \n",
    "# error_log[n]=final_err_list \n",
    "# n=n+1 \n",
    "# # 打印错误日志\n",
    "# print(error_log)"
   ]
  },
  {
   "cell_type": "markdown",
   "id": "84333a04-bbd6-4096-b3cb-e0be5d7e7f56",
   "metadata": {},
   "source": [
    "### 下载 100-"
   ]
  },
  {
   "cell_type": "code",
   "execution_count": 8,
   "id": "47bcbaf6-b272-440c-8426-82e571c95706",
   "metadata": {},
   "outputs": [
    {
     "name": "stdout",
     "output_type": "stream",
     "text": [
      "Number of spectra to download: 81009\n"
     ]
    }
   ],
   "source": [
    "# 定义文件路径\n",
    "url_txt_path = \"./download/download_url/url-100.txt\"     # URL文件\n",
    "download_path = \"./download/FITSDATA/100_999\"        # 目标位置\n",
    "progress_file = './download/download_url/download_progress_100.json'    # 保存下载进度log文件\n",
    "\n",
    "#创建下载路径的文件夹\n",
    "os.makedirs(download_path, exist_ok=True)\n",
    "\n",
    "error_log = download_spectra(url_txt_path, download_path, progress_file)\n",
    "\n",
    "\n",
    "# 手动下载失败项\n",
    "\n",
    "# err_list=error_log[n-1]\n",
    "# final_err_list = []\n",
    "\n",
    "# print(\"Number of err spectra to download：\", len(err_list))\n",
    "# for j in err_list:\n",
    "#     try:\n",
    "#         pass\n",
    "#         wget.download(ls[j], download_path)\n",
    "#     except: \n",
    "#         print(\"|| {}  err\".format(j))\n",
    "#         final_err_list.append(j)\n",
    "#         continue\n",
    "        \n",
    "# error_log[n]=final_err_list \n",
    "# n=n+1 \n",
    "# # 打印错误日志\n",
    "# print(error_log)"
   ]
  },
  {
   "cell_type": "code",
   "execution_count": null,
   "id": "58b789be-daf6-4c2a-9073-207f8419a225",
   "metadata": {},
   "outputs": [],
   "source": []
  },
  {
   "cell_type": "code",
   "execution_count": null,
   "id": "a402dbd1-6280-4f42-bc97-4dd8b5c9d09a",
   "metadata": {},
   "outputs": [],
   "source": []
  },
  {
   "cell_type": "code",
   "execution_count": null,
   "id": "ba3ad5cc-4511-44dd-952c-3650dd36c2b9",
   "metadata": {},
   "outputs": [],
   "source": []
  },
  {
   "cell_type": "code",
   "execution_count": null,
   "id": "ab830c62-5a68-4405-ba01-4f95d6664a56",
   "metadata": {},
   "outputs": [],
   "source": []
  },
  {
   "cell_type": "code",
   "execution_count": null,
   "id": "f25bccb3-8c89-4e82-b196-54428fdbfd29",
   "metadata": {},
   "outputs": [],
   "source": []
  }
 ],
 "metadata": {
  "kernelspec": {
   "display_name": "torch",
   "language": "python",
   "name": "torch"
  },
  "language_info": {
   "codemirror_mode": {
    "name": "ipython",
    "version": 3
   },
   "file_extension": ".py",
   "mimetype": "text/x-python",
   "name": "python",
   "nbconvert_exporter": "python",
   "pygments_lexer": "ipython3",
   "version": "3.8.17"
  }
 },
 "nbformat": 4,
 "nbformat_minor": 5
}
