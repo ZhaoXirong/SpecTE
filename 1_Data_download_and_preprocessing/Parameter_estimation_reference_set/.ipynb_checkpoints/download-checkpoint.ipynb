{
 "cells": [
  {
   "cell_type": "code",
   "execution_count": 1,
   "id": "a6866884-224d-4cfc-addb-7a2c9e0b443d",
   "metadata": {},
   "outputs": [],
   "source": [
    "import wget\n",
    "import os\n",
    "import pickle\n"
   ]
  },
  {
   "cell_type": "code",
   "execution_count": 2,
   "id": "8eaf8a6d-ed55-4b5a-9ce5-cbe87322a749",
   "metadata": {},
   "outputs": [],
   "source": [
    "# 定义文件路径\n",
    "# url_txt_path = \"./download_url/url-5-10.txt\"\n",
    "url_txt_path = \"./download_url/try.txt\"\n",
    "download_path = \"./Fits/5-10\""
   ]
  },
  {
   "cell_type": "markdown",
   "id": "e2cfebae-91fd-429f-94c6-bed9f9ab4c94",
   "metadata": {},
   "source": [
    "# 开始下载"
   ]
  },
  {
   "cell_type": "code",
   "execution_count": 3,
   "id": "c7afdebf-9b34-4b29-ba9e-edccfc041f6c",
   "metadata": {},
   "outputs": [],
   "source": [
    "#创建下载路径的文件夹\n",
    "os.makedirs(download_path, exist_ok=True)\n",
    "# 失败日志\n",
    "err_log={}\n",
    "n=0"
   ]
  },
  {
   "cell_type": "code",
   "execution_count": 4,
   "id": "8dfcbc96-4746-46c9-a1b7-6aa5e76be0cd",
   "metadata": {},
   "outputs": [
    {
     "name": "stdout",
     "output_type": "stream",
     "text": [
      "Number of spectra to download： 17\n",
      "|| 0  err\n",
      "|| 1  err\n",
      "|| 2  err\n",
      "|| 3  err\n",
      "100% [..............................................................................] 59029 / 59029|| 5  err\n",
      "100% [..............................................................................] 58866 / 58866|| 8  err\n",
      "100% [..............................................................................] 12275 / 12275|| 10  err\n",
      "|| 11  err\n",
      "100% [..............................................................................] 46382 / 46382|| 14  err\n",
      "100% [..............................................................................] 59081 / 59081\n",
      "重新下载失败光谱\n",
      "Number of err spectra to download： 9\n",
      "100% [..............................................................................] 58799 / 58799|| 2  err\n",
      "|| 3  err\n",
      "|| 5  err\n",
      "|| 8  err\n",
      "|| 10  err\n",
      "|| 11  err\n",
      "|| 14  err\n"
     ]
    },
    {
     "data": {
      "text/plain": [
       "{0: [0, 1, 2, 3, 5, 8, 10, 11, 14], 1: [2, 3, 5, 8, 10, 11, 14]}"
      ]
     },
     "execution_count": 4,
     "metadata": {},
     "output_type": "execute_result"
    }
   ],
   "source": [
    "\n",
    "f = open(url_txt_path, 'r')\n",
    "                                \n",
    "err_list=[]\n",
    "ls = []  \n",
    "\n",
    "\n",
    "# 读到链接列表ls\n",
    "f.readline()\n",
    "while True:\n",
    "    line = f.readline()\n",
    "    if line:\n",
    "        ls.append(line)\n",
    "    else:\n",
    "        break\n",
    "\n",
    "# Number of all spectra\n",
    "print(\"Number of spectra to download：\", len(ls))\n",
    "\n",
    "for j in range(0, len(ls)):\n",
    "    try:\n",
    "        pass\n",
    "        wget.download(ls[j], download_path)\n",
    "    except: \n",
    "        print(\"|| {}  err\".format(j))\n",
    "        err_list.append(j)\n",
    "        continue\n",
    "        \n",
    "err_log[n]=err_list \n",
    "n=n+1\n",
    "# 失败处重新下载     \n",
    "final_err_list = []\n",
    "print(\"\\n重新下载失败光谱\")\n",
    "print(\"Number of err spectra to download：\", len(err_list))\n",
    "for j in err_list:\n",
    "    try:\n",
    "        pass\n",
    "        wget.download(ls[j], download_path)\n",
    "    except: \n",
    "        print(\"|| {}  err\".format(j))\n",
    "        final_err_list.append(j)\n",
    "        continue\n",
    "        \n",
    "err_log[n]=final_err_list \n",
    "n=n+1\n",
    "err_log"
   ]
  },
  {
   "cell_type": "code",
   "execution_count": 12,
   "id": "a5d5b38b-cc0f-4bbb-947e-2d06889412d8",
   "metadata": {},
   "outputs": [
    {
     "name": "stdout",
     "output_type": "stream",
     "text": [
      "Number of err spectra to download： 6\n",
      "100% [..............................................................................] 12275 / 12275|| 2  err\n",
      "|| 5  err\n",
      "|| 8  err\n",
      "100% [..............................................................................] 12275 / 12275|| 10  err\n",
      "|| 11  err\n",
      "|| 14  err\n"
     ]
    }
   ],
   "source": [
    "# 手动下载失败项\n",
    "\n",
    "err_list=final_err_list\n",
    "final_err_list = []\n",
    "\n",
    "print(\"Number of err spectra to download：\", len(err_list))\n",
    "for j in err_list:\n",
    "    try:\n",
    "        pass\n",
    "        wget.download(ls[j], download_path)\n",
    "    except: \n",
    "        print(\"|| {}  err\".format(j))\n",
    "        final_err_list.append(j)\n",
    "        continue\n",
    "        \n",
    "err_log[n]=final_err_list \n",
    "n=n+1 "
   ]
  },
  {
   "cell_type": "code",
   "execution_count": 10,
   "id": "5f6ebc5e-2bfc-41bf-8a06-77820f3f0737",
   "metadata": {},
   "outputs": [
    {
     "data": {
      "text/plain": [
       "{0: [0, 1, 2, 3, 5, 8, 10, 11, 14],\n",
       " 1: [2, 3, 5, 8, 10, 11, 14],\n",
       " 2: [2, 3, 5, 8, 10, 11, 14],\n",
       " 3: [2, 5, 8, 10, 11, 14],\n",
       " 4: [2, 5, 8, 10, 11, 14]}"
      ]
     },
     "execution_count": 10,
     "metadata": {},
     "output_type": "execute_result"
    }
   ],
   "source": [
    "err_log"
   ]
  },
  {
   "cell_type": "code",
   "execution_count": 13,
   "id": "a823939a-882f-4379-adf6-865a628eb0d8",
   "metadata": {},
   "outputs": [],
   "source": [
    "#保存失败日志\n",
    "with open('err_log.pkl', 'wb') as f:\n",
    "    pickle.dump(err_log, f)\n"
   ]
  },
  {
   "cell_type": "code",
   "execution_count": 15,
   "id": "44821d9e-d1b3-4189-8a0e-439a5b0c429c",
   "metadata": {},
   "outputs": [],
   "source": [
    "# 从文件加载字典\n",
    "with open('err_log.pkl', 'rb') as f:\n",
    "    err_log = pickle.load(f)\n",
    "\n",
    "# 获取字典中键的数量\n",
    "n = len(err_log.keys())"
   ]
  },
  {
   "cell_type": "code",
   "execution_count": null,
   "id": "da161be9-f043-4596-982a-2107a9adf6aa",
   "metadata": {},
   "outputs": [],
   "source": []
  }
 ],
 "metadata": {
  "kernelspec": {
   "display_name": "torch",
   "language": "python",
   "name": "torch"
  },
  "language_info": {
   "codemirror_mode": {
    "name": "ipython",
    "version": 3
   },
   "file_extension": ".py",
   "mimetype": "text/x-python",
   "name": "python",
   "nbconvert_exporter": "python",
   "pygments_lexer": "ipython3",
   "version": "3.8.17"
  }
 },
 "nbformat": 4,
 "nbformat_minor": 5
}
