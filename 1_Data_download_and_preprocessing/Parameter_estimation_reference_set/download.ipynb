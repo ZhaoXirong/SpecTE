{
 "cells": [
  {
   "cell_type": "code",
   "execution_count": 1,
   "id": "a6866884-224d-4cfc-addb-7a2c9e0b443d",
   "metadata": {},
   "outputs": [],
   "source": [
    "import wget\n",
    "import os\n",
    "import json"
   ]
  },
  {
   "cell_type": "code",
   "execution_count": 4,
   "id": "8eaf8a6d-ed55-4b5a-9ce5-cbe87322a749",
   "metadata": {},
   "outputs": [],
   "source": [
    "# 定义文件路径\n",
    "url_txt_path = \"./download_url/url-20-25.txt\"\n",
    "download_path = \"D:/zxr_download/Fits/20-25\""
   ]
  },
  {
   "cell_type": "markdown",
   "id": "e2cfebae-91fd-429f-94c6-bed9f9ab4c94",
   "metadata": {},
   "source": [
    "# 开始下载"
   ]
  },
  {
   "cell_type": "code",
   "execution_count": 5,
   "id": "8dfcbc96-4746-46c9-a1b7-6aa5e76be0cd",
   "metadata": {},
   "outputs": [],
   "source": [
    "def save_progress(progress, progress_file):\n",
    "    with open(progress_file, 'w') as f:\n",
    "        json.dump(progress, f)\n",
    "\n",
    "def load_progress(progress_file):\n",
    "    if os.path.exists(progress_file):\n",
    "        with open(progress_file, 'r') as f:\n",
    "            return json.load(f)\n",
    "    return {'completed': [], 'err_log': {}, 'n': 0}\n",
    "\n",
    "def download_spectra(url_txt_path, download_path, progress_file):\n",
    "    with open(url_txt_path, 'r') as f:\n",
    "        err_list = []\n",
    "        ls = []\n",
    "\n",
    "        # 读到链接列表ls\n",
    "        f.readline()  # 跳过第一行，如果需要\n",
    "        while True:\n",
    "            line = f.readline()\n",
    "            if line:\n",
    "                ls.append(line.strip())  # 去掉换行符\n",
    "            else:\n",
    "                break\n",
    "\n",
    "    # Number of all spectra\n",
    "    print(\"Number of spectra to download:\", len(ls))\n",
    "    \n",
    "    # 防止出问题\n",
    "    progress = load_progress(progress_file)\n",
    "    completed = set(progress['completed'])\n",
    "    err_log = progress['err_log']\n",
    "    n = progress['n']\n",
    "\n",
    "    for j in range(0, len(ls)):\n",
    "        if j in completed:\n",
    "            continue\n",
    "        try:\n",
    "            wget.download(ls[j], download_path)\n",
    "            completed.add(j)\n",
    "            if j % 20 == 0:  # 每下载20个保存一次进度\n",
    "                save_progress({'completed': list(completed), 'err_log': err_log, 'n': n}, progress_file)\n",
    "        except Exception as e:\n",
    "            print(f\"|| {j} err: {e}\")\n",
    "            err_list.append(j)\n",
    "            continue\n",
    "\n",
    "    err_log[n] = err_list\n",
    "    n += 1\n",
    "    save_progress({'completed': list(completed), 'err_log': err_log, 'n': n}, progress_file)\n",
    "\n",
    "    # 失败处重新下载\n",
    "    while len(err_list) > 20:\n",
    "        final_err_list = []\n",
    "        print(\"\\n重新下载失败光谱\")\n",
    "        print(\"Number of err spectra to download:\", len(err_list))\n",
    "        for j in err_list:\n",
    "            try:\n",
    "                wget.download(ls[j], download_path)\n",
    "                completed.add(j)\n",
    "                save_progress({'completed': list(completed), 'err_log': err_log, 'n': n}, progress_file)\n",
    "            except Exception as e:\n",
    "                print(f\"|| {j} err: {e}\")\n",
    "                final_err_list.append(j)\n",
    "                continue\n",
    "\n",
    "        err_log[n] = final_err_list\n",
    "        err_list = final_err_list\n",
    "        n += 1\n",
    "        save_progress({'completed': list(completed), 'err_log': err_log, 'n': n}, progress_file)\n",
    "\n",
    "    return err_log"
   ]
  },
  {
   "cell_type": "code",
   "execution_count": null,
   "id": "7ab305ce-3090-4a0f-a096-7a143d3c694f",
   "metadata": {},
   "outputs": [
    {
     "name": "stdout",
     "output_type": "stream",
     "text": [
      "Number of spectra to download: 639027\n",
      "100% [..............................................................................] 58387 / 58387|| 221 err: HTTP Error 502: Bad Gateway\n",
      " 14% [..........                                                                    ]  8192 / 58348"
     ]
    }
   ],
   "source": [
    "# 保存下载进度\n",
    "progress_file = 'download_progress.json'\n",
    "\n",
    "#创建下载路径的文件夹\n",
    "os.makedirs(download_path, exist_ok=True)\n",
    "\n",
    "error_log = download_spectra(url_txt_path, download_path, progress_file)\n",
    "\n",
    "# 打印错误日志\n",
    "print(error_log)"
   ]
  },
  {
   "cell_type": "code",
   "execution_count": null,
   "id": "a5d5b38b-cc0f-4bbb-947e-2d06889412d8",
   "metadata": {},
   "outputs": [],
   "source": [
    "# 手动下载失败项\n",
    "\n",
    "err_list=error_log[n-1]\n",
    "final_err_list = []\n",
    "\n",
    "print(\"Number of err spectra to download：\", len(err_list))\n",
    "for j in err_list:\n",
    "    try:\n",
    "        pass\n",
    "        wget.download(ls[j], download_path)\n",
    "    except: \n",
    "        print(\"|| {}  err\".format(j))\n",
    "        final_err_list.append(j)\n",
    "        continue\n",
    "        \n",
    "error_log[n]=final_err_list \n",
    "n=n+1 "
   ]
  },
  {
   "cell_type": "code",
   "execution_count": 10,
   "id": "5f6ebc5e-2bfc-41bf-8a06-77820f3f0737",
   "metadata": {},
   "outputs": [
    {
     "data": {
      "text/plain": [
       "{0: [0, 1, 2, 3, 5, 8, 10, 11, 14],\n",
       " 1: [2, 3, 5, 8, 10, 11, 14],\n",
       " 2: [2, 3, 5, 8, 10, 11, 14],\n",
       " 3: [2, 5, 8, 10, 11, 14],\n",
       " 4: [2, 5, 8, 10, 11, 14]}"
      ]
     },
     "execution_count": 10,
     "metadata": {},
     "output_type": "execute_result"
    }
   ],
   "source": [
    "err_log"
   ]
  },
  {
   "cell_type": "code",
   "execution_count": 13,
   "id": "a823939a-882f-4379-adf6-865a628eb0d8",
   "metadata": {},
   "outputs": [],
   "source": []
  },
  {
   "cell_type": "code",
   "execution_count": 15,
   "id": "44821d9e-d1b3-4189-8a0e-439a5b0c429c",
   "metadata": {},
   "outputs": [],
   "source": []
  },
  {
   "cell_type": "code",
   "execution_count": null,
   "id": "da161be9-f043-4596-982a-2107a9adf6aa",
   "metadata": {},
   "outputs": [],
   "source": []
  }
 ],
 "metadata": {
  "kernelspec": {
   "display_name": "torch",
   "language": "python",
   "name": "torch"
  },
  "language_info": {
   "codemirror_mode": {
    "name": "ipython",
    "version": 3
   },
   "file_extension": ".py",
   "mimetype": "text/x-python",
   "name": "python",
   "nbconvert_exporter": "python",
   "pygments_lexer": "ipython3",
   "version": "3.8.17"
  }
 },
 "nbformat": 4,
 "nbformat_minor": 5
}
