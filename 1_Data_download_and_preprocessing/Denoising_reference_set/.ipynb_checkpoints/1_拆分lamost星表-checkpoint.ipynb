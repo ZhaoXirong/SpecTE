{
 "cells": [
  {
   "cell_type": "code",
   "execution_count": 1,
   "id": "17492601-abb9-46b6-8b52-1ec1b973c128",
   "metadata": {},
   "outputs": [],
   "source": [
    "import pandas as pd\n",
    "import numpy as np\n",
    "from tqdm import tqdm"
   ]
  },
  {
   "cell_type": "markdown",
   "id": "b81f0302-d0ac-45a6-a453-1725cdab8a3c",
   "metadata": {},
   "source": [
    "# 处理下载下来的lamost星表\n",
    "原始数据是一个联合列，由|进行分割。这里将数据拆分为多个列，并生成csv"
   ]
  },
  {
   "cell_type": "code",
   "execution_count": 2,
   "id": "82b6b433-bc22-49c4-ab7f-de0af5c5f662",
   "metadata": {},
   "outputs": [],
   "source": [
    "df_lamost = pd.read_csv(r'E:\\my_star\\raw_data_catalogue_label\\dr10_35018_无筛选.csv')\n",
    "# df_lamost = pd.read_csv('./data/dr10_LAMOST_9964.csv')"
   ]
  },
  {
   "cell_type": "code",
   "execution_count": 3,
   "id": "cc861b5f-a97e-48c9-937c-ea7cd1a25fdb",
   "metadata": {},
   "outputs": [
    {
     "data": {
      "text/plain": [
       "'combined_obsid|combined_snrg|combined_ra|combined_dec'"
      ]
     },
     "execution_count": 3,
     "metadata": {},
     "output_type": "execute_result"
    }
   ],
   "source": [
    "combined_name=df_lamost.columns[0]\n",
    "combined_name"
   ]
  },
  {
   "cell_type": "code",
   "execution_count": null,
   "id": "a3342de9-d90c-481f-a752-4ef7c8a7f1ac",
   "metadata": {},
   "outputs": [],
   "source": [
    "\n"
   ]
  },
  {
   "cell_type": "code",
   "execution_count": 4,
   "id": "0f55f04f-14e5-43f9-b6e0-65bbdda91a2a",
   "metadata": {},
   "outputs": [],
   "source": [
    "# 使用 str.split() 方法按竖线分割数据列\n",
    "new_columns = df_lamost[combined_name].str.split('|', expand=True)\n",
    "\n",
    "# 为新列命名\n",
    "# new_columns.columns = ['lamost_obsid', 'lamost_snrg', 'lamost_class', 'lamost_subclass', 'lamost_z', 'lamost_ra', 'lamost_dec', 'lamost_logg', 'lamost_file']\n",
    "names = combined_name.split('|') # 使用split方法拆分字符串\n",
    "names = [name.replace('combined', 'lamost') for name in names] # 替换前缀并创建新的列表\n",
    "new_columns.columns = names\n",
    "\n",
    "# 将新列添加到数据框中\n",
    "df_lamost = pd.concat([df_lamost, new_columns], axis=1)\n",
    "\n",
    "# 删除原始的单一列数据\n",
    "df_lamost.drop(combined_name, axis=1, inplace=True)\n"
   ]
  },
  {
   "cell_type": "code",
   "execution_count": 5,
   "id": "e70abab6-2642-4acf-91a3-55bcb6ce6d9e",
   "metadata": {},
   "outputs": [
    {
     "data": {
      "text/plain": [
       "(11473644, 4)"
      ]
     },
     "execution_count": 5,
     "metadata": {},
     "output_type": "execute_result"
    }
   ],
   "source": [
    "df_lamost.shape"
   ]
  },
  {
   "cell_type": "code",
   "execution_count": 6,
   "id": "d392b81d-b596-4a4f-b4d0-db057e8fd420",
   "metadata": {},
   "outputs": [
    {
     "name": "stdout",
     "output_type": "stream",
     "text": [
      "<class 'pandas.core.frame.DataFrame'>\n",
      "RangeIndex: 11473644 entries, 0 to 11473643\n",
      "Data columns (total 4 columns):\n",
      " #   Column        Dtype \n",
      "---  ------        ----- \n",
      " 0   lamost_obsid  object\n",
      " 1   lamost_snrg   object\n",
      " 2   lamost_ra     object\n",
      " 3   lamost_dec    object\n",
      "dtypes: object(4)\n",
      "memory usage: 350.1+ MB\n"
     ]
    }
   ],
   "source": [
    "df_lamost.info()"
   ]
  },
  {
   "cell_type": "code",
   "execution_count": 24,
   "id": "a31aaf82-3de1-4429-955b-25cc5126f12f",
   "metadata": {},
   "outputs": [
    {
     "data": {
      "text/plain": [
       "0    332.2022740000\n",
       "1    332.5354560000\n",
       "2    332.3687450000\n",
       "3    332.2066650000\n",
       "4    332.3215230000\n",
       "Name: lamost_ra, dtype: object"
      ]
     },
     "execution_count": 24,
     "metadata": {},
     "output_type": "execute_result"
    }
   ],
   "source": [
    "df_lamost['lamost_ra'][0:5]"
   ]
  },
  {
   "cell_type": "code",
   "execution_count": 22,
   "id": "5efc110d-b19f-465f-9c5a-cf45f560aef0",
   "metadata": {},
   "outputs": [],
   "source": [
    "# # 保存数据\n",
    "# df_lamost.to_csv(r'E:\\my_star\\raw_data_catalogue_label\\lamost_dr10_data_catalog.csv', index=False)"
   ]
  },
  {
   "cell_type": "code",
   "execution_count": 8,
   "id": "88443d01-f6f8-43e8-aacc-ce1e39767743",
   "metadata": {},
   "outputs": [],
   "source": [
    "# 按照snrg分组\n",
    "\n",
    "# 将 'lamost_snrg' 列转换为数值型，这里使用 pd.to_numeric，并忽略无法转换的错误\n",
    "df_lamost['lamost_snrg'] = pd.to_numeric(df_lamost['lamost_snrg'], errors='coerce')\n",
    "\n",
    "# 分组：lamost_snrg < 50\n",
    "group_1 = df_lamost[df_lamost['lamost_snrg'] < 30]\n",
    "\n",
    "# 分组：lamost_snrg > 100\n",
    "group_2 = df_lamost[df_lamost['lamost_snrg'] > 50] \n",
    "group_2 = group_2[group_2['lamost_snrg']  < 100] "
   ]
  },
  {
   "cell_type": "code",
   "execution_count": 21,
   "id": "01e90007-9ed5-46cb-aa77-1e602773e71b",
   "metadata": {},
   "outputs": [],
   "source": [
    "group_1.to_csv(r'E:\\my_star\\raw_data_catalogue_label\\dr10_无筛选小于50.csv', index=False)\n",
    "group_2.to_csv(r'E:\\my_star\\raw_data_catalogue_label\\dr10_无筛选大于100.csv', index=False)"
   ]
  },
  {
   "cell_type": "code",
   "execution_count": 10,
   "id": "7291d13f-1db4-4058-baf8-734312a7775c",
   "metadata": {},
   "outputs": [
    {
     "data": {
      "text/html": [
       "<div>\n",
       "<style scoped>\n",
       "    .dataframe tbody tr th:only-of-type {\n",
       "        vertical-align: middle;\n",
       "    }\n",
       "\n",
       "    .dataframe tbody tr th {\n",
       "        vertical-align: top;\n",
       "    }\n",
       "\n",
       "    .dataframe thead th {\n",
       "        text-align: right;\n",
       "    }\n",
       "</style>\n",
       "<table border=\"1\" class=\"dataframe\">\n",
       "  <thead>\n",
       "    <tr style=\"text-align: right;\">\n",
       "      <th></th>\n",
       "      <th>lamost_obsid</th>\n",
       "      <th>lamost_snrg</th>\n",
       "      <th>lamost_ra</th>\n",
       "      <th>lamost_dec</th>\n",
       "    </tr>\n",
       "  </thead>\n",
       "  <tbody>\n",
       "    <tr>\n",
       "      <th>121</th>\n",
       "      <td>101224</td>\n",
       "      <td>51.31</td>\n",
       "      <td>332.0475860000</td>\n",
       "      <td>-1.8760010000</td>\n",
       "    </tr>\n",
       "    <tr>\n",
       "      <th>164</th>\n",
       "      <td>102084</td>\n",
       "      <td>54.80</td>\n",
       "      <td>330.4670140000</td>\n",
       "      <td>-1.2219770000</td>\n",
       "    </tr>\n",
       "    <tr>\n",
       "      <th>169</th>\n",
       "      <td>102093</td>\n",
       "      <td>56.80</td>\n",
       "      <td>330.3382870000</td>\n",
       "      <td>-1.2285380000</td>\n",
       "    </tr>\n",
       "    <tr>\n",
       "      <th>249</th>\n",
       "      <td>103019</td>\n",
       "      <td>66.33</td>\n",
       "      <td>331.4853640000</td>\n",
       "      <td>-0.0013390000</td>\n",
       "    </tr>\n",
       "    <tr>\n",
       "      <th>250</th>\n",
       "      <td>103023</td>\n",
       "      <td>58.88</td>\n",
       "      <td>331.4195490000</td>\n",
       "      <td>-0.0740380000</td>\n",
       "    </tr>\n",
       "    <tr>\n",
       "      <th>...</th>\n",
       "      <td>...</td>\n",
       "      <td>...</td>\n",
       "      <td>...</td>\n",
       "      <td>...</td>\n",
       "    </tr>\n",
       "    <tr>\n",
       "      <th>11473593</th>\n",
       "      <td>992004106</td>\n",
       "      <td>86.55</td>\n",
       "      <td>137.3291250000</td>\n",
       "      <td>29.4915583000</td>\n",
       "    </tr>\n",
       "    <tr>\n",
       "      <th>11473609</th>\n",
       "      <td>995514151</td>\n",
       "      <td>50.01</td>\n",
       "      <td>87.9785400000</td>\n",
       "      <td>-0.5527160000</td>\n",
       "    </tr>\n",
       "    <tr>\n",
       "      <th>11473622</th>\n",
       "      <td>1002102072</td>\n",
       "      <td>85.41</td>\n",
       "      <td>173.0145010000</td>\n",
       "      <td>6.9194970000</td>\n",
       "    </tr>\n",
       "    <tr>\n",
       "      <th>11473625</th>\n",
       "      <td>1002705166</td>\n",
       "      <td>52.25</td>\n",
       "      <td>265.6142900000</td>\n",
       "      <td>4.9971466000</td>\n",
       "    </tr>\n",
       "    <tr>\n",
       "      <th>11473631</th>\n",
       "      <td>1010808172</td>\n",
       "      <td>59.09</td>\n",
       "      <td>227.4168542000</td>\n",
       "      <td>21.8372167000</td>\n",
       "    </tr>\n",
       "  </tbody>\n",
       "</table>\n",
       "<p>1835371 rows × 4 columns</p>\n",
       "</div>"
      ],
      "text/plain": [
       "         lamost_obsid  lamost_snrg       lamost_ra     lamost_dec\n",
       "121            101224        51.31  332.0475860000  -1.8760010000\n",
       "164            102084        54.80  330.4670140000  -1.2219770000\n",
       "169            102093        56.80  330.3382870000  -1.2285380000\n",
       "249            103019        66.33  331.4853640000  -0.0013390000\n",
       "250            103023        58.88  331.4195490000  -0.0740380000\n",
       "...               ...          ...             ...            ...\n",
       "11473593    992004106        86.55  137.3291250000  29.4915583000\n",
       "11473609    995514151        50.01   87.9785400000  -0.5527160000\n",
       "11473622   1002102072        85.41  173.0145010000   6.9194970000\n",
       "11473625   1002705166        52.25  265.6142900000   4.9971466000\n",
       "11473631   1010808172        59.09  227.4168542000  21.8372167000\n",
       "\n",
       "[1835371 rows x 4 columns]"
      ]
     },
     "execution_count": 10,
     "metadata": {},
     "output_type": "execute_result"
    }
   ],
   "source": [
    "group_2"
   ]
  },
  {
   "cell_type": "code",
   "execution_count": null,
   "id": "df3e6a2d-5021-4874-b384-d1bc6c3524b4",
   "metadata": {},
   "outputs": [],
   "source": []
  }
 ],
 "metadata": {
  "kernelspec": {
   "display_name": "torch",
   "language": "python",
   "name": "torch"
  },
  "language_info": {
   "codemirror_mode": {
    "name": "ipython",
    "version": 3
   },
   "file_extension": ".py",
   "mimetype": "text/x-python",
   "name": "python",
   "nbconvert_exporter": "python",
   "pygments_lexer": "ipython3",
   "version": "3.8.17"
  }
 },
 "nbformat": 4,
 "nbformat_minor": 5
}
