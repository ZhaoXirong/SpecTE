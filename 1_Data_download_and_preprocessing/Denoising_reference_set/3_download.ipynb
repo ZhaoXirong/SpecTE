{
 "cells": [
  {
   "cell_type": "code",
   "execution_count": 1,
   "id": "a6866884-224d-4cfc-addb-7a2c9e0b443d",
   "metadata": {},
   "outputs": [],
   "source": [
    "import wget\n",
    "import os\n",
    "import json"
   ]
  },
  {
   "cell_type": "markdown",
   "id": "e2cfebae-91fd-429f-94c6-bed9f9ab4c94",
   "metadata": {},
   "source": [
    "# 按照前一步得到的obsid下载所需要的数据"
   ]
  },
  {
   "cell_type": "code",
   "execution_count": 2,
   "id": "9ff21a72-9bd7-4a59-bc38-3d0f8a6b6aaa",
   "metadata": {},
   "outputs": [],
   "source": [
    "# 保存下载进程\n",
    "def save_progress(progress, progress_file):\n",
    "    with open(progress_file, 'w') as f:\n",
    "        json.dump(progress, f)\n",
    "\n",
    "# 加载下载进程\n",
    "def load_progress(progress_file):\n",
    "    if os.path.exists(progress_file):\n",
    "        with open(progress_file, 'r') as f:\n",
    "            return json.load(f)\n",
    "    return {'completed': [], 'err_log': {}, 'n': 0}\n",
    "\n",
    "def download_spectra(url_txt_path, download_path, progress_file):\n",
    "    with open(url_txt_path, 'r') as f:\n",
    "        err_list = []\n",
    "        ls = []\n",
    "\n",
    "        # 读到链接列表ls\n",
    "        f.readline()  # 跳过第一行，如果需要\n",
    "        while True:\n",
    "            line = f.readline()\n",
    "            if line:\n",
    "                ls.append(line.strip())  # 去掉换行符\n",
    "            else:\n",
    "                break\n",
    "\n",
    "    # Number of all spectra\n",
    "    print(\"Number of spectra to download:\", len(ls))\n",
    "    \n",
    "    # 防止出问题\n",
    "    progress = load_progress(progress_file)\n",
    "    completed = set(progress['completed'])\n",
    "    err_log = progress['err_log']\n",
    "    n = progress['n']\n",
    "\n",
    "    for j in range(0, len(ls)):\n",
    "        if j in completed:\n",
    "            continue\n",
    "        try:\n",
    "            wget.download(ls[j], download_path)\n",
    "            completed.add(j)\n",
    "            if j % 20 == 0:  # 每下载20个保存一次进度\n",
    "                save_progress({'completed': list(completed), 'err_log': err_log, 'n': n}, progress_file)\n",
    "        except Exception as e:\n",
    "            print(f\"|| {j} err: {e}\")\n",
    "            err_list.append(j)\n",
    "            continue\n",
    "\n",
    "    err_log[n] = err_list\n",
    "    n += 1\n",
    "    save_progress({'completed': list(completed), 'err_log': err_log, 'n': n}, progress_file)\n",
    "\n",
    "    # 失败处重新下载\n",
    "    while len(err_list) > 20:\n",
    "        final_err_list = []\n",
    "        print(\"\\n重新下载失败光谱\")\n",
    "        print(\"Number of err spectra to download:\", len(err_list))\n",
    "        for j in err_list:\n",
    "            try:\n",
    "                wget.download(ls[j], download_path)\n",
    "                completed.add(j)\n",
    "                save_progress({'completed': list(completed), 'err_log': err_log, 'n': n}, progress_file)\n",
    "            except Exception as e:\n",
    "                print(f\"|| {j} err: {e}\")\n",
    "                final_err_list.append(j)\n",
    "                continue\n",
    "\n",
    "        err_log[n] = final_err_list\n",
    "        err_list = final_err_list\n",
    "        n += 1\n",
    "        save_progress({'completed': list(completed), 'err_log': err_log, 'n': n}, progress_file)\n",
    "\n",
    "    return err_log"
   ]
  },
  {
   "cell_type": "markdown",
   "id": "41101ad8-cdf9-4c97-be8a-c83a787d594f",
   "metadata": {
    "jp-MarkdownHeadingCollapsed": true,
    "tags": []
   },
   "source": [
    "### 下载 low_0_10"
   ]
  },
  {
   "cell_type": "code",
   "execution_count": null,
   "id": "6ef3d88e-0986-4c68-a9df-f0327c746161",
   "metadata": {},
   "outputs": [],
   "source": [
    "# 定义文件路径\n",
    "url_txt_path = \"./download/download_url/url-low_0_10.txt\"     # URL文件\n",
    "download_path = \"./download/FITSDATA/low_0_10\"        # 目标位置\n",
    "progress_file = './download/FITSDATA/download_progress_low_0_50.json'    # 保存下载进度log文件\n",
    "\n",
    "#创建下载路径的文件夹\n",
    "os.makedirs(download_path, exist_ok=True)\n",
    "\n",
    "error_log = download_spectra(url_txt_path, download_path, progress_file)\n",
    "\n",
    "\n",
    "# 手动下载失败项\n",
    "\n",
    "err_list=error_log[n-1]\n",
    "final_err_list = []\n",
    "\n",
    "print(\"Number of err spectra to download：\", len(err_list))\n",
    "for j in err_list:\n",
    "    try:\n",
    "        pass\n",
    "        wget.download(ls[j], download_path)\n",
    "    except: \n",
    "        print(\"|| {}  err\".format(j))\n",
    "        final_err_list.append(j)\n",
    "        continue\n",
    "        \n",
    "error_log[n]=final_err_list \n",
    "n=n+1 \n",
    "# 打印错误日志\n",
    "print(error_log)"
   ]
  },
  {
   "cell_type": "markdown",
   "id": "82bc8150-27a9-4125-874a-de58056fe859",
   "metadata": {
    "jp-MarkdownHeadingCollapsed": true,
    "tags": []
   },
   "source": [
    "### 下载 low_30_40"
   ]
  },
  {
   "cell_type": "code",
   "execution_count": 3,
   "id": "fab6dab1-eb2c-40a8-a24d-6ba2e6a3a68b",
   "metadata": {},
   "outputs": [
    {
     "name": "stdout",
     "output_type": "stream",
     "text": [
      "Number of spectra to download: 49269\n",
      "-1 / unknown|| 1699 err: <urlopen error [WinError 10060] 由于连接方在一段时间后没有正确答复或连接的主机没有反应，连接尝试失败。>\n",
      "-1 / unknown|| 3951 err: <urlopen error [WinError 10060] 由于连接方在一段时间后没有正确答复或连接的主机没有反应，连接尝试失败。>\n",
      "-1 / unknown|| 4084 err: <urlopen error [WinError 10060] 由于连接方在一段时间后没有正确答复或连接的主机没有反应，连接尝试失败。>\n",
      "-1 / unknown|| 5912 err: <urlopen error [WinError 10060] 由于连接方在一段时间后没有正确答复或连接的主机没有反应，连接尝试失败。>\n",
      "-1 / unknown|| 6000 err: HTTP Error 502: Bad Gateway\n",
      "|| 6001 err: HTTP Error 502: Bad Gateway\n",
      "|| 6002 err: HTTP Error 502: Bad Gateway\n",
      "|| 6003 err: HTTP Error 502: Bad Gateway\n",
      "|| 6004 err: HTTP Error 502: Bad Gateway\n",
      "|| 6005 err: HTTP Error 502: Bad Gateway\n",
      "|| 6006 err: HTTP Error 502: Bad Gateway\n",
      "|| 6007 err: HTTP Error 502: Bad Gateway\n",
      "|| 6008 err: HTTP Error 502: Bad Gateway\n",
      "|| 6009 err: HTTP Error 502: Bad Gateway\n",
      "|| 6010 err: HTTP Error 502: Bad Gateway\n",
      "|| 6011 err: HTTP Error 502: Bad Gateway\n",
      "|| 6012 err: HTTP Error 502: Bad Gateway\n",
      "|| 6013 err: HTTP Error 502: Bad Gateway\n",
      "|| 6014 err: HTTP Error 502: Bad Gateway\n",
      "|| 6015 err: HTTP Error 502: Bad Gateway\n",
      "|| 6016 err: HTTP Error 502: Bad Gateway\n",
      "|| 6017 err: HTTP Error 502: Bad Gateway\n",
      "|| 6018 err: HTTP Error 502: Bad Gateway\n",
      "|| 6019 err: HTTP Error 502: Bad Gateway\n",
      "|| 6020 err: HTTP Error 502: Bad Gateway\n",
      "|| 6021 err: HTTP Error 502: Bad Gateway\n",
      "|| 6022 err: HTTP Error 502: Bad Gateway\n",
      "|| 6023 err: HTTP Error 502: Bad Gateway\n",
      "|| 6024 err: HTTP Error 502: Bad Gateway\n",
      "|| 6025 err: HTTP Error 502: Bad Gateway\n",
      "|| 6026 err: HTTP Error 502: Bad Gateway\n",
      "|| 6027 err: HTTP Error 502: Bad Gateway\n",
      "|| 6028 err: HTTP Error 502: Bad Gateway\n",
      "|| 6029 err: HTTP Error 502: Bad Gateway\n",
      "|| 6030 err: HTTP Error 502: Bad Gateway\n",
      "|| 6031 err: HTTP Error 502: Bad Gateway\n",
      "|| 6032 err: HTTP Error 502: Bad Gateway\n",
      "|| 6033 err: HTTP Error 502: Bad Gateway\n",
      "|| 6034 err: HTTP Error 502: Bad Gateway\n",
      "|| 6035 err: HTTP Error 502: Bad Gateway\n",
      "-1 / unknown|| 6265 err: <urlopen error [WinError 10060] 由于连接方在一段时间后没有正确答复或连接的主机没有反应，连接尝试失败。>\n",
      "-1 / unknown|| 9259 err: <urlopen error [WinError 10060] 由于连接方在一段时间后没有正确答复或连接的主机没有反应，连接尝试失败。>\n",
      "-1 / unknown|| 29344 err: <urlopen error [WinError 10060] 由于连接方在一段时间后没有正确答复或连接的主机没有反应，连接尝试失败。>\n",
      "-1 / unknown|| 36081 err: <urlopen error [WinError 10060] 由于连接方在一段时间后没有正确答复或连接的主机没有反应，连接尝试失败。>\n",
      "-1 / unknown|| 36633 err: <urlopen error [WinError 10060] 由于连接方在一段时间后没有正确答复或连接的主机没有反应，连接尝试失败。>\n",
      "-1 / unknown|| 41224 err: <urlopen error [WinError 10060] 由于连接方在一段时间后没有正确答复或连接的主机没有反应，连接尝试失败。>\n",
      "-1 / unknown\n",
      "重新下载失败光谱\n",
      "Number of err spectra to download: 46\n",
      "-1 / unknown"
     ]
    }
   ],
   "source": [
    "# 定义文件路径\n",
    "url_txt_path = \"./download/download_url/url-low_30_40.txt\"     # URL文件\n",
    "download_path = \"./download/FITSDATA/low_30_40\"        # 目标位置\n",
    "progress_file = './download/FITSDATA/download_progress_low_30_40.json'    # 保存下载进度log文件\n",
    "\n",
    "#创建下载路径的文件夹\n",
    "os.makedirs(download_path, exist_ok=True)\n",
    "\n",
    "error_log = download_spectra(url_txt_path, download_path, progress_file)\n",
    "\n"
   ]
  },
  {
   "cell_type": "markdown",
   "id": "f2bb5b40-0f67-4d03-bd7b-1d0679b92ab1",
   "metadata": {
    "jp-MarkdownHeadingCollapsed": true,
    "tags": []
   },
   "source": [
    "### 下载 low_20_30"
   ]
  },
  {
   "cell_type": "code",
   "execution_count": 3,
   "id": "5ca8e5e8-0cf0-48fa-a7f6-bb80bfb9897b",
   "metadata": {},
   "outputs": [
    {
     "name": "stdout",
     "output_type": "stream",
     "text": [
      "Number of spectra to download: 47143\n",
      "-1 / unknown|| 44668 err: <urlopen error [WinError 10060] 由于连接方在一段时间后没有正确答复或连接的主机没有反应，连接尝试失败。>\n",
      "-1 / unknown|| 46144 err: <urlopen error [WinError 10060] 由于连接方在一段时间后没有正确答复或连接的主机没有反应，连接尝试失败。>\n",
      "-1 / unknown"
     ]
    }
   ],
   "source": [
    "# 定义文件路径\n",
    "url_txt_path = \"./download/download_url/url-low_20_30.txt\"     # URL文件\n",
    "download_path = \"./download/FITSDATA/low_20_30\"        # 目标位置\n",
    "progress_file = './download/FITSDATA/download_progress_low_20_30.json'    # 保存下载进度log文件\n",
    "\n",
    "#创建下载路径的文件夹\n",
    "os.makedirs(download_path, exist_ok=True)\n",
    "\n",
    "error_log = download_spectra(url_txt_path, download_path, progress_file)\n",
    "\n"
   ]
  }
 ],
 "metadata": {
  "kernelspec": {
   "display_name": "torch",
   "language": "python",
   "name": "torch"
  },
  "language_info": {
   "codemirror_mode": {
    "name": "ipython",
    "version": 3
   },
   "file_extension": ".py",
   "mimetype": "text/x-python",
   "name": "python",
   "nbconvert_exporter": "python",
   "pygments_lexer": "ipython3",
   "version": "3.8.17"
  }
 },
 "nbformat": 4,
 "nbformat_minor": 5
}
