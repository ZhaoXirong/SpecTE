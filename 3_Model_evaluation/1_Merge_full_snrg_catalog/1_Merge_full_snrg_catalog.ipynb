{
 "cells": [
  {
   "cell_type": "code",
   "execution_count": 3,
   "id": "c65b5d18-19ae-4a76-a9a3-79bc45ae3b7b",
   "metadata": {},
   "outputs": [],
   "source": [
    "import numpy as np\n",
    "import pickle\n",
    "import pandas as pd\n",
    "from sklearn.metrics import mean_absolute_error\n",
    "from collections import defaultdict"
   ]
  },
  {
   "cell_type": "markdown",
   "id": "e11586b5",
   "metadata": {},
   "source": [
    "# SpecTE \n",
    "合并SpecTE在测试集上估计的高信噪比和低信噪比文件"
   ]
  },
  {
   "cell_type": "markdown",
   "id": "f2813d0d",
   "metadata": {},
   "source": [
    "## 合并pkl文件，并计算MAE等估计指标"
   ]
  },
  {
   "cell_type": "code",
   "execution_count": 3,
   "id": "641dbe35-2f9d-4351-a648-a7703467d29c",
   "metadata": {},
   "outputs": [
    {
     "name": "stdout",
     "output_type": "stream",
     "text": [
      "                        μ          σ        MAE\n",
      "['Teff[K]']  1.979360e-01  90.231090  45.095743\n",
      "['Logg']    -3.205570e-07   0.159631   0.080246\n",
      "['RV']       2.269561e-02   9.884436   3.870888\n",
      "['FeH']      5.515922e-04   0.064228   0.036682\n",
      "['MgH']      5.609706e-04   0.063303   0.038901\n",
      "['SiH']      3.799867e-04   0.065311   0.040091\n",
      "['SH']       1.527555e-03   0.107936   0.070802\n",
      "['KH']      -1.345930e-03   0.133444   0.076607\n",
      "['CaH']      8.824571e-04   0.072601   0.044199\n",
      "['TiH']      1.461952e-03   0.149820   0.092090\n",
      "['CrH']      7.226204e-04   0.205611   0.117701\n",
      "['NiH']      3.682520e-04   0.073280   0.043492\n",
      "['CH']       2.330469e-04   0.080890   0.048257\n",
      "['NH']       9.274504e-04   0.171172   0.098347\n",
      "['OH']       3.343580e-04   0.096442   0.062337\n",
      "['AlH']     -4.944452e-04   0.087806   0.053271\n",
      "['MnH']      1.202636e-03   0.094198   0.054609\n",
      "['NaH']      1.174926e-03   0.334407   0.209117\n",
      "['VH']      -3.518991e-04   0.233836   0.152580\n"
     ]
    }
   ],
   "source": [
    "\n",
    "with open(r'G:\\Star\\2_SpecTE\\model_log\\blending\\5_50\\Raw_Results_5_50.pkl', 'rb') as file:\n",
    "    result_low = pickle.load(file)\n",
    "with open(r'G:\\Star\\2_SpecTE\\model_log\\blending\\50_999\\Raw_Results_50_999.pkl', 'rb') as file:\n",
    "    result_high = pickle.load(file)\n",
    "\n",
    "para_dict = {\n",
    "    'te':['Teff[K]'],\n",
    "    'Lo':['Logg'],\n",
    "    'RV':['RV'],\n",
    "    'Fe':['FeH'],\n",
    "    'Mg':['MgH'],\n",
    "    'Si':['SiH'],\n",
    "    'SH':['SH'],\n",
    "    'KH':['KH'],\n",
    "    'Ca':['CaH'],\n",
    "    'Ti':['TiH'],\n",
    "    'Cr':['CrH'],\n",
    "    'Ni':['NiH'],\n",
    "    'CH':['CH'],\n",
    "    'NH':['NH'],\n",
    "    'OH':['OH'],\n",
    "    'Al':['AlH'],\n",
    "    'Mn':['MnH'],\n",
    "    'Na':['NaH'],\n",
    "    'VH':['VH'],   \n",
    "}\n",
    "    \n",
    "all_result = {key: [np.concatenate((result_low[key][0], result_high[key][0])),\n",
    "                    np.concatenate((result_low[key][1], result_high[key][1]))] for key in para_dict.keys()}\n",
    "all_result['snrg'] = [np.concatenate((result_low['snrg'][0], result_high['snrg'][0]), axis=0),]\n",
    "# all_result=result_low\n",
    "\n",
    "# 统计 MAE等  \n",
    "df = pd.DataFrame()\n",
    "\n",
    "for key, value in para_dict.items():  \n",
    "\n",
    "    diff_std = (all_result[key][0] - all_result[key][1]).std(axis=0)\n",
    "    diff_mean = (all_result[key][0] - all_result[key][1]).mean(axis=0)\n",
    "\n",
    "    mae = mean_absolute_error(all_result[key][0], all_result[key][1], multioutput='raw_values')\n",
    "    mae = mae[0] if len(mae) == 1 else np.mean(mae)\n",
    "\n",
    "    # print(key,\" MAE:\",mae)\n",
    "    # print(key,\" σ:\",diff_std)\n",
    "    # print(key,\" μ:\",diff_mean)\n",
    "    df[str(value)] = pd.Series({'μ': diff_mean, 'σ': diff_std, 'MAE': mae})    \n",
    "\n",
    "df = df.T\n",
    "print(df)\n",
    "# 直接保存统计结果\n",
    "df.to_csv('Statistical_Results.csv', index=True)       "
   ]
  },
  {
   "cell_type": "code",
   "execution_count": 4,
   "id": "516c4a5b-a3f1-415a-93ed-b502d68888b1",
   "metadata": {},
   "outputs": [],
   "source": [
    "# 保存原始结果\n",
    "# 转换为普通字典\n",
    "simple_dict = {k: v for k, v in all_result.items()}\n",
    "with open('./SpecTE_Raw_Results.pkl', 'wb') as file:\n",
    "    pickle.dump(simple_dict, file)"
   ]
  },
  {
   "cell_type": "markdown",
   "id": "398f3cfd-7e62-4f39-8971-256f4e167567",
   "metadata": {},
   "source": [
    "## 合并测试集catalog"
   ]
  },
  {
   "cell_type": "code",
   "execution_count": 4,
   "id": "54371c5b-e535-4b03-9cae-139d25448128",
   "metadata": {},
   "outputs": [],
   "source": [
    "catalog_list = []\n",
    "catalog_5_50=pd.read_csv(r'G:\\Star\\2_SpecTE\\model_log\\blending\\5_50\\catalog5_50.csv')\n",
    "catalog_50_999=pd.read_csv(r'G:\\Star\\2_SpecTE\\model_log\\blending\\50_999\\catalog50_999.csv')\n",
    "catalog_list.append(catalog_5_50)\n",
    "catalog_list.append(catalog_50_999)"
   ]
  },
  {
   "cell_type": "code",
   "execution_count": 6,
   "id": "2f4e41fd-4612-4130-a790-9b8612b869b4",
   "metadata": {},
   "outputs": [
    {
     "data": {
      "text/plain": [
       "(23940, 58)"
      ]
     },
     "execution_count": 6,
     "metadata": {},
     "output_type": "execute_result"
    }
   ],
   "source": [
    "catalog = pd.concat(catalog_list, ignore_index=True)\n",
    "catalog.shape"
   ]
  },
  {
   "cell_type": "code",
   "execution_count": 7,
   "id": "1b9f2dcb-7f64-4ef4-bb93-1d1fb0ec1c75",
   "metadata": {},
   "outputs": [],
   "source": [
    "catalog.to_csv(\"./SpecTE_test_set_catalog.csv\", index=False)"
   ]
  },
  {
   "cell_type": "code",
   "execution_count": null,
   "id": "70693083-fad6-496a-9074-08e2aec0d14d",
   "metadata": {},
   "outputs": [],
   "source": []
  }
 ],
 "metadata": {
  "kernelspec": {
   "display_name": "Python 3 (ipykernel)",
   "language": "python",
   "name": "python3"
  },
  "language_info": {
   "codemirror_mode": {
    "name": "ipython",
    "version": 3
   },
   "file_extension": ".py",
   "mimetype": "text/x-python",
   "name": "python",
   "nbconvert_exporter": "python",
   "pygments_lexer": "ipython3",
   "version": "3.9.16"
  }
 },
 "nbformat": 4,
 "nbformat_minor": 5
}
